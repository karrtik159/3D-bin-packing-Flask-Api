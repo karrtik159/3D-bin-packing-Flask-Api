{
 "cells": [
  {
   "cell_type": "code",
   "execution_count": 1,
   "metadata": {},
   "outputs": [],
   "source": [
    "import plotly.graph_objects as go\n",
    "import numpy as np\n",
    "\n",
    "class Painter:\n",
    "\n",
    "    def __init__(self, bins):\n",
    "        self.items = bins.items\n",
    "        self.width = bins.width\n",
    "        self.height = bins.height\n",
    "        self.depth = bins.depth\n",
    "\n",
    "    def _plotCube(self, fig, x, y, z, dx, dy, dz, color='red', text=\"\", alpha=0.5):\n",
    "        \"\"\" Auxiliary function to plot a cube with solid colors. \"\"\"\n",
    "        vertices = [\n",
    "            [x, y, z], [x + dx, y, z], [x + dx, y + dy, z], [x, y + dy, z],\n",
    "            [x, y, z + dz], [x + dx, y, z + dz], [x + dx, y + dy, z + dz], [x, y + dy, z + dz]\n",
    "        ]\n",
    "        # Define the 12 triangles composing the cube\n",
    "        faces = [\n",
    "            [0, 1, 2, 3], [4, 5, 6, 7], [0, 1, 5, 4], \n",
    "            [2, 3, 7, 6], [1, 2, 6, 5], [0, 3, 7, 4]\n",
    "        ]\n",
    "\n",
    "        x_data = [vertices[face[i]][0] for face in faces for i in range(4)]\n",
    "        y_data = [vertices[face[i]][1] for face in faces for i in range(4)]\n",
    "        z_data = [vertices[face[i]][2] for face in faces for i in range(4)]\n",
    "\n",
    "        fig.add_trace(go.Mesh3d(\n",
    "            x=x_data, y=y_data, z=z_data,\n",
    "            i=[0, 4, 8, 12, 16, 20], \n",
    "            j=[1, 5, 9, 13, 17, 21], \n",
    "            k=[2, 6, 10, 14, 18, 22],\n",
    "            color=color, opacity=alpha, flatshading=True,\n",
    "            hovertext=text\n",
    "        ))\n",
    "\n",
    "    def _plotCylinder(self, fig, x, y, z, dx, dy, dz, color='red', text=\"\", alpha=0.5):\n",
    "        \"\"\" Auxiliary function to plot a cylinder. \"\"\"\n",
    "        theta = np.linspace(0, 2 * np.pi, 30)\n",
    "        x_circle = dx / 2 * np.cos(theta) + x + dx / 2\n",
    "        y_circle = dy / 2 * np.sin(theta) + y + dy / 2\n",
    "\n",
    "        z1 = np.full_like(theta, z)\n",
    "        z2 = np.full_like(theta, z + dz)\n",
    "\n",
    "        fig.add_trace(go.Scatter3d(x=x_circle, y=y_circle, z=z1, mode='lines', line=dict(color=color), opacity=alpha))\n",
    "        fig.add_trace(go.Scatter3d(x=x_circle, y=y_circle, z=z2, mode='lines', line=dict(color=color), opacity=alpha))\n",
    "\n",
    "        for i in range(len(theta)):\n",
    "            fig.add_trace(go.Scatter3d(\n",
    "                x=[x_circle[i], x_circle[i]], y=[y_circle[i], y_circle[i]], z=[z1[i], z2[i]], mode='lines',\n",
    "                line=dict(color=color), opacity=alpha\n",
    "            ))\n",
    "\n",
    "        z_grid, theta_grid = np.meshgrid(np.linspace(z, z + dz, 10), theta)\n",
    "        x_grid = dx / 2 * np.cos(theta_grid) + x + dx / 2\n",
    "        y_grid = dy / 2 * np.sin(theta_grid) + y + dy / 2\n",
    "\n",
    "        fig.add_trace(go.Surface(x=x_grid, y=y_grid, z=z_grid, colorscale=[[0, color], [1, color]], showscale=False, opacity=alpha))\n",
    "\n",
    "    def plotBoxAndItems(self, title=\"\", alpha=0.2, write_num=False, fontsize=10):\n",
    "        \"\"\" Side effect: Plot the bin and the items it contains. \"\"\"\n",
    "        fig = go.Figure()\n",
    "\n",
    "        # plot bin \n",
    "        self._plotCube(fig, 0, 0, 0, float(self.width), float(self.height), float(self.depth), color='black', alpha=0.1)\n",
    "\n",
    "        # fit rotation type\n",
    "        for item in self.items:\n",
    "            x, y, z = item.position\n",
    "            w, h, d = item.getDimension()\n",
    "            color = item.color\n",
    "            text = item.partno if write_num else \"\"\n",
    "\n",
    "            if item.typeof == 'cube':\n",
    "                # plot item of cube\n",
    "                self._plotCube(fig, float(x), float(y), float(z), float(w), float(h), float(d), color=color, text=text, alpha=alpha)\n",
    "            elif item.typeof == 'cylinder':\n",
    "                # plot item of cylinder\n",
    "                self._plotCylinder(fig, float(x), float(y), float(z), float(w), float(h), float(d), color=color, text=text, alpha=alpha)\n",
    "\n",
    "        fig.update_layout(title=title, scene_aspectmode='data')\n",
    "        return fig\n"
   ]
  },
  {
   "cell_type": "code",
   "execution_count": 2,
   "metadata": {},
   "outputs": [],
   "source": [
    "from py3dbp import Packer, Bin, Item\n",
    "'''\n",
    "\n",
    "If you have multiple boxes, you can change distribute_items to achieve different packaging purposes.\n",
    "1. distribute_items=True , put the items into the box in order, if the box is full, the remaining items will continue to be loaded into the next box until all the boxes are full  or all the items are packed.\n",
    "2. distribute_items=False, compare the packaging of all boxes, that is to say, each box packs all items, not the remaining items.\n",
    "\n",
    "'''\n",
    "\n",
    "# init packing function\n",
    "packer = Packer()\n",
    "#  init bin \n",
    "box = Bin('example7-Bin1', (5, 5, 5), 100,0,0)\n",
    "box2 = Bin('example7-Bin2', (3, 3, 5), 100,0,0)\n",
    "#  add item\n",
    "# Item('item partno', (W,H,D), Weight, Packing Priority level, load bear, Upside down or not , 'item color')\n",
    "packer.addBin(box)\n",
    "packer.addBin(box2)\n",
    "\n",
    "packer.addItem(Item(partno='Box-1', name='test1', typeof='cube', WHD=(5, 4, 1), weight=1, level=1,loadbear=100, updown=True, color='yellow'))\n",
    "packer.addItem(Item(partno='Box-2', name='test2', typeof='cube', WHD=(1, 2, 4), weight=1, level=1,loadbear=100, updown=True, color='olive'))\n",
    "packer.addItem(Item(partno='Box-3', name='test3', typeof='cube', WHD=(1, 2, 3), weight=1, level=1,loadbear=100, updown=True, color='olive'))\n",
    "packer.addItem(Item(partno='Box-4', name='test4', typeof='cube', WHD=(1, 2, 2), weight=1, level=1,loadbear=100, updown=True, color='olive'))\n",
    "packer.addItem(Item(partno='Box-5', name='test5', typeof='cube', WHD=(1, 2, 3), weight=1, level=1,loadbear=100, updown=True, color='olive'))\n",
    "packer.addItem(Item(partno='Box-6', name='test6', typeof='cube', WHD=(1, 2, 4), weight=1, level=1,loadbear=100, updown=True, color='olive'))\n",
    "packer.addItem(Item(partno='Box-7', name='test7', typeof='cube', WHD=(1, 2, 2), weight=1, level=1,loadbear=100, updown=True, color='olive'))\n",
    "packer.addItem(Item(partno='Box-8', name='test8', typeof='cube', WHD=(1, 2, 3), weight=1, level=1,loadbear=100, updown=True, color='olive'))\n",
    "packer.addItem(Item(partno='Box-9', name='test9', typeof='cube', WHD=(1, 2, 4), weight=1, level=1,loadbear=100, updown=True, color='olive'))\n",
    "packer.addItem(Item(partno='Box-10', name='test10', typeof='cube', WHD=(1, 2, 3), weight=1, level=1,loadbear=100, updown=True, color='olive'))\n",
    "packer.addItem(Item(partno='Box-11', name='test11', typeof='cube', WHD=(1, 2, 2), weight=1, level=1,loadbear=100, updown=True, color='olive'))\n",
    "packer.addItem(Item(partno='Box-12', name='test12', typeof='cube', WHD=(5, 4, 1), weight=1, level=1,loadbear=100, updown=True, color='pink'))\n",
    "packer.addItem(Item(partno='Box-13', name='test13', typeof='cube', WHD=(1, 1, 4), weight=1, level=1,loadbear=100, updown=True, color='olive'))\n",
    "packer.addItem(Item(partno='Box-14', name='test14', typeof='cube', WHD=(1, 2, 1), weight=1, level=1,loadbear=100, updown=True, color='pink'))\n",
    "packer.addItem(Item(partno='Box-15', name='test15', typeof='cube', WHD=(1, 2, 1), weight=1, level=1,loadbear=100, updown=True, color='pink'))\n",
    "packer.addItem(Item(partno='Box-16', name='test16', typeof='cube', WHD=(1, 1, 4), weight=1, level=1,loadbear=100, updown=True, color='olive'))\n",
    "packer.addItem(Item(partno='Box-17', name='test17', typeof='cube', WHD=(1, 1, 4), weight=1, level=1,loadbear=100, updown=True, color='olive'))\n",
    "packer.addItem(Item(partno='Box-18', name='test18', typeof='cube', WHD=(5, 4, 2), weight=1, level=1,loadbear=100, updown=True, color='brown'))\n",
    "\n",
    "# calculate packing \n",
    "packer.pack(\n",
    "    bigger_first=True,\n",
    "    # Change distribute_items=False to compare the packing situation in multiple boxes of different capacities.\n",
    "    distribute_items=False,\n",
    "    fix_point=True,\n",
    "    check_stable=True,\n",
    "    support_surface_ratio=0.75,\n",
    "    number_of_decimals=0\n",
    ")\n",
    "\n",
    "# put order\n",
    "packer.putOrder()"
   ]
  },
  {
   "cell_type": "code",
   "execution_count": 5,
   "metadata": {},
   "outputs": [
    {
     "data": {
      "application/vnd.plotly.v1+json": {
       "config": {
        "plotlyServerURL": "https://plot.ly"
       },
       "data": [
        {
         "alphahull": 0,
         "color": "black",
         "hovertext": "",
         "opacity": 0.1,
         "type": "mesh3d",
         "x": [
          0,
          5,
          5,
          0,
          5,
          0,
          0,
          5,
          5,
          0,
          5,
          0,
          0,
          5,
          5,
          0,
          5,
          0,
          5,
          0,
          0,
          5,
          0,
          5,
          5,
          5,
          5,
          5,
          5,
          5,
          0,
          0,
          0,
          0,
          0,
          0
         ],
         "y": [
          0,
          0,
          5,
          0,
          5,
          5,
          0,
          0,
          5,
          0,
          5,
          5,
          0,
          0,
          0,
          0,
          0,
          0,
          5,
          5,
          5,
          5,
          5,
          5,
          0,
          5,
          5,
          0,
          5,
          0,
          0,
          5,
          5,
          0,
          5,
          0
         ],
         "z": [
          0,
          0,
          0,
          0,
          0,
          0,
          5,
          5,
          5,
          5,
          5,
          5,
          0,
          0,
          5,
          0,
          5,
          5,
          0,
          0,
          5,
          0,
          5,
          5,
          0,
          0,
          5,
          0,
          5,
          5,
          0,
          0,
          5,
          0,
          5,
          5
         ]
        },
        {
         "alphahull": 0,
         "color": "brown",
         "hovertext": "",
         "opacity": 0.2,
         "type": "mesh3d",
         "x": [
          0,
          5,
          5,
          0,
          5,
          0,
          0,
          5,
          5,
          0,
          5,
          0,
          0,
          5,
          5,
          0,
          5,
          0,
          5,
          0,
          0,
          5,
          0,
          5,
          5,
          5,
          5,
          5,
          5,
          5,
          0,
          0,
          0,
          0,
          0,
          0
         ],
         "y": [
          0,
          0,
          4,
          0,
          4,
          4,
          0,
          0,
          4,
          0,
          4,
          4,
          0,
          0,
          0,
          0,
          0,
          0,
          4,
          4,
          4,
          4,
          4,
          4,
          0,
          4,
          4,
          0,
          4,
          0,
          0,
          4,
          4,
          0,
          4,
          0
         ],
         "z": [
          0,
          0,
          0,
          0,
          0,
          0,
          2,
          2,
          2,
          2,
          2,
          2,
          0,
          0,
          2,
          0,
          2,
          2,
          0,
          0,
          2,
          0,
          2,
          2,
          0,
          0,
          2,
          0,
          2,
          2,
          0,
          0,
          2,
          0,
          2,
          2
         ]
        },
        {
         "alphahull": 0,
         "color": "yellow",
         "hovertext": "",
         "opacity": 0.2,
         "type": "mesh3d",
         "x": [
          0,
          4,
          4,
          0,
          4,
          0,
          0,
          4,
          4,
          0,
          4,
          0,
          0,
          4,
          4,
          0,
          4,
          0,
          4,
          0,
          0,
          4,
          0,
          4,
          4,
          4,
          4,
          4,
          4,
          4,
          0,
          0,
          0,
          0,
          0,
          0
         ],
         "y": [
          4,
          4,
          5,
          4,
          5,
          5,
          4,
          4,
          5,
          4,
          5,
          5,
          4,
          4,
          4,
          4,
          4,
          4,
          5,
          5,
          5,
          5,
          5,
          5,
          4,
          5,
          5,
          4,
          5,
          4,
          4,
          5,
          5,
          4,
          5,
          4
         ],
         "z": [
          0,
          0,
          0,
          0,
          0,
          0,
          5,
          5,
          5,
          5,
          5,
          5,
          0,
          0,
          5,
          0,
          5,
          5,
          0,
          0,
          5,
          0,
          5,
          5,
          0,
          0,
          5,
          0,
          5,
          5,
          0,
          0,
          5,
          0,
          5,
          5
         ]
        },
        {
         "alphahull": 0,
         "color": "pink",
         "hovertext": "",
         "opacity": 0.2,
         "type": "mesh3d",
         "x": [
          0,
          5,
          5,
          0,
          5,
          0,
          0,
          5,
          5,
          0,
          5,
          0,
          0,
          5,
          5,
          0,
          5,
          0,
          5,
          0,
          0,
          5,
          0,
          5,
          5,
          5,
          5,
          5,
          5,
          5,
          0,
          0,
          0,
          0,
          0,
          0
         ],
         "y": [
          0,
          0,
          4,
          0,
          4,
          4,
          0,
          0,
          4,
          0,
          4,
          4,
          0,
          0,
          0,
          0,
          0,
          0,
          4,
          4,
          4,
          4,
          4,
          4,
          0,
          4,
          4,
          0,
          4,
          0,
          0,
          4,
          4,
          0,
          4,
          0
         ],
         "z": [
          2,
          2,
          2,
          2,
          2,
          2,
          3,
          3,
          3,
          3,
          3,
          3,
          2,
          2,
          3,
          2,
          3,
          3,
          2,
          2,
          3,
          2,
          3,
          3,
          2,
          2,
          3,
          2,
          3,
          3,
          2,
          2,
          3,
          2,
          3,
          3
         ]
        },
        {
         "alphahull": 0,
         "color": "olive",
         "hovertext": "",
         "opacity": 0.2,
         "type": "mesh3d",
         "x": [
          0,
          2,
          2,
          0,
          2,
          0,
          0,
          2,
          2,
          0,
          2,
          0,
          0,
          2,
          2,
          0,
          2,
          0,
          2,
          0,
          0,
          2,
          0,
          2,
          2,
          2,
          2,
          2,
          2,
          2,
          0,
          0,
          0,
          0,
          0,
          0
         ],
         "y": [
          0,
          0,
          4,
          0,
          4,
          4,
          0,
          0,
          4,
          0,
          4,
          4,
          0,
          0,
          0,
          0,
          0,
          0,
          4,
          4,
          4,
          4,
          4,
          4,
          0,
          4,
          4,
          0,
          4,
          0,
          0,
          4,
          4,
          0,
          4,
          0
         ],
         "z": [
          3,
          3,
          3,
          3,
          3,
          3,
          4,
          4,
          4,
          4,
          4,
          4,
          3,
          3,
          4,
          3,
          4,
          4,
          3,
          3,
          4,
          3,
          4,
          4,
          3,
          3,
          4,
          3,
          4,
          4,
          3,
          3,
          4,
          3,
          4,
          4
         ]
        },
        {
         "alphahull": 0,
         "color": "olive",
         "hovertext": "",
         "opacity": 0.2,
         "type": "mesh3d",
         "x": [
          2,
          4,
          4,
          2,
          4,
          2,
          2,
          4,
          4,
          2,
          4,
          2,
          2,
          4,
          4,
          2,
          4,
          2,
          4,
          2,
          2,
          4,
          2,
          4,
          4,
          4,
          4,
          4,
          4,
          4,
          2,
          2,
          2,
          2,
          2,
          2
         ],
         "y": [
          0,
          0,
          4,
          0,
          4,
          4,
          0,
          0,
          4,
          0,
          4,
          4,
          0,
          0,
          0,
          0,
          0,
          0,
          4,
          4,
          4,
          4,
          4,
          4,
          0,
          4,
          4,
          0,
          4,
          0,
          0,
          4,
          4,
          0,
          4,
          0
         ],
         "z": [
          3,
          3,
          3,
          3,
          3,
          3,
          4,
          4,
          4,
          4,
          4,
          4,
          3,
          3,
          4,
          3,
          4,
          4,
          3,
          3,
          4,
          3,
          4,
          4,
          3,
          3,
          4,
          3,
          4,
          4,
          3,
          3,
          4,
          3,
          4,
          4
         ]
        },
        {
         "alphahull": 0,
         "color": "olive",
         "hovertext": "",
         "opacity": 0.2,
         "type": "mesh3d",
         "x": [
          4,
          5,
          5,
          4,
          5,
          4,
          4,
          5,
          5,
          4,
          5,
          4,
          4,
          5,
          5,
          4,
          5,
          4,
          5,
          4,
          4,
          5,
          4,
          5,
          5,
          5,
          5,
          5,
          5,
          5,
          4,
          4,
          4,
          4,
          4,
          4
         ],
         "y": [
          0,
          0,
          4,
          0,
          4,
          4,
          0,
          0,
          4,
          0,
          4,
          4,
          0,
          0,
          0,
          0,
          0,
          0,
          4,
          4,
          4,
          4,
          4,
          4,
          0,
          4,
          4,
          0,
          4,
          0,
          0,
          4,
          4,
          0,
          4,
          0
         ],
         "z": [
          3,
          3,
          3,
          3,
          3,
          3,
          5,
          5,
          5,
          5,
          5,
          5,
          3,
          3,
          5,
          3,
          5,
          5,
          3,
          3,
          5,
          3,
          5,
          5,
          3,
          3,
          5,
          3,
          5,
          5,
          3,
          3,
          5,
          3,
          5,
          5
         ]
        },
        {
         "alphahull": 0,
         "color": "olive",
         "hovertext": "",
         "opacity": 0.2,
         "type": "mesh3d",
         "x": [
          0,
          2,
          2,
          0,
          2,
          0,
          0,
          2,
          2,
          0,
          2,
          0,
          0,
          2,
          2,
          0,
          2,
          0,
          2,
          0,
          0,
          2,
          0,
          2,
          2,
          2,
          2,
          2,
          2,
          2,
          0,
          0,
          0,
          0,
          0,
          0
         ],
         "y": [
          0,
          0,
          3,
          0,
          3,
          3,
          0,
          0,
          3,
          0,
          3,
          3,
          0,
          0,
          0,
          0,
          0,
          0,
          3,
          3,
          3,
          3,
          3,
          3,
          0,
          3,
          3,
          0,
          3,
          0,
          0,
          3,
          3,
          0,
          3,
          0
         ],
         "z": [
          4,
          4,
          4,
          4,
          4,
          4,
          5,
          5,
          5,
          5,
          5,
          5,
          4,
          4,
          5,
          4,
          5,
          5,
          4,
          4,
          5,
          4,
          5,
          5,
          4,
          4,
          5,
          4,
          5,
          5,
          4,
          4,
          5,
          4,
          5,
          5
         ]
        },
        {
         "alphahull": 0,
         "color": "olive",
         "hovertext": "",
         "opacity": 0.2,
         "type": "mesh3d",
         "x": [
          2,
          4,
          4,
          2,
          4,
          2,
          2,
          4,
          4,
          2,
          4,
          2,
          2,
          4,
          4,
          2,
          4,
          2,
          4,
          2,
          2,
          4,
          2,
          4,
          4,
          4,
          4,
          4,
          4,
          4,
          2,
          2,
          2,
          2,
          2,
          2
         ],
         "y": [
          0,
          0,
          3,
          0,
          3,
          3,
          0,
          0,
          3,
          0,
          3,
          3,
          0,
          0,
          0,
          0,
          0,
          0,
          3,
          3,
          3,
          3,
          3,
          3,
          0,
          3,
          3,
          0,
          3,
          0,
          0,
          3,
          3,
          0,
          3,
          0
         ],
         "z": [
          4,
          4,
          4,
          4,
          4,
          4,
          5,
          5,
          5,
          5,
          5,
          5,
          4,
          4,
          5,
          4,
          5,
          5,
          4,
          4,
          5,
          4,
          5,
          5,
          4,
          4,
          5,
          4,
          5,
          5,
          4,
          4,
          5,
          4,
          5,
          5
         ]
        },
        {
         "alphahull": 0,
         "color": "olive",
         "hovertext": "",
         "opacity": 0.2,
         "type": "mesh3d",
         "x": [
          4,
          5,
          5,
          4,
          5,
          4,
          4,
          5,
          5,
          4,
          5,
          4,
          4,
          5,
          5,
          4,
          5,
          4,
          5,
          4,
          4,
          5,
          4,
          5,
          5,
          5,
          5,
          5,
          5,
          5,
          4,
          4,
          4,
          4,
          4,
          4
         ],
         "y": [
          4,
          4,
          5,
          4,
          5,
          5,
          4,
          4,
          5,
          4,
          5,
          5,
          4,
          4,
          4,
          4,
          4,
          4,
          5,
          5,
          5,
          5,
          5,
          5,
          4,
          5,
          5,
          4,
          5,
          4,
          4,
          5,
          5,
          4,
          5,
          4
         ],
         "z": [
          0,
          0,
          0,
          0,
          0,
          0,
          4,
          4,
          4,
          4,
          4,
          4,
          0,
          0,
          4,
          0,
          4,
          4,
          0,
          0,
          4,
          0,
          4,
          4,
          0,
          0,
          4,
          0,
          4,
          4,
          0,
          0,
          4,
          0,
          4,
          4
         ]
        },
        {
         "alphahull": 0,
         "color": "olive",
         "hovertext": "",
         "opacity": 0.2,
         "type": "mesh3d",
         "x": [
          0,
          4,
          4,
          0,
          4,
          0,
          0,
          4,
          4,
          0,
          4,
          0,
          0,
          4,
          4,
          0,
          4,
          0,
          4,
          0,
          0,
          4,
          0,
          4,
          4,
          4,
          4,
          4,
          4,
          4,
          0,
          0,
          0,
          0,
          0,
          0
         ],
         "y": [
          3,
          3,
          4,
          3,
          4,
          4,
          3,
          3,
          4,
          3,
          4,
          4,
          3,
          3,
          3,
          3,
          3,
          3,
          4,
          4,
          4,
          4,
          4,
          4,
          3,
          4,
          4,
          3,
          4,
          3,
          3,
          4,
          4,
          3,
          4,
          3
         ],
         "z": [
          4,
          4,
          4,
          4,
          4,
          4,
          5,
          5,
          5,
          5,
          5,
          5,
          4,
          4,
          5,
          4,
          5,
          5,
          4,
          4,
          5,
          4,
          5,
          5,
          4,
          4,
          5,
          4,
          5,
          5,
          4,
          4,
          5,
          4,
          5,
          5
         ]
        }
       ],
       "layout": {
        "scene": {
         "aspectmode": "data"
        },
        "template": {
         "data": {
          "bar": [
           {
            "error_x": {
             "color": "#2a3f5f"
            },
            "error_y": {
             "color": "#2a3f5f"
            },
            "marker": {
             "line": {
              "color": "#E5ECF6",
              "width": 0.5
             },
             "pattern": {
              "fillmode": "overlay",
              "size": 10,
              "solidity": 0.2
             }
            },
            "type": "bar"
           }
          ],
          "barpolar": [
           {
            "marker": {
             "line": {
              "color": "#E5ECF6",
              "width": 0.5
             },
             "pattern": {
              "fillmode": "overlay",
              "size": 10,
              "solidity": 0.2
             }
            },
            "type": "barpolar"
           }
          ],
          "carpet": [
           {
            "aaxis": {
             "endlinecolor": "#2a3f5f",
             "gridcolor": "white",
             "linecolor": "white",
             "minorgridcolor": "white",
             "startlinecolor": "#2a3f5f"
            },
            "baxis": {
             "endlinecolor": "#2a3f5f",
             "gridcolor": "white",
             "linecolor": "white",
             "minorgridcolor": "white",
             "startlinecolor": "#2a3f5f"
            },
            "type": "carpet"
           }
          ],
          "choropleth": [
           {
            "colorbar": {
             "outlinewidth": 0,
             "ticks": ""
            },
            "type": "choropleth"
           }
          ],
          "contour": [
           {
            "colorbar": {
             "outlinewidth": 0,
             "ticks": ""
            },
            "colorscale": [
             [
              0,
              "#0d0887"
             ],
             [
              0.1111111111111111,
              "#46039f"
             ],
             [
              0.2222222222222222,
              "#7201a8"
             ],
             [
              0.3333333333333333,
              "#9c179e"
             ],
             [
              0.4444444444444444,
              "#bd3786"
             ],
             [
              0.5555555555555556,
              "#d8576b"
             ],
             [
              0.6666666666666666,
              "#ed7953"
             ],
             [
              0.7777777777777778,
              "#fb9f3a"
             ],
             [
              0.8888888888888888,
              "#fdca26"
             ],
             [
              1,
              "#f0f921"
             ]
            ],
            "type": "contour"
           }
          ],
          "contourcarpet": [
           {
            "colorbar": {
             "outlinewidth": 0,
             "ticks": ""
            },
            "type": "contourcarpet"
           }
          ],
          "heatmap": [
           {
            "colorbar": {
             "outlinewidth": 0,
             "ticks": ""
            },
            "colorscale": [
             [
              0,
              "#0d0887"
             ],
             [
              0.1111111111111111,
              "#46039f"
             ],
             [
              0.2222222222222222,
              "#7201a8"
             ],
             [
              0.3333333333333333,
              "#9c179e"
             ],
             [
              0.4444444444444444,
              "#bd3786"
             ],
             [
              0.5555555555555556,
              "#d8576b"
             ],
             [
              0.6666666666666666,
              "#ed7953"
             ],
             [
              0.7777777777777778,
              "#fb9f3a"
             ],
             [
              0.8888888888888888,
              "#fdca26"
             ],
             [
              1,
              "#f0f921"
             ]
            ],
            "type": "heatmap"
           }
          ],
          "heatmapgl": [
           {
            "colorbar": {
             "outlinewidth": 0,
             "ticks": ""
            },
            "colorscale": [
             [
              0,
              "#0d0887"
             ],
             [
              0.1111111111111111,
              "#46039f"
             ],
             [
              0.2222222222222222,
              "#7201a8"
             ],
             [
              0.3333333333333333,
              "#9c179e"
             ],
             [
              0.4444444444444444,
              "#bd3786"
             ],
             [
              0.5555555555555556,
              "#d8576b"
             ],
             [
              0.6666666666666666,
              "#ed7953"
             ],
             [
              0.7777777777777778,
              "#fb9f3a"
             ],
             [
              0.8888888888888888,
              "#fdca26"
             ],
             [
              1,
              "#f0f921"
             ]
            ],
            "type": "heatmapgl"
           }
          ],
          "histogram": [
           {
            "marker": {
             "pattern": {
              "fillmode": "overlay",
              "size": 10,
              "solidity": 0.2
             }
            },
            "type": "histogram"
           }
          ],
          "histogram2d": [
           {
            "colorbar": {
             "outlinewidth": 0,
             "ticks": ""
            },
            "colorscale": [
             [
              0,
              "#0d0887"
             ],
             [
              0.1111111111111111,
              "#46039f"
             ],
             [
              0.2222222222222222,
              "#7201a8"
             ],
             [
              0.3333333333333333,
              "#9c179e"
             ],
             [
              0.4444444444444444,
              "#bd3786"
             ],
             [
              0.5555555555555556,
              "#d8576b"
             ],
             [
              0.6666666666666666,
              "#ed7953"
             ],
             [
              0.7777777777777778,
              "#fb9f3a"
             ],
             [
              0.8888888888888888,
              "#fdca26"
             ],
             [
              1,
              "#f0f921"
             ]
            ],
            "type": "histogram2d"
           }
          ],
          "histogram2dcontour": [
           {
            "colorbar": {
             "outlinewidth": 0,
             "ticks": ""
            },
            "colorscale": [
             [
              0,
              "#0d0887"
             ],
             [
              0.1111111111111111,
              "#46039f"
             ],
             [
              0.2222222222222222,
              "#7201a8"
             ],
             [
              0.3333333333333333,
              "#9c179e"
             ],
             [
              0.4444444444444444,
              "#bd3786"
             ],
             [
              0.5555555555555556,
              "#d8576b"
             ],
             [
              0.6666666666666666,
              "#ed7953"
             ],
             [
              0.7777777777777778,
              "#fb9f3a"
             ],
             [
              0.8888888888888888,
              "#fdca26"
             ],
             [
              1,
              "#f0f921"
             ]
            ],
            "type": "histogram2dcontour"
           }
          ],
          "mesh3d": [
           {
            "colorbar": {
             "outlinewidth": 0,
             "ticks": ""
            },
            "type": "mesh3d"
           }
          ],
          "parcoords": [
           {
            "line": {
             "colorbar": {
              "outlinewidth": 0,
              "ticks": ""
             }
            },
            "type": "parcoords"
           }
          ],
          "pie": [
           {
            "automargin": true,
            "type": "pie"
           }
          ],
          "scatter": [
           {
            "fillpattern": {
             "fillmode": "overlay",
             "size": 10,
             "solidity": 0.2
            },
            "type": "scatter"
           }
          ],
          "scatter3d": [
           {
            "line": {
             "colorbar": {
              "outlinewidth": 0,
              "ticks": ""
             }
            },
            "marker": {
             "colorbar": {
              "outlinewidth": 0,
              "ticks": ""
             }
            },
            "type": "scatter3d"
           }
          ],
          "scattercarpet": [
           {
            "marker": {
             "colorbar": {
              "outlinewidth": 0,
              "ticks": ""
             }
            },
            "type": "scattercarpet"
           }
          ],
          "scattergeo": [
           {
            "marker": {
             "colorbar": {
              "outlinewidth": 0,
              "ticks": ""
             }
            },
            "type": "scattergeo"
           }
          ],
          "scattergl": [
           {
            "marker": {
             "colorbar": {
              "outlinewidth": 0,
              "ticks": ""
             }
            },
            "type": "scattergl"
           }
          ],
          "scattermapbox": [
           {
            "marker": {
             "colorbar": {
              "outlinewidth": 0,
              "ticks": ""
             }
            },
            "type": "scattermapbox"
           }
          ],
          "scatterpolar": [
           {
            "marker": {
             "colorbar": {
              "outlinewidth": 0,
              "ticks": ""
             }
            },
            "type": "scatterpolar"
           }
          ],
          "scatterpolargl": [
           {
            "marker": {
             "colorbar": {
              "outlinewidth": 0,
              "ticks": ""
             }
            },
            "type": "scatterpolargl"
           }
          ],
          "scatterternary": [
           {
            "marker": {
             "colorbar": {
              "outlinewidth": 0,
              "ticks": ""
             }
            },
            "type": "scatterternary"
           }
          ],
          "surface": [
           {
            "colorbar": {
             "outlinewidth": 0,
             "ticks": ""
            },
            "colorscale": [
             [
              0,
              "#0d0887"
             ],
             [
              0.1111111111111111,
              "#46039f"
             ],
             [
              0.2222222222222222,
              "#7201a8"
             ],
             [
              0.3333333333333333,
              "#9c179e"
             ],
             [
              0.4444444444444444,
              "#bd3786"
             ],
             [
              0.5555555555555556,
              "#d8576b"
             ],
             [
              0.6666666666666666,
              "#ed7953"
             ],
             [
              0.7777777777777778,
              "#fb9f3a"
             ],
             [
              0.8888888888888888,
              "#fdca26"
             ],
             [
              1,
              "#f0f921"
             ]
            ],
            "type": "surface"
           }
          ],
          "table": [
           {
            "cells": {
             "fill": {
              "color": "#EBF0F8"
             },
             "line": {
              "color": "white"
             }
            },
            "header": {
             "fill": {
              "color": "#C8D4E3"
             },
             "line": {
              "color": "white"
             }
            },
            "type": "table"
           }
          ]
         },
         "layout": {
          "annotationdefaults": {
           "arrowcolor": "#2a3f5f",
           "arrowhead": 0,
           "arrowwidth": 1
          },
          "autotypenumbers": "strict",
          "coloraxis": {
           "colorbar": {
            "outlinewidth": 0,
            "ticks": ""
           }
          },
          "colorscale": {
           "diverging": [
            [
             0,
             "#8e0152"
            ],
            [
             0.1,
             "#c51b7d"
            ],
            [
             0.2,
             "#de77ae"
            ],
            [
             0.3,
             "#f1b6da"
            ],
            [
             0.4,
             "#fde0ef"
            ],
            [
             0.5,
             "#f7f7f7"
            ],
            [
             0.6,
             "#e6f5d0"
            ],
            [
             0.7,
             "#b8e186"
            ],
            [
             0.8,
             "#7fbc41"
            ],
            [
             0.9,
             "#4d9221"
            ],
            [
             1,
             "#276419"
            ]
           ],
           "sequential": [
            [
             0,
             "#0d0887"
            ],
            [
             0.1111111111111111,
             "#46039f"
            ],
            [
             0.2222222222222222,
             "#7201a8"
            ],
            [
             0.3333333333333333,
             "#9c179e"
            ],
            [
             0.4444444444444444,
             "#bd3786"
            ],
            [
             0.5555555555555556,
             "#d8576b"
            ],
            [
             0.6666666666666666,
             "#ed7953"
            ],
            [
             0.7777777777777778,
             "#fb9f3a"
            ],
            [
             0.8888888888888888,
             "#fdca26"
            ],
            [
             1,
             "#f0f921"
            ]
           ],
           "sequentialminus": [
            [
             0,
             "#0d0887"
            ],
            [
             0.1111111111111111,
             "#46039f"
            ],
            [
             0.2222222222222222,
             "#7201a8"
            ],
            [
             0.3333333333333333,
             "#9c179e"
            ],
            [
             0.4444444444444444,
             "#bd3786"
            ],
            [
             0.5555555555555556,
             "#d8576b"
            ],
            [
             0.6666666666666666,
             "#ed7953"
            ],
            [
             0.7777777777777778,
             "#fb9f3a"
            ],
            [
             0.8888888888888888,
             "#fdca26"
            ],
            [
             1,
             "#f0f921"
            ]
           ]
          },
          "colorway": [
           "#636efa",
           "#EF553B",
           "#00cc96",
           "#ab63fa",
           "#FFA15A",
           "#19d3f3",
           "#FF6692",
           "#B6E880",
           "#FF97FF",
           "#FECB52"
          ],
          "font": {
           "color": "#2a3f5f"
          },
          "geo": {
           "bgcolor": "white",
           "lakecolor": "white",
           "landcolor": "#E5ECF6",
           "showlakes": true,
           "showland": true,
           "subunitcolor": "white"
          },
          "hoverlabel": {
           "align": "left"
          },
          "hovermode": "closest",
          "mapbox": {
           "style": "light"
          },
          "paper_bgcolor": "white",
          "plot_bgcolor": "#E5ECF6",
          "polar": {
           "angularaxis": {
            "gridcolor": "white",
            "linecolor": "white",
            "ticks": ""
           },
           "bgcolor": "#E5ECF6",
           "radialaxis": {
            "gridcolor": "white",
            "linecolor": "white",
            "ticks": ""
           }
          },
          "scene": {
           "xaxis": {
            "backgroundcolor": "#E5ECF6",
            "gridcolor": "white",
            "gridwidth": 2,
            "linecolor": "white",
            "showbackground": true,
            "ticks": "",
            "zerolinecolor": "white"
           },
           "yaxis": {
            "backgroundcolor": "#E5ECF6",
            "gridcolor": "white",
            "gridwidth": 2,
            "linecolor": "white",
            "showbackground": true,
            "ticks": "",
            "zerolinecolor": "white"
           },
           "zaxis": {
            "backgroundcolor": "#E5ECF6",
            "gridcolor": "white",
            "gridwidth": 2,
            "linecolor": "white",
            "showbackground": true,
            "ticks": "",
            "zerolinecolor": "white"
           }
          },
          "shapedefaults": {
           "line": {
            "color": "#2a3f5f"
           }
          },
          "ternary": {
           "aaxis": {
            "gridcolor": "white",
            "linecolor": "white",
            "ticks": ""
           },
           "baxis": {
            "gridcolor": "white",
            "linecolor": "white",
            "ticks": ""
           },
           "bgcolor": "#E5ECF6",
           "caxis": {
            "gridcolor": "white",
            "linecolor": "white",
            "ticks": ""
           }
          },
          "title": {
           "x": 0.05
          },
          "xaxis": {
           "automargin": true,
           "gridcolor": "white",
           "linecolor": "white",
           "ticks": "",
           "title": {
            "standoff": 15
           },
           "zerolinecolor": "white",
           "zerolinewidth": 2
          },
          "yaxis": {
           "automargin": true,
           "gridcolor": "white",
           "linecolor": "white",
           "ticks": "",
           "title": {
            "standoff": 15
           },
           "zerolinecolor": "white",
           "zerolinewidth": 2
          }
         }
        },
        "title": {
         "text": "test"
        }
       }
      }
     },
     "metadata": {},
     "output_type": "display_data"
    }
   ],
   "source": [
    "painter=Painter(box)\n",
    "painter.plotBoxAndItems(title=\"test\", alpha=0.2, write_num=False, fontsize=10)"
   ]
  },
  {
   "cell_type": "code",
   "execution_count": 18,
   "metadata": {},
   "outputs": [],
   "source": [
    "import plotly.graph_objects as go\n",
    "import numpy as np\n",
    "\n",
    "class Painter:\n",
    "\n",
    "    def __init__(self, bins):\n",
    "        self.items = bins.items\n",
    "        self.width = bins.width\n",
    "        self.height = bins.height\n",
    "        self.depth = bins.depth\n",
    "\n",
    "    def _plotCube(self, fig, x, y, z, dx, dy, dz, color='red', text=\"\", alpha=1):\n",
    "        vertices = [\n",
    "            [x, y, z], [x + dx, y, z], [x + dx, y + dy, z], [x, y + dy, z],\n",
    "            [x, y, z + dz], [x + dx, y, z + dz], [x + dx, y + dy, z + dz], [x, y + dy, z + dz]\n",
    "        ]\n",
    "        faces = [\n",
    "            [0, 1, 2], [0, 2, 3], [4, 5, 6], [4, 6, 7],\n",
    "            [0, 1, 5], [0, 5, 4], [2, 3, 7], [2, 7, 6],\n",
    "            [1, 2, 6], [1, 6, 5], [0, 3, 7], [0, 7, 4]\n",
    "        ]\n",
    "\n",
    "        x_data = [vertices[face[i]][0] for face in faces for i in range(3)]\n",
    "        y_data = [vertices[face[i]][1] for face in faces for i in range(3)]\n",
    "        z_data = [vertices[face[i]][2] for face in faces for i in range(3)]\n",
    "\n",
    "        fig.add_trace(go.Mesh3d(\n",
    "            x=x_data, y=y_data, z=z_data,\n",
    "            color=color, opacity=alpha,\n",
    "            alphahull=0, hovertext=text\n",
    "        ))\n",
    "\n",
    "    def _plotCylinder(self, fig, x, y, z, dx, dy, dz, color='red', text=\"\", alpha=1):\n",
    "        theta = np.linspace(0, 2 * np.pi, 30)\n",
    "        x_circle = dx / 2 * np.cos(theta) + x + dx / 2\n",
    "        y_circle = dy / 2 * np.sin(theta) + y + dy / 2\n",
    "\n",
    "        z1 = np.full_like(theta, z)\n",
    "        z2 = np.full_like(theta, z + dz)\n",
    "\n",
    "        fig.add_trace(go.Scatter3d(x=x_circle, y=y_circle, z=z1, mode='lines', line=dict(color=color), opacity=alpha))\n",
    "        fig.add_trace(go.Scatter3d(x=x_circle, y=y_circle, z=z2, mode='lines', line=dict(color=color), opacity=alpha))\n",
    "\n",
    "        for i in range(len(theta)):\n",
    "            fig.add_trace(go.Scatter3d(\n",
    "                x=[x_circle[i], x_circle[i]], y=[y_circle[i], y_circle[i]], z=[z1[i], z2[i]], mode='lines',\n",
    "                line=dict(color=color), opacity=alpha\n",
    "            ))\n",
    "\n",
    "        z_grid, theta_grid = np.meshgrid(np.linspace(z, z + dz, 10), theta)\n",
    "        x_grid = dx / 2 * np.cos(theta_grid) + x + dx / 2\n",
    "        y_grid = dy / 2 * np.sin(theta_grid) + y + dy / 2\n",
    "\n",
    "        fig.add_trace(go.Surface(x=x_grid, y=y_grid, z=z_grid, surfacecolor=[color]*len(z_grid), showscale=False, opacity=alpha))\n",
    "\n",
    "    def plotBoxAndItems(self, title=\"\", alpha=1, write_num=False, fontsize=10):\n",
    "        fig = go.Figure()\n",
    "\n",
    "        # plot bin \n",
    "        self._plotCube(fig, 0, 0, 0, float(self.width), float(self.height), float(self.depth), color='black', alpha=alpha)\n",
    "\n",
    "        # fit rotation type\n",
    "        for item in self.items:\n",
    "            x, y, z = item.position\n",
    "            w, h, d = item.getDimension()\n",
    "            color = item.color\n",
    "            text = item.partno if write_num else \"\"\n",
    "\n",
    "            if item.typeof == 'cube':\n",
    "                # plot item of cube\n",
    "                self._plotCube(fig, float(x), float(y), float(z), float(w), float(h), float(d), color=color, text=text, alpha=alpha)\n",
    "            elif item.typeof == 'cylinder':\n",
    "                # plot item of cylinder\n",
    "                self._plotCylinder(fig, float(x), float(y), float(z), float(w), float(h), float(d), color=color, text=text, alpha=alpha)\n",
    "\n",
    "        fig.update_layout(title=title, scene_aspectmode='data')\n",
    "        return fig\n"
   ]
  },
  {
   "cell_type": "code",
   "execution_count": 19,
   "metadata": {},
   "outputs": [],
   "source": [
    "# Evergreen Real Container (20ft Steel Dry Cargo Container)\n",
    "# Unit cm/kg\n",
    "box = Bin(\n",
    "    partno='example4',\n",
    "    WHD=(589.8, 243.8, 259.1),\n",
    "    max_weight=28080,\n",
    "    corner=15,\n",
    "    put_type=0\n",
    ")\n",
    "\n",
    "packer.addBin(box)\n",
    "\n",
    "# Dyson DC34 (170 * 82 * 46 , 85.12 kg)\n",
    "# 15 pcs per case, 170 * 82 * 46 (85.12 kg)\n",
    "for i in range(15): \n",
    "    packer.addItem(Item(\n",
    "        partno='Dyson DC34 Animal{}'.format(str(i + 1)),\n",
    "        name='Dyson',\n",
    "        typeof='cube',\n",
    "        WHD=(170, 82, 46),\n",
    "        weight=85.12,\n",
    "        level=1,\n",
    "        loadbear=100,\n",
    "        updown=True,\n",
    "        color='#FF0000'\n",
    "    ))\n",
    "\n",
    "# Washing Machine (85 * 60 * 60 , 10 kg)\n",
    "# 18 pcs per case, 85 * 60 * 60 (10 kg)\n",
    "for i in range(18):\n",
    "    packer.addItem(Item(\n",
    "        partno='wash{}'.format(str(i + 1)),\n",
    "        name='wash',\n",
    "        typeof='cube',\n",
    "        WHD=(85, 60, 60),\n",
    "        weight=10,\n",
    "        level=1,\n",
    "        loadbear=100,\n",
    "        updown=True,\n",
    "        color='#FFFF37'\n",
    "    ))\n",
    "\n",
    "# 42U Standard Cabinet (60 * 80 * 200 , 80 kg)\n",
    "# 15 pcs per case, 60 * 80 * 200 (80 kg)\n",
    "for i in range(15):\n",
    "    packer.addItem(Item(\n",
    "        partno='Cabinet{}'.format(str(i + 1)),\n",
    "        name='cabint',\n",
    "        typeof='cube',\n",
    "        WHD=(60, 80, 200),\n",
    "        weight=80,\n",
    "        level=1,\n",
    "        loadbear=100,\n",
    "        updown=True,\n",
    "        color='#842B00'\n",
    "    ))\n",
    "\n",
    "# Server (70 * 100 * 30 , 20 kg)\n",
    "# 42 pcs per case, 70 * 100 * 30 (20 kg)\n",
    "for i in range(42):\n",
    "    packer.addItem(Item(\n",
    "        partno='Server{}'.format(str(i + 1)),\n",
    "        name='server',\n",
    "        typeof='cube',\n",
    "        WHD=(70, 100, 30),\n",
    "        weight=20,\n",
    "        level=1,\n",
    "        loadbear=100,\n",
    "        updown=True,\n",
    "        color='#0000E3'\n",
    "    ))\n",
    "\n",
    "# Cylinder (50-gallon Oil Drum, 80 cm diameter, 120 cm height, 170 kg)\n",
    "# 20 pcs per case, 80 cm diameter, 120 cm height (170 kg)\n",
    "for i in range(20):\n",
    "    packer.addItem(Item(\n",
    "        partno='Cylinder{}'.format(str(i + 1)),\n",
    "        name='cylinder',\n",
    "        typeof='cylinder',\n",
    "        WHD=(80, 120, 80),  # Note: WHD for a cylinder is unconventional; it represents diameter and height\n",
    "        weight=170,\n",
    "        level=1,\n",
    "        loadbear=50,\n",
    "        updown=False,\n",
    "        color='#00FF00'\n",
    "    ))\n",
    "\n",
    "# calculate packing \n",
    "packer.pack(\n",
    "    bigger_first=True,\n",
    "    # Change distribute_items=False to compare the packing situation in multiple boxes of different capacities.\n",
    "    distribute_items=False,\n",
    "    fix_point=True,\n",
    "    check_stable=True,\n",
    "    support_surface_ratio=0.75,\n",
    "    number_of_decimals=0\n",
    ")\n",
    "\n",
    "# put order\n",
    "packer.putOrder()"
   ]
  },
  {
   "cell_type": "code",
   "execution_count": 30,
   "metadata": {},
   "outputs": [
    {
     "data": {
      "application/vnd.plotly.v1+json": {
       "config": {
        "plotlyServerURL": "https://plot.ly"
       },
       "data": [
        {
         "color": "black",
         "flatshading": true,
         "i": [
          1,
          2,
          5,
          6,
          1,
          4,
          3,
          6,
          1,
          7,
          0,
          6
         ],
         "j": [
          0,
          3,
          4,
          7,
          0,
          5,
          2,
          7,
          3,
          5,
          2,
          4
         ],
         "k": [
          2,
          1,
          6,
          5,
          4,
          1,
          6,
          3,
          7,
          1,
          6,
          0
         ],
         "opacity": 0.1,
         "type": "mesh3d",
         "x": [
          0,
          590,
          590,
          0,
          0,
          590,
          590,
          0
         ],
         "y": [
          0,
          0,
          244,
          244,
          0,
          0,
          244,
          244
         ],
         "z": [
          0,
          0,
          0,
          0,
          259,
          259,
          259,
          259
         ]
        },
        {
         "line": {
          "color": "black",
          "width": 2
         },
         "mode": "lines",
         "type": "scatter3d",
         "x": [
          0,
          590
         ],
         "y": [
          0,
          0
         ],
         "z": [
          0,
          0
         ]
        },
        {
         "line": {
          "color": "black",
          "width": 2
         },
         "mode": "lines",
         "type": "scatter3d",
         "x": [
          0,
          590
         ],
         "y": [
          0,
          244
         ],
         "z": [
          0,
          0
         ]
        },
        {
         "line": {
          "color": "black",
          "width": 2
         },
         "mode": "lines",
         "type": "scatter3d",
         "x": [
          0,
          0
         ],
         "y": [
          0,
          0
         ],
         "z": [
          0,
          259
         ]
        },
        {
         "line": {
          "color": "black",
          "width": 2
         },
         "mode": "lines",
         "type": "scatter3d",
         "x": [
          590,
          0
         ],
         "y": [
          0,
          244
         ],
         "z": [
          0,
          0
         ]
        },
        {
         "line": {
          "color": "black",
          "width": 2
         },
         "mode": "lines",
         "type": "scatter3d",
         "x": [
          590,
          590
         ],
         "y": [
          0,
          0
         ],
         "z": [
          0,
          259
         ]
        },
        {
         "line": {
          "color": "black",
          "width": 2
         },
         "mode": "lines",
         "type": "scatter3d",
         "x": [
          590,
          0
         ],
         "y": [
          244,
          244
         ],
         "z": [
          0,
          0
         ]
        },
        {
         "line": {
          "color": "black",
          "width": 2
         },
         "mode": "lines",
         "type": "scatter3d",
         "x": [
          590,
          590
         ],
         "y": [
          244,
          244
         ],
         "z": [
          0,
          259
         ]
        },
        {
         "line": {
          "color": "black",
          "width": 2
         },
         "mode": "lines",
         "type": "scatter3d",
         "x": [
          0,
          0
         ],
         "y": [
          244,
          244
         ],
         "z": [
          0,
          259
         ]
        },
        {
         "line": {
          "color": "black",
          "width": 2
         },
         "mode": "lines",
         "type": "scatter3d",
         "x": [
          0,
          590
         ],
         "y": [
          0,
          0
         ],
         "z": [
          259,
          259
         ]
        },
        {
         "line": {
          "color": "black",
          "width": 2
         },
         "mode": "lines",
         "type": "scatter3d",
         "x": [
          0,
          590
         ],
         "y": [
          0,
          244
         ],
         "z": [
          259,
          259
         ]
        },
        {
         "line": {
          "color": "black",
          "width": 2
         },
         "mode": "lines",
         "type": "scatter3d",
         "x": [
          590,
          0
         ],
         "y": [
          0,
          244
         ],
         "z": [
          259,
          259
         ]
        },
        {
         "line": {
          "color": "black",
          "width": 2
         },
         "mode": "lines",
         "type": "scatter3d",
         "x": [
          590,
          0
         ],
         "y": [
          244,
          244
         ],
         "z": [
          259,
          259
         ]
        },
        {
         "color": "#000000",
         "flatshading": true,
         "i": [
          1,
          2,
          5,
          6,
          1,
          4,
          3,
          6,
          1,
          7,
          0,
          6
         ],
         "j": [
          0,
          3,
          4,
          7,
          0,
          5,
          2,
          7,
          3,
          5,
          2,
          4
         ],
         "k": [
          2,
          1,
          6,
          5,
          4,
          1,
          6,
          3,
          7,
          1,
          6,
          0
         ],
         "opacity": 0.2,
         "type": "mesh3d",
         "x": [
          0,
          15,
          15,
          0,
          0,
          15,
          15,
          0
         ],
         "y": [
          0,
          0,
          15,
          15,
          0,
          0,
          15,
          15
         ],
         "z": [
          0,
          0,
          0,
          0,
          15,
          15,
          15,
          15
         ]
        },
        {
         "line": {
          "color": "black",
          "width": 2
         },
         "mode": "lines",
         "type": "scatter3d",
         "x": [
          0,
          15
         ],
         "y": [
          0,
          0
         ],
         "z": [
          0,
          0
         ]
        },
        {
         "line": {
          "color": "black",
          "width": 2
         },
         "mode": "lines",
         "type": "scatter3d",
         "x": [
          0,
          15
         ],
         "y": [
          0,
          15
         ],
         "z": [
          0,
          0
         ]
        },
        {
         "line": {
          "color": "black",
          "width": 2
         },
         "mode": "lines",
         "type": "scatter3d",
         "x": [
          0,
          0
         ],
         "y": [
          0,
          0
         ],
         "z": [
          0,
          15
         ]
        },
        {
         "line": {
          "color": "black",
          "width": 2
         },
         "mode": "lines",
         "type": "scatter3d",
         "x": [
          15,
          0
         ],
         "y": [
          0,
          15
         ],
         "z": [
          0,
          0
         ]
        },
        {
         "line": {
          "color": "black",
          "width": 2
         },
         "mode": "lines",
         "type": "scatter3d",
         "x": [
          15,
          15
         ],
         "y": [
          0,
          0
         ],
         "z": [
          0,
          15
         ]
        },
        {
         "line": {
          "color": "black",
          "width": 2
         },
         "mode": "lines",
         "type": "scatter3d",
         "x": [
          15,
          0
         ],
         "y": [
          15,
          15
         ],
         "z": [
          0,
          0
         ]
        },
        {
         "line": {
          "color": "black",
          "width": 2
         },
         "mode": "lines",
         "type": "scatter3d",
         "x": [
          15,
          15
         ],
         "y": [
          15,
          15
         ],
         "z": [
          0,
          15
         ]
        },
        {
         "line": {
          "color": "black",
          "width": 2
         },
         "mode": "lines",
         "type": "scatter3d",
         "x": [
          0,
          0
         ],
         "y": [
          15,
          15
         ],
         "z": [
          0,
          15
         ]
        },
        {
         "line": {
          "color": "black",
          "width": 2
         },
         "mode": "lines",
         "type": "scatter3d",
         "x": [
          0,
          15
         ],
         "y": [
          0,
          0
         ],
         "z": [
          15,
          15
         ]
        },
        {
         "line": {
          "color": "black",
          "width": 2
         },
         "mode": "lines",
         "type": "scatter3d",
         "x": [
          0,
          15
         ],
         "y": [
          0,
          15
         ],
         "z": [
          15,
          15
         ]
        },
        {
         "line": {
          "color": "black",
          "width": 2
         },
         "mode": "lines",
         "type": "scatter3d",
         "x": [
          15,
          0
         ],
         "y": [
          0,
          15
         ],
         "z": [
          15,
          15
         ]
        },
        {
         "line": {
          "color": "black",
          "width": 2
         },
         "mode": "lines",
         "type": "scatter3d",
         "x": [
          15,
          0
         ],
         "y": [
          15,
          15
         ],
         "z": [
          15,
          15
         ]
        },
        {
         "color": "#000000",
         "flatshading": true,
         "i": [
          1,
          2,
          5,
          6,
          1,
          4,
          3,
          6,
          1,
          7,
          0,
          6
         ],
         "j": [
          0,
          3,
          4,
          7,
          0,
          5,
          2,
          7,
          3,
          5,
          2,
          4
         ],
         "k": [
          2,
          1,
          6,
          5,
          4,
          1,
          6,
          3,
          7,
          1,
          6,
          0
         ],
         "opacity": 0.2,
         "type": "mesh3d",
         "x": [
          0,
          15,
          15,
          0,
          0,
          15,
          15,
          0
         ],
         "y": [
          0,
          0,
          15,
          15,
          0,
          0,
          15,
          15
         ],
         "z": [
          244,
          244,
          244,
          244,
          259,
          259,
          259,
          259
         ]
        },
        {
         "line": {
          "color": "black",
          "width": 2
         },
         "mode": "lines",
         "type": "scatter3d",
         "x": [
          0,
          15
         ],
         "y": [
          0,
          0
         ],
         "z": [
          244,
          244
         ]
        },
        {
         "line": {
          "color": "black",
          "width": 2
         },
         "mode": "lines",
         "type": "scatter3d",
         "x": [
          0,
          15
         ],
         "y": [
          0,
          15
         ],
         "z": [
          244,
          244
         ]
        },
        {
         "line": {
          "color": "black",
          "width": 2
         },
         "mode": "lines",
         "type": "scatter3d",
         "x": [
          0,
          0
         ],
         "y": [
          0,
          0
         ],
         "z": [
          244,
          259
         ]
        },
        {
         "line": {
          "color": "black",
          "width": 2
         },
         "mode": "lines",
         "type": "scatter3d",
         "x": [
          15,
          0
         ],
         "y": [
          0,
          15
         ],
         "z": [
          244,
          244
         ]
        },
        {
         "line": {
          "color": "black",
          "width": 2
         },
         "mode": "lines",
         "type": "scatter3d",
         "x": [
          15,
          15
         ],
         "y": [
          0,
          0
         ],
         "z": [
          244,
          259
         ]
        },
        {
         "line": {
          "color": "black",
          "width": 2
         },
         "mode": "lines",
         "type": "scatter3d",
         "x": [
          15,
          0
         ],
         "y": [
          15,
          15
         ],
         "z": [
          244,
          244
         ]
        },
        {
         "line": {
          "color": "black",
          "width": 2
         },
         "mode": "lines",
         "type": "scatter3d",
         "x": [
          15,
          15
         ],
         "y": [
          15,
          15
         ],
         "z": [
          244,
          259
         ]
        },
        {
         "line": {
          "color": "black",
          "width": 2
         },
         "mode": "lines",
         "type": "scatter3d",
         "x": [
          0,
          0
         ],
         "y": [
          15,
          15
         ],
         "z": [
          244,
          259
         ]
        },
        {
         "line": {
          "color": "black",
          "width": 2
         },
         "mode": "lines",
         "type": "scatter3d",
         "x": [
          0,
          15
         ],
         "y": [
          0,
          0
         ],
         "z": [
          259,
          259
         ]
        },
        {
         "line": {
          "color": "black",
          "width": 2
         },
         "mode": "lines",
         "type": "scatter3d",
         "x": [
          0,
          15
         ],
         "y": [
          0,
          15
         ],
         "z": [
          259,
          259
         ]
        },
        {
         "line": {
          "color": "black",
          "width": 2
         },
         "mode": "lines",
         "type": "scatter3d",
         "x": [
          15,
          0
         ],
         "y": [
          0,
          15
         ],
         "z": [
          259,
          259
         ]
        },
        {
         "line": {
          "color": "black",
          "width": 2
         },
         "mode": "lines",
         "type": "scatter3d",
         "x": [
          15,
          0
         ],
         "y": [
          15,
          15
         ],
         "z": [
          259,
          259
         ]
        },
        {
         "color": "#000000",
         "flatshading": true,
         "i": [
          1,
          2,
          5,
          6,
          1,
          4,
          3,
          6,
          1,
          7,
          0,
          6
         ],
         "j": [
          0,
          3,
          4,
          7,
          0,
          5,
          2,
          7,
          3,
          5,
          2,
          4
         ],
         "k": [
          2,
          1,
          6,
          5,
          4,
          1,
          6,
          3,
          7,
          1,
          6,
          0
         ],
         "opacity": 0.2,
         "type": "mesh3d",
         "x": [
          0,
          15,
          15,
          0,
          0,
          15,
          15,
          0
         ],
         "y": [
          229,
          229,
          244,
          244,
          229,
          229,
          244,
          244
         ],
         "z": [
          244,
          244,
          244,
          244,
          259,
          259,
          259,
          259
         ]
        },
        {
         "line": {
          "color": "black",
          "width": 2
         },
         "mode": "lines",
         "type": "scatter3d",
         "x": [
          0,
          15
         ],
         "y": [
          229,
          229
         ],
         "z": [
          244,
          244
         ]
        },
        {
         "line": {
          "color": "black",
          "width": 2
         },
         "mode": "lines",
         "type": "scatter3d",
         "x": [
          0,
          15
         ],
         "y": [
          229,
          244
         ],
         "z": [
          244,
          244
         ]
        },
        {
         "line": {
          "color": "black",
          "width": 2
         },
         "mode": "lines",
         "type": "scatter3d",
         "x": [
          0,
          0
         ],
         "y": [
          229,
          229
         ],
         "z": [
          244,
          259
         ]
        },
        {
         "line": {
          "color": "black",
          "width": 2
         },
         "mode": "lines",
         "type": "scatter3d",
         "x": [
          15,
          0
         ],
         "y": [
          229,
          244
         ],
         "z": [
          244,
          244
         ]
        },
        {
         "line": {
          "color": "black",
          "width": 2
         },
         "mode": "lines",
         "type": "scatter3d",
         "x": [
          15,
          15
         ],
         "y": [
          229,
          229
         ],
         "z": [
          244,
          259
         ]
        },
        {
         "line": {
          "color": "black",
          "width": 2
         },
         "mode": "lines",
         "type": "scatter3d",
         "x": [
          15,
          0
         ],
         "y": [
          244,
          244
         ],
         "z": [
          244,
          244
         ]
        },
        {
         "line": {
          "color": "black",
          "width": 2
         },
         "mode": "lines",
         "type": "scatter3d",
         "x": [
          15,
          15
         ],
         "y": [
          244,
          244
         ],
         "z": [
          244,
          259
         ]
        },
        {
         "line": {
          "color": "black",
          "width": 2
         },
         "mode": "lines",
         "type": "scatter3d",
         "x": [
          0,
          0
         ],
         "y": [
          244,
          244
         ],
         "z": [
          244,
          259
         ]
        },
        {
         "line": {
          "color": "black",
          "width": 2
         },
         "mode": "lines",
         "type": "scatter3d",
         "x": [
          0,
          15
         ],
         "y": [
          229,
          229
         ],
         "z": [
          259,
          259
         ]
        },
        {
         "line": {
          "color": "black",
          "width": 2
         },
         "mode": "lines",
         "type": "scatter3d",
         "x": [
          0,
          15
         ],
         "y": [
          229,
          244
         ],
         "z": [
          259,
          259
         ]
        },
        {
         "line": {
          "color": "black",
          "width": 2
         },
         "mode": "lines",
         "type": "scatter3d",
         "x": [
          15,
          0
         ],
         "y": [
          229,
          244
         ],
         "z": [
          259,
          259
         ]
        },
        {
         "line": {
          "color": "black",
          "width": 2
         },
         "mode": "lines",
         "type": "scatter3d",
         "x": [
          15,
          0
         ],
         "y": [
          244,
          244
         ],
         "z": [
          259,
          259
         ]
        },
        {
         "color": "#000000",
         "flatshading": true,
         "i": [
          1,
          2,
          5,
          6,
          1,
          4,
          3,
          6,
          1,
          7,
          0,
          6
         ],
         "j": [
          0,
          3,
          4,
          7,
          0,
          5,
          2,
          7,
          3,
          5,
          2,
          4
         ],
         "k": [
          2,
          1,
          6,
          5,
          4,
          1,
          6,
          3,
          7,
          1,
          6,
          0
         ],
         "opacity": 0.2,
         "type": "mesh3d",
         "x": [
          0,
          15,
          15,
          0,
          0,
          15,
          15,
          0
         ],
         "y": [
          229,
          229,
          244,
          244,
          229,
          229,
          244,
          244
         ],
         "z": [
          0,
          0,
          0,
          0,
          15,
          15,
          15,
          15
         ]
        },
        {
         "line": {
          "color": "black",
          "width": 2
         },
         "mode": "lines",
         "type": "scatter3d",
         "x": [
          0,
          15
         ],
         "y": [
          229,
          229
         ],
         "z": [
          0,
          0
         ]
        },
        {
         "line": {
          "color": "black",
          "width": 2
         },
         "mode": "lines",
         "type": "scatter3d",
         "x": [
          0,
          15
         ],
         "y": [
          229,
          244
         ],
         "z": [
          0,
          0
         ]
        },
        {
         "line": {
          "color": "black",
          "width": 2
         },
         "mode": "lines",
         "type": "scatter3d",
         "x": [
          0,
          0
         ],
         "y": [
          229,
          229
         ],
         "z": [
          0,
          15
         ]
        },
        {
         "line": {
          "color": "black",
          "width": 2
         },
         "mode": "lines",
         "type": "scatter3d",
         "x": [
          15,
          0
         ],
         "y": [
          229,
          244
         ],
         "z": [
          0,
          0
         ]
        },
        {
         "line": {
          "color": "black",
          "width": 2
         },
         "mode": "lines",
         "type": "scatter3d",
         "x": [
          15,
          15
         ],
         "y": [
          229,
          229
         ],
         "z": [
          0,
          15
         ]
        },
        {
         "line": {
          "color": "black",
          "width": 2
         },
         "mode": "lines",
         "type": "scatter3d",
         "x": [
          15,
          0
         ],
         "y": [
          244,
          244
         ],
         "z": [
          0,
          0
         ]
        },
        {
         "line": {
          "color": "black",
          "width": 2
         },
         "mode": "lines",
         "type": "scatter3d",
         "x": [
          15,
          15
         ],
         "y": [
          244,
          244
         ],
         "z": [
          0,
          15
         ]
        },
        {
         "line": {
          "color": "black",
          "width": 2
         },
         "mode": "lines",
         "type": "scatter3d",
         "x": [
          0,
          0
         ],
         "y": [
          244,
          244
         ],
         "z": [
          0,
          15
         ]
        },
        {
         "line": {
          "color": "black",
          "width": 2
         },
         "mode": "lines",
         "type": "scatter3d",
         "x": [
          0,
          15
         ],
         "y": [
          229,
          229
         ],
         "z": [
          15,
          15
         ]
        },
        {
         "line": {
          "color": "black",
          "width": 2
         },
         "mode": "lines",
         "type": "scatter3d",
         "x": [
          0,
          15
         ],
         "y": [
          229,
          244
         ],
         "z": [
          15,
          15
         ]
        },
        {
         "line": {
          "color": "black",
          "width": 2
         },
         "mode": "lines",
         "type": "scatter3d",
         "x": [
          15,
          0
         ],
         "y": [
          229,
          244
         ],
         "z": [
          15,
          15
         ]
        },
        {
         "line": {
          "color": "black",
          "width": 2
         },
         "mode": "lines",
         "type": "scatter3d",
         "x": [
          15,
          0
         ],
         "y": [
          244,
          244
         ],
         "z": [
          15,
          15
         ]
        },
        {
         "color": "#000000",
         "flatshading": true,
         "i": [
          1,
          2,
          5,
          6,
          1,
          4,
          3,
          6,
          1,
          7,
          0,
          6
         ],
         "j": [
          0,
          3,
          4,
          7,
          0,
          5,
          2,
          7,
          3,
          5,
          2,
          4
         ],
         "k": [
          2,
          1,
          6,
          5,
          4,
          1,
          6,
          3,
          7,
          1,
          6,
          0
         ],
         "opacity": 0.2,
         "type": "mesh3d",
         "x": [
          575,
          590,
          590,
          575,
          575,
          590,
          590,
          575
         ],
         "y": [
          229,
          229,
          244,
          244,
          229,
          229,
          244,
          244
         ],
         "z": [
          0,
          0,
          0,
          0,
          15,
          15,
          15,
          15
         ]
        },
        {
         "line": {
          "color": "black",
          "width": 2
         },
         "mode": "lines",
         "type": "scatter3d",
         "x": [
          575,
          590
         ],
         "y": [
          229,
          229
         ],
         "z": [
          0,
          0
         ]
        },
        {
         "line": {
          "color": "black",
          "width": 2
         },
         "mode": "lines",
         "type": "scatter3d",
         "x": [
          575,
          590
         ],
         "y": [
          229,
          244
         ],
         "z": [
          0,
          0
         ]
        },
        {
         "line": {
          "color": "black",
          "width": 2
         },
         "mode": "lines",
         "type": "scatter3d",
         "x": [
          575,
          575
         ],
         "y": [
          229,
          229
         ],
         "z": [
          0,
          15
         ]
        },
        {
         "line": {
          "color": "black",
          "width": 2
         },
         "mode": "lines",
         "type": "scatter3d",
         "x": [
          590,
          575
         ],
         "y": [
          229,
          244
         ],
         "z": [
          0,
          0
         ]
        },
        {
         "line": {
          "color": "black",
          "width": 2
         },
         "mode": "lines",
         "type": "scatter3d",
         "x": [
          590,
          590
         ],
         "y": [
          229,
          229
         ],
         "z": [
          0,
          15
         ]
        },
        {
         "line": {
          "color": "black",
          "width": 2
         },
         "mode": "lines",
         "type": "scatter3d",
         "x": [
          590,
          575
         ],
         "y": [
          244,
          244
         ],
         "z": [
          0,
          0
         ]
        },
        {
         "line": {
          "color": "black",
          "width": 2
         },
         "mode": "lines",
         "type": "scatter3d",
         "x": [
          590,
          590
         ],
         "y": [
          244,
          244
         ],
         "z": [
          0,
          15
         ]
        },
        {
         "line": {
          "color": "black",
          "width": 2
         },
         "mode": "lines",
         "type": "scatter3d",
         "x": [
          575,
          575
         ],
         "y": [
          244,
          244
         ],
         "z": [
          0,
          15
         ]
        },
        {
         "line": {
          "color": "black",
          "width": 2
         },
         "mode": "lines",
         "type": "scatter3d",
         "x": [
          575,
          590
         ],
         "y": [
          229,
          229
         ],
         "z": [
          15,
          15
         ]
        },
        {
         "line": {
          "color": "black",
          "width": 2
         },
         "mode": "lines",
         "type": "scatter3d",
         "x": [
          575,
          590
         ],
         "y": [
          229,
          244
         ],
         "z": [
          15,
          15
         ]
        },
        {
         "line": {
          "color": "black",
          "width": 2
         },
         "mode": "lines",
         "type": "scatter3d",
         "x": [
          590,
          575
         ],
         "y": [
          229,
          244
         ],
         "z": [
          15,
          15
         ]
        },
        {
         "line": {
          "color": "black",
          "width": 2
         },
         "mode": "lines",
         "type": "scatter3d",
         "x": [
          590,
          575
         ],
         "y": [
          244,
          244
         ],
         "z": [
          15,
          15
         ]
        },
        {
         "color": "#000000",
         "flatshading": true,
         "i": [
          1,
          2,
          5,
          6,
          1,
          4,
          3,
          6,
          1,
          7,
          0,
          6
         ],
         "j": [
          0,
          3,
          4,
          7,
          0,
          5,
          2,
          7,
          3,
          5,
          2,
          4
         ],
         "k": [
          2,
          1,
          6,
          5,
          4,
          1,
          6,
          3,
          7,
          1,
          6,
          0
         ],
         "opacity": 0.2,
         "type": "mesh3d",
         "x": [
          575,
          590,
          590,
          575,
          575,
          590,
          590,
          575
         ],
         "y": [
          0,
          0,
          15,
          15,
          0,
          0,
          15,
          15
         ],
         "z": [
          0,
          0,
          0,
          0,
          15,
          15,
          15,
          15
         ]
        },
        {
         "line": {
          "color": "black",
          "width": 2
         },
         "mode": "lines",
         "type": "scatter3d",
         "x": [
          575,
          590
         ],
         "y": [
          0,
          0
         ],
         "z": [
          0,
          0
         ]
        },
        {
         "line": {
          "color": "black",
          "width": 2
         },
         "mode": "lines",
         "type": "scatter3d",
         "x": [
          575,
          590
         ],
         "y": [
          0,
          15
         ],
         "z": [
          0,
          0
         ]
        },
        {
         "line": {
          "color": "black",
          "width": 2
         },
         "mode": "lines",
         "type": "scatter3d",
         "x": [
          575,
          575
         ],
         "y": [
          0,
          0
         ],
         "z": [
          0,
          15
         ]
        },
        {
         "line": {
          "color": "black",
          "width": 2
         },
         "mode": "lines",
         "type": "scatter3d",
         "x": [
          590,
          575
         ],
         "y": [
          0,
          15
         ],
         "z": [
          0,
          0
         ]
        },
        {
         "line": {
          "color": "black",
          "width": 2
         },
         "mode": "lines",
         "type": "scatter3d",
         "x": [
          590,
          590
         ],
         "y": [
          0,
          0
         ],
         "z": [
          0,
          15
         ]
        },
        {
         "line": {
          "color": "black",
          "width": 2
         },
         "mode": "lines",
         "type": "scatter3d",
         "x": [
          590,
          575
         ],
         "y": [
          15,
          15
         ],
         "z": [
          0,
          0
         ]
        },
        {
         "line": {
          "color": "black",
          "width": 2
         },
         "mode": "lines",
         "type": "scatter3d",
         "x": [
          590,
          590
         ],
         "y": [
          15,
          15
         ],
         "z": [
          0,
          15
         ]
        },
        {
         "line": {
          "color": "black",
          "width": 2
         },
         "mode": "lines",
         "type": "scatter3d",
         "x": [
          575,
          575
         ],
         "y": [
          15,
          15
         ],
         "z": [
          0,
          15
         ]
        },
        {
         "line": {
          "color": "black",
          "width": 2
         },
         "mode": "lines",
         "type": "scatter3d",
         "x": [
          575,
          590
         ],
         "y": [
          0,
          0
         ],
         "z": [
          15,
          15
         ]
        },
        {
         "line": {
          "color": "black",
          "width": 2
         },
         "mode": "lines",
         "type": "scatter3d",
         "x": [
          575,
          590
         ],
         "y": [
          0,
          15
         ],
         "z": [
          15,
          15
         ]
        },
        {
         "line": {
          "color": "black",
          "width": 2
         },
         "mode": "lines",
         "type": "scatter3d",
         "x": [
          590,
          575
         ],
         "y": [
          0,
          15
         ],
         "z": [
          15,
          15
         ]
        },
        {
         "line": {
          "color": "black",
          "width": 2
         },
         "mode": "lines",
         "type": "scatter3d",
         "x": [
          590,
          575
         ],
         "y": [
          15,
          15
         ],
         "z": [
          15,
          15
         ]
        },
        {
         "color": "#000000",
         "flatshading": true,
         "i": [
          1,
          2,
          5,
          6,
          1,
          4,
          3,
          6,
          1,
          7,
          0,
          6
         ],
         "j": [
          0,
          3,
          4,
          7,
          0,
          5,
          2,
          7,
          3,
          5,
          2,
          4
         ],
         "k": [
          2,
          1,
          6,
          5,
          4,
          1,
          6,
          3,
          7,
          1,
          6,
          0
         ],
         "opacity": 0.2,
         "type": "mesh3d",
         "x": [
          575,
          590,
          590,
          575,
          575,
          590,
          590,
          575
         ],
         "y": [
          0,
          0,
          15,
          15,
          0,
          0,
          15,
          15
         ],
         "z": [
          244,
          244,
          244,
          244,
          259,
          259,
          259,
          259
         ]
        },
        {
         "line": {
          "color": "black",
          "width": 2
         },
         "mode": "lines",
         "type": "scatter3d",
         "x": [
          575,
          590
         ],
         "y": [
          0,
          0
         ],
         "z": [
          244,
          244
         ]
        },
        {
         "line": {
          "color": "black",
          "width": 2
         },
         "mode": "lines",
         "type": "scatter3d",
         "x": [
          575,
          590
         ],
         "y": [
          0,
          15
         ],
         "z": [
          244,
          244
         ]
        },
        {
         "line": {
          "color": "black",
          "width": 2
         },
         "mode": "lines",
         "type": "scatter3d",
         "x": [
          575,
          575
         ],
         "y": [
          0,
          0
         ],
         "z": [
          244,
          259
         ]
        },
        {
         "line": {
          "color": "black",
          "width": 2
         },
         "mode": "lines",
         "type": "scatter3d",
         "x": [
          590,
          575
         ],
         "y": [
          0,
          15
         ],
         "z": [
          244,
          244
         ]
        },
        {
         "line": {
          "color": "black",
          "width": 2
         },
         "mode": "lines",
         "type": "scatter3d",
         "x": [
          590,
          590
         ],
         "y": [
          0,
          0
         ],
         "z": [
          244,
          259
         ]
        },
        {
         "line": {
          "color": "black",
          "width": 2
         },
         "mode": "lines",
         "type": "scatter3d",
         "x": [
          590,
          575
         ],
         "y": [
          15,
          15
         ],
         "z": [
          244,
          244
         ]
        },
        {
         "line": {
          "color": "black",
          "width": 2
         },
         "mode": "lines",
         "type": "scatter3d",
         "x": [
          590,
          590
         ],
         "y": [
          15,
          15
         ],
         "z": [
          244,
          259
         ]
        },
        {
         "line": {
          "color": "black",
          "width": 2
         },
         "mode": "lines",
         "type": "scatter3d",
         "x": [
          575,
          575
         ],
         "y": [
          15,
          15
         ],
         "z": [
          244,
          259
         ]
        },
        {
         "line": {
          "color": "black",
          "width": 2
         },
         "mode": "lines",
         "type": "scatter3d",
         "x": [
          575,
          590
         ],
         "y": [
          0,
          0
         ],
         "z": [
          259,
          259
         ]
        },
        {
         "line": {
          "color": "black",
          "width": 2
         },
         "mode": "lines",
         "type": "scatter3d",
         "x": [
          575,
          590
         ],
         "y": [
          0,
          15
         ],
         "z": [
          259,
          259
         ]
        },
        {
         "line": {
          "color": "black",
          "width": 2
         },
         "mode": "lines",
         "type": "scatter3d",
         "x": [
          590,
          575
         ],
         "y": [
          0,
          15
         ],
         "z": [
          259,
          259
         ]
        },
        {
         "line": {
          "color": "black",
          "width": 2
         },
         "mode": "lines",
         "type": "scatter3d",
         "x": [
          590,
          575
         ],
         "y": [
          15,
          15
         ],
         "z": [
          259,
          259
         ]
        },
        {
         "color": "#000000",
         "flatshading": true,
         "i": [
          1,
          2,
          5,
          6,
          1,
          4,
          3,
          6,
          1,
          7,
          0,
          6
         ],
         "j": [
          0,
          3,
          4,
          7,
          0,
          5,
          2,
          7,
          3,
          5,
          2,
          4
         ],
         "k": [
          2,
          1,
          6,
          5,
          4,
          1,
          6,
          3,
          7,
          1,
          6,
          0
         ],
         "opacity": 0.2,
         "type": "mesh3d",
         "x": [
          575,
          590,
          590,
          575,
          575,
          590,
          590,
          575
         ],
         "y": [
          229,
          229,
          244,
          244,
          229,
          229,
          244,
          244
         ],
         "z": [
          244,
          244,
          244,
          244,
          259,
          259,
          259,
          259
         ]
        },
        {
         "line": {
          "color": "black",
          "width": 2
         },
         "mode": "lines",
         "type": "scatter3d",
         "x": [
          575,
          590
         ],
         "y": [
          229,
          229
         ],
         "z": [
          244,
          244
         ]
        },
        {
         "line": {
          "color": "black",
          "width": 2
         },
         "mode": "lines",
         "type": "scatter3d",
         "x": [
          575,
          590
         ],
         "y": [
          229,
          244
         ],
         "z": [
          244,
          244
         ]
        },
        {
         "line": {
          "color": "black",
          "width": 2
         },
         "mode": "lines",
         "type": "scatter3d",
         "x": [
          575,
          575
         ],
         "y": [
          229,
          229
         ],
         "z": [
          244,
          259
         ]
        },
        {
         "line": {
          "color": "black",
          "width": 2
         },
         "mode": "lines",
         "type": "scatter3d",
         "x": [
          590,
          575
         ],
         "y": [
          229,
          244
         ],
         "z": [
          244,
          244
         ]
        },
        {
         "line": {
          "color": "black",
          "width": 2
         },
         "mode": "lines",
         "type": "scatter3d",
         "x": [
          590,
          590
         ],
         "y": [
          229,
          229
         ],
         "z": [
          244,
          259
         ]
        },
        {
         "line": {
          "color": "black",
          "width": 2
         },
         "mode": "lines",
         "type": "scatter3d",
         "x": [
          590,
          575
         ],
         "y": [
          244,
          244
         ],
         "z": [
          244,
          244
         ]
        },
        {
         "line": {
          "color": "black",
          "width": 2
         },
         "mode": "lines",
         "type": "scatter3d",
         "x": [
          590,
          590
         ],
         "y": [
          244,
          244
         ],
         "z": [
          244,
          259
         ]
        },
        {
         "line": {
          "color": "black",
          "width": 2
         },
         "mode": "lines",
         "type": "scatter3d",
         "x": [
          575,
          575
         ],
         "y": [
          244,
          244
         ],
         "z": [
          244,
          259
         ]
        },
        {
         "line": {
          "color": "black",
          "width": 2
         },
         "mode": "lines",
         "type": "scatter3d",
         "x": [
          575,
          590
         ],
         "y": [
          229,
          229
         ],
         "z": [
          259,
          259
         ]
        },
        {
         "line": {
          "color": "black",
          "width": 2
         },
         "mode": "lines",
         "type": "scatter3d",
         "x": [
          575,
          590
         ],
         "y": [
          229,
          244
         ],
         "z": [
          259,
          259
         ]
        },
        {
         "line": {
          "color": "black",
          "width": 2
         },
         "mode": "lines",
         "type": "scatter3d",
         "x": [
          590,
          575
         ],
         "y": [
          229,
          244
         ],
         "z": [
          259,
          259
         ]
        },
        {
         "line": {
          "color": "black",
          "width": 2
         },
         "mode": "lines",
         "type": "scatter3d",
         "x": [
          590,
          575
         ],
         "y": [
          244,
          244
         ],
         "z": [
          259,
          259
         ]
        },
        {
         "color": "#842B00",
         "flatshading": true,
         "i": [
          1,
          2,
          5,
          6,
          1,
          4,
          3,
          6,
          1,
          7,
          0,
          6
         ],
         "j": [
          0,
          3,
          4,
          7,
          0,
          5,
          2,
          7,
          3,
          5,
          2,
          4
         ],
         "k": [
          2,
          1,
          6,
          5,
          4,
          1,
          6,
          3,
          7,
          1,
          6,
          0
         ],
         "opacity": 0.2,
         "type": "mesh3d",
         "x": [
          15,
          75,
          75,
          15,
          15,
          75,
          75,
          15
         ],
         "y": [
          0,
          0,
          80,
          80,
          0,
          0,
          80,
          80
         ],
         "z": [
          0,
          0,
          0,
          0,
          200,
          200,
          200,
          200
         ]
        },
        {
         "line": {
          "color": "black",
          "width": 2
         },
         "mode": "lines",
         "type": "scatter3d",
         "x": [
          15,
          75
         ],
         "y": [
          0,
          0
         ],
         "z": [
          0,
          0
         ]
        },
        {
         "line": {
          "color": "black",
          "width": 2
         },
         "mode": "lines",
         "type": "scatter3d",
         "x": [
          15,
          75
         ],
         "y": [
          0,
          80
         ],
         "z": [
          0,
          0
         ]
        },
        {
         "line": {
          "color": "black",
          "width": 2
         },
         "mode": "lines",
         "type": "scatter3d",
         "x": [
          15,
          15
         ],
         "y": [
          0,
          0
         ],
         "z": [
          0,
          200
         ]
        },
        {
         "line": {
          "color": "black",
          "width": 2
         },
         "mode": "lines",
         "type": "scatter3d",
         "x": [
          75,
          15
         ],
         "y": [
          0,
          80
         ],
         "z": [
          0,
          0
         ]
        },
        {
         "line": {
          "color": "black",
          "width": 2
         },
         "mode": "lines",
         "type": "scatter3d",
         "x": [
          75,
          75
         ],
         "y": [
          0,
          0
         ],
         "z": [
          0,
          200
         ]
        },
        {
         "line": {
          "color": "black",
          "width": 2
         },
         "mode": "lines",
         "type": "scatter3d",
         "x": [
          75,
          15
         ],
         "y": [
          80,
          80
         ],
         "z": [
          0,
          0
         ]
        },
        {
         "line": {
          "color": "black",
          "width": 2
         },
         "mode": "lines",
         "type": "scatter3d",
         "x": [
          75,
          75
         ],
         "y": [
          80,
          80
         ],
         "z": [
          0,
          200
         ]
        },
        {
         "line": {
          "color": "black",
          "width": 2
         },
         "mode": "lines",
         "type": "scatter3d",
         "x": [
          15,
          15
         ],
         "y": [
          80,
          80
         ],
         "z": [
          0,
          200
         ]
        },
        {
         "line": {
          "color": "black",
          "width": 2
         },
         "mode": "lines",
         "type": "scatter3d",
         "x": [
          15,
          75
         ],
         "y": [
          0,
          0
         ],
         "z": [
          200,
          200
         ]
        },
        {
         "line": {
          "color": "black",
          "width": 2
         },
         "mode": "lines",
         "type": "scatter3d",
         "x": [
          15,
          75
         ],
         "y": [
          0,
          80
         ],
         "z": [
          200,
          200
         ]
        },
        {
         "line": {
          "color": "black",
          "width": 2
         },
         "mode": "lines",
         "type": "scatter3d",
         "x": [
          75,
          15
         ],
         "y": [
          0,
          80
         ],
         "z": [
          200,
          200
         ]
        },
        {
         "line": {
          "color": "black",
          "width": 2
         },
         "mode": "lines",
         "type": "scatter3d",
         "x": [
          75,
          15
         ],
         "y": [
          80,
          80
         ],
         "z": [
          200,
          200
         ]
        },
        {
         "color": "#842B00",
         "flatshading": true,
         "i": [
          1,
          2,
          5,
          6,
          1,
          4,
          3,
          6,
          1,
          7,
          0,
          6
         ],
         "j": [
          0,
          3,
          4,
          7,
          0,
          5,
          2,
          7,
          3,
          5,
          2,
          4
         ],
         "k": [
          2,
          1,
          6,
          5,
          4,
          1,
          6,
          3,
          7,
          1,
          6,
          0
         ],
         "opacity": 0.2,
         "type": "mesh3d",
         "x": [
          75,
          135,
          135,
          75,
          75,
          135,
          135,
          75
         ],
         "y": [
          0,
          0,
          80,
          80,
          0,
          0,
          80,
          80
         ],
         "z": [
          0,
          0,
          0,
          0,
          200,
          200,
          200,
          200
         ]
        },
        {
         "line": {
          "color": "black",
          "width": 2
         },
         "mode": "lines",
         "type": "scatter3d",
         "x": [
          75,
          135
         ],
         "y": [
          0,
          0
         ],
         "z": [
          0,
          0
         ]
        },
        {
         "line": {
          "color": "black",
          "width": 2
         },
         "mode": "lines",
         "type": "scatter3d",
         "x": [
          75,
          135
         ],
         "y": [
          0,
          80
         ],
         "z": [
          0,
          0
         ]
        },
        {
         "line": {
          "color": "black",
          "width": 2
         },
         "mode": "lines",
         "type": "scatter3d",
         "x": [
          75,
          75
         ],
         "y": [
          0,
          0
         ],
         "z": [
          0,
          200
         ]
        },
        {
         "line": {
          "color": "black",
          "width": 2
         },
         "mode": "lines",
         "type": "scatter3d",
         "x": [
          135,
          75
         ],
         "y": [
          0,
          80
         ],
         "z": [
          0,
          0
         ]
        },
        {
         "line": {
          "color": "black",
          "width": 2
         },
         "mode": "lines",
         "type": "scatter3d",
         "x": [
          135,
          135
         ],
         "y": [
          0,
          0
         ],
         "z": [
          0,
          200
         ]
        },
        {
         "line": {
          "color": "black",
          "width": 2
         },
         "mode": "lines",
         "type": "scatter3d",
         "x": [
          135,
          75
         ],
         "y": [
          80,
          80
         ],
         "z": [
          0,
          0
         ]
        },
        {
         "line": {
          "color": "black",
          "width": 2
         },
         "mode": "lines",
         "type": "scatter3d",
         "x": [
          135,
          135
         ],
         "y": [
          80,
          80
         ],
         "z": [
          0,
          200
         ]
        },
        {
         "line": {
          "color": "black",
          "width": 2
         },
         "mode": "lines",
         "type": "scatter3d",
         "x": [
          75,
          75
         ],
         "y": [
          80,
          80
         ],
         "z": [
          0,
          200
         ]
        },
        {
         "line": {
          "color": "black",
          "width": 2
         },
         "mode": "lines",
         "type": "scatter3d",
         "x": [
          75,
          135
         ],
         "y": [
          0,
          0
         ],
         "z": [
          200,
          200
         ]
        },
        {
         "line": {
          "color": "black",
          "width": 2
         },
         "mode": "lines",
         "type": "scatter3d",
         "x": [
          75,
          135
         ],
         "y": [
          0,
          80
         ],
         "z": [
          200,
          200
         ]
        },
        {
         "line": {
          "color": "black",
          "width": 2
         },
         "mode": "lines",
         "type": "scatter3d",
         "x": [
          135,
          75
         ],
         "y": [
          0,
          80
         ],
         "z": [
          200,
          200
         ]
        },
        {
         "line": {
          "color": "black",
          "width": 2
         },
         "mode": "lines",
         "type": "scatter3d",
         "x": [
          135,
          75
         ],
         "y": [
          80,
          80
         ],
         "z": [
          200,
          200
         ]
        },
        {
         "color": "#842B00",
         "flatshading": true,
         "i": [
          1,
          2,
          5,
          6,
          1,
          4,
          3,
          6,
          1,
          7,
          0,
          6
         ],
         "j": [
          0,
          3,
          4,
          7,
          0,
          5,
          2,
          7,
          3,
          5,
          2,
          4
         ],
         "k": [
          2,
          1,
          6,
          5,
          4,
          1,
          6,
          3,
          7,
          1,
          6,
          0
         ],
         "opacity": 0.2,
         "type": "mesh3d",
         "x": [
          135,
          195,
          195,
          135,
          135,
          195,
          195,
          135
         ],
         "y": [
          0,
          0,
          80,
          80,
          0,
          0,
          80,
          80
         ],
         "z": [
          0,
          0,
          0,
          0,
          200,
          200,
          200,
          200
         ]
        },
        {
         "line": {
          "color": "black",
          "width": 2
         },
         "mode": "lines",
         "type": "scatter3d",
         "x": [
          135,
          195
         ],
         "y": [
          0,
          0
         ],
         "z": [
          0,
          0
         ]
        },
        {
         "line": {
          "color": "black",
          "width": 2
         },
         "mode": "lines",
         "type": "scatter3d",
         "x": [
          135,
          195
         ],
         "y": [
          0,
          80
         ],
         "z": [
          0,
          0
         ]
        },
        {
         "line": {
          "color": "black",
          "width": 2
         },
         "mode": "lines",
         "type": "scatter3d",
         "x": [
          135,
          135
         ],
         "y": [
          0,
          0
         ],
         "z": [
          0,
          200
         ]
        },
        {
         "line": {
          "color": "black",
          "width": 2
         },
         "mode": "lines",
         "type": "scatter3d",
         "x": [
          195,
          135
         ],
         "y": [
          0,
          80
         ],
         "z": [
          0,
          0
         ]
        },
        {
         "line": {
          "color": "black",
          "width": 2
         },
         "mode": "lines",
         "type": "scatter3d",
         "x": [
          195,
          195
         ],
         "y": [
          0,
          0
         ],
         "z": [
          0,
          200
         ]
        },
        {
         "line": {
          "color": "black",
          "width": 2
         },
         "mode": "lines",
         "type": "scatter3d",
         "x": [
          195,
          135
         ],
         "y": [
          80,
          80
         ],
         "z": [
          0,
          0
         ]
        },
        {
         "line": {
          "color": "black",
          "width": 2
         },
         "mode": "lines",
         "type": "scatter3d",
         "x": [
          195,
          195
         ],
         "y": [
          80,
          80
         ],
         "z": [
          0,
          200
         ]
        },
        {
         "line": {
          "color": "black",
          "width": 2
         },
         "mode": "lines",
         "type": "scatter3d",
         "x": [
          135,
          135
         ],
         "y": [
          80,
          80
         ],
         "z": [
          0,
          200
         ]
        },
        {
         "line": {
          "color": "black",
          "width": 2
         },
         "mode": "lines",
         "type": "scatter3d",
         "x": [
          135,
          195
         ],
         "y": [
          0,
          0
         ],
         "z": [
          200,
          200
         ]
        },
        {
         "line": {
          "color": "black",
          "width": 2
         },
         "mode": "lines",
         "type": "scatter3d",
         "x": [
          135,
          195
         ],
         "y": [
          0,
          80
         ],
         "z": [
          200,
          200
         ]
        },
        {
         "line": {
          "color": "black",
          "width": 2
         },
         "mode": "lines",
         "type": "scatter3d",
         "x": [
          195,
          135
         ],
         "y": [
          0,
          80
         ],
         "z": [
          200,
          200
         ]
        },
        {
         "line": {
          "color": "black",
          "width": 2
         },
         "mode": "lines",
         "type": "scatter3d",
         "x": [
          195,
          135
         ],
         "y": [
          80,
          80
         ],
         "z": [
          200,
          200
         ]
        },
        {
         "color": "#842B00",
         "flatshading": true,
         "i": [
          1,
          2,
          5,
          6,
          1,
          4,
          3,
          6,
          1,
          7,
          0,
          6
         ],
         "j": [
          0,
          3,
          4,
          7,
          0,
          5,
          2,
          7,
          3,
          5,
          2,
          4
         ],
         "k": [
          2,
          1,
          6,
          5,
          4,
          1,
          6,
          3,
          7,
          1,
          6,
          0
         ],
         "opacity": 0.2,
         "type": "mesh3d",
         "x": [
          195,
          255,
          255,
          195,
          195,
          255,
          255,
          195
         ],
         "y": [
          0,
          0,
          80,
          80,
          0,
          0,
          80,
          80
         ],
         "z": [
          0,
          0,
          0,
          0,
          200,
          200,
          200,
          200
         ]
        },
        {
         "line": {
          "color": "black",
          "width": 2
         },
         "mode": "lines",
         "type": "scatter3d",
         "x": [
          195,
          255
         ],
         "y": [
          0,
          0
         ],
         "z": [
          0,
          0
         ]
        },
        {
         "line": {
          "color": "black",
          "width": 2
         },
         "mode": "lines",
         "type": "scatter3d",
         "x": [
          195,
          255
         ],
         "y": [
          0,
          80
         ],
         "z": [
          0,
          0
         ]
        },
        {
         "line": {
          "color": "black",
          "width": 2
         },
         "mode": "lines",
         "type": "scatter3d",
         "x": [
          195,
          195
         ],
         "y": [
          0,
          0
         ],
         "z": [
          0,
          200
         ]
        },
        {
         "line": {
          "color": "black",
          "width": 2
         },
         "mode": "lines",
         "type": "scatter3d",
         "x": [
          255,
          195
         ],
         "y": [
          0,
          80
         ],
         "z": [
          0,
          0
         ]
        },
        {
         "line": {
          "color": "black",
          "width": 2
         },
         "mode": "lines",
         "type": "scatter3d",
         "x": [
          255,
          255
         ],
         "y": [
          0,
          0
         ],
         "z": [
          0,
          200
         ]
        },
        {
         "line": {
          "color": "black",
          "width": 2
         },
         "mode": "lines",
         "type": "scatter3d",
         "x": [
          255,
          195
         ],
         "y": [
          80,
          80
         ],
         "z": [
          0,
          0
         ]
        },
        {
         "line": {
          "color": "black",
          "width": 2
         },
         "mode": "lines",
         "type": "scatter3d",
         "x": [
          255,
          255
         ],
         "y": [
          80,
          80
         ],
         "z": [
          0,
          200
         ]
        },
        {
         "line": {
          "color": "black",
          "width": 2
         },
         "mode": "lines",
         "type": "scatter3d",
         "x": [
          195,
          195
         ],
         "y": [
          80,
          80
         ],
         "z": [
          0,
          200
         ]
        },
        {
         "line": {
          "color": "black",
          "width": 2
         },
         "mode": "lines",
         "type": "scatter3d",
         "x": [
          195,
          255
         ],
         "y": [
          0,
          0
         ],
         "z": [
          200,
          200
         ]
        },
        {
         "line": {
          "color": "black",
          "width": 2
         },
         "mode": "lines",
         "type": "scatter3d",
         "x": [
          195,
          255
         ],
         "y": [
          0,
          80
         ],
         "z": [
          200,
          200
         ]
        },
        {
         "line": {
          "color": "black",
          "width": 2
         },
         "mode": "lines",
         "type": "scatter3d",
         "x": [
          255,
          195
         ],
         "y": [
          0,
          80
         ],
         "z": [
          200,
          200
         ]
        },
        {
         "line": {
          "color": "black",
          "width": 2
         },
         "mode": "lines",
         "type": "scatter3d",
         "x": [
          255,
          195
         ],
         "y": [
          80,
          80
         ],
         "z": [
          200,
          200
         ]
        },
        {
         "color": "#842B00",
         "flatshading": true,
         "i": [
          1,
          2,
          5,
          6,
          1,
          4,
          3,
          6,
          1,
          7,
          0,
          6
         ],
         "j": [
          0,
          3,
          4,
          7,
          0,
          5,
          2,
          7,
          3,
          5,
          2,
          4
         ],
         "k": [
          2,
          1,
          6,
          5,
          4,
          1,
          6,
          3,
          7,
          1,
          6,
          0
         ],
         "opacity": 0.2,
         "type": "mesh3d",
         "x": [
          255,
          315,
          315,
          255,
          255,
          315,
          315,
          255
         ],
         "y": [
          0,
          0,
          80,
          80,
          0,
          0,
          80,
          80
         ],
         "z": [
          0,
          0,
          0,
          0,
          200,
          200,
          200,
          200
         ]
        },
        {
         "line": {
          "color": "black",
          "width": 2
         },
         "mode": "lines",
         "type": "scatter3d",
         "x": [
          255,
          315
         ],
         "y": [
          0,
          0
         ],
         "z": [
          0,
          0
         ]
        },
        {
         "line": {
          "color": "black",
          "width": 2
         },
         "mode": "lines",
         "type": "scatter3d",
         "x": [
          255,
          315
         ],
         "y": [
          0,
          80
         ],
         "z": [
          0,
          0
         ]
        },
        {
         "line": {
          "color": "black",
          "width": 2
         },
         "mode": "lines",
         "type": "scatter3d",
         "x": [
          255,
          255
         ],
         "y": [
          0,
          0
         ],
         "z": [
          0,
          200
         ]
        },
        {
         "line": {
          "color": "black",
          "width": 2
         },
         "mode": "lines",
         "type": "scatter3d",
         "x": [
          315,
          255
         ],
         "y": [
          0,
          80
         ],
         "z": [
          0,
          0
         ]
        },
        {
         "line": {
          "color": "black",
          "width": 2
         },
         "mode": "lines",
         "type": "scatter3d",
         "x": [
          315,
          315
         ],
         "y": [
          0,
          0
         ],
         "z": [
          0,
          200
         ]
        },
        {
         "line": {
          "color": "black",
          "width": 2
         },
         "mode": "lines",
         "type": "scatter3d",
         "x": [
          315,
          255
         ],
         "y": [
          80,
          80
         ],
         "z": [
          0,
          0
         ]
        },
        {
         "line": {
          "color": "black",
          "width": 2
         },
         "mode": "lines",
         "type": "scatter3d",
         "x": [
          315,
          315
         ],
         "y": [
          80,
          80
         ],
         "z": [
          0,
          200
         ]
        },
        {
         "line": {
          "color": "black",
          "width": 2
         },
         "mode": "lines",
         "type": "scatter3d",
         "x": [
          255,
          255
         ],
         "y": [
          80,
          80
         ],
         "z": [
          0,
          200
         ]
        },
        {
         "line": {
          "color": "black",
          "width": 2
         },
         "mode": "lines",
         "type": "scatter3d",
         "x": [
          255,
          315
         ],
         "y": [
          0,
          0
         ],
         "z": [
          200,
          200
         ]
        },
        {
         "line": {
          "color": "black",
          "width": 2
         },
         "mode": "lines",
         "type": "scatter3d",
         "x": [
          255,
          315
         ],
         "y": [
          0,
          80
         ],
         "z": [
          200,
          200
         ]
        },
        {
         "line": {
          "color": "black",
          "width": 2
         },
         "mode": "lines",
         "type": "scatter3d",
         "x": [
          315,
          255
         ],
         "y": [
          0,
          80
         ],
         "z": [
          200,
          200
         ]
        },
        {
         "line": {
          "color": "black",
          "width": 2
         },
         "mode": "lines",
         "type": "scatter3d",
         "x": [
          315,
          255
         ],
         "y": [
          80,
          80
         ],
         "z": [
          200,
          200
         ]
        },
        {
         "color": "#842B00",
         "flatshading": true,
         "i": [
          1,
          2,
          5,
          6,
          1,
          4,
          3,
          6,
          1,
          7,
          0,
          6
         ],
         "j": [
          0,
          3,
          4,
          7,
          0,
          5,
          2,
          7,
          3,
          5,
          2,
          4
         ],
         "k": [
          2,
          1,
          6,
          5,
          4,
          1,
          6,
          3,
          7,
          1,
          6,
          0
         ],
         "opacity": 0.2,
         "type": "mesh3d",
         "x": [
          315,
          375,
          375,
          315,
          315,
          375,
          375,
          315
         ],
         "y": [
          0,
          0,
          80,
          80,
          0,
          0,
          80,
          80
         ],
         "z": [
          0,
          0,
          0,
          0,
          200,
          200,
          200,
          200
         ]
        },
        {
         "line": {
          "color": "black",
          "width": 2
         },
         "mode": "lines",
         "type": "scatter3d",
         "x": [
          315,
          375
         ],
         "y": [
          0,
          0
         ],
         "z": [
          0,
          0
         ]
        },
        {
         "line": {
          "color": "black",
          "width": 2
         },
         "mode": "lines",
         "type": "scatter3d",
         "x": [
          315,
          375
         ],
         "y": [
          0,
          80
         ],
         "z": [
          0,
          0
         ]
        },
        {
         "line": {
          "color": "black",
          "width": 2
         },
         "mode": "lines",
         "type": "scatter3d",
         "x": [
          315,
          315
         ],
         "y": [
          0,
          0
         ],
         "z": [
          0,
          200
         ]
        },
        {
         "line": {
          "color": "black",
          "width": 2
         },
         "mode": "lines",
         "type": "scatter3d",
         "x": [
          375,
          315
         ],
         "y": [
          0,
          80
         ],
         "z": [
          0,
          0
         ]
        },
        {
         "line": {
          "color": "black",
          "width": 2
         },
         "mode": "lines",
         "type": "scatter3d",
         "x": [
          375,
          375
         ],
         "y": [
          0,
          0
         ],
         "z": [
          0,
          200
         ]
        },
        {
         "line": {
          "color": "black",
          "width": 2
         },
         "mode": "lines",
         "type": "scatter3d",
         "x": [
          375,
          315
         ],
         "y": [
          80,
          80
         ],
         "z": [
          0,
          0
         ]
        },
        {
         "line": {
          "color": "black",
          "width": 2
         },
         "mode": "lines",
         "type": "scatter3d",
         "x": [
          375,
          375
         ],
         "y": [
          80,
          80
         ],
         "z": [
          0,
          200
         ]
        },
        {
         "line": {
          "color": "black",
          "width": 2
         },
         "mode": "lines",
         "type": "scatter3d",
         "x": [
          315,
          315
         ],
         "y": [
          80,
          80
         ],
         "z": [
          0,
          200
         ]
        },
        {
         "line": {
          "color": "black",
          "width": 2
         },
         "mode": "lines",
         "type": "scatter3d",
         "x": [
          315,
          375
         ],
         "y": [
          0,
          0
         ],
         "z": [
          200,
          200
         ]
        },
        {
         "line": {
          "color": "black",
          "width": 2
         },
         "mode": "lines",
         "type": "scatter3d",
         "x": [
          315,
          375
         ],
         "y": [
          0,
          80
         ],
         "z": [
          200,
          200
         ]
        },
        {
         "line": {
          "color": "black",
          "width": 2
         },
         "mode": "lines",
         "type": "scatter3d",
         "x": [
          375,
          315
         ],
         "y": [
          0,
          80
         ],
         "z": [
          200,
          200
         ]
        },
        {
         "line": {
          "color": "black",
          "width": 2
         },
         "mode": "lines",
         "type": "scatter3d",
         "x": [
          375,
          315
         ],
         "y": [
          80,
          80
         ],
         "z": [
          200,
          200
         ]
        },
        {
         "color": "#842B00",
         "flatshading": true,
         "i": [
          1,
          2,
          5,
          6,
          1,
          4,
          3,
          6,
          1,
          7,
          0,
          6
         ],
         "j": [
          0,
          3,
          4,
          7,
          0,
          5,
          2,
          7,
          3,
          5,
          2,
          4
         ],
         "k": [
          2,
          1,
          6,
          5,
          4,
          1,
          6,
          3,
          7,
          1,
          6,
          0
         ],
         "opacity": 0.2,
         "type": "mesh3d",
         "x": [
          375,
          435,
          435,
          375,
          375,
          435,
          435,
          375
         ],
         "y": [
          0,
          0,
          80,
          80,
          0,
          0,
          80,
          80
         ],
         "z": [
          0,
          0,
          0,
          0,
          200,
          200,
          200,
          200
         ]
        },
        {
         "line": {
          "color": "black",
          "width": 2
         },
         "mode": "lines",
         "type": "scatter3d",
         "x": [
          375,
          435
         ],
         "y": [
          0,
          0
         ],
         "z": [
          0,
          0
         ]
        },
        {
         "line": {
          "color": "black",
          "width": 2
         },
         "mode": "lines",
         "type": "scatter3d",
         "x": [
          375,
          435
         ],
         "y": [
          0,
          80
         ],
         "z": [
          0,
          0
         ]
        },
        {
         "line": {
          "color": "black",
          "width": 2
         },
         "mode": "lines",
         "type": "scatter3d",
         "x": [
          375,
          375
         ],
         "y": [
          0,
          0
         ],
         "z": [
          0,
          200
         ]
        },
        {
         "line": {
          "color": "black",
          "width": 2
         },
         "mode": "lines",
         "type": "scatter3d",
         "x": [
          435,
          375
         ],
         "y": [
          0,
          80
         ],
         "z": [
          0,
          0
         ]
        },
        {
         "line": {
          "color": "black",
          "width": 2
         },
         "mode": "lines",
         "type": "scatter3d",
         "x": [
          435,
          435
         ],
         "y": [
          0,
          0
         ],
         "z": [
          0,
          200
         ]
        },
        {
         "line": {
          "color": "black",
          "width": 2
         },
         "mode": "lines",
         "type": "scatter3d",
         "x": [
          435,
          375
         ],
         "y": [
          80,
          80
         ],
         "z": [
          0,
          0
         ]
        },
        {
         "line": {
          "color": "black",
          "width": 2
         },
         "mode": "lines",
         "type": "scatter3d",
         "x": [
          435,
          435
         ],
         "y": [
          80,
          80
         ],
         "z": [
          0,
          200
         ]
        },
        {
         "line": {
          "color": "black",
          "width": 2
         },
         "mode": "lines",
         "type": "scatter3d",
         "x": [
          375,
          375
         ],
         "y": [
          80,
          80
         ],
         "z": [
          0,
          200
         ]
        },
        {
         "line": {
          "color": "black",
          "width": 2
         },
         "mode": "lines",
         "type": "scatter3d",
         "x": [
          375,
          435
         ],
         "y": [
          0,
          0
         ],
         "z": [
          200,
          200
         ]
        },
        {
         "line": {
          "color": "black",
          "width": 2
         },
         "mode": "lines",
         "type": "scatter3d",
         "x": [
          375,
          435
         ],
         "y": [
          0,
          80
         ],
         "z": [
          200,
          200
         ]
        },
        {
         "line": {
          "color": "black",
          "width": 2
         },
         "mode": "lines",
         "type": "scatter3d",
         "x": [
          435,
          375
         ],
         "y": [
          0,
          80
         ],
         "z": [
          200,
          200
         ]
        },
        {
         "line": {
          "color": "black",
          "width": 2
         },
         "mode": "lines",
         "type": "scatter3d",
         "x": [
          435,
          375
         ],
         "y": [
          80,
          80
         ],
         "z": [
          200,
          200
         ]
        },
        {
         "color": "#842B00",
         "flatshading": true,
         "i": [
          1,
          2,
          5,
          6,
          1,
          4,
          3,
          6,
          1,
          7,
          0,
          6
         ],
         "j": [
          0,
          3,
          4,
          7,
          0,
          5,
          2,
          7,
          3,
          5,
          2,
          4
         ],
         "k": [
          2,
          1,
          6,
          5,
          4,
          1,
          6,
          3,
          7,
          1,
          6,
          0
         ],
         "opacity": 0.2,
         "type": "mesh3d",
         "x": [
          435,
          495,
          495,
          435,
          435,
          495,
          495,
          435
         ],
         "y": [
          0,
          0,
          80,
          80,
          0,
          0,
          80,
          80
         ],
         "z": [
          0,
          0,
          0,
          0,
          200,
          200,
          200,
          200
         ]
        },
        {
         "line": {
          "color": "black",
          "width": 2
         },
         "mode": "lines",
         "type": "scatter3d",
         "x": [
          435,
          495
         ],
         "y": [
          0,
          0
         ],
         "z": [
          0,
          0
         ]
        },
        {
         "line": {
          "color": "black",
          "width": 2
         },
         "mode": "lines",
         "type": "scatter3d",
         "x": [
          435,
          495
         ],
         "y": [
          0,
          80
         ],
         "z": [
          0,
          0
         ]
        },
        {
         "line": {
          "color": "black",
          "width": 2
         },
         "mode": "lines",
         "type": "scatter3d",
         "x": [
          435,
          435
         ],
         "y": [
          0,
          0
         ],
         "z": [
          0,
          200
         ]
        },
        {
         "line": {
          "color": "black",
          "width": 2
         },
         "mode": "lines",
         "type": "scatter3d",
         "x": [
          495,
          435
         ],
         "y": [
          0,
          80
         ],
         "z": [
          0,
          0
         ]
        },
        {
         "line": {
          "color": "black",
          "width": 2
         },
         "mode": "lines",
         "type": "scatter3d",
         "x": [
          495,
          495
         ],
         "y": [
          0,
          0
         ],
         "z": [
          0,
          200
         ]
        },
        {
         "line": {
          "color": "black",
          "width": 2
         },
         "mode": "lines",
         "type": "scatter3d",
         "x": [
          495,
          435
         ],
         "y": [
          80,
          80
         ],
         "z": [
          0,
          0
         ]
        },
        {
         "line": {
          "color": "black",
          "width": 2
         },
         "mode": "lines",
         "type": "scatter3d",
         "x": [
          495,
          495
         ],
         "y": [
          80,
          80
         ],
         "z": [
          0,
          200
         ]
        },
        {
         "line": {
          "color": "black",
          "width": 2
         },
         "mode": "lines",
         "type": "scatter3d",
         "x": [
          435,
          435
         ],
         "y": [
          80,
          80
         ],
         "z": [
          0,
          200
         ]
        },
        {
         "line": {
          "color": "black",
          "width": 2
         },
         "mode": "lines",
         "type": "scatter3d",
         "x": [
          435,
          495
         ],
         "y": [
          0,
          0
         ],
         "z": [
          200,
          200
         ]
        },
        {
         "line": {
          "color": "black",
          "width": 2
         },
         "mode": "lines",
         "type": "scatter3d",
         "x": [
          435,
          495
         ],
         "y": [
          0,
          80
         ],
         "z": [
          200,
          200
         ]
        },
        {
         "line": {
          "color": "black",
          "width": 2
         },
         "mode": "lines",
         "type": "scatter3d",
         "x": [
          495,
          435
         ],
         "y": [
          0,
          80
         ],
         "z": [
          200,
          200
         ]
        },
        {
         "line": {
          "color": "black",
          "width": 2
         },
         "mode": "lines",
         "type": "scatter3d",
         "x": [
          495,
          435
         ],
         "y": [
          80,
          80
         ],
         "z": [
          200,
          200
         ]
        },
        {
         "color": "#842B00",
         "flatshading": true,
         "i": [
          1,
          2,
          5,
          6,
          1,
          4,
          3,
          6,
          1,
          7,
          0,
          6
         ],
         "j": [
          0,
          3,
          4,
          7,
          0,
          5,
          2,
          7,
          3,
          5,
          2,
          4
         ],
         "k": [
          2,
          1,
          6,
          5,
          4,
          1,
          6,
          3,
          7,
          1,
          6,
          0
         ],
         "opacity": 0.2,
         "type": "mesh3d",
         "x": [
          495,
          555,
          555,
          495,
          495,
          555,
          555,
          495
         ],
         "y": [
          0,
          0,
          80,
          80,
          0,
          0,
          80,
          80
         ],
         "z": [
          0,
          0,
          0,
          0,
          200,
          200,
          200,
          200
         ]
        },
        {
         "line": {
          "color": "black",
          "width": 2
         },
         "mode": "lines",
         "type": "scatter3d",
         "x": [
          495,
          555
         ],
         "y": [
          0,
          0
         ],
         "z": [
          0,
          0
         ]
        },
        {
         "line": {
          "color": "black",
          "width": 2
         },
         "mode": "lines",
         "type": "scatter3d",
         "x": [
          495,
          555
         ],
         "y": [
          0,
          80
         ],
         "z": [
          0,
          0
         ]
        },
        {
         "line": {
          "color": "black",
          "width": 2
         },
         "mode": "lines",
         "type": "scatter3d",
         "x": [
          495,
          495
         ],
         "y": [
          0,
          0
         ],
         "z": [
          0,
          200
         ]
        },
        {
         "line": {
          "color": "black",
          "width": 2
         },
         "mode": "lines",
         "type": "scatter3d",
         "x": [
          555,
          495
         ],
         "y": [
          0,
          80
         ],
         "z": [
          0,
          0
         ]
        },
        {
         "line": {
          "color": "black",
          "width": 2
         },
         "mode": "lines",
         "type": "scatter3d",
         "x": [
          555,
          555
         ],
         "y": [
          0,
          0
         ],
         "z": [
          0,
          200
         ]
        },
        {
         "line": {
          "color": "black",
          "width": 2
         },
         "mode": "lines",
         "type": "scatter3d",
         "x": [
          555,
          495
         ],
         "y": [
          80,
          80
         ],
         "z": [
          0,
          0
         ]
        },
        {
         "line": {
          "color": "black",
          "width": 2
         },
         "mode": "lines",
         "type": "scatter3d",
         "x": [
          555,
          555
         ],
         "y": [
          80,
          80
         ],
         "z": [
          0,
          200
         ]
        },
        {
         "line": {
          "color": "black",
          "width": 2
         },
         "mode": "lines",
         "type": "scatter3d",
         "x": [
          495,
          495
         ],
         "y": [
          80,
          80
         ],
         "z": [
          0,
          200
         ]
        },
        {
         "line": {
          "color": "black",
          "width": 2
         },
         "mode": "lines",
         "type": "scatter3d",
         "x": [
          495,
          555
         ],
         "y": [
          0,
          0
         ],
         "z": [
          200,
          200
         ]
        },
        {
         "line": {
          "color": "black",
          "width": 2
         },
         "mode": "lines",
         "type": "scatter3d",
         "x": [
          495,
          555
         ],
         "y": [
          0,
          80
         ],
         "z": [
          200,
          200
         ]
        },
        {
         "line": {
          "color": "black",
          "width": 2
         },
         "mode": "lines",
         "type": "scatter3d",
         "x": [
          555,
          495
         ],
         "y": [
          0,
          80
         ],
         "z": [
          200,
          200
         ]
        },
        {
         "line": {
          "color": "black",
          "width": 2
         },
         "mode": "lines",
         "type": "scatter3d",
         "x": [
          555,
          495
         ],
         "y": [
          80,
          80
         ],
         "z": [
          200,
          200
         ]
        },
        {
         "color": "#842B00",
         "flatshading": true,
         "i": [
          1,
          2,
          5,
          6,
          1,
          4,
          3,
          6,
          1,
          7,
          0,
          6
         ],
         "j": [
          0,
          3,
          4,
          7,
          0,
          5,
          2,
          7,
          3,
          5,
          2,
          4
         ],
         "k": [
          2,
          1,
          6,
          5,
          4,
          1,
          6,
          3,
          7,
          1,
          6,
          0
         ],
         "opacity": 0.2,
         "type": "mesh3d",
         "x": [
          0,
          60,
          60,
          0,
          0,
          60,
          60,
          0
         ],
         "y": [
          80,
          80,
          160,
          160,
          80,
          80,
          160,
          160
         ],
         "z": [
          0,
          0,
          0,
          0,
          200,
          200,
          200,
          200
         ]
        },
        {
         "line": {
          "color": "black",
          "width": 2
         },
         "mode": "lines",
         "type": "scatter3d",
         "x": [
          0,
          60
         ],
         "y": [
          80,
          80
         ],
         "z": [
          0,
          0
         ]
        },
        {
         "line": {
          "color": "black",
          "width": 2
         },
         "mode": "lines",
         "type": "scatter3d",
         "x": [
          0,
          60
         ],
         "y": [
          80,
          160
         ],
         "z": [
          0,
          0
         ]
        },
        {
         "line": {
          "color": "black",
          "width": 2
         },
         "mode": "lines",
         "type": "scatter3d",
         "x": [
          0,
          0
         ],
         "y": [
          80,
          80
         ],
         "z": [
          0,
          200
         ]
        },
        {
         "line": {
          "color": "black",
          "width": 2
         },
         "mode": "lines",
         "type": "scatter3d",
         "x": [
          60,
          0
         ],
         "y": [
          80,
          160
         ],
         "z": [
          0,
          0
         ]
        },
        {
         "line": {
          "color": "black",
          "width": 2
         },
         "mode": "lines",
         "type": "scatter3d",
         "x": [
          60,
          60
         ],
         "y": [
          80,
          80
         ],
         "z": [
          0,
          200
         ]
        },
        {
         "line": {
          "color": "black",
          "width": 2
         },
         "mode": "lines",
         "type": "scatter3d",
         "x": [
          60,
          0
         ],
         "y": [
          160,
          160
         ],
         "z": [
          0,
          0
         ]
        },
        {
         "line": {
          "color": "black",
          "width": 2
         },
         "mode": "lines",
         "type": "scatter3d",
         "x": [
          60,
          60
         ],
         "y": [
          160,
          160
         ],
         "z": [
          0,
          200
         ]
        },
        {
         "line": {
          "color": "black",
          "width": 2
         },
         "mode": "lines",
         "type": "scatter3d",
         "x": [
          0,
          0
         ],
         "y": [
          160,
          160
         ],
         "z": [
          0,
          200
         ]
        },
        {
         "line": {
          "color": "black",
          "width": 2
         },
         "mode": "lines",
         "type": "scatter3d",
         "x": [
          0,
          60
         ],
         "y": [
          80,
          80
         ],
         "z": [
          200,
          200
         ]
        },
        {
         "line": {
          "color": "black",
          "width": 2
         },
         "mode": "lines",
         "type": "scatter3d",
         "x": [
          0,
          60
         ],
         "y": [
          80,
          160
         ],
         "z": [
          200,
          200
         ]
        },
        {
         "line": {
          "color": "black",
          "width": 2
         },
         "mode": "lines",
         "type": "scatter3d",
         "x": [
          60,
          0
         ],
         "y": [
          80,
          160
         ],
         "z": [
          200,
          200
         ]
        },
        {
         "line": {
          "color": "black",
          "width": 2
         },
         "mode": "lines",
         "type": "scatter3d",
         "x": [
          60,
          0
         ],
         "y": [
          160,
          160
         ],
         "z": [
          200,
          200
         ]
        },
        {
         "color": "#842B00",
         "flatshading": true,
         "i": [
          1,
          2,
          5,
          6,
          1,
          4,
          3,
          6,
          1,
          7,
          0,
          6
         ],
         "j": [
          0,
          3,
          4,
          7,
          0,
          5,
          2,
          7,
          3,
          5,
          2,
          4
         ],
         "k": [
          2,
          1,
          6,
          5,
          4,
          1,
          6,
          3,
          7,
          1,
          6,
          0
         ],
         "opacity": 0.2,
         "type": "mesh3d",
         "x": [
          60,
          120,
          120,
          60,
          60,
          120,
          120,
          60
         ],
         "y": [
          80,
          80,
          160,
          160,
          80,
          80,
          160,
          160
         ],
         "z": [
          0,
          0,
          0,
          0,
          200,
          200,
          200,
          200
         ]
        },
        {
         "line": {
          "color": "black",
          "width": 2
         },
         "mode": "lines",
         "type": "scatter3d",
         "x": [
          60,
          120
         ],
         "y": [
          80,
          80
         ],
         "z": [
          0,
          0
         ]
        },
        {
         "line": {
          "color": "black",
          "width": 2
         },
         "mode": "lines",
         "type": "scatter3d",
         "x": [
          60,
          120
         ],
         "y": [
          80,
          160
         ],
         "z": [
          0,
          0
         ]
        },
        {
         "line": {
          "color": "black",
          "width": 2
         },
         "mode": "lines",
         "type": "scatter3d",
         "x": [
          60,
          60
         ],
         "y": [
          80,
          80
         ],
         "z": [
          0,
          200
         ]
        },
        {
         "line": {
          "color": "black",
          "width": 2
         },
         "mode": "lines",
         "type": "scatter3d",
         "x": [
          120,
          60
         ],
         "y": [
          80,
          160
         ],
         "z": [
          0,
          0
         ]
        },
        {
         "line": {
          "color": "black",
          "width": 2
         },
         "mode": "lines",
         "type": "scatter3d",
         "x": [
          120,
          120
         ],
         "y": [
          80,
          80
         ],
         "z": [
          0,
          200
         ]
        },
        {
         "line": {
          "color": "black",
          "width": 2
         },
         "mode": "lines",
         "type": "scatter3d",
         "x": [
          120,
          60
         ],
         "y": [
          160,
          160
         ],
         "z": [
          0,
          0
         ]
        },
        {
         "line": {
          "color": "black",
          "width": 2
         },
         "mode": "lines",
         "type": "scatter3d",
         "x": [
          120,
          120
         ],
         "y": [
          160,
          160
         ],
         "z": [
          0,
          200
         ]
        },
        {
         "line": {
          "color": "black",
          "width": 2
         },
         "mode": "lines",
         "type": "scatter3d",
         "x": [
          60,
          60
         ],
         "y": [
          160,
          160
         ],
         "z": [
          0,
          200
         ]
        },
        {
         "line": {
          "color": "black",
          "width": 2
         },
         "mode": "lines",
         "type": "scatter3d",
         "x": [
          60,
          120
         ],
         "y": [
          80,
          80
         ],
         "z": [
          200,
          200
         ]
        },
        {
         "line": {
          "color": "black",
          "width": 2
         },
         "mode": "lines",
         "type": "scatter3d",
         "x": [
          60,
          120
         ],
         "y": [
          80,
          160
         ],
         "z": [
          200,
          200
         ]
        },
        {
         "line": {
          "color": "black",
          "width": 2
         },
         "mode": "lines",
         "type": "scatter3d",
         "x": [
          120,
          60
         ],
         "y": [
          80,
          160
         ],
         "z": [
          200,
          200
         ]
        },
        {
         "line": {
          "color": "black",
          "width": 2
         },
         "mode": "lines",
         "type": "scatter3d",
         "x": [
          120,
          60
         ],
         "y": [
          160,
          160
         ],
         "z": [
          200,
          200
         ]
        },
        {
         "color": "#842B00",
         "flatshading": true,
         "i": [
          1,
          2,
          5,
          6,
          1,
          4,
          3,
          6,
          1,
          7,
          0,
          6
         ],
         "j": [
          0,
          3,
          4,
          7,
          0,
          5,
          2,
          7,
          3,
          5,
          2,
          4
         ],
         "k": [
          2,
          1,
          6,
          5,
          4,
          1,
          6,
          3,
          7,
          1,
          6,
          0
         ],
         "opacity": 0.2,
         "type": "mesh3d",
         "x": [
          120,
          180,
          180,
          120,
          120,
          180,
          180,
          120
         ],
         "y": [
          80,
          80,
          160,
          160,
          80,
          80,
          160,
          160
         ],
         "z": [
          0,
          0,
          0,
          0,
          200,
          200,
          200,
          200
         ]
        },
        {
         "line": {
          "color": "black",
          "width": 2
         },
         "mode": "lines",
         "type": "scatter3d",
         "x": [
          120,
          180
         ],
         "y": [
          80,
          80
         ],
         "z": [
          0,
          0
         ]
        },
        {
         "line": {
          "color": "black",
          "width": 2
         },
         "mode": "lines",
         "type": "scatter3d",
         "x": [
          120,
          180
         ],
         "y": [
          80,
          160
         ],
         "z": [
          0,
          0
         ]
        },
        {
         "line": {
          "color": "black",
          "width": 2
         },
         "mode": "lines",
         "type": "scatter3d",
         "x": [
          120,
          120
         ],
         "y": [
          80,
          80
         ],
         "z": [
          0,
          200
         ]
        },
        {
         "line": {
          "color": "black",
          "width": 2
         },
         "mode": "lines",
         "type": "scatter3d",
         "x": [
          180,
          120
         ],
         "y": [
          80,
          160
         ],
         "z": [
          0,
          0
         ]
        },
        {
         "line": {
          "color": "black",
          "width": 2
         },
         "mode": "lines",
         "type": "scatter3d",
         "x": [
          180,
          180
         ],
         "y": [
          80,
          80
         ],
         "z": [
          0,
          200
         ]
        },
        {
         "line": {
          "color": "black",
          "width": 2
         },
         "mode": "lines",
         "type": "scatter3d",
         "x": [
          180,
          120
         ],
         "y": [
          160,
          160
         ],
         "z": [
          0,
          0
         ]
        },
        {
         "line": {
          "color": "black",
          "width": 2
         },
         "mode": "lines",
         "type": "scatter3d",
         "x": [
          180,
          180
         ],
         "y": [
          160,
          160
         ],
         "z": [
          0,
          200
         ]
        },
        {
         "line": {
          "color": "black",
          "width": 2
         },
         "mode": "lines",
         "type": "scatter3d",
         "x": [
          120,
          120
         ],
         "y": [
          160,
          160
         ],
         "z": [
          0,
          200
         ]
        },
        {
         "line": {
          "color": "black",
          "width": 2
         },
         "mode": "lines",
         "type": "scatter3d",
         "x": [
          120,
          180
         ],
         "y": [
          80,
          80
         ],
         "z": [
          200,
          200
         ]
        },
        {
         "line": {
          "color": "black",
          "width": 2
         },
         "mode": "lines",
         "type": "scatter3d",
         "x": [
          120,
          180
         ],
         "y": [
          80,
          160
         ],
         "z": [
          200,
          200
         ]
        },
        {
         "line": {
          "color": "black",
          "width": 2
         },
         "mode": "lines",
         "type": "scatter3d",
         "x": [
          180,
          120
         ],
         "y": [
          80,
          160
         ],
         "z": [
          200,
          200
         ]
        },
        {
         "line": {
          "color": "black",
          "width": 2
         },
         "mode": "lines",
         "type": "scatter3d",
         "x": [
          180,
          120
         ],
         "y": [
          160,
          160
         ],
         "z": [
          200,
          200
         ]
        },
        {
         "color": "#842B00",
         "flatshading": true,
         "i": [
          1,
          2,
          5,
          6,
          1,
          4,
          3,
          6,
          1,
          7,
          0,
          6
         ],
         "j": [
          0,
          3,
          4,
          7,
          0,
          5,
          2,
          7,
          3,
          5,
          2,
          4
         ],
         "k": [
          2,
          1,
          6,
          5,
          4,
          1,
          6,
          3,
          7,
          1,
          6,
          0
         ],
         "opacity": 0.2,
         "type": "mesh3d",
         "x": [
          180,
          240,
          240,
          180,
          180,
          240,
          240,
          180
         ],
         "y": [
          80,
          80,
          160,
          160,
          80,
          80,
          160,
          160
         ],
         "z": [
          0,
          0,
          0,
          0,
          200,
          200,
          200,
          200
         ]
        },
        {
         "line": {
          "color": "black",
          "width": 2
         },
         "mode": "lines",
         "type": "scatter3d",
         "x": [
          180,
          240
         ],
         "y": [
          80,
          80
         ],
         "z": [
          0,
          0
         ]
        },
        {
         "line": {
          "color": "black",
          "width": 2
         },
         "mode": "lines",
         "type": "scatter3d",
         "x": [
          180,
          240
         ],
         "y": [
          80,
          160
         ],
         "z": [
          0,
          0
         ]
        },
        {
         "line": {
          "color": "black",
          "width": 2
         },
         "mode": "lines",
         "type": "scatter3d",
         "x": [
          180,
          180
         ],
         "y": [
          80,
          80
         ],
         "z": [
          0,
          200
         ]
        },
        {
         "line": {
          "color": "black",
          "width": 2
         },
         "mode": "lines",
         "type": "scatter3d",
         "x": [
          240,
          180
         ],
         "y": [
          80,
          160
         ],
         "z": [
          0,
          0
         ]
        },
        {
         "line": {
          "color": "black",
          "width": 2
         },
         "mode": "lines",
         "type": "scatter3d",
         "x": [
          240,
          240
         ],
         "y": [
          80,
          80
         ],
         "z": [
          0,
          200
         ]
        },
        {
         "line": {
          "color": "black",
          "width": 2
         },
         "mode": "lines",
         "type": "scatter3d",
         "x": [
          240,
          180
         ],
         "y": [
          160,
          160
         ],
         "z": [
          0,
          0
         ]
        },
        {
         "line": {
          "color": "black",
          "width": 2
         },
         "mode": "lines",
         "type": "scatter3d",
         "x": [
          240,
          240
         ],
         "y": [
          160,
          160
         ],
         "z": [
          0,
          200
         ]
        },
        {
         "line": {
          "color": "black",
          "width": 2
         },
         "mode": "lines",
         "type": "scatter3d",
         "x": [
          180,
          180
         ],
         "y": [
          160,
          160
         ],
         "z": [
          0,
          200
         ]
        },
        {
         "line": {
          "color": "black",
          "width": 2
         },
         "mode": "lines",
         "type": "scatter3d",
         "x": [
          180,
          240
         ],
         "y": [
          80,
          80
         ],
         "z": [
          200,
          200
         ]
        },
        {
         "line": {
          "color": "black",
          "width": 2
         },
         "mode": "lines",
         "type": "scatter3d",
         "x": [
          180,
          240
         ],
         "y": [
          80,
          160
         ],
         "z": [
          200,
          200
         ]
        },
        {
         "line": {
          "color": "black",
          "width": 2
         },
         "mode": "lines",
         "type": "scatter3d",
         "x": [
          240,
          180
         ],
         "y": [
          80,
          160
         ],
         "z": [
          200,
          200
         ]
        },
        {
         "line": {
          "color": "black",
          "width": 2
         },
         "mode": "lines",
         "type": "scatter3d",
         "x": [
          240,
          180
         ],
         "y": [
          160,
          160
         ],
         "z": [
          200,
          200
         ]
        },
        {
         "color": "#842B00",
         "flatshading": true,
         "i": [
          1,
          2,
          5,
          6,
          1,
          4,
          3,
          6,
          1,
          7,
          0,
          6
         ],
         "j": [
          0,
          3,
          4,
          7,
          0,
          5,
          2,
          7,
          3,
          5,
          2,
          4
         ],
         "k": [
          2,
          1,
          6,
          5,
          4,
          1,
          6,
          3,
          7,
          1,
          6,
          0
         ],
         "opacity": 0.2,
         "type": "mesh3d",
         "x": [
          240,
          300,
          300,
          240,
          240,
          300,
          300,
          240
         ],
         "y": [
          80,
          80,
          160,
          160,
          80,
          80,
          160,
          160
         ],
         "z": [
          0,
          0,
          0,
          0,
          200,
          200,
          200,
          200
         ]
        },
        {
         "line": {
          "color": "black",
          "width": 2
         },
         "mode": "lines",
         "type": "scatter3d",
         "x": [
          240,
          300
         ],
         "y": [
          80,
          80
         ],
         "z": [
          0,
          0
         ]
        },
        {
         "line": {
          "color": "black",
          "width": 2
         },
         "mode": "lines",
         "type": "scatter3d",
         "x": [
          240,
          300
         ],
         "y": [
          80,
          160
         ],
         "z": [
          0,
          0
         ]
        },
        {
         "line": {
          "color": "black",
          "width": 2
         },
         "mode": "lines",
         "type": "scatter3d",
         "x": [
          240,
          240
         ],
         "y": [
          80,
          80
         ],
         "z": [
          0,
          200
         ]
        },
        {
         "line": {
          "color": "black",
          "width": 2
         },
         "mode": "lines",
         "type": "scatter3d",
         "x": [
          300,
          240
         ],
         "y": [
          80,
          160
         ],
         "z": [
          0,
          0
         ]
        },
        {
         "line": {
          "color": "black",
          "width": 2
         },
         "mode": "lines",
         "type": "scatter3d",
         "x": [
          300,
          300
         ],
         "y": [
          80,
          80
         ],
         "z": [
          0,
          200
         ]
        },
        {
         "line": {
          "color": "black",
          "width": 2
         },
         "mode": "lines",
         "type": "scatter3d",
         "x": [
          300,
          240
         ],
         "y": [
          160,
          160
         ],
         "z": [
          0,
          0
         ]
        },
        {
         "line": {
          "color": "black",
          "width": 2
         },
         "mode": "lines",
         "type": "scatter3d",
         "x": [
          300,
          300
         ],
         "y": [
          160,
          160
         ],
         "z": [
          0,
          200
         ]
        },
        {
         "line": {
          "color": "black",
          "width": 2
         },
         "mode": "lines",
         "type": "scatter3d",
         "x": [
          240,
          240
         ],
         "y": [
          160,
          160
         ],
         "z": [
          0,
          200
         ]
        },
        {
         "line": {
          "color": "black",
          "width": 2
         },
         "mode": "lines",
         "type": "scatter3d",
         "x": [
          240,
          300
         ],
         "y": [
          80,
          80
         ],
         "z": [
          200,
          200
         ]
        },
        {
         "line": {
          "color": "black",
          "width": 2
         },
         "mode": "lines",
         "type": "scatter3d",
         "x": [
          240,
          300
         ],
         "y": [
          80,
          160
         ],
         "z": [
          200,
          200
         ]
        },
        {
         "line": {
          "color": "black",
          "width": 2
         },
         "mode": "lines",
         "type": "scatter3d",
         "x": [
          300,
          240
         ],
         "y": [
          80,
          160
         ],
         "z": [
          200,
          200
         ]
        },
        {
         "line": {
          "color": "black",
          "width": 2
         },
         "mode": "lines",
         "type": "scatter3d",
         "x": [
          300,
          240
         ],
         "y": [
          160,
          160
         ],
         "z": [
          200,
          200
         ]
        },
        {
         "color": "#842B00",
         "flatshading": true,
         "i": [
          1,
          2,
          5,
          6,
          1,
          4,
          3,
          6,
          1,
          7,
          0,
          6
         ],
         "j": [
          0,
          3,
          4,
          7,
          0,
          5,
          2,
          7,
          3,
          5,
          2,
          4
         ],
         "k": [
          2,
          1,
          6,
          5,
          4,
          1,
          6,
          3,
          7,
          1,
          6,
          0
         ],
         "opacity": 0.2,
         "type": "mesh3d",
         "x": [
          300,
          360,
          360,
          300,
          300,
          360,
          360,
          300
         ],
         "y": [
          80,
          80,
          160,
          160,
          80,
          80,
          160,
          160
         ],
         "z": [
          0,
          0,
          0,
          0,
          200,
          200,
          200,
          200
         ]
        },
        {
         "line": {
          "color": "black",
          "width": 2
         },
         "mode": "lines",
         "type": "scatter3d",
         "x": [
          300,
          360
         ],
         "y": [
          80,
          80
         ],
         "z": [
          0,
          0
         ]
        },
        {
         "line": {
          "color": "black",
          "width": 2
         },
         "mode": "lines",
         "type": "scatter3d",
         "x": [
          300,
          360
         ],
         "y": [
          80,
          160
         ],
         "z": [
          0,
          0
         ]
        },
        {
         "line": {
          "color": "black",
          "width": 2
         },
         "mode": "lines",
         "type": "scatter3d",
         "x": [
          300,
          300
         ],
         "y": [
          80,
          80
         ],
         "z": [
          0,
          200
         ]
        },
        {
         "line": {
          "color": "black",
          "width": 2
         },
         "mode": "lines",
         "type": "scatter3d",
         "x": [
          360,
          300
         ],
         "y": [
          80,
          160
         ],
         "z": [
          0,
          0
         ]
        },
        {
         "line": {
          "color": "black",
          "width": 2
         },
         "mode": "lines",
         "type": "scatter3d",
         "x": [
          360,
          360
         ],
         "y": [
          80,
          80
         ],
         "z": [
          0,
          200
         ]
        },
        {
         "line": {
          "color": "black",
          "width": 2
         },
         "mode": "lines",
         "type": "scatter3d",
         "x": [
          360,
          300
         ],
         "y": [
          160,
          160
         ],
         "z": [
          0,
          0
         ]
        },
        {
         "line": {
          "color": "black",
          "width": 2
         },
         "mode": "lines",
         "type": "scatter3d",
         "x": [
          360,
          360
         ],
         "y": [
          160,
          160
         ],
         "z": [
          0,
          200
         ]
        },
        {
         "line": {
          "color": "black",
          "width": 2
         },
         "mode": "lines",
         "type": "scatter3d",
         "x": [
          300,
          300
         ],
         "y": [
          160,
          160
         ],
         "z": [
          0,
          200
         ]
        },
        {
         "line": {
          "color": "black",
          "width": 2
         },
         "mode": "lines",
         "type": "scatter3d",
         "x": [
          300,
          360
         ],
         "y": [
          80,
          80
         ],
         "z": [
          200,
          200
         ]
        },
        {
         "line": {
          "color": "black",
          "width": 2
         },
         "mode": "lines",
         "type": "scatter3d",
         "x": [
          300,
          360
         ],
         "y": [
          80,
          160
         ],
         "z": [
          200,
          200
         ]
        },
        {
         "line": {
          "color": "black",
          "width": 2
         },
         "mode": "lines",
         "type": "scatter3d",
         "x": [
          360,
          300
         ],
         "y": [
          80,
          160
         ],
         "z": [
          200,
          200
         ]
        },
        {
         "line": {
          "color": "black",
          "width": 2
         },
         "mode": "lines",
         "type": "scatter3d",
         "x": [
          360,
          300
         ],
         "y": [
          160,
          160
         ],
         "z": [
          200,
          200
         ]
        },
        {
         "color": "#FF0000",
         "flatshading": true,
         "i": [
          1,
          2,
          5,
          6,
          1,
          4,
          3,
          6,
          1,
          7,
          0,
          6
         ],
         "j": [
          0,
          3,
          4,
          7,
          0,
          5,
          2,
          7,
          3,
          5,
          2,
          4
         ],
         "k": [
          2,
          1,
          6,
          5,
          4,
          1,
          6,
          3,
          7,
          1,
          6,
          0
         ],
         "opacity": 0.2,
         "type": "mesh3d",
         "x": [
          360,
          530,
          530,
          360,
          360,
          530,
          530,
          360
         ],
         "y": [
          80,
          80,
          162,
          162,
          80,
          80,
          162,
          162
         ],
         "z": [
          0,
          0,
          0,
          0,
          46,
          46,
          46,
          46
         ]
        },
        {
         "line": {
          "color": "black",
          "width": 2
         },
         "mode": "lines",
         "type": "scatter3d",
         "x": [
          360,
          530
         ],
         "y": [
          80,
          80
         ],
         "z": [
          0,
          0
         ]
        },
        {
         "line": {
          "color": "black",
          "width": 2
         },
         "mode": "lines",
         "type": "scatter3d",
         "x": [
          360,
          530
         ],
         "y": [
          80,
          162
         ],
         "z": [
          0,
          0
         ]
        },
        {
         "line": {
          "color": "black",
          "width": 2
         },
         "mode": "lines",
         "type": "scatter3d",
         "x": [
          360,
          360
         ],
         "y": [
          80,
          80
         ],
         "z": [
          0,
          46
         ]
        },
        {
         "line": {
          "color": "black",
          "width": 2
         },
         "mode": "lines",
         "type": "scatter3d",
         "x": [
          530,
          360
         ],
         "y": [
          80,
          162
         ],
         "z": [
          0,
          0
         ]
        },
        {
         "line": {
          "color": "black",
          "width": 2
         },
         "mode": "lines",
         "type": "scatter3d",
         "x": [
          530,
          530
         ],
         "y": [
          80,
          80
         ],
         "z": [
          0,
          46
         ]
        },
        {
         "line": {
          "color": "black",
          "width": 2
         },
         "mode": "lines",
         "type": "scatter3d",
         "x": [
          530,
          360
         ],
         "y": [
          162,
          162
         ],
         "z": [
          0,
          0
         ]
        },
        {
         "line": {
          "color": "black",
          "width": 2
         },
         "mode": "lines",
         "type": "scatter3d",
         "x": [
          530,
          530
         ],
         "y": [
          162,
          162
         ],
         "z": [
          0,
          46
         ]
        },
        {
         "line": {
          "color": "black",
          "width": 2
         },
         "mode": "lines",
         "type": "scatter3d",
         "x": [
          360,
          360
         ],
         "y": [
          162,
          162
         ],
         "z": [
          0,
          46
         ]
        },
        {
         "line": {
          "color": "black",
          "width": 2
         },
         "mode": "lines",
         "type": "scatter3d",
         "x": [
          360,
          530
         ],
         "y": [
          80,
          80
         ],
         "z": [
          46,
          46
         ]
        },
        {
         "line": {
          "color": "black",
          "width": 2
         },
         "mode": "lines",
         "type": "scatter3d",
         "x": [
          360,
          530
         ],
         "y": [
          80,
          162
         ],
         "z": [
          46,
          46
         ]
        },
        {
         "line": {
          "color": "black",
          "width": 2
         },
         "mode": "lines",
         "type": "scatter3d",
         "x": [
          530,
          360
         ],
         "y": [
          80,
          162
         ],
         "z": [
          46,
          46
         ]
        },
        {
         "line": {
          "color": "black",
          "width": 2
         },
         "mode": "lines",
         "type": "scatter3d",
         "x": [
          530,
          360
         ],
         "y": [
          162,
          162
         ],
         "z": [
          46,
          46
         ]
        },
        {
         "color": "#FF0000",
         "flatshading": true,
         "i": [
          1,
          2,
          5,
          6,
          1,
          4,
          3,
          6,
          1,
          7,
          0,
          6
         ],
         "j": [
          0,
          3,
          4,
          7,
          0,
          5,
          2,
          7,
          3,
          5,
          2,
          4
         ],
         "k": [
          2,
          1,
          6,
          5,
          4,
          1,
          6,
          3,
          7,
          1,
          6,
          0
         ],
         "opacity": 0.2,
         "type": "mesh3d",
         "x": [
          530,
          576,
          576,
          530,
          530,
          576,
          576,
          530
         ],
         "y": [
          80,
          80,
          162,
          162,
          80,
          80,
          162,
          162
         ],
         "z": [
          0,
          0,
          0,
          0,
          170,
          170,
          170,
          170
         ]
        },
        {
         "line": {
          "color": "black",
          "width": 2
         },
         "mode": "lines",
         "type": "scatter3d",
         "x": [
          530,
          576
         ],
         "y": [
          80,
          80
         ],
         "z": [
          0,
          0
         ]
        },
        {
         "line": {
          "color": "black",
          "width": 2
         },
         "mode": "lines",
         "type": "scatter3d",
         "x": [
          530,
          576
         ],
         "y": [
          80,
          162
         ],
         "z": [
          0,
          0
         ]
        },
        {
         "line": {
          "color": "black",
          "width": 2
         },
         "mode": "lines",
         "type": "scatter3d",
         "x": [
          530,
          530
         ],
         "y": [
          80,
          80
         ],
         "z": [
          0,
          170
         ]
        },
        {
         "line": {
          "color": "black",
          "width": 2
         },
         "mode": "lines",
         "type": "scatter3d",
         "x": [
          576,
          530
         ],
         "y": [
          80,
          162
         ],
         "z": [
          0,
          0
         ]
        },
        {
         "line": {
          "color": "black",
          "width": 2
         },
         "mode": "lines",
         "type": "scatter3d",
         "x": [
          576,
          576
         ],
         "y": [
          80,
          80
         ],
         "z": [
          0,
          170
         ]
        },
        {
         "line": {
          "color": "black",
          "width": 2
         },
         "mode": "lines",
         "type": "scatter3d",
         "x": [
          576,
          530
         ],
         "y": [
          162,
          162
         ],
         "z": [
          0,
          0
         ]
        },
        {
         "line": {
          "color": "black",
          "width": 2
         },
         "mode": "lines",
         "type": "scatter3d",
         "x": [
          576,
          576
         ],
         "y": [
          162,
          162
         ],
         "z": [
          0,
          170
         ]
        },
        {
         "line": {
          "color": "black",
          "width": 2
         },
         "mode": "lines",
         "type": "scatter3d",
         "x": [
          530,
          530
         ],
         "y": [
          162,
          162
         ],
         "z": [
          0,
          170
         ]
        },
        {
         "line": {
          "color": "black",
          "width": 2
         },
         "mode": "lines",
         "type": "scatter3d",
         "x": [
          530,
          576
         ],
         "y": [
          80,
          80
         ],
         "z": [
          170,
          170
         ]
        },
        {
         "line": {
          "color": "black",
          "width": 2
         },
         "mode": "lines",
         "type": "scatter3d",
         "x": [
          530,
          576
         ],
         "y": [
          80,
          162
         ],
         "z": [
          170,
          170
         ]
        },
        {
         "line": {
          "color": "black",
          "width": 2
         },
         "mode": "lines",
         "type": "scatter3d",
         "x": [
          576,
          530
         ],
         "y": [
          80,
          162
         ],
         "z": [
          170,
          170
         ]
        },
        {
         "line": {
          "color": "black",
          "width": 2
         },
         "mode": "lines",
         "type": "scatter3d",
         "x": [
          576,
          530
         ],
         "y": [
          162,
          162
         ],
         "z": [
          170,
          170
         ]
        },
        {
         "color": "#FF0000",
         "flatshading": true,
         "i": [
          1,
          2,
          5,
          6,
          1,
          4,
          3,
          6,
          1,
          7,
          0,
          6
         ],
         "j": [
          0,
          3,
          4,
          7,
          0,
          5,
          2,
          7,
          3,
          5,
          2,
          4
         ],
         "k": [
          2,
          1,
          6,
          5,
          4,
          1,
          6,
          3,
          7,
          1,
          6,
          0
         ],
         "opacity": 0.2,
         "type": "mesh3d",
         "x": [
          15,
          185,
          185,
          15,
          15,
          185,
          185,
          15
         ],
         "y": [
          160,
          160,
          242,
          242,
          160,
          160,
          242,
          242
         ],
         "z": [
          0,
          0,
          0,
          0,
          46,
          46,
          46,
          46
         ]
        },
        {
         "line": {
          "color": "black",
          "width": 2
         },
         "mode": "lines",
         "type": "scatter3d",
         "x": [
          15,
          185
         ],
         "y": [
          160,
          160
         ],
         "z": [
          0,
          0
         ]
        },
        {
         "line": {
          "color": "black",
          "width": 2
         },
         "mode": "lines",
         "type": "scatter3d",
         "x": [
          15,
          185
         ],
         "y": [
          160,
          242
         ],
         "z": [
          0,
          0
         ]
        },
        {
         "line": {
          "color": "black",
          "width": 2
         },
         "mode": "lines",
         "type": "scatter3d",
         "x": [
          15,
          15
         ],
         "y": [
          160,
          160
         ],
         "z": [
          0,
          46
         ]
        },
        {
         "line": {
          "color": "black",
          "width": 2
         },
         "mode": "lines",
         "type": "scatter3d",
         "x": [
          185,
          15
         ],
         "y": [
          160,
          242
         ],
         "z": [
          0,
          0
         ]
        },
        {
         "line": {
          "color": "black",
          "width": 2
         },
         "mode": "lines",
         "type": "scatter3d",
         "x": [
          185,
          185
         ],
         "y": [
          160,
          160
         ],
         "z": [
          0,
          46
         ]
        },
        {
         "line": {
          "color": "black",
          "width": 2
         },
         "mode": "lines",
         "type": "scatter3d",
         "x": [
          185,
          15
         ],
         "y": [
          242,
          242
         ],
         "z": [
          0,
          0
         ]
        },
        {
         "line": {
          "color": "black",
          "width": 2
         },
         "mode": "lines",
         "type": "scatter3d",
         "x": [
          185,
          185
         ],
         "y": [
          242,
          242
         ],
         "z": [
          0,
          46
         ]
        },
        {
         "line": {
          "color": "black",
          "width": 2
         },
         "mode": "lines",
         "type": "scatter3d",
         "x": [
          15,
          15
         ],
         "y": [
          242,
          242
         ],
         "z": [
          0,
          46
         ]
        },
        {
         "line": {
          "color": "black",
          "width": 2
         },
         "mode": "lines",
         "type": "scatter3d",
         "x": [
          15,
          185
         ],
         "y": [
          160,
          160
         ],
         "z": [
          46,
          46
         ]
        },
        {
         "line": {
          "color": "black",
          "width": 2
         },
         "mode": "lines",
         "type": "scatter3d",
         "x": [
          15,
          185
         ],
         "y": [
          160,
          242
         ],
         "z": [
          46,
          46
         ]
        },
        {
         "line": {
          "color": "black",
          "width": 2
         },
         "mode": "lines",
         "type": "scatter3d",
         "x": [
          185,
          15
         ],
         "y": [
          160,
          242
         ],
         "z": [
          46,
          46
         ]
        },
        {
         "line": {
          "color": "black",
          "width": 2
         },
         "mode": "lines",
         "type": "scatter3d",
         "x": [
          185,
          15
         ],
         "y": [
          242,
          242
         ],
         "z": [
          46,
          46
         ]
        },
        {
         "color": "#FF0000",
         "flatshading": true,
         "i": [
          1,
          2,
          5,
          6,
          1,
          4,
          3,
          6,
          1,
          7,
          0,
          6
         ],
         "j": [
          0,
          3,
          4,
          7,
          0,
          5,
          2,
          7,
          3,
          5,
          2,
          4
         ],
         "k": [
          2,
          1,
          6,
          5,
          4,
          1,
          6,
          3,
          7,
          1,
          6,
          0
         ],
         "opacity": 0.2,
         "type": "mesh3d",
         "x": [
          185,
          355,
          355,
          185,
          185,
          355,
          355,
          185
         ],
         "y": [
          160,
          160,
          242,
          242,
          160,
          160,
          242,
          242
         ],
         "z": [
          0,
          0,
          0,
          0,
          46,
          46,
          46,
          46
         ]
        },
        {
         "line": {
          "color": "black",
          "width": 2
         },
         "mode": "lines",
         "type": "scatter3d",
         "x": [
          185,
          355
         ],
         "y": [
          160,
          160
         ],
         "z": [
          0,
          0
         ]
        },
        {
         "line": {
          "color": "black",
          "width": 2
         },
         "mode": "lines",
         "type": "scatter3d",
         "x": [
          185,
          355
         ],
         "y": [
          160,
          242
         ],
         "z": [
          0,
          0
         ]
        },
        {
         "line": {
          "color": "black",
          "width": 2
         },
         "mode": "lines",
         "type": "scatter3d",
         "x": [
          185,
          185
         ],
         "y": [
          160,
          160
         ],
         "z": [
          0,
          46
         ]
        },
        {
         "line": {
          "color": "black",
          "width": 2
         },
         "mode": "lines",
         "type": "scatter3d",
         "x": [
          355,
          185
         ],
         "y": [
          160,
          242
         ],
         "z": [
          0,
          0
         ]
        },
        {
         "line": {
          "color": "black",
          "width": 2
         },
         "mode": "lines",
         "type": "scatter3d",
         "x": [
          355,
          355
         ],
         "y": [
          160,
          160
         ],
         "z": [
          0,
          46
         ]
        },
        {
         "line": {
          "color": "black",
          "width": 2
         },
         "mode": "lines",
         "type": "scatter3d",
         "x": [
          355,
          185
         ],
         "y": [
          242,
          242
         ],
         "z": [
          0,
          0
         ]
        },
        {
         "line": {
          "color": "black",
          "width": 2
         },
         "mode": "lines",
         "type": "scatter3d",
         "x": [
          355,
          355
         ],
         "y": [
          242,
          242
         ],
         "z": [
          0,
          46
         ]
        },
        {
         "line": {
          "color": "black",
          "width": 2
         },
         "mode": "lines",
         "type": "scatter3d",
         "x": [
          185,
          185
         ],
         "y": [
          242,
          242
         ],
         "z": [
          0,
          46
         ]
        },
        {
         "line": {
          "color": "black",
          "width": 2
         },
         "mode": "lines",
         "type": "scatter3d",
         "x": [
          185,
          355
         ],
         "y": [
          160,
          160
         ],
         "z": [
          46,
          46
         ]
        },
        {
         "line": {
          "color": "black",
          "width": 2
         },
         "mode": "lines",
         "type": "scatter3d",
         "x": [
          185,
          355
         ],
         "y": [
          160,
          242
         ],
         "z": [
          46,
          46
         ]
        },
        {
         "line": {
          "color": "black",
          "width": 2
         },
         "mode": "lines",
         "type": "scatter3d",
         "x": [
          355,
          185
         ],
         "y": [
          160,
          242
         ],
         "z": [
          46,
          46
         ]
        },
        {
         "line": {
          "color": "black",
          "width": 2
         },
         "mode": "lines",
         "type": "scatter3d",
         "x": [
          355,
          185
         ],
         "y": [
          242,
          242
         ],
         "z": [
          46,
          46
         ]
        },
        {
         "color": "#FF0000",
         "flatshading": true,
         "i": [
          1,
          2,
          5,
          6,
          1,
          4,
          3,
          6,
          1,
          7,
          0,
          6
         ],
         "j": [
          0,
          3,
          4,
          7,
          0,
          5,
          2,
          7,
          3,
          5,
          2,
          4
         ],
         "k": [
          2,
          1,
          6,
          5,
          4,
          1,
          6,
          3,
          7,
          1,
          6,
          0
         ],
         "opacity": 0.2,
         "type": "mesh3d",
         "x": [
          355,
          525,
          525,
          355,
          355,
          525,
          525,
          355
         ],
         "y": [
          162,
          162,
          244,
          244,
          162,
          162,
          244,
          244
         ],
         "z": [
          0,
          0,
          0,
          0,
          46,
          46,
          46,
          46
         ]
        },
        {
         "line": {
          "color": "black",
          "width": 2
         },
         "mode": "lines",
         "type": "scatter3d",
         "x": [
          355,
          525
         ],
         "y": [
          162,
          162
         ],
         "z": [
          0,
          0
         ]
        },
        {
         "line": {
          "color": "black",
          "width": 2
         },
         "mode": "lines",
         "type": "scatter3d",
         "x": [
          355,
          525
         ],
         "y": [
          162,
          244
         ],
         "z": [
          0,
          0
         ]
        },
        {
         "line": {
          "color": "black",
          "width": 2
         },
         "mode": "lines",
         "type": "scatter3d",
         "x": [
          355,
          355
         ],
         "y": [
          162,
          162
         ],
         "z": [
          0,
          46
         ]
        },
        {
         "line": {
          "color": "black",
          "width": 2
         },
         "mode": "lines",
         "type": "scatter3d",
         "x": [
          525,
          355
         ],
         "y": [
          162,
          244
         ],
         "z": [
          0,
          0
         ]
        },
        {
         "line": {
          "color": "black",
          "width": 2
         },
         "mode": "lines",
         "type": "scatter3d",
         "x": [
          525,
          525
         ],
         "y": [
          162,
          162
         ],
         "z": [
          0,
          46
         ]
        },
        {
         "line": {
          "color": "black",
          "width": 2
         },
         "mode": "lines",
         "type": "scatter3d",
         "x": [
          525,
          355
         ],
         "y": [
          244,
          244
         ],
         "z": [
          0,
          0
         ]
        },
        {
         "line": {
          "color": "black",
          "width": 2
         },
         "mode": "lines",
         "type": "scatter3d",
         "x": [
          525,
          525
         ],
         "y": [
          244,
          244
         ],
         "z": [
          0,
          46
         ]
        },
        {
         "line": {
          "color": "black",
          "width": 2
         },
         "mode": "lines",
         "type": "scatter3d",
         "x": [
          355,
          355
         ],
         "y": [
          244,
          244
         ],
         "z": [
          0,
          46
         ]
        },
        {
         "line": {
          "color": "black",
          "width": 2
         },
         "mode": "lines",
         "type": "scatter3d",
         "x": [
          355,
          525
         ],
         "y": [
          162,
          162
         ],
         "z": [
          46,
          46
         ]
        },
        {
         "line": {
          "color": "black",
          "width": 2
         },
         "mode": "lines",
         "type": "scatter3d",
         "x": [
          355,
          525
         ],
         "y": [
          162,
          244
         ],
         "z": [
          46,
          46
         ]
        },
        {
         "line": {
          "color": "black",
          "width": 2
         },
         "mode": "lines",
         "type": "scatter3d",
         "x": [
          525,
          355
         ],
         "y": [
          162,
          244
         ],
         "z": [
          46,
          46
         ]
        },
        {
         "line": {
          "color": "black",
          "width": 2
         },
         "mode": "lines",
         "type": "scatter3d",
         "x": [
          525,
          355
         ],
         "y": [
          244,
          244
         ],
         "z": [
          46,
          46
         ]
        },
        {
         "color": "#FF0000",
         "flatshading": true,
         "i": [
          1,
          2,
          5,
          6,
          1,
          4,
          3,
          6,
          1,
          7,
          0,
          6
         ],
         "j": [
          0,
          3,
          4,
          7,
          0,
          5,
          2,
          7,
          3,
          5,
          2,
          4
         ],
         "k": [
          2,
          1,
          6,
          5,
          4,
          1,
          6,
          3,
          7,
          1,
          6,
          0
         ],
         "opacity": 0.2,
         "type": "mesh3d",
         "x": [
          525,
          571,
          571,
          525,
          525,
          571,
          571,
          525
         ],
         "y": [
          162,
          162,
          244,
          244,
          162,
          162,
          244,
          244
         ],
         "z": [
          0,
          0,
          0,
          0,
          170,
          170,
          170,
          170
         ]
        },
        {
         "line": {
          "color": "black",
          "width": 2
         },
         "mode": "lines",
         "type": "scatter3d",
         "x": [
          525,
          571
         ],
         "y": [
          162,
          162
         ],
         "z": [
          0,
          0
         ]
        },
        {
         "line": {
          "color": "black",
          "width": 2
         },
         "mode": "lines",
         "type": "scatter3d",
         "x": [
          525,
          571
         ],
         "y": [
          162,
          244
         ],
         "z": [
          0,
          0
         ]
        },
        {
         "line": {
          "color": "black",
          "width": 2
         },
         "mode": "lines",
         "type": "scatter3d",
         "x": [
          525,
          525
         ],
         "y": [
          162,
          162
         ],
         "z": [
          0,
          170
         ]
        },
        {
         "line": {
          "color": "black",
          "width": 2
         },
         "mode": "lines",
         "type": "scatter3d",
         "x": [
          571,
          525
         ],
         "y": [
          162,
          244
         ],
         "z": [
          0,
          0
         ]
        },
        {
         "line": {
          "color": "black",
          "width": 2
         },
         "mode": "lines",
         "type": "scatter3d",
         "x": [
          571,
          571
         ],
         "y": [
          162,
          162
         ],
         "z": [
          0,
          170
         ]
        },
        {
         "line": {
          "color": "black",
          "width": 2
         },
         "mode": "lines",
         "type": "scatter3d",
         "x": [
          571,
          525
         ],
         "y": [
          244,
          244
         ],
         "z": [
          0,
          0
         ]
        },
        {
         "line": {
          "color": "black",
          "width": 2
         },
         "mode": "lines",
         "type": "scatter3d",
         "x": [
          571,
          571
         ],
         "y": [
          244,
          244
         ],
         "z": [
          0,
          170
         ]
        },
        {
         "line": {
          "color": "black",
          "width": 2
         },
         "mode": "lines",
         "type": "scatter3d",
         "x": [
          525,
          525
         ],
         "y": [
          244,
          244
         ],
         "z": [
          0,
          170
         ]
        },
        {
         "line": {
          "color": "black",
          "width": 2
         },
         "mode": "lines",
         "type": "scatter3d",
         "x": [
          525,
          571
         ],
         "y": [
          162,
          162
         ],
         "z": [
          170,
          170
         ]
        },
        {
         "line": {
          "color": "black",
          "width": 2
         },
         "mode": "lines",
         "type": "scatter3d",
         "x": [
          525,
          571
         ],
         "y": [
          162,
          244
         ],
         "z": [
          170,
          170
         ]
        },
        {
         "line": {
          "color": "black",
          "width": 2
         },
         "mode": "lines",
         "type": "scatter3d",
         "x": [
          571,
          525
         ],
         "y": [
          162,
          244
         ],
         "z": [
          170,
          170
         ]
        },
        {
         "line": {
          "color": "black",
          "width": 2
         },
         "mode": "lines",
         "type": "scatter3d",
         "x": [
          571,
          525
         ],
         "y": [
          244,
          244
         ],
         "z": [
          170,
          170
         ]
        },
        {
         "color": "#FF0000",
         "flatshading": true,
         "i": [
          1,
          2,
          5,
          6,
          1,
          4,
          3,
          6,
          1,
          7,
          0,
          6
         ],
         "j": [
          0,
          3,
          4,
          7,
          0,
          5,
          2,
          7,
          3,
          5,
          2,
          4
         ],
         "k": [
          2,
          1,
          6,
          5,
          4,
          1,
          6,
          3,
          7,
          1,
          6,
          0
         ],
         "opacity": 0.2,
         "type": "mesh3d",
         "x": [
          15,
          185,
          185,
          15,
          15,
          185,
          185,
          15
         ],
         "y": [
          0,
          0,
          82,
          82,
          0,
          0,
          82,
          82
         ],
         "z": [
          200,
          200,
          200,
          200,
          246,
          246,
          246,
          246
         ]
        },
        {
         "line": {
          "color": "black",
          "width": 2
         },
         "mode": "lines",
         "type": "scatter3d",
         "x": [
          15,
          185
         ],
         "y": [
          0,
          0
         ],
         "z": [
          200,
          200
         ]
        },
        {
         "line": {
          "color": "black",
          "width": 2
         },
         "mode": "lines",
         "type": "scatter3d",
         "x": [
          15,
          185
         ],
         "y": [
          0,
          82
         ],
         "z": [
          200,
          200
         ]
        },
        {
         "line": {
          "color": "black",
          "width": 2
         },
         "mode": "lines",
         "type": "scatter3d",
         "x": [
          15,
          15
         ],
         "y": [
          0,
          0
         ],
         "z": [
          200,
          246
         ]
        },
        {
         "line": {
          "color": "black",
          "width": 2
         },
         "mode": "lines",
         "type": "scatter3d",
         "x": [
          185,
          15
         ],
         "y": [
          0,
          82
         ],
         "z": [
          200,
          200
         ]
        },
        {
         "line": {
          "color": "black",
          "width": 2
         },
         "mode": "lines",
         "type": "scatter3d",
         "x": [
          185,
          185
         ],
         "y": [
          0,
          0
         ],
         "z": [
          200,
          246
         ]
        },
        {
         "line": {
          "color": "black",
          "width": 2
         },
         "mode": "lines",
         "type": "scatter3d",
         "x": [
          185,
          15
         ],
         "y": [
          82,
          82
         ],
         "z": [
          200,
          200
         ]
        },
        {
         "line": {
          "color": "black",
          "width": 2
         },
         "mode": "lines",
         "type": "scatter3d",
         "x": [
          185,
          185
         ],
         "y": [
          82,
          82
         ],
         "z": [
          200,
          246
         ]
        },
        {
         "line": {
          "color": "black",
          "width": 2
         },
         "mode": "lines",
         "type": "scatter3d",
         "x": [
          15,
          15
         ],
         "y": [
          82,
          82
         ],
         "z": [
          200,
          246
         ]
        },
        {
         "line": {
          "color": "black",
          "width": 2
         },
         "mode": "lines",
         "type": "scatter3d",
         "x": [
          15,
          185
         ],
         "y": [
          0,
          0
         ],
         "z": [
          246,
          246
         ]
        },
        {
         "line": {
          "color": "black",
          "width": 2
         },
         "mode": "lines",
         "type": "scatter3d",
         "x": [
          15,
          185
         ],
         "y": [
          0,
          82
         ],
         "z": [
          246,
          246
         ]
        },
        {
         "line": {
          "color": "black",
          "width": 2
         },
         "mode": "lines",
         "type": "scatter3d",
         "x": [
          185,
          15
         ],
         "y": [
          0,
          82
         ],
         "z": [
          246,
          246
         ]
        },
        {
         "line": {
          "color": "black",
          "width": 2
         },
         "mode": "lines",
         "type": "scatter3d",
         "x": [
          185,
          15
         ],
         "y": [
          82,
          82
         ],
         "z": [
          246,
          246
         ]
        },
        {
         "color": "#FF0000",
         "flatshading": true,
         "i": [
          1,
          2,
          5,
          6,
          1,
          4,
          3,
          6,
          1,
          7,
          0,
          6
         ],
         "j": [
          0,
          3,
          4,
          7,
          0,
          5,
          2,
          7,
          3,
          5,
          2,
          4
         ],
         "k": [
          2,
          1,
          6,
          5,
          4,
          1,
          6,
          3,
          7,
          1,
          6,
          0
         ],
         "opacity": 0.2,
         "type": "mesh3d",
         "x": [
          185,
          355,
          355,
          185,
          185,
          355,
          355,
          185
         ],
         "y": [
          0,
          0,
          82,
          82,
          0,
          0,
          82,
          82
         ],
         "z": [
          200,
          200,
          200,
          200,
          246,
          246,
          246,
          246
         ]
        },
        {
         "line": {
          "color": "black",
          "width": 2
         },
         "mode": "lines",
         "type": "scatter3d",
         "x": [
          185,
          355
         ],
         "y": [
          0,
          0
         ],
         "z": [
          200,
          200
         ]
        },
        {
         "line": {
          "color": "black",
          "width": 2
         },
         "mode": "lines",
         "type": "scatter3d",
         "x": [
          185,
          355
         ],
         "y": [
          0,
          82
         ],
         "z": [
          200,
          200
         ]
        },
        {
         "line": {
          "color": "black",
          "width": 2
         },
         "mode": "lines",
         "type": "scatter3d",
         "x": [
          185,
          185
         ],
         "y": [
          0,
          0
         ],
         "z": [
          200,
          246
         ]
        },
        {
         "line": {
          "color": "black",
          "width": 2
         },
         "mode": "lines",
         "type": "scatter3d",
         "x": [
          355,
          185
         ],
         "y": [
          0,
          82
         ],
         "z": [
          200,
          200
         ]
        },
        {
         "line": {
          "color": "black",
          "width": 2
         },
         "mode": "lines",
         "type": "scatter3d",
         "x": [
          355,
          355
         ],
         "y": [
          0,
          0
         ],
         "z": [
          200,
          246
         ]
        },
        {
         "line": {
          "color": "black",
          "width": 2
         },
         "mode": "lines",
         "type": "scatter3d",
         "x": [
          355,
          185
         ],
         "y": [
          82,
          82
         ],
         "z": [
          200,
          200
         ]
        },
        {
         "line": {
          "color": "black",
          "width": 2
         },
         "mode": "lines",
         "type": "scatter3d",
         "x": [
          355,
          355
         ],
         "y": [
          82,
          82
         ],
         "z": [
          200,
          246
         ]
        },
        {
         "line": {
          "color": "black",
          "width": 2
         },
         "mode": "lines",
         "type": "scatter3d",
         "x": [
          185,
          185
         ],
         "y": [
          82,
          82
         ],
         "z": [
          200,
          246
         ]
        },
        {
         "line": {
          "color": "black",
          "width": 2
         },
         "mode": "lines",
         "type": "scatter3d",
         "x": [
          185,
          355
         ],
         "y": [
          0,
          0
         ],
         "z": [
          246,
          246
         ]
        },
        {
         "line": {
          "color": "black",
          "width": 2
         },
         "mode": "lines",
         "type": "scatter3d",
         "x": [
          185,
          355
         ],
         "y": [
          0,
          82
         ],
         "z": [
          246,
          246
         ]
        },
        {
         "line": {
          "color": "black",
          "width": 2
         },
         "mode": "lines",
         "type": "scatter3d",
         "x": [
          355,
          185
         ],
         "y": [
          0,
          82
         ],
         "z": [
          246,
          246
         ]
        },
        {
         "line": {
          "color": "black",
          "width": 2
         },
         "mode": "lines",
         "type": "scatter3d",
         "x": [
          355,
          185
         ],
         "y": [
          82,
          82
         ],
         "z": [
          246,
          246
         ]
        },
        {
         "color": "#FF0000",
         "flatshading": true,
         "i": [
          1,
          2,
          5,
          6,
          1,
          4,
          3,
          6,
          1,
          7,
          0,
          6
         ],
         "j": [
          0,
          3,
          4,
          7,
          0,
          5,
          2,
          7,
          3,
          5,
          2,
          4
         ],
         "k": [
          2,
          1,
          6,
          5,
          4,
          1,
          6,
          3,
          7,
          1,
          6,
          0
         ],
         "opacity": 0.2,
         "type": "mesh3d",
         "x": [
          355,
          525,
          525,
          355,
          355,
          525,
          525,
          355
         ],
         "y": [
          0,
          0,
          82,
          82,
          0,
          0,
          82,
          82
         ],
         "z": [
          200,
          200,
          200,
          200,
          246,
          246,
          246,
          246
         ]
        },
        {
         "line": {
          "color": "black",
          "width": 2
         },
         "mode": "lines",
         "type": "scatter3d",
         "x": [
          355,
          525
         ],
         "y": [
          0,
          0
         ],
         "z": [
          200,
          200
         ]
        },
        {
         "line": {
          "color": "black",
          "width": 2
         },
         "mode": "lines",
         "type": "scatter3d",
         "x": [
          355,
          525
         ],
         "y": [
          0,
          82
         ],
         "z": [
          200,
          200
         ]
        },
        {
         "line": {
          "color": "black",
          "width": 2
         },
         "mode": "lines",
         "type": "scatter3d",
         "x": [
          355,
          355
         ],
         "y": [
          0,
          0
         ],
         "z": [
          200,
          246
         ]
        },
        {
         "line": {
          "color": "black",
          "width": 2
         },
         "mode": "lines",
         "type": "scatter3d",
         "x": [
          525,
          355
         ],
         "y": [
          0,
          82
         ],
         "z": [
          200,
          200
         ]
        },
        {
         "line": {
          "color": "black",
          "width": 2
         },
         "mode": "lines",
         "type": "scatter3d",
         "x": [
          525,
          525
         ],
         "y": [
          0,
          0
         ],
         "z": [
          200,
          246
         ]
        },
        {
         "line": {
          "color": "black",
          "width": 2
         },
         "mode": "lines",
         "type": "scatter3d",
         "x": [
          525,
          355
         ],
         "y": [
          82,
          82
         ],
         "z": [
          200,
          200
         ]
        },
        {
         "line": {
          "color": "black",
          "width": 2
         },
         "mode": "lines",
         "type": "scatter3d",
         "x": [
          525,
          525
         ],
         "y": [
          82,
          82
         ],
         "z": [
          200,
          246
         ]
        },
        {
         "line": {
          "color": "black",
          "width": 2
         },
         "mode": "lines",
         "type": "scatter3d",
         "x": [
          355,
          355
         ],
         "y": [
          82,
          82
         ],
         "z": [
          200,
          246
         ]
        },
        {
         "line": {
          "color": "black",
          "width": 2
         },
         "mode": "lines",
         "type": "scatter3d",
         "x": [
          355,
          525
         ],
         "y": [
          0,
          0
         ],
         "z": [
          246,
          246
         ]
        },
        {
         "line": {
          "color": "black",
          "width": 2
         },
         "mode": "lines",
         "type": "scatter3d",
         "x": [
          355,
          525
         ],
         "y": [
          0,
          82
         ],
         "z": [
          246,
          246
         ]
        },
        {
         "line": {
          "color": "black",
          "width": 2
         },
         "mode": "lines",
         "type": "scatter3d",
         "x": [
          525,
          355
         ],
         "y": [
          0,
          82
         ],
         "z": [
          246,
          246
         ]
        },
        {
         "line": {
          "color": "black",
          "width": 2
         },
         "mode": "lines",
         "type": "scatter3d",
         "x": [
          525,
          355
         ],
         "y": [
          82,
          82
         ],
         "z": [
          246,
          246
         ]
        },
        {
         "color": "#FF0000",
         "flatshading": true,
         "i": [
          1,
          2,
          5,
          6,
          1,
          4,
          3,
          6,
          1,
          7,
          0,
          6
         ],
         "j": [
          0,
          3,
          4,
          7,
          0,
          5,
          2,
          7,
          3,
          5,
          2,
          4
         ],
         "k": [
          2,
          1,
          6,
          5,
          4,
          1,
          6,
          3,
          7,
          1,
          6,
          0
         ],
         "opacity": 0.2,
         "type": "mesh3d",
         "x": [
          0,
          170,
          170,
          0,
          0,
          170,
          170,
          0
         ],
         "y": [
          82,
          82,
          164,
          164,
          82,
          82,
          164,
          164
         ],
         "z": [
          200,
          200,
          200,
          200,
          246,
          246,
          246,
          246
         ]
        },
        {
         "line": {
          "color": "black",
          "width": 2
         },
         "mode": "lines",
         "type": "scatter3d",
         "x": [
          0,
          170
         ],
         "y": [
          82,
          82
         ],
         "z": [
          200,
          200
         ]
        },
        {
         "line": {
          "color": "black",
          "width": 2
         },
         "mode": "lines",
         "type": "scatter3d",
         "x": [
          0,
          170
         ],
         "y": [
          82,
          164
         ],
         "z": [
          200,
          200
         ]
        },
        {
         "line": {
          "color": "black",
          "width": 2
         },
         "mode": "lines",
         "type": "scatter3d",
         "x": [
          0,
          0
         ],
         "y": [
          82,
          82
         ],
         "z": [
          200,
          246
         ]
        },
        {
         "line": {
          "color": "black",
          "width": 2
         },
         "mode": "lines",
         "type": "scatter3d",
         "x": [
          170,
          0
         ],
         "y": [
          82,
          164
         ],
         "z": [
          200,
          200
         ]
        },
        {
         "line": {
          "color": "black",
          "width": 2
         },
         "mode": "lines",
         "type": "scatter3d",
         "x": [
          170,
          170
         ],
         "y": [
          82,
          82
         ],
         "z": [
          200,
          246
         ]
        },
        {
         "line": {
          "color": "black",
          "width": 2
         },
         "mode": "lines",
         "type": "scatter3d",
         "x": [
          170,
          0
         ],
         "y": [
          164,
          164
         ],
         "z": [
          200,
          200
         ]
        },
        {
         "line": {
          "color": "black",
          "width": 2
         },
         "mode": "lines",
         "type": "scatter3d",
         "x": [
          170,
          170
         ],
         "y": [
          164,
          164
         ],
         "z": [
          200,
          246
         ]
        },
        {
         "line": {
          "color": "black",
          "width": 2
         },
         "mode": "lines",
         "type": "scatter3d",
         "x": [
          0,
          0
         ],
         "y": [
          164,
          164
         ],
         "z": [
          200,
          246
         ]
        },
        {
         "line": {
          "color": "black",
          "width": 2
         },
         "mode": "lines",
         "type": "scatter3d",
         "x": [
          0,
          170
         ],
         "y": [
          82,
          82
         ],
         "z": [
          246,
          246
         ]
        },
        {
         "line": {
          "color": "black",
          "width": 2
         },
         "mode": "lines",
         "type": "scatter3d",
         "x": [
          0,
          170
         ],
         "y": [
          82,
          164
         ],
         "z": [
          246,
          246
         ]
        },
        {
         "line": {
          "color": "black",
          "width": 2
         },
         "mode": "lines",
         "type": "scatter3d",
         "x": [
          170,
          0
         ],
         "y": [
          82,
          164
         ],
         "z": [
          246,
          246
         ]
        },
        {
         "line": {
          "color": "black",
          "width": 2
         },
         "mode": "lines",
         "type": "scatter3d",
         "x": [
          170,
          0
         ],
         "y": [
          164,
          164
         ],
         "z": [
          246,
          246
         ]
        },
        {
         "color": "#FF0000",
         "flatshading": true,
         "i": [
          1,
          2,
          5,
          6,
          1,
          4,
          3,
          6,
          1,
          7,
          0,
          6
         ],
         "j": [
          0,
          3,
          4,
          7,
          0,
          5,
          2,
          7,
          3,
          5,
          2,
          4
         ],
         "k": [
          2,
          1,
          6,
          5,
          4,
          1,
          6,
          3,
          7,
          1,
          6,
          0
         ],
         "opacity": 0.2,
         "type": "mesh3d",
         "x": [
          170,
          340,
          340,
          170,
          170,
          340,
          340,
          170
         ],
         "y": [
          82,
          82,
          164,
          164,
          82,
          82,
          164,
          164
         ],
         "z": [
          200,
          200,
          200,
          200,
          246,
          246,
          246,
          246
         ]
        },
        {
         "line": {
          "color": "black",
          "width": 2
         },
         "mode": "lines",
         "type": "scatter3d",
         "x": [
          170,
          340
         ],
         "y": [
          82,
          82
         ],
         "z": [
          200,
          200
         ]
        },
        {
         "line": {
          "color": "black",
          "width": 2
         },
         "mode": "lines",
         "type": "scatter3d",
         "x": [
          170,
          340
         ],
         "y": [
          82,
          164
         ],
         "z": [
          200,
          200
         ]
        },
        {
         "line": {
          "color": "black",
          "width": 2
         },
         "mode": "lines",
         "type": "scatter3d",
         "x": [
          170,
          170
         ],
         "y": [
          82,
          82
         ],
         "z": [
          200,
          246
         ]
        },
        {
         "line": {
          "color": "black",
          "width": 2
         },
         "mode": "lines",
         "type": "scatter3d",
         "x": [
          340,
          170
         ],
         "y": [
          82,
          164
         ],
         "z": [
          200,
          200
         ]
        },
        {
         "line": {
          "color": "black",
          "width": 2
         },
         "mode": "lines",
         "type": "scatter3d",
         "x": [
          340,
          340
         ],
         "y": [
          82,
          82
         ],
         "z": [
          200,
          246
         ]
        },
        {
         "line": {
          "color": "black",
          "width": 2
         },
         "mode": "lines",
         "type": "scatter3d",
         "x": [
          340,
          170
         ],
         "y": [
          164,
          164
         ],
         "z": [
          200,
          200
         ]
        },
        {
         "line": {
          "color": "black",
          "width": 2
         },
         "mode": "lines",
         "type": "scatter3d",
         "x": [
          340,
          340
         ],
         "y": [
          164,
          164
         ],
         "z": [
          200,
          246
         ]
        },
        {
         "line": {
          "color": "black",
          "width": 2
         },
         "mode": "lines",
         "type": "scatter3d",
         "x": [
          170,
          170
         ],
         "y": [
          164,
          164
         ],
         "z": [
          200,
          246
         ]
        },
        {
         "line": {
          "color": "black",
          "width": 2
         },
         "mode": "lines",
         "type": "scatter3d",
         "x": [
          170,
          340
         ],
         "y": [
          82,
          82
         ],
         "z": [
          246,
          246
         ]
        },
        {
         "line": {
          "color": "black",
          "width": 2
         },
         "mode": "lines",
         "type": "scatter3d",
         "x": [
          170,
          340
         ],
         "y": [
          82,
          164
         ],
         "z": [
          246,
          246
         ]
        },
        {
         "line": {
          "color": "black",
          "width": 2
         },
         "mode": "lines",
         "type": "scatter3d",
         "x": [
          340,
          170
         ],
         "y": [
          82,
          164
         ],
         "z": [
          246,
          246
         ]
        },
        {
         "line": {
          "color": "black",
          "width": 2
         },
         "mode": "lines",
         "type": "scatter3d",
         "x": [
          340,
          170
         ],
         "y": [
          164,
          164
         ],
         "z": [
          246,
          246
         ]
        },
        {
         "color": "#FF0000",
         "flatshading": true,
         "i": [
          1,
          2,
          5,
          6,
          1,
          4,
          3,
          6,
          1,
          7,
          0,
          6
         ],
         "j": [
          0,
          3,
          4,
          7,
          0,
          5,
          2,
          7,
          3,
          5,
          2,
          4
         ],
         "k": [
          2,
          1,
          6,
          5,
          4,
          1,
          6,
          3,
          7,
          1,
          6,
          0
         ],
         "opacity": 0.2,
         "type": "mesh3d",
         "x": [
          360,
          530,
          530,
          360,
          360,
          530,
          530,
          360
         ],
         "y": [
          80,
          80,
          162,
          162,
          80,
          80,
          162,
          162
         ],
         "z": [
          46,
          46,
          46,
          46,
          92,
          92,
          92,
          92
         ]
        },
        {
         "line": {
          "color": "black",
          "width": 2
         },
         "mode": "lines",
         "type": "scatter3d",
         "x": [
          360,
          530
         ],
         "y": [
          80,
          80
         ],
         "z": [
          46,
          46
         ]
        },
        {
         "line": {
          "color": "black",
          "width": 2
         },
         "mode": "lines",
         "type": "scatter3d",
         "x": [
          360,
          530
         ],
         "y": [
          80,
          162
         ],
         "z": [
          46,
          46
         ]
        },
        {
         "line": {
          "color": "black",
          "width": 2
         },
         "mode": "lines",
         "type": "scatter3d",
         "x": [
          360,
          360
         ],
         "y": [
          80,
          80
         ],
         "z": [
          46,
          92
         ]
        },
        {
         "line": {
          "color": "black",
          "width": 2
         },
         "mode": "lines",
         "type": "scatter3d",
         "x": [
          530,
          360
         ],
         "y": [
          80,
          162
         ],
         "z": [
          46,
          46
         ]
        },
        {
         "line": {
          "color": "black",
          "width": 2
         },
         "mode": "lines",
         "type": "scatter3d",
         "x": [
          530,
          530
         ],
         "y": [
          80,
          80
         ],
         "z": [
          46,
          92
         ]
        },
        {
         "line": {
          "color": "black",
          "width": 2
         },
         "mode": "lines",
         "type": "scatter3d",
         "x": [
          530,
          360
         ],
         "y": [
          162,
          162
         ],
         "z": [
          46,
          46
         ]
        },
        {
         "line": {
          "color": "black",
          "width": 2
         },
         "mode": "lines",
         "type": "scatter3d",
         "x": [
          530,
          530
         ],
         "y": [
          162,
          162
         ],
         "z": [
          46,
          92
         ]
        },
        {
         "line": {
          "color": "black",
          "width": 2
         },
         "mode": "lines",
         "type": "scatter3d",
         "x": [
          360,
          360
         ],
         "y": [
          162,
          162
         ],
         "z": [
          46,
          92
         ]
        },
        {
         "line": {
          "color": "black",
          "width": 2
         },
         "mode": "lines",
         "type": "scatter3d",
         "x": [
          360,
          530
         ],
         "y": [
          80,
          80
         ],
         "z": [
          92,
          92
         ]
        },
        {
         "line": {
          "color": "black",
          "width": 2
         },
         "mode": "lines",
         "type": "scatter3d",
         "x": [
          360,
          530
         ],
         "y": [
          80,
          162
         ],
         "z": [
          92,
          92
         ]
        },
        {
         "line": {
          "color": "black",
          "width": 2
         },
         "mode": "lines",
         "type": "scatter3d",
         "x": [
          530,
          360
         ],
         "y": [
          80,
          162
         ],
         "z": [
          92,
          92
         ]
        },
        {
         "line": {
          "color": "black",
          "width": 2
         },
         "mode": "lines",
         "type": "scatter3d",
         "x": [
          530,
          360
         ],
         "y": [
          162,
          162
         ],
         "z": [
          92,
          92
         ]
        },
        {
         "color": "#FF0000",
         "flatshading": true,
         "i": [
          1,
          2,
          5,
          6,
          1,
          4,
          3,
          6,
          1,
          7,
          0,
          6
         ],
         "j": [
          0,
          3,
          4,
          7,
          0,
          5,
          2,
          7,
          3,
          5,
          2,
          4
         ],
         "k": [
          2,
          1,
          6,
          5,
          4,
          1,
          6,
          3,
          7,
          1,
          6,
          0
         ],
         "opacity": 0.2,
         "type": "mesh3d",
         "x": [
          0,
          170,
          170,
          0,
          0,
          170,
          170,
          0
         ],
         "y": [
          160,
          160,
          242,
          242,
          160,
          160,
          242,
          242
         ],
         "z": [
          46,
          46,
          46,
          46,
          92,
          92,
          92,
          92
         ]
        },
        {
         "line": {
          "color": "black",
          "width": 2
         },
         "mode": "lines",
         "type": "scatter3d",
         "x": [
          0,
          170
         ],
         "y": [
          160,
          160
         ],
         "z": [
          46,
          46
         ]
        },
        {
         "line": {
          "color": "black",
          "width": 2
         },
         "mode": "lines",
         "type": "scatter3d",
         "x": [
          0,
          170
         ],
         "y": [
          160,
          242
         ],
         "z": [
          46,
          46
         ]
        },
        {
         "line": {
          "color": "black",
          "width": 2
         },
         "mode": "lines",
         "type": "scatter3d",
         "x": [
          0,
          0
         ],
         "y": [
          160,
          160
         ],
         "z": [
          46,
          92
         ]
        },
        {
         "line": {
          "color": "black",
          "width": 2
         },
         "mode": "lines",
         "type": "scatter3d",
         "x": [
          170,
          0
         ],
         "y": [
          160,
          242
         ],
         "z": [
          46,
          46
         ]
        },
        {
         "line": {
          "color": "black",
          "width": 2
         },
         "mode": "lines",
         "type": "scatter3d",
         "x": [
          170,
          170
         ],
         "y": [
          160,
          160
         ],
         "z": [
          46,
          92
         ]
        },
        {
         "line": {
          "color": "black",
          "width": 2
         },
         "mode": "lines",
         "type": "scatter3d",
         "x": [
          170,
          0
         ],
         "y": [
          242,
          242
         ],
         "z": [
          46,
          46
         ]
        },
        {
         "line": {
          "color": "black",
          "width": 2
         },
         "mode": "lines",
         "type": "scatter3d",
         "x": [
          170,
          170
         ],
         "y": [
          242,
          242
         ],
         "z": [
          46,
          92
         ]
        },
        {
         "line": {
          "color": "black",
          "width": 2
         },
         "mode": "lines",
         "type": "scatter3d",
         "x": [
          0,
          0
         ],
         "y": [
          242,
          242
         ],
         "z": [
          46,
          92
         ]
        },
        {
         "line": {
          "color": "black",
          "width": 2
         },
         "mode": "lines",
         "type": "scatter3d",
         "x": [
          0,
          170
         ],
         "y": [
          160,
          160
         ],
         "z": [
          92,
          92
         ]
        },
        {
         "line": {
          "color": "black",
          "width": 2
         },
         "mode": "lines",
         "type": "scatter3d",
         "x": [
          0,
          170
         ],
         "y": [
          160,
          242
         ],
         "z": [
          92,
          92
         ]
        },
        {
         "line": {
          "color": "black",
          "width": 2
         },
         "mode": "lines",
         "type": "scatter3d",
         "x": [
          170,
          0
         ],
         "y": [
          160,
          242
         ],
         "z": [
          92,
          92
         ]
        },
        {
         "line": {
          "color": "black",
          "width": 2
         },
         "mode": "lines",
         "type": "scatter3d",
         "x": [
          170,
          0
         ],
         "y": [
          242,
          242
         ],
         "z": [
          92,
          92
         ]
        },
        {
         "color": "#FF0000",
         "flatshading": true,
         "i": [
          1,
          2,
          5,
          6,
          1,
          4,
          3,
          6,
          1,
          7,
          0,
          6
         ],
         "j": [
          0,
          3,
          4,
          7,
          0,
          5,
          2,
          7,
          3,
          5,
          2,
          4
         ],
         "k": [
          2,
          1,
          6,
          5,
          4,
          1,
          6,
          3,
          7,
          1,
          6,
          0
         ],
         "opacity": 0.2,
         "type": "mesh3d",
         "x": [
          170,
          340,
          340,
          170,
          170,
          340,
          340,
          170
         ],
         "y": [
          160,
          160,
          242,
          242,
          160,
          160,
          242,
          242
         ],
         "z": [
          46,
          46,
          46,
          46,
          92,
          92,
          92,
          92
         ]
        },
        {
         "line": {
          "color": "black",
          "width": 2
         },
         "mode": "lines",
         "type": "scatter3d",
         "x": [
          170,
          340
         ],
         "y": [
          160,
          160
         ],
         "z": [
          46,
          46
         ]
        },
        {
         "line": {
          "color": "black",
          "width": 2
         },
         "mode": "lines",
         "type": "scatter3d",
         "x": [
          170,
          340
         ],
         "y": [
          160,
          242
         ],
         "z": [
          46,
          46
         ]
        },
        {
         "line": {
          "color": "black",
          "width": 2
         },
         "mode": "lines",
         "type": "scatter3d",
         "x": [
          170,
          170
         ],
         "y": [
          160,
          160
         ],
         "z": [
          46,
          92
         ]
        },
        {
         "line": {
          "color": "black",
          "width": 2
         },
         "mode": "lines",
         "type": "scatter3d",
         "x": [
          340,
          170
         ],
         "y": [
          160,
          242
         ],
         "z": [
          46,
          46
         ]
        },
        {
         "line": {
          "color": "black",
          "width": 2
         },
         "mode": "lines",
         "type": "scatter3d",
         "x": [
          340,
          340
         ],
         "y": [
          160,
          160
         ],
         "z": [
          46,
          92
         ]
        },
        {
         "line": {
          "color": "black",
          "width": 2
         },
         "mode": "lines",
         "type": "scatter3d",
         "x": [
          340,
          170
         ],
         "y": [
          242,
          242
         ],
         "z": [
          46,
          46
         ]
        },
        {
         "line": {
          "color": "black",
          "width": 2
         },
         "mode": "lines",
         "type": "scatter3d",
         "x": [
          340,
          340
         ],
         "y": [
          242,
          242
         ],
         "z": [
          46,
          92
         ]
        },
        {
         "line": {
          "color": "black",
          "width": 2
         },
         "mode": "lines",
         "type": "scatter3d",
         "x": [
          170,
          170
         ],
         "y": [
          242,
          242
         ],
         "z": [
          46,
          92
         ]
        },
        {
         "line": {
          "color": "black",
          "width": 2
         },
         "mode": "lines",
         "type": "scatter3d",
         "x": [
          170,
          340
         ],
         "y": [
          160,
          160
         ],
         "z": [
          92,
          92
         ]
        },
        {
         "line": {
          "color": "black",
          "width": 2
         },
         "mode": "lines",
         "type": "scatter3d",
         "x": [
          170,
          340
         ],
         "y": [
          160,
          242
         ],
         "z": [
          92,
          92
         ]
        },
        {
         "line": {
          "color": "black",
          "width": 2
         },
         "mode": "lines",
         "type": "scatter3d",
         "x": [
          340,
          170
         ],
         "y": [
          160,
          242
         ],
         "z": [
          92,
          92
         ]
        },
        {
         "line": {
          "color": "black",
          "width": 2
         },
         "mode": "lines",
         "type": "scatter3d",
         "x": [
          340,
          170
         ],
         "y": [
          242,
          242
         ],
         "z": [
          92,
          92
         ]
        },
        {
         "color": "#FF0000",
         "flatshading": true,
         "i": [
          1,
          2,
          5,
          6,
          1,
          4,
          3,
          6,
          1,
          7,
          0,
          6
         ],
         "j": [
          0,
          3,
          4,
          7,
          0,
          5,
          2,
          7,
          3,
          5,
          2,
          4
         ],
         "k": [
          2,
          1,
          6,
          5,
          4,
          1,
          6,
          3,
          7,
          1,
          6,
          0
         ],
         "opacity": 0.2,
         "type": "mesh3d",
         "x": [
          340,
          510,
          510,
          340,
          340,
          510,
          510,
          340
         ],
         "y": [
          162,
          162,
          244,
          244,
          162,
          162,
          244,
          244
         ],
         "z": [
          46,
          46,
          46,
          46,
          92,
          92,
          92,
          92
         ]
        },
        {
         "line": {
          "color": "black",
          "width": 2
         },
         "mode": "lines",
         "type": "scatter3d",
         "x": [
          340,
          510
         ],
         "y": [
          162,
          162
         ],
         "z": [
          46,
          46
         ]
        },
        {
         "line": {
          "color": "black",
          "width": 2
         },
         "mode": "lines",
         "type": "scatter3d",
         "x": [
          340,
          510
         ],
         "y": [
          162,
          244
         ],
         "z": [
          46,
          46
         ]
        },
        {
         "line": {
          "color": "black",
          "width": 2
         },
         "mode": "lines",
         "type": "scatter3d",
         "x": [
          340,
          340
         ],
         "y": [
          162,
          162
         ],
         "z": [
          46,
          92
         ]
        },
        {
         "line": {
          "color": "black",
          "width": 2
         },
         "mode": "lines",
         "type": "scatter3d",
         "x": [
          510,
          340
         ],
         "y": [
          162,
          244
         ],
         "z": [
          46,
          46
         ]
        },
        {
         "line": {
          "color": "black",
          "width": 2
         },
         "mode": "lines",
         "type": "scatter3d",
         "x": [
          510,
          510
         ],
         "y": [
          162,
          162
         ],
         "z": [
          46,
          92
         ]
        },
        {
         "line": {
          "color": "black",
          "width": 2
         },
         "mode": "lines",
         "type": "scatter3d",
         "x": [
          510,
          340
         ],
         "y": [
          244,
          244
         ],
         "z": [
          46,
          46
         ]
        },
        {
         "line": {
          "color": "black",
          "width": 2
         },
         "mode": "lines",
         "type": "scatter3d",
         "x": [
          510,
          510
         ],
         "y": [
          244,
          244
         ],
         "z": [
          46,
          92
         ]
        },
        {
         "line": {
          "color": "black",
          "width": 2
         },
         "mode": "lines",
         "type": "scatter3d",
         "x": [
          340,
          340
         ],
         "y": [
          244,
          244
         ],
         "z": [
          46,
          92
         ]
        },
        {
         "line": {
          "color": "black",
          "width": 2
         },
         "mode": "lines",
         "type": "scatter3d",
         "x": [
          340,
          510
         ],
         "y": [
          162,
          162
         ],
         "z": [
          92,
          92
         ]
        },
        {
         "line": {
          "color": "black",
          "width": 2
         },
         "mode": "lines",
         "type": "scatter3d",
         "x": [
          340,
          510
         ],
         "y": [
          162,
          244
         ],
         "z": [
          92,
          92
         ]
        },
        {
         "line": {
          "color": "black",
          "width": 2
         },
         "mode": "lines",
         "type": "scatter3d",
         "x": [
          510,
          340
         ],
         "y": [
          162,
          244
         ],
         "z": [
          92,
          92
         ]
        },
        {
         "line": {
          "color": "black",
          "width": 2
         },
         "mode": "lines",
         "type": "scatter3d",
         "x": [
          510,
          340
         ],
         "y": [
          244,
          244
         ],
         "z": [
          92,
          92
         ]
        },
        {
         "color": "#FFFF37",
         "flatshading": true,
         "i": [
          1,
          2,
          5,
          6,
          1,
          4,
          3,
          6,
          1,
          7,
          0,
          6
         ],
         "j": [
          0,
          3,
          4,
          7,
          0,
          5,
          2,
          7,
          3,
          5,
          2,
          4
         ],
         "k": [
          2,
          1,
          6,
          5,
          4,
          1,
          6,
          3,
          7,
          1,
          6,
          0
         ],
         "opacity": 0.2,
         "type": "mesh3d",
         "x": [
          525,
          585,
          585,
          525,
          525,
          585,
          585,
          525
         ],
         "y": [
          80,
          80,
          165,
          165,
          80,
          80,
          165,
          165
         ],
         "z": [
          170,
          170,
          170,
          170,
          230,
          230,
          230,
          230
         ]
        },
        {
         "line": {
          "color": "black",
          "width": 2
         },
         "mode": "lines",
         "type": "scatter3d",
         "x": [
          525,
          585
         ],
         "y": [
          80,
          80
         ],
         "z": [
          170,
          170
         ]
        },
        {
         "line": {
          "color": "black",
          "width": 2
         },
         "mode": "lines",
         "type": "scatter3d",
         "x": [
          525,
          585
         ],
         "y": [
          80,
          165
         ],
         "z": [
          170,
          170
         ]
        },
        {
         "line": {
          "color": "black",
          "width": 2
         },
         "mode": "lines",
         "type": "scatter3d",
         "x": [
          525,
          525
         ],
         "y": [
          80,
          80
         ],
         "z": [
          170,
          230
         ]
        },
        {
         "line": {
          "color": "black",
          "width": 2
         },
         "mode": "lines",
         "type": "scatter3d",
         "x": [
          585,
          525
         ],
         "y": [
          80,
          165
         ],
         "z": [
          170,
          170
         ]
        },
        {
         "line": {
          "color": "black",
          "width": 2
         },
         "mode": "lines",
         "type": "scatter3d",
         "x": [
          585,
          585
         ],
         "y": [
          80,
          80
         ],
         "z": [
          170,
          230
         ]
        },
        {
         "line": {
          "color": "black",
          "width": 2
         },
         "mode": "lines",
         "type": "scatter3d",
         "x": [
          585,
          525
         ],
         "y": [
          165,
          165
         ],
         "z": [
          170,
          170
         ]
        },
        {
         "line": {
          "color": "black",
          "width": 2
         },
         "mode": "lines",
         "type": "scatter3d",
         "x": [
          585,
          585
         ],
         "y": [
          165,
          165
         ],
         "z": [
          170,
          230
         ]
        },
        {
         "line": {
          "color": "black",
          "width": 2
         },
         "mode": "lines",
         "type": "scatter3d",
         "x": [
          525,
          525
         ],
         "y": [
          165,
          165
         ],
         "z": [
          170,
          230
         ]
        },
        {
         "line": {
          "color": "black",
          "width": 2
         },
         "mode": "lines",
         "type": "scatter3d",
         "x": [
          525,
          585
         ],
         "y": [
          80,
          80
         ],
         "z": [
          230,
          230
         ]
        },
        {
         "line": {
          "color": "black",
          "width": 2
         },
         "mode": "lines",
         "type": "scatter3d",
         "x": [
          525,
          585
         ],
         "y": [
          80,
          165
         ],
         "z": [
          230,
          230
         ]
        },
        {
         "line": {
          "color": "black",
          "width": 2
         },
         "mode": "lines",
         "type": "scatter3d",
         "x": [
          585,
          525
         ],
         "y": [
          80,
          165
         ],
         "z": [
          230,
          230
         ]
        },
        {
         "line": {
          "color": "black",
          "width": 2
         },
         "mode": "lines",
         "type": "scatter3d",
         "x": [
          585,
          525
         ],
         "y": [
          165,
          165
         ],
         "z": [
          230,
          230
         ]
        },
        {
         "color": "#FFFF37",
         "flatshading": true,
         "i": [
          1,
          2,
          5,
          6,
          1,
          4,
          3,
          6,
          1,
          7,
          0,
          6
         ],
         "j": [
          0,
          3,
          4,
          7,
          0,
          5,
          2,
          7,
          3,
          5,
          2,
          4
         ],
         "k": [
          2,
          1,
          6,
          5,
          4,
          1,
          6,
          3,
          7,
          1,
          6,
          0
         ],
         "opacity": 0.2,
         "type": "mesh3d",
         "x": [
          0,
          60,
          60,
          0,
          0,
          60,
          60,
          0
         ],
         "y": [
          160,
          160,
          220,
          220,
          160,
          160,
          220,
          220
         ],
         "z": [
          92,
          92,
          92,
          92,
          177,
          177,
          177,
          177
         ]
        },
        {
         "line": {
          "color": "black",
          "width": 2
         },
         "mode": "lines",
         "type": "scatter3d",
         "x": [
          0,
          60
         ],
         "y": [
          160,
          160
         ],
         "z": [
          92,
          92
         ]
        },
        {
         "line": {
          "color": "black",
          "width": 2
         },
         "mode": "lines",
         "type": "scatter3d",
         "x": [
          0,
          60
         ],
         "y": [
          160,
          220
         ],
         "z": [
          92,
          92
         ]
        },
        {
         "line": {
          "color": "black",
          "width": 2
         },
         "mode": "lines",
         "type": "scatter3d",
         "x": [
          0,
          0
         ],
         "y": [
          160,
          160
         ],
         "z": [
          92,
          177
         ]
        },
        {
         "line": {
          "color": "black",
          "width": 2
         },
         "mode": "lines",
         "type": "scatter3d",
         "x": [
          60,
          0
         ],
         "y": [
          160,
          220
         ],
         "z": [
          92,
          92
         ]
        },
        {
         "line": {
          "color": "black",
          "width": 2
         },
         "mode": "lines",
         "type": "scatter3d",
         "x": [
          60,
          60
         ],
         "y": [
          160,
          160
         ],
         "z": [
          92,
          177
         ]
        },
        {
         "line": {
          "color": "black",
          "width": 2
         },
         "mode": "lines",
         "type": "scatter3d",
         "x": [
          60,
          0
         ],
         "y": [
          220,
          220
         ],
         "z": [
          92,
          92
         ]
        },
        {
         "line": {
          "color": "black",
          "width": 2
         },
         "mode": "lines",
         "type": "scatter3d",
         "x": [
          60,
          60
         ],
         "y": [
          220,
          220
         ],
         "z": [
          92,
          177
         ]
        },
        {
         "line": {
          "color": "black",
          "width": 2
         },
         "mode": "lines",
         "type": "scatter3d",
         "x": [
          0,
          0
         ],
         "y": [
          220,
          220
         ],
         "z": [
          92,
          177
         ]
        },
        {
         "line": {
          "color": "black",
          "width": 2
         },
         "mode": "lines",
         "type": "scatter3d",
         "x": [
          0,
          60
         ],
         "y": [
          160,
          160
         ],
         "z": [
          177,
          177
         ]
        },
        {
         "line": {
          "color": "black",
          "width": 2
         },
         "mode": "lines",
         "type": "scatter3d",
         "x": [
          0,
          60
         ],
         "y": [
          160,
          220
         ],
         "z": [
          177,
          177
         ]
        },
        {
         "line": {
          "color": "black",
          "width": 2
         },
         "mode": "lines",
         "type": "scatter3d",
         "x": [
          60,
          0
         ],
         "y": [
          160,
          220
         ],
         "z": [
          177,
          177
         ]
        },
        {
         "line": {
          "color": "black",
          "width": 2
         },
         "mode": "lines",
         "type": "scatter3d",
         "x": [
          60,
          0
         ],
         "y": [
          220,
          220
         ],
         "z": [
          177,
          177
         ]
        },
        {
         "color": "#FFFF37",
         "flatshading": true,
         "i": [
          1,
          2,
          5,
          6,
          1,
          4,
          3,
          6,
          1,
          7,
          0,
          6
         ],
         "j": [
          0,
          3,
          4,
          7,
          0,
          5,
          2,
          7,
          3,
          5,
          2,
          4
         ],
         "k": [
          2,
          1,
          6,
          5,
          4,
          1,
          6,
          3,
          7,
          1,
          6,
          0
         ],
         "opacity": 0.2,
         "type": "mesh3d",
         "x": [
          60,
          145,
          145,
          60,
          60,
          145,
          145,
          60
         ],
         "y": [
          160,
          160,
          220,
          220,
          160,
          160,
          220,
          220
         ],
         "z": [
          92,
          92,
          92,
          92,
          152,
          152,
          152,
          152
         ]
        },
        {
         "line": {
          "color": "black",
          "width": 2
         },
         "mode": "lines",
         "type": "scatter3d",
         "x": [
          60,
          145
         ],
         "y": [
          160,
          160
         ],
         "z": [
          92,
          92
         ]
        },
        {
         "line": {
          "color": "black",
          "width": 2
         },
         "mode": "lines",
         "type": "scatter3d",
         "x": [
          60,
          145
         ],
         "y": [
          160,
          220
         ],
         "z": [
          92,
          92
         ]
        },
        {
         "line": {
          "color": "black",
          "width": 2
         },
         "mode": "lines",
         "type": "scatter3d",
         "x": [
          60,
          60
         ],
         "y": [
          160,
          160
         ],
         "z": [
          92,
          152
         ]
        },
        {
         "line": {
          "color": "black",
          "width": 2
         },
         "mode": "lines",
         "type": "scatter3d",
         "x": [
          145,
          60
         ],
         "y": [
          160,
          220
         ],
         "z": [
          92,
          92
         ]
        },
        {
         "line": {
          "color": "black",
          "width": 2
         },
         "mode": "lines",
         "type": "scatter3d",
         "x": [
          145,
          145
         ],
         "y": [
          160,
          160
         ],
         "z": [
          92,
          152
         ]
        },
        {
         "line": {
          "color": "black",
          "width": 2
         },
         "mode": "lines",
         "type": "scatter3d",
         "x": [
          145,
          60
         ],
         "y": [
          220,
          220
         ],
         "z": [
          92,
          92
         ]
        },
        {
         "line": {
          "color": "black",
          "width": 2
         },
         "mode": "lines",
         "type": "scatter3d",
         "x": [
          145,
          145
         ],
         "y": [
          220,
          220
         ],
         "z": [
          92,
          152
         ]
        },
        {
         "line": {
          "color": "black",
          "width": 2
         },
         "mode": "lines",
         "type": "scatter3d",
         "x": [
          60,
          60
         ],
         "y": [
          220,
          220
         ],
         "z": [
          92,
          152
         ]
        },
        {
         "line": {
          "color": "black",
          "width": 2
         },
         "mode": "lines",
         "type": "scatter3d",
         "x": [
          60,
          145
         ],
         "y": [
          160,
          160
         ],
         "z": [
          152,
          152
         ]
        },
        {
         "line": {
          "color": "black",
          "width": 2
         },
         "mode": "lines",
         "type": "scatter3d",
         "x": [
          60,
          145
         ],
         "y": [
          160,
          220
         ],
         "z": [
          152,
          152
         ]
        },
        {
         "line": {
          "color": "black",
          "width": 2
         },
         "mode": "lines",
         "type": "scatter3d",
         "x": [
          145,
          60
         ],
         "y": [
          160,
          220
         ],
         "z": [
          152,
          152
         ]
        },
        {
         "line": {
          "color": "black",
          "width": 2
         },
         "mode": "lines",
         "type": "scatter3d",
         "x": [
          145,
          60
         ],
         "y": [
          220,
          220
         ],
         "z": [
          152,
          152
         ]
        },
        {
         "color": "#FFFF37",
         "flatshading": true,
         "i": [
          1,
          2,
          5,
          6,
          1,
          4,
          3,
          6,
          1,
          7,
          0,
          6
         ],
         "j": [
          0,
          3,
          4,
          7,
          0,
          5,
          2,
          7,
          3,
          5,
          2,
          4
         ],
         "k": [
          2,
          1,
          6,
          5,
          4,
          1,
          6,
          3,
          7,
          1,
          6,
          0
         ],
         "opacity": 0.2,
         "type": "mesh3d",
         "x": [
          145,
          230,
          230,
          145,
          145,
          230,
          230,
          145
         ],
         "y": [
          160,
          160,
          220,
          220,
          160,
          160,
          220,
          220
         ],
         "z": [
          92,
          92,
          92,
          92,
          152,
          152,
          152,
          152
         ]
        },
        {
         "line": {
          "color": "black",
          "width": 2
         },
         "mode": "lines",
         "type": "scatter3d",
         "x": [
          145,
          230
         ],
         "y": [
          160,
          160
         ],
         "z": [
          92,
          92
         ]
        },
        {
         "line": {
          "color": "black",
          "width": 2
         },
         "mode": "lines",
         "type": "scatter3d",
         "x": [
          145,
          230
         ],
         "y": [
          160,
          220
         ],
         "z": [
          92,
          92
         ]
        },
        {
         "line": {
          "color": "black",
          "width": 2
         },
         "mode": "lines",
         "type": "scatter3d",
         "x": [
          145,
          145
         ],
         "y": [
          160,
          160
         ],
         "z": [
          92,
          152
         ]
        },
        {
         "line": {
          "color": "black",
          "width": 2
         },
         "mode": "lines",
         "type": "scatter3d",
         "x": [
          230,
          145
         ],
         "y": [
          160,
          220
         ],
         "z": [
          92,
          92
         ]
        },
        {
         "line": {
          "color": "black",
          "width": 2
         },
         "mode": "lines",
         "type": "scatter3d",
         "x": [
          230,
          230
         ],
         "y": [
          160,
          160
         ],
         "z": [
          92,
          152
         ]
        },
        {
         "line": {
          "color": "black",
          "width": 2
         },
         "mode": "lines",
         "type": "scatter3d",
         "x": [
          230,
          145
         ],
         "y": [
          220,
          220
         ],
         "z": [
          92,
          92
         ]
        },
        {
         "line": {
          "color": "black",
          "width": 2
         },
         "mode": "lines",
         "type": "scatter3d",
         "x": [
          230,
          230
         ],
         "y": [
          220,
          220
         ],
         "z": [
          92,
          152
         ]
        },
        {
         "line": {
          "color": "black",
          "width": 2
         },
         "mode": "lines",
         "type": "scatter3d",
         "x": [
          145,
          145
         ],
         "y": [
          220,
          220
         ],
         "z": [
          92,
          152
         ]
        },
        {
         "line": {
          "color": "black",
          "width": 2
         },
         "mode": "lines",
         "type": "scatter3d",
         "x": [
          145,
          230
         ],
         "y": [
          160,
          160
         ],
         "z": [
          152,
          152
         ]
        },
        {
         "line": {
          "color": "black",
          "width": 2
         },
         "mode": "lines",
         "type": "scatter3d",
         "x": [
          145,
          230
         ],
         "y": [
          160,
          220
         ],
         "z": [
          152,
          152
         ]
        },
        {
         "line": {
          "color": "black",
          "width": 2
         },
         "mode": "lines",
         "type": "scatter3d",
         "x": [
          230,
          145
         ],
         "y": [
          160,
          220
         ],
         "z": [
          152,
          152
         ]
        },
        {
         "line": {
          "color": "black",
          "width": 2
         },
         "mode": "lines",
         "type": "scatter3d",
         "x": [
          230,
          145
         ],
         "y": [
          220,
          220
         ],
         "z": [
          152,
          152
         ]
        },
        {
         "color": "#FFFF37",
         "flatshading": true,
         "i": [
          1,
          2,
          5,
          6,
          1,
          4,
          3,
          6,
          1,
          7,
          0,
          6
         ],
         "j": [
          0,
          3,
          4,
          7,
          0,
          5,
          2,
          7,
          3,
          5,
          2,
          4
         ],
         "k": [
          2,
          1,
          6,
          5,
          4,
          1,
          6,
          3,
          7,
          1,
          6,
          0
         ],
         "opacity": 0.2,
         "type": "mesh3d",
         "x": [
          230,
          315,
          315,
          230,
          230,
          315,
          315,
          230
         ],
         "y": [
          160,
          160,
          220,
          220,
          160,
          160,
          220,
          220
         ],
         "z": [
          92,
          92,
          92,
          92,
          152,
          152,
          152,
          152
         ]
        },
        {
         "line": {
          "color": "black",
          "width": 2
         },
         "mode": "lines",
         "type": "scatter3d",
         "x": [
          230,
          315
         ],
         "y": [
          160,
          160
         ],
         "z": [
          92,
          92
         ]
        },
        {
         "line": {
          "color": "black",
          "width": 2
         },
         "mode": "lines",
         "type": "scatter3d",
         "x": [
          230,
          315
         ],
         "y": [
          160,
          220
         ],
         "z": [
          92,
          92
         ]
        },
        {
         "line": {
          "color": "black",
          "width": 2
         },
         "mode": "lines",
         "type": "scatter3d",
         "x": [
          230,
          230
         ],
         "y": [
          160,
          160
         ],
         "z": [
          92,
          152
         ]
        },
        {
         "line": {
          "color": "black",
          "width": 2
         },
         "mode": "lines",
         "type": "scatter3d",
         "x": [
          315,
          230
         ],
         "y": [
          160,
          220
         ],
         "z": [
          92,
          92
         ]
        },
        {
         "line": {
          "color": "black",
          "width": 2
         },
         "mode": "lines",
         "type": "scatter3d",
         "x": [
          315,
          315
         ],
         "y": [
          160,
          160
         ],
         "z": [
          92,
          152
         ]
        },
        {
         "line": {
          "color": "black",
          "width": 2
         },
         "mode": "lines",
         "type": "scatter3d",
         "x": [
          315,
          230
         ],
         "y": [
          220,
          220
         ],
         "z": [
          92,
          92
         ]
        },
        {
         "line": {
          "color": "black",
          "width": 2
         },
         "mode": "lines",
         "type": "scatter3d",
         "x": [
          315,
          315
         ],
         "y": [
          220,
          220
         ],
         "z": [
          92,
          152
         ]
        },
        {
         "line": {
          "color": "black",
          "width": 2
         },
         "mode": "lines",
         "type": "scatter3d",
         "x": [
          230,
          230
         ],
         "y": [
          220,
          220
         ],
         "z": [
          92,
          152
         ]
        },
        {
         "line": {
          "color": "black",
          "width": 2
         },
         "mode": "lines",
         "type": "scatter3d",
         "x": [
          230,
          315
         ],
         "y": [
          160,
          160
         ],
         "z": [
          152,
          152
         ]
        },
        {
         "line": {
          "color": "black",
          "width": 2
         },
         "mode": "lines",
         "type": "scatter3d",
         "x": [
          230,
          315
         ],
         "y": [
          160,
          220
         ],
         "z": [
          152,
          152
         ]
        },
        {
         "line": {
          "color": "black",
          "width": 2
         },
         "mode": "lines",
         "type": "scatter3d",
         "x": [
          315,
          230
         ],
         "y": [
          160,
          220
         ],
         "z": [
          152,
          152
         ]
        },
        {
         "line": {
          "color": "black",
          "width": 2
         },
         "mode": "lines",
         "type": "scatter3d",
         "x": [
          315,
          230
         ],
         "y": [
          220,
          220
         ],
         "z": [
          152,
          152
         ]
        },
        {
         "color": "#FFFF37",
         "flatshading": true,
         "i": [
          1,
          2,
          5,
          6,
          1,
          4,
          3,
          6,
          1,
          7,
          0,
          6
         ],
         "j": [
          0,
          3,
          4,
          7,
          0,
          5,
          2,
          7,
          3,
          5,
          2,
          4
         ],
         "k": [
          2,
          1,
          6,
          5,
          4,
          1,
          6,
          3,
          7,
          1,
          6,
          0
         ],
         "opacity": 0.2,
         "type": "mesh3d",
         "x": [
          315,
          400,
          400,
          315,
          315,
          400,
          400,
          315
         ],
         "y": [
          160,
          160,
          220,
          220,
          160,
          160,
          220,
          220
         ],
         "z": [
          92,
          92,
          92,
          92,
          152,
          152,
          152,
          152
         ]
        },
        {
         "line": {
          "color": "black",
          "width": 2
         },
         "mode": "lines",
         "type": "scatter3d",
         "x": [
          315,
          400
         ],
         "y": [
          160,
          160
         ],
         "z": [
          92,
          92
         ]
        },
        {
         "line": {
          "color": "black",
          "width": 2
         },
         "mode": "lines",
         "type": "scatter3d",
         "x": [
          315,
          400
         ],
         "y": [
          160,
          220
         ],
         "z": [
          92,
          92
         ]
        },
        {
         "line": {
          "color": "black",
          "width": 2
         },
         "mode": "lines",
         "type": "scatter3d",
         "x": [
          315,
          315
         ],
         "y": [
          160,
          160
         ],
         "z": [
          92,
          152
         ]
        },
        {
         "line": {
          "color": "black",
          "width": 2
         },
         "mode": "lines",
         "type": "scatter3d",
         "x": [
          400,
          315
         ],
         "y": [
          160,
          220
         ],
         "z": [
          92,
          92
         ]
        },
        {
         "line": {
          "color": "black",
          "width": 2
         },
         "mode": "lines",
         "type": "scatter3d",
         "x": [
          400,
          400
         ],
         "y": [
          160,
          160
         ],
         "z": [
          92,
          152
         ]
        },
        {
         "line": {
          "color": "black",
          "width": 2
         },
         "mode": "lines",
         "type": "scatter3d",
         "x": [
          400,
          315
         ],
         "y": [
          220,
          220
         ],
         "z": [
          92,
          92
         ]
        },
        {
         "line": {
          "color": "black",
          "width": 2
         },
         "mode": "lines",
         "type": "scatter3d",
         "x": [
          400,
          400
         ],
         "y": [
          220,
          220
         ],
         "z": [
          92,
          152
         ]
        },
        {
         "line": {
          "color": "black",
          "width": 2
         },
         "mode": "lines",
         "type": "scatter3d",
         "x": [
          315,
          315
         ],
         "y": [
          220,
          220
         ],
         "z": [
          92,
          152
         ]
        },
        {
         "line": {
          "color": "black",
          "width": 2
         },
         "mode": "lines",
         "type": "scatter3d",
         "x": [
          315,
          400
         ],
         "y": [
          160,
          160
         ],
         "z": [
          152,
          152
         ]
        },
        {
         "line": {
          "color": "black",
          "width": 2
         },
         "mode": "lines",
         "type": "scatter3d",
         "x": [
          315,
          400
         ],
         "y": [
          160,
          220
         ],
         "z": [
          152,
          152
         ]
        },
        {
         "line": {
          "color": "black",
          "width": 2
         },
         "mode": "lines",
         "type": "scatter3d",
         "x": [
          400,
          315
         ],
         "y": [
          160,
          220
         ],
         "z": [
          152,
          152
         ]
        },
        {
         "line": {
          "color": "black",
          "width": 2
         },
         "mode": "lines",
         "type": "scatter3d",
         "x": [
          400,
          315
         ],
         "y": [
          220,
          220
         ],
         "z": [
          152,
          152
         ]
        },
        {
         "color": "#FFFF37",
         "flatshading": true,
         "i": [
          1,
          2,
          5,
          6,
          1,
          4,
          3,
          6,
          1,
          7,
          0,
          6
         ],
         "j": [
          0,
          3,
          4,
          7,
          0,
          5,
          2,
          7,
          3,
          5,
          2,
          4
         ],
         "k": [
          2,
          1,
          6,
          5,
          4,
          1,
          6,
          3,
          7,
          1,
          6,
          0
         ],
         "opacity": 0.2,
         "type": "mesh3d",
         "x": [
          360,
          445,
          445,
          360,
          360,
          445,
          445,
          360
         ],
         "y": [
          80,
          80,
          140,
          140,
          80,
          80,
          140,
          140
         ],
         "z": [
          92,
          92,
          92,
          92,
          152,
          152,
          152,
          152
         ]
        },
        {
         "line": {
          "color": "black",
          "width": 2
         },
         "mode": "lines",
         "type": "scatter3d",
         "x": [
          360,
          445
         ],
         "y": [
          80,
          80
         ],
         "z": [
          92,
          92
         ]
        },
        {
         "line": {
          "color": "black",
          "width": 2
         },
         "mode": "lines",
         "type": "scatter3d",
         "x": [
          360,
          445
         ],
         "y": [
          80,
          140
         ],
         "z": [
          92,
          92
         ]
        },
        {
         "line": {
          "color": "black",
          "width": 2
         },
         "mode": "lines",
         "type": "scatter3d",
         "x": [
          360,
          360
         ],
         "y": [
          80,
          80
         ],
         "z": [
          92,
          152
         ]
        },
        {
         "line": {
          "color": "black",
          "width": 2
         },
         "mode": "lines",
         "type": "scatter3d",
         "x": [
          445,
          360
         ],
         "y": [
          80,
          140
         ],
         "z": [
          92,
          92
         ]
        },
        {
         "line": {
          "color": "black",
          "width": 2
         },
         "mode": "lines",
         "type": "scatter3d",
         "x": [
          445,
          445
         ],
         "y": [
          80,
          80
         ],
         "z": [
          92,
          152
         ]
        },
        {
         "line": {
          "color": "black",
          "width": 2
         },
         "mode": "lines",
         "type": "scatter3d",
         "x": [
          445,
          360
         ],
         "y": [
          140,
          140
         ],
         "z": [
          92,
          92
         ]
        },
        {
         "line": {
          "color": "black",
          "width": 2
         },
         "mode": "lines",
         "type": "scatter3d",
         "x": [
          445,
          445
         ],
         "y": [
          140,
          140
         ],
         "z": [
          92,
          152
         ]
        },
        {
         "line": {
          "color": "black",
          "width": 2
         },
         "mode": "lines",
         "type": "scatter3d",
         "x": [
          360,
          360
         ],
         "y": [
          140,
          140
         ],
         "z": [
          92,
          152
         ]
        },
        {
         "line": {
          "color": "black",
          "width": 2
         },
         "mode": "lines",
         "type": "scatter3d",
         "x": [
          360,
          445
         ],
         "y": [
          80,
          80
         ],
         "z": [
          152,
          152
         ]
        },
        {
         "line": {
          "color": "black",
          "width": 2
         },
         "mode": "lines",
         "type": "scatter3d",
         "x": [
          360,
          445
         ],
         "y": [
          80,
          140
         ],
         "z": [
          152,
          152
         ]
        },
        {
         "line": {
          "color": "black",
          "width": 2
         },
         "mode": "lines",
         "type": "scatter3d",
         "x": [
          445,
          360
         ],
         "y": [
          80,
          140
         ],
         "z": [
          152,
          152
         ]
        },
        {
         "line": {
          "color": "black",
          "width": 2
         },
         "mode": "lines",
         "type": "scatter3d",
         "x": [
          445,
          360
         ],
         "y": [
          140,
          140
         ],
         "z": [
          152,
          152
         ]
        },
        {
         "color": "#FFFF37",
         "flatshading": true,
         "i": [
          1,
          2,
          5,
          6,
          1,
          4,
          3,
          6,
          1,
          7,
          0,
          6
         ],
         "j": [
          0,
          3,
          4,
          7,
          0,
          5,
          2,
          7,
          3,
          5,
          2,
          4
         ],
         "k": [
          2,
          1,
          6,
          5,
          4,
          1,
          6,
          3,
          7,
          1,
          6,
          0
         ],
         "opacity": 0.2,
         "type": "mesh3d",
         "x": [
          400,
          485,
          485,
          400,
          400,
          485,
          485,
          400
         ],
         "y": [
          140,
          140,
          200,
          200,
          140,
          140,
          200,
          200
         ],
         "z": [
          92,
          92,
          92,
          92,
          152,
          152,
          152,
          152
         ]
        },
        {
         "line": {
          "color": "black",
          "width": 2
         },
         "mode": "lines",
         "type": "scatter3d",
         "x": [
          400,
          485
         ],
         "y": [
          140,
          140
         ],
         "z": [
          92,
          92
         ]
        },
        {
         "line": {
          "color": "black",
          "width": 2
         },
         "mode": "lines",
         "type": "scatter3d",
         "x": [
          400,
          485
         ],
         "y": [
          140,
          200
         ],
         "z": [
          92,
          92
         ]
        },
        {
         "line": {
          "color": "black",
          "width": 2
         },
         "mode": "lines",
         "type": "scatter3d",
         "x": [
          400,
          400
         ],
         "y": [
          140,
          140
         ],
         "z": [
          92,
          152
         ]
        },
        {
         "line": {
          "color": "black",
          "width": 2
         },
         "mode": "lines",
         "type": "scatter3d",
         "x": [
          485,
          400
         ],
         "y": [
          140,
          200
         ],
         "z": [
          92,
          92
         ]
        },
        {
         "line": {
          "color": "black",
          "width": 2
         },
         "mode": "lines",
         "type": "scatter3d",
         "x": [
          485,
          485
         ],
         "y": [
          140,
          140
         ],
         "z": [
          92,
          152
         ]
        },
        {
         "line": {
          "color": "black",
          "width": 2
         },
         "mode": "lines",
         "type": "scatter3d",
         "x": [
          485,
          400
         ],
         "y": [
          200,
          200
         ],
         "z": [
          92,
          92
         ]
        },
        {
         "line": {
          "color": "black",
          "width": 2
         },
         "mode": "lines",
         "type": "scatter3d",
         "x": [
          485,
          485
         ],
         "y": [
          200,
          200
         ],
         "z": [
          92,
          152
         ]
        },
        {
         "line": {
          "color": "black",
          "width": 2
         },
         "mode": "lines",
         "type": "scatter3d",
         "x": [
          400,
          400
         ],
         "y": [
          200,
          200
         ],
         "z": [
          92,
          152
         ]
        },
        {
         "line": {
          "color": "black",
          "width": 2
         },
         "mode": "lines",
         "type": "scatter3d",
         "x": [
          400,
          485
         ],
         "y": [
          140,
          140
         ],
         "z": [
          152,
          152
         ]
        },
        {
         "line": {
          "color": "black",
          "width": 2
         },
         "mode": "lines",
         "type": "scatter3d",
         "x": [
          400,
          485
         ],
         "y": [
          140,
          200
         ],
         "z": [
          152,
          152
         ]
        },
        {
         "line": {
          "color": "black",
          "width": 2
         },
         "mode": "lines",
         "type": "scatter3d",
         "x": [
          485,
          400
         ],
         "y": [
          140,
          200
         ],
         "z": [
          152,
          152
         ]
        },
        {
         "line": {
          "color": "black",
          "width": 2
         },
         "mode": "lines",
         "type": "scatter3d",
         "x": [
          485,
          400
         ],
         "y": [
          200,
          200
         ],
         "z": [
          152,
          152
         ]
        },
        {
         "color": "#FFFF37",
         "flatshading": true,
         "i": [
          1,
          2,
          5,
          6,
          1,
          4,
          3,
          6,
          1,
          7,
          0,
          6
         ],
         "j": [
          0,
          3,
          4,
          7,
          0,
          5,
          2,
          7,
          3,
          5,
          2,
          4
         ],
         "k": [
          2,
          1,
          6,
          5,
          4,
          1,
          6,
          3,
          7,
          1,
          6,
          0
         ],
         "opacity": 0.2,
         "type": "mesh3d",
         "x": [
          445,
          530,
          530,
          445,
          445,
          530,
          530,
          445
         ],
         "y": [
          80,
          80,
          140,
          140,
          80,
          80,
          140,
          140
         ],
         "z": [
          92,
          92,
          92,
          92,
          152,
          152,
          152,
          152
         ]
        },
        {
         "line": {
          "color": "black",
          "width": 2
         },
         "mode": "lines",
         "type": "scatter3d",
         "x": [
          445,
          530
         ],
         "y": [
          80,
          80
         ],
         "z": [
          92,
          92
         ]
        },
        {
         "line": {
          "color": "black",
          "width": 2
         },
         "mode": "lines",
         "type": "scatter3d",
         "x": [
          445,
          530
         ],
         "y": [
          80,
          140
         ],
         "z": [
          92,
          92
         ]
        },
        {
         "line": {
          "color": "black",
          "width": 2
         },
         "mode": "lines",
         "type": "scatter3d",
         "x": [
          445,
          445
         ],
         "y": [
          80,
          80
         ],
         "z": [
          92,
          152
         ]
        },
        {
         "line": {
          "color": "black",
          "width": 2
         },
         "mode": "lines",
         "type": "scatter3d",
         "x": [
          530,
          445
         ],
         "y": [
          80,
          140
         ],
         "z": [
          92,
          92
         ]
        },
        {
         "line": {
          "color": "black",
          "width": 2
         },
         "mode": "lines",
         "type": "scatter3d",
         "x": [
          530,
          530
         ],
         "y": [
          80,
          80
         ],
         "z": [
          92,
          152
         ]
        },
        {
         "line": {
          "color": "black",
          "width": 2
         },
         "mode": "lines",
         "type": "scatter3d",
         "x": [
          530,
          445
         ],
         "y": [
          140,
          140
         ],
         "z": [
          92,
          92
         ]
        },
        {
         "line": {
          "color": "black",
          "width": 2
         },
         "mode": "lines",
         "type": "scatter3d",
         "x": [
          530,
          530
         ],
         "y": [
          140,
          140
         ],
         "z": [
          92,
          152
         ]
        },
        {
         "line": {
          "color": "black",
          "width": 2
         },
         "mode": "lines",
         "type": "scatter3d",
         "x": [
          445,
          445
         ],
         "y": [
          140,
          140
         ],
         "z": [
          92,
          152
         ]
        },
        {
         "line": {
          "color": "black",
          "width": 2
         },
         "mode": "lines",
         "type": "scatter3d",
         "x": [
          445,
          530
         ],
         "y": [
          80,
          80
         ],
         "z": [
          152,
          152
         ]
        },
        {
         "line": {
          "color": "black",
          "width": 2
         },
         "mode": "lines",
         "type": "scatter3d",
         "x": [
          445,
          530
         ],
         "y": [
          80,
          140
         ],
         "z": [
          152,
          152
         ]
        },
        {
         "line": {
          "color": "black",
          "width": 2
         },
         "mode": "lines",
         "type": "scatter3d",
         "x": [
          530,
          445
         ],
         "y": [
          80,
          140
         ],
         "z": [
          152,
          152
         ]
        },
        {
         "line": {
          "color": "black",
          "width": 2
         },
         "mode": "lines",
         "type": "scatter3d",
         "x": [
          530,
          445
         ],
         "y": [
          140,
          140
         ],
         "z": [
          152,
          152
         ]
        },
        {
         "color": "#FFFF37",
         "flatshading": true,
         "i": [
          1,
          2,
          5,
          6,
          1,
          4,
          3,
          6,
          1,
          7,
          0,
          6
         ],
         "j": [
          0,
          3,
          4,
          7,
          0,
          5,
          2,
          7,
          3,
          5,
          2,
          4
         ],
         "k": [
          2,
          1,
          6,
          5,
          4,
          1,
          6,
          3,
          7,
          1,
          6,
          0
         ],
         "opacity": 0.2,
         "type": "mesh3d",
         "x": [
          60,
          120,
          120,
          60,
          60,
          120,
          120,
          60
         ],
         "y": [
          164,
          164,
          224,
          224,
          164,
          164,
          224,
          224
         ],
         "z": [
          152,
          152,
          152,
          152,
          237,
          237,
          237,
          237
         ]
        },
        {
         "line": {
          "color": "black",
          "width": 2
         },
         "mode": "lines",
         "type": "scatter3d",
         "x": [
          60,
          120
         ],
         "y": [
          164,
          164
         ],
         "z": [
          152,
          152
         ]
        },
        {
         "line": {
          "color": "black",
          "width": 2
         },
         "mode": "lines",
         "type": "scatter3d",
         "x": [
          60,
          120
         ],
         "y": [
          164,
          224
         ],
         "z": [
          152,
          152
         ]
        },
        {
         "line": {
          "color": "black",
          "width": 2
         },
         "mode": "lines",
         "type": "scatter3d",
         "x": [
          60,
          60
         ],
         "y": [
          164,
          164
         ],
         "z": [
          152,
          237
         ]
        },
        {
         "line": {
          "color": "black",
          "width": 2
         },
         "mode": "lines",
         "type": "scatter3d",
         "x": [
          120,
          60
         ],
         "y": [
          164,
          224
         ],
         "z": [
          152,
          152
         ]
        },
        {
         "line": {
          "color": "black",
          "width": 2
         },
         "mode": "lines",
         "type": "scatter3d",
         "x": [
          120,
          120
         ],
         "y": [
          164,
          164
         ],
         "z": [
          152,
          237
         ]
        },
        {
         "line": {
          "color": "black",
          "width": 2
         },
         "mode": "lines",
         "type": "scatter3d",
         "x": [
          120,
          60
         ],
         "y": [
          224,
          224
         ],
         "z": [
          152,
          152
         ]
        },
        {
         "line": {
          "color": "black",
          "width": 2
         },
         "mode": "lines",
         "type": "scatter3d",
         "x": [
          120,
          120
         ],
         "y": [
          224,
          224
         ],
         "z": [
          152,
          237
         ]
        },
        {
         "line": {
          "color": "black",
          "width": 2
         },
         "mode": "lines",
         "type": "scatter3d",
         "x": [
          60,
          60
         ],
         "y": [
          224,
          224
         ],
         "z": [
          152,
          237
         ]
        },
        {
         "line": {
          "color": "black",
          "width": 2
         },
         "mode": "lines",
         "type": "scatter3d",
         "x": [
          60,
          120
         ],
         "y": [
          164,
          164
         ],
         "z": [
          237,
          237
         ]
        },
        {
         "line": {
          "color": "black",
          "width": 2
         },
         "mode": "lines",
         "type": "scatter3d",
         "x": [
          60,
          120
         ],
         "y": [
          164,
          224
         ],
         "z": [
          237,
          237
         ]
        },
        {
         "line": {
          "color": "black",
          "width": 2
         },
         "mode": "lines",
         "type": "scatter3d",
         "x": [
          120,
          60
         ],
         "y": [
          164,
          224
         ],
         "z": [
          237,
          237
         ]
        },
        {
         "line": {
          "color": "black",
          "width": 2
         },
         "mode": "lines",
         "type": "scatter3d",
         "x": [
          120,
          60
         ],
         "y": [
          224,
          224
         ],
         "z": [
          237,
          237
         ]
        },
        {
         "color": "#FFFF37",
         "flatshading": true,
         "i": [
          1,
          2,
          5,
          6,
          1,
          4,
          3,
          6,
          1,
          7,
          0,
          6
         ],
         "j": [
          0,
          3,
          4,
          7,
          0,
          5,
          2,
          7,
          3,
          5,
          2,
          4
         ],
         "k": [
          2,
          1,
          6,
          5,
          4,
          1,
          6,
          3,
          7,
          1,
          6,
          0
         ],
         "opacity": 0.2,
         "type": "mesh3d",
         "x": [
          120,
          205,
          205,
          120,
          120,
          205,
          205,
          120
         ],
         "y": [
          164,
          164,
          224,
          224,
          164,
          164,
          224,
          224
         ],
         "z": [
          152,
          152,
          152,
          152,
          212,
          212,
          212,
          212
         ]
        },
        {
         "line": {
          "color": "black",
          "width": 2
         },
         "mode": "lines",
         "type": "scatter3d",
         "x": [
          120,
          205
         ],
         "y": [
          164,
          164
         ],
         "z": [
          152,
          152
         ]
        },
        {
         "line": {
          "color": "black",
          "width": 2
         },
         "mode": "lines",
         "type": "scatter3d",
         "x": [
          120,
          205
         ],
         "y": [
          164,
          224
         ],
         "z": [
          152,
          152
         ]
        },
        {
         "line": {
          "color": "black",
          "width": 2
         },
         "mode": "lines",
         "type": "scatter3d",
         "x": [
          120,
          120
         ],
         "y": [
          164,
          164
         ],
         "z": [
          152,
          212
         ]
        },
        {
         "line": {
          "color": "black",
          "width": 2
         },
         "mode": "lines",
         "type": "scatter3d",
         "x": [
          205,
          120
         ],
         "y": [
          164,
          224
         ],
         "z": [
          152,
          152
         ]
        },
        {
         "line": {
          "color": "black",
          "width": 2
         },
         "mode": "lines",
         "type": "scatter3d",
         "x": [
          205,
          205
         ],
         "y": [
          164,
          164
         ],
         "z": [
          152,
          212
         ]
        },
        {
         "line": {
          "color": "black",
          "width": 2
         },
         "mode": "lines",
         "type": "scatter3d",
         "x": [
          205,
          120
         ],
         "y": [
          224,
          224
         ],
         "z": [
          152,
          152
         ]
        },
        {
         "line": {
          "color": "black",
          "width": 2
         },
         "mode": "lines",
         "type": "scatter3d",
         "x": [
          205,
          205
         ],
         "y": [
          224,
          224
         ],
         "z": [
          152,
          212
         ]
        },
        {
         "line": {
          "color": "black",
          "width": 2
         },
         "mode": "lines",
         "type": "scatter3d",
         "x": [
          120,
          120
         ],
         "y": [
          224,
          224
         ],
         "z": [
          152,
          212
         ]
        },
        {
         "line": {
          "color": "black",
          "width": 2
         },
         "mode": "lines",
         "type": "scatter3d",
         "x": [
          120,
          205
         ],
         "y": [
          164,
          164
         ],
         "z": [
          212,
          212
         ]
        },
        {
         "line": {
          "color": "black",
          "width": 2
         },
         "mode": "lines",
         "type": "scatter3d",
         "x": [
          120,
          205
         ],
         "y": [
          164,
          224
         ],
         "z": [
          212,
          212
         ]
        },
        {
         "line": {
          "color": "black",
          "width": 2
         },
         "mode": "lines",
         "type": "scatter3d",
         "x": [
          205,
          120
         ],
         "y": [
          164,
          224
         ],
         "z": [
          212,
          212
         ]
        },
        {
         "line": {
          "color": "black",
          "width": 2
         },
         "mode": "lines",
         "type": "scatter3d",
         "x": [
          205,
          120
         ],
         "y": [
          224,
          224
         ],
         "z": [
          212,
          212
         ]
        },
        {
         "color": "#FFFF37",
         "flatshading": true,
         "i": [
          1,
          2,
          5,
          6,
          1,
          4,
          3,
          6,
          1,
          7,
          0,
          6
         ],
         "j": [
          0,
          3,
          4,
          7,
          0,
          5,
          2,
          7,
          3,
          5,
          2,
          4
         ],
         "k": [
          2,
          1,
          6,
          5,
          4,
          1,
          6,
          3,
          7,
          1,
          6,
          0
         ],
         "opacity": 0.2,
         "type": "mesh3d",
         "x": [
          205,
          290,
          290,
          205,
          205,
          290,
          290,
          205
         ],
         "y": [
          164,
          164,
          224,
          224,
          164,
          164,
          224,
          224
         ],
         "z": [
          152,
          152,
          152,
          152,
          212,
          212,
          212,
          212
         ]
        },
        {
         "line": {
          "color": "black",
          "width": 2
         },
         "mode": "lines",
         "type": "scatter3d",
         "x": [
          205,
          290
         ],
         "y": [
          164,
          164
         ],
         "z": [
          152,
          152
         ]
        },
        {
         "line": {
          "color": "black",
          "width": 2
         },
         "mode": "lines",
         "type": "scatter3d",
         "x": [
          205,
          290
         ],
         "y": [
          164,
          224
         ],
         "z": [
          152,
          152
         ]
        },
        {
         "line": {
          "color": "black",
          "width": 2
         },
         "mode": "lines",
         "type": "scatter3d",
         "x": [
          205,
          205
         ],
         "y": [
          164,
          164
         ],
         "z": [
          152,
          212
         ]
        },
        {
         "line": {
          "color": "black",
          "width": 2
         },
         "mode": "lines",
         "type": "scatter3d",
         "x": [
          290,
          205
         ],
         "y": [
          164,
          224
         ],
         "z": [
          152,
          152
         ]
        },
        {
         "line": {
          "color": "black",
          "width": 2
         },
         "mode": "lines",
         "type": "scatter3d",
         "x": [
          290,
          290
         ],
         "y": [
          164,
          164
         ],
         "z": [
          152,
          212
         ]
        },
        {
         "line": {
          "color": "black",
          "width": 2
         },
         "mode": "lines",
         "type": "scatter3d",
         "x": [
          290,
          205
         ],
         "y": [
          224,
          224
         ],
         "z": [
          152,
          152
         ]
        },
        {
         "line": {
          "color": "black",
          "width": 2
         },
         "mode": "lines",
         "type": "scatter3d",
         "x": [
          290,
          290
         ],
         "y": [
          224,
          224
         ],
         "z": [
          152,
          212
         ]
        },
        {
         "line": {
          "color": "black",
          "width": 2
         },
         "mode": "lines",
         "type": "scatter3d",
         "x": [
          205,
          205
         ],
         "y": [
          224,
          224
         ],
         "z": [
          152,
          212
         ]
        },
        {
         "line": {
          "color": "black",
          "width": 2
         },
         "mode": "lines",
         "type": "scatter3d",
         "x": [
          205,
          290
         ],
         "y": [
          164,
          164
         ],
         "z": [
          212,
          212
         ]
        },
        {
         "line": {
          "color": "black",
          "width": 2
         },
         "mode": "lines",
         "type": "scatter3d",
         "x": [
          205,
          290
         ],
         "y": [
          164,
          224
         ],
         "z": [
          212,
          212
         ]
        },
        {
         "line": {
          "color": "black",
          "width": 2
         },
         "mode": "lines",
         "type": "scatter3d",
         "x": [
          290,
          205
         ],
         "y": [
          164,
          224
         ],
         "z": [
          212,
          212
         ]
        },
        {
         "line": {
          "color": "black",
          "width": 2
         },
         "mode": "lines",
         "type": "scatter3d",
         "x": [
          290,
          205
         ],
         "y": [
          224,
          224
         ],
         "z": [
          212,
          212
         ]
        },
        {
         "color": "#FFFF37",
         "flatshading": true,
         "i": [
          1,
          2,
          5,
          6,
          1,
          4,
          3,
          6,
          1,
          7,
          0,
          6
         ],
         "j": [
          0,
          3,
          4,
          7,
          0,
          5,
          2,
          7,
          3,
          5,
          2,
          4
         ],
         "k": [
          2,
          1,
          6,
          5,
          4,
          1,
          6,
          3,
          7,
          1,
          6,
          0
         ],
         "opacity": 0.2,
         "type": "mesh3d",
         "x": [
          290,
          375,
          375,
          290,
          290,
          375,
          375,
          290
         ],
         "y": [
          164,
          164,
          224,
          224,
          164,
          164,
          224,
          224
         ],
         "z": [
          152,
          152,
          152,
          152,
          212,
          212,
          212,
          212
         ]
        },
        {
         "line": {
          "color": "black",
          "width": 2
         },
         "mode": "lines",
         "type": "scatter3d",
         "x": [
          290,
          375
         ],
         "y": [
          164,
          164
         ],
         "z": [
          152,
          152
         ]
        },
        {
         "line": {
          "color": "black",
          "width": 2
         },
         "mode": "lines",
         "type": "scatter3d",
         "x": [
          290,
          375
         ],
         "y": [
          164,
          224
         ],
         "z": [
          152,
          152
         ]
        },
        {
         "line": {
          "color": "black",
          "width": 2
         },
         "mode": "lines",
         "type": "scatter3d",
         "x": [
          290,
          290
         ],
         "y": [
          164,
          164
         ],
         "z": [
          152,
          212
         ]
        },
        {
         "line": {
          "color": "black",
          "width": 2
         },
         "mode": "lines",
         "type": "scatter3d",
         "x": [
          375,
          290
         ],
         "y": [
          164,
          224
         ],
         "z": [
          152,
          152
         ]
        },
        {
         "line": {
          "color": "black",
          "width": 2
         },
         "mode": "lines",
         "type": "scatter3d",
         "x": [
          375,
          375
         ],
         "y": [
          164,
          164
         ],
         "z": [
          152,
          212
         ]
        },
        {
         "line": {
          "color": "black",
          "width": 2
         },
         "mode": "lines",
         "type": "scatter3d",
         "x": [
          375,
          290
         ],
         "y": [
          224,
          224
         ],
         "z": [
          152,
          152
         ]
        },
        {
         "line": {
          "color": "black",
          "width": 2
         },
         "mode": "lines",
         "type": "scatter3d",
         "x": [
          375,
          375
         ],
         "y": [
          224,
          224
         ],
         "z": [
          152,
          212
         ]
        },
        {
         "line": {
          "color": "black",
          "width": 2
         },
         "mode": "lines",
         "type": "scatter3d",
         "x": [
          290,
          290
         ],
         "y": [
          224,
          224
         ],
         "z": [
          152,
          212
         ]
        },
        {
         "line": {
          "color": "black",
          "width": 2
         },
         "mode": "lines",
         "type": "scatter3d",
         "x": [
          290,
          375
         ],
         "y": [
          164,
          164
         ],
         "z": [
          212,
          212
         ]
        },
        {
         "line": {
          "color": "black",
          "width": 2
         },
         "mode": "lines",
         "type": "scatter3d",
         "x": [
          290,
          375
         ],
         "y": [
          164,
          224
         ],
         "z": [
          212,
          212
         ]
        },
        {
         "line": {
          "color": "black",
          "width": 2
         },
         "mode": "lines",
         "type": "scatter3d",
         "x": [
          375,
          290
         ],
         "y": [
          164,
          224
         ],
         "z": [
          212,
          212
         ]
        },
        {
         "line": {
          "color": "black",
          "width": 2
         },
         "mode": "lines",
         "type": "scatter3d",
         "x": [
          375,
          290
         ],
         "y": [
          224,
          224
         ],
         "z": [
          212,
          212
         ]
        },
        {
         "color": "#FFFF37",
         "flatshading": true,
         "i": [
          1,
          2,
          5,
          6,
          1,
          4,
          3,
          6,
          1,
          7,
          0,
          6
         ],
         "j": [
          0,
          3,
          4,
          7,
          0,
          5,
          2,
          7,
          3,
          5,
          2,
          4
         ],
         "k": [
          2,
          1,
          6,
          5,
          4,
          1,
          6,
          3,
          7,
          1,
          6,
          0
         ],
         "opacity": 0.2,
         "type": "mesh3d",
         "x": [
          360,
          445,
          445,
          360,
          360,
          445,
          445,
          360
         ],
         "y": [
          82,
          82,
          142,
          142,
          82,
          82,
          142,
          142
         ],
         "z": [
          152,
          152,
          152,
          152,
          212,
          212,
          212,
          212
         ]
        },
        {
         "line": {
          "color": "black",
          "width": 2
         },
         "mode": "lines",
         "type": "scatter3d",
         "x": [
          360,
          445
         ],
         "y": [
          82,
          82
         ],
         "z": [
          152,
          152
         ]
        },
        {
         "line": {
          "color": "black",
          "width": 2
         },
         "mode": "lines",
         "type": "scatter3d",
         "x": [
          360,
          445
         ],
         "y": [
          82,
          142
         ],
         "z": [
          152,
          152
         ]
        },
        {
         "line": {
          "color": "black",
          "width": 2
         },
         "mode": "lines",
         "type": "scatter3d",
         "x": [
          360,
          360
         ],
         "y": [
          82,
          82
         ],
         "z": [
          152,
          212
         ]
        },
        {
         "line": {
          "color": "black",
          "width": 2
         },
         "mode": "lines",
         "type": "scatter3d",
         "x": [
          445,
          360
         ],
         "y": [
          82,
          142
         ],
         "z": [
          152,
          152
         ]
        },
        {
         "line": {
          "color": "black",
          "width": 2
         },
         "mode": "lines",
         "type": "scatter3d",
         "x": [
          445,
          445
         ],
         "y": [
          82,
          82
         ],
         "z": [
          152,
          212
         ]
        },
        {
         "line": {
          "color": "black",
          "width": 2
         },
         "mode": "lines",
         "type": "scatter3d",
         "x": [
          445,
          360
         ],
         "y": [
          142,
          142
         ],
         "z": [
          152,
          152
         ]
        },
        {
         "line": {
          "color": "black",
          "width": 2
         },
         "mode": "lines",
         "type": "scatter3d",
         "x": [
          445,
          445
         ],
         "y": [
          142,
          142
         ],
         "z": [
          152,
          212
         ]
        },
        {
         "line": {
          "color": "black",
          "width": 2
         },
         "mode": "lines",
         "type": "scatter3d",
         "x": [
          360,
          360
         ],
         "y": [
          142,
          142
         ],
         "z": [
          152,
          212
         ]
        },
        {
         "line": {
          "color": "black",
          "width": 2
         },
         "mode": "lines",
         "type": "scatter3d",
         "x": [
          360,
          445
         ],
         "y": [
          82,
          82
         ],
         "z": [
          212,
          212
         ]
        },
        {
         "line": {
          "color": "black",
          "width": 2
         },
         "mode": "lines",
         "type": "scatter3d",
         "x": [
          360,
          445
         ],
         "y": [
          82,
          142
         ],
         "z": [
          212,
          212
         ]
        },
        {
         "line": {
          "color": "black",
          "width": 2
         },
         "mode": "lines",
         "type": "scatter3d",
         "x": [
          445,
          360
         ],
         "y": [
          82,
          142
         ],
         "z": [
          212,
          212
         ]
        },
        {
         "line": {
          "color": "black",
          "width": 2
         },
         "mode": "lines",
         "type": "scatter3d",
         "x": [
          445,
          360
         ],
         "y": [
          142,
          142
         ],
         "z": [
          212,
          212
         ]
        },
        {
         "color": "#FFFF37",
         "flatshading": true,
         "i": [
          1,
          2,
          5,
          6,
          1,
          4,
          3,
          6,
          1,
          7,
          0,
          6
         ],
         "j": [
          0,
          3,
          4,
          7,
          0,
          5,
          2,
          7,
          3,
          5,
          2,
          4
         ],
         "k": [
          2,
          1,
          6,
          5,
          4,
          1,
          6,
          3,
          7,
          1,
          6,
          0
         ],
         "opacity": 0.2,
         "type": "mesh3d",
         "x": [
          375,
          460,
          460,
          375,
          375,
          460,
          460,
          375
         ],
         "y": [
          142,
          142,
          202,
          202,
          142,
          142,
          202,
          202
         ],
         "z": [
          152,
          152,
          152,
          152,
          212,
          212,
          212,
          212
         ]
        },
        {
         "line": {
          "color": "black",
          "width": 2
         },
         "mode": "lines",
         "type": "scatter3d",
         "x": [
          375,
          460
         ],
         "y": [
          142,
          142
         ],
         "z": [
          152,
          152
         ]
        },
        {
         "line": {
          "color": "black",
          "width": 2
         },
         "mode": "lines",
         "type": "scatter3d",
         "x": [
          375,
          460
         ],
         "y": [
          142,
          202
         ],
         "z": [
          152,
          152
         ]
        },
        {
         "line": {
          "color": "black",
          "width": 2
         },
         "mode": "lines",
         "type": "scatter3d",
         "x": [
          375,
          375
         ],
         "y": [
          142,
          142
         ],
         "z": [
          152,
          212
         ]
        },
        {
         "line": {
          "color": "black",
          "width": 2
         },
         "mode": "lines",
         "type": "scatter3d",
         "x": [
          460,
          375
         ],
         "y": [
          142,
          202
         ],
         "z": [
          152,
          152
         ]
        },
        {
         "line": {
          "color": "black",
          "width": 2
         },
         "mode": "lines",
         "type": "scatter3d",
         "x": [
          460,
          460
         ],
         "y": [
          142,
          142
         ],
         "z": [
          152,
          212
         ]
        },
        {
         "line": {
          "color": "black",
          "width": 2
         },
         "mode": "lines",
         "type": "scatter3d",
         "x": [
          460,
          375
         ],
         "y": [
          202,
          202
         ],
         "z": [
          152,
          152
         ]
        },
        {
         "line": {
          "color": "black",
          "width": 2
         },
         "mode": "lines",
         "type": "scatter3d",
         "x": [
          460,
          460
         ],
         "y": [
          202,
          202
         ],
         "z": [
          152,
          212
         ]
        },
        {
         "line": {
          "color": "black",
          "width": 2
         },
         "mode": "lines",
         "type": "scatter3d",
         "x": [
          375,
          375
         ],
         "y": [
          202,
          202
         ],
         "z": [
          152,
          212
         ]
        },
        {
         "line": {
          "color": "black",
          "width": 2
         },
         "mode": "lines",
         "type": "scatter3d",
         "x": [
          375,
          460
         ],
         "y": [
          142,
          142
         ],
         "z": [
          212,
          212
         ]
        },
        {
         "line": {
          "color": "black",
          "width": 2
         },
         "mode": "lines",
         "type": "scatter3d",
         "x": [
          375,
          460
         ],
         "y": [
          142,
          202
         ],
         "z": [
          212,
          212
         ]
        },
        {
         "line": {
          "color": "black",
          "width": 2
         },
         "mode": "lines",
         "type": "scatter3d",
         "x": [
          460,
          375
         ],
         "y": [
          142,
          202
         ],
         "z": [
          212,
          212
         ]
        },
        {
         "line": {
          "color": "black",
          "width": 2
         },
         "mode": "lines",
         "type": "scatter3d",
         "x": [
          460,
          375
         ],
         "y": [
          202,
          202
         ],
         "z": [
          212,
          212
         ]
        },
        {
         "color": "#FFFF37",
         "flatshading": true,
         "i": [
          1,
          2,
          5,
          6,
          1,
          4,
          3,
          6,
          1,
          7,
          0,
          6
         ],
         "j": [
          0,
          3,
          4,
          7,
          0,
          5,
          2,
          7,
          3,
          5,
          2,
          4
         ],
         "k": [
          2,
          1,
          6,
          5,
          4,
          1,
          6,
          3,
          7,
          1,
          6,
          0
         ],
         "opacity": 0.2,
         "type": "mesh3d",
         "x": [
          445,
          505,
          505,
          445,
          445,
          505,
          505,
          445
         ],
         "y": [
          82,
          82,
          142,
          142,
          82,
          82,
          142,
          142
         ],
         "z": [
          152,
          152,
          152,
          152,
          237,
          237,
          237,
          237
         ]
        },
        {
         "line": {
          "color": "black",
          "width": 2
         },
         "mode": "lines",
         "type": "scatter3d",
         "x": [
          445,
          505
         ],
         "y": [
          82,
          82
         ],
         "z": [
          152,
          152
         ]
        },
        {
         "line": {
          "color": "black",
          "width": 2
         },
         "mode": "lines",
         "type": "scatter3d",
         "x": [
          445,
          505
         ],
         "y": [
          82,
          142
         ],
         "z": [
          152,
          152
         ]
        },
        {
         "line": {
          "color": "black",
          "width": 2
         },
         "mode": "lines",
         "type": "scatter3d",
         "x": [
          445,
          445
         ],
         "y": [
          82,
          82
         ],
         "z": [
          152,
          237
         ]
        },
        {
         "line": {
          "color": "black",
          "width": 2
         },
         "mode": "lines",
         "type": "scatter3d",
         "x": [
          505,
          445
         ],
         "y": [
          82,
          142
         ],
         "z": [
          152,
          152
         ]
        },
        {
         "line": {
          "color": "black",
          "width": 2
         },
         "mode": "lines",
         "type": "scatter3d",
         "x": [
          505,
          505
         ],
         "y": [
          82,
          82
         ],
         "z": [
          152,
          237
         ]
        },
        {
         "line": {
          "color": "black",
          "width": 2
         },
         "mode": "lines",
         "type": "scatter3d",
         "x": [
          505,
          445
         ],
         "y": [
          142,
          142
         ],
         "z": [
          152,
          152
         ]
        },
        {
         "line": {
          "color": "black",
          "width": 2
         },
         "mode": "lines",
         "type": "scatter3d",
         "x": [
          505,
          505
         ],
         "y": [
          142,
          142
         ],
         "z": [
          152,
          237
         ]
        },
        {
         "line": {
          "color": "black",
          "width": 2
         },
         "mode": "lines",
         "type": "scatter3d",
         "x": [
          445,
          445
         ],
         "y": [
          142,
          142
         ],
         "z": [
          152,
          237
         ]
        },
        {
         "line": {
          "color": "black",
          "width": 2
         },
         "mode": "lines",
         "type": "scatter3d",
         "x": [
          445,
          505
         ],
         "y": [
          82,
          82
         ],
         "z": [
          237,
          237
         ]
        },
        {
         "line": {
          "color": "black",
          "width": 2
         },
         "mode": "lines",
         "type": "scatter3d",
         "x": [
          445,
          505
         ],
         "y": [
          82,
          142
         ],
         "z": [
          237,
          237
         ]
        },
        {
         "line": {
          "color": "black",
          "width": 2
         },
         "mode": "lines",
         "type": "scatter3d",
         "x": [
          505,
          445
         ],
         "y": [
          82,
          142
         ],
         "z": [
          237,
          237
         ]
        },
        {
         "line": {
          "color": "black",
          "width": 2
         },
         "mode": "lines",
         "type": "scatter3d",
         "x": [
          505,
          445
         ],
         "y": [
          142,
          142
         ],
         "z": [
          237,
          237
         ]
        },
        {
         "color": "#0000E3",
         "flatshading": true,
         "i": [
          1,
          2,
          5,
          6,
          1,
          4,
          3,
          6,
          1,
          7,
          0,
          6
         ],
         "j": [
          0,
          3,
          4,
          7,
          0,
          5,
          2,
          7,
          3,
          5,
          2,
          4
         ],
         "k": [
          2,
          1,
          6,
          5,
          4,
          1,
          6,
          3,
          7,
          1,
          6,
          0
         ],
         "opacity": 0.2,
         "type": "mesh3d",
         "x": [
          120,
          220,
          220,
          120,
          120,
          220,
          220,
          120
         ],
         "y": [
          164,
          164,
          234,
          234,
          164,
          164,
          234,
          234
         ],
         "z": [
          212,
          212,
          212,
          212,
          242,
          242,
          242,
          242
         ]
        },
        {
         "line": {
          "color": "black",
          "width": 2
         },
         "mode": "lines",
         "type": "scatter3d",
         "x": [
          120,
          220
         ],
         "y": [
          164,
          164
         ],
         "z": [
          212,
          212
         ]
        },
        {
         "line": {
          "color": "black",
          "width": 2
         },
         "mode": "lines",
         "type": "scatter3d",
         "x": [
          120,
          220
         ],
         "y": [
          164,
          234
         ],
         "z": [
          212,
          212
         ]
        },
        {
         "line": {
          "color": "black",
          "width": 2
         },
         "mode": "lines",
         "type": "scatter3d",
         "x": [
          120,
          120
         ],
         "y": [
          164,
          164
         ],
         "z": [
          212,
          242
         ]
        },
        {
         "line": {
          "color": "black",
          "width": 2
         },
         "mode": "lines",
         "type": "scatter3d",
         "x": [
          220,
          120
         ],
         "y": [
          164,
          234
         ],
         "z": [
          212,
          212
         ]
        },
        {
         "line": {
          "color": "black",
          "width": 2
         },
         "mode": "lines",
         "type": "scatter3d",
         "x": [
          220,
          220
         ],
         "y": [
          164,
          164
         ],
         "z": [
          212,
          242
         ]
        },
        {
         "line": {
          "color": "black",
          "width": 2
         },
         "mode": "lines",
         "type": "scatter3d",
         "x": [
          220,
          120
         ],
         "y": [
          234,
          234
         ],
         "z": [
          212,
          212
         ]
        },
        {
         "line": {
          "color": "black",
          "width": 2
         },
         "mode": "lines",
         "type": "scatter3d",
         "x": [
          220,
          220
         ],
         "y": [
          234,
          234
         ],
         "z": [
          212,
          242
         ]
        },
        {
         "line": {
          "color": "black",
          "width": 2
         },
         "mode": "lines",
         "type": "scatter3d",
         "x": [
          120,
          120
         ],
         "y": [
          234,
          234
         ],
         "z": [
          212,
          242
         ]
        },
        {
         "line": {
          "color": "black",
          "width": 2
         },
         "mode": "lines",
         "type": "scatter3d",
         "x": [
          120,
          220
         ],
         "y": [
          164,
          164
         ],
         "z": [
          242,
          242
         ]
        },
        {
         "line": {
          "color": "black",
          "width": 2
         },
         "mode": "lines",
         "type": "scatter3d",
         "x": [
          120,
          220
         ],
         "y": [
          164,
          234
         ],
         "z": [
          242,
          242
         ]
        },
        {
         "line": {
          "color": "black",
          "width": 2
         },
         "mode": "lines",
         "type": "scatter3d",
         "x": [
          220,
          120
         ],
         "y": [
          164,
          234
         ],
         "z": [
          242,
          242
         ]
        },
        {
         "line": {
          "color": "black",
          "width": 2
         },
         "mode": "lines",
         "type": "scatter3d",
         "x": [
          220,
          120
         ],
         "y": [
          234,
          234
         ],
         "z": [
          242,
          242
         ]
        },
        {
         "color": "#0000E3",
         "flatshading": true,
         "i": [
          1,
          2,
          5,
          6,
          1,
          4,
          3,
          6,
          1,
          7,
          0,
          6
         ],
         "j": [
          0,
          3,
          4,
          7,
          0,
          5,
          2,
          7,
          3,
          5,
          2,
          4
         ],
         "k": [
          2,
          1,
          6,
          5,
          4,
          1,
          6,
          3,
          7,
          1,
          6,
          0
         ],
         "opacity": 0.2,
         "type": "mesh3d",
         "x": [
          220,
          320,
          320,
          220,
          220,
          320,
          320,
          220
         ],
         "y": [
          164,
          164,
          234,
          234,
          164,
          164,
          234,
          234
         ],
         "z": [
          212,
          212,
          212,
          212,
          242,
          242,
          242,
          242
         ]
        },
        {
         "line": {
          "color": "black",
          "width": 2
         },
         "mode": "lines",
         "type": "scatter3d",
         "x": [
          220,
          320
         ],
         "y": [
          164,
          164
         ],
         "z": [
          212,
          212
         ]
        },
        {
         "line": {
          "color": "black",
          "width": 2
         },
         "mode": "lines",
         "type": "scatter3d",
         "x": [
          220,
          320
         ],
         "y": [
          164,
          234
         ],
         "z": [
          212,
          212
         ]
        },
        {
         "line": {
          "color": "black",
          "width": 2
         },
         "mode": "lines",
         "type": "scatter3d",
         "x": [
          220,
          220
         ],
         "y": [
          164,
          164
         ],
         "z": [
          212,
          242
         ]
        },
        {
         "line": {
          "color": "black",
          "width": 2
         },
         "mode": "lines",
         "type": "scatter3d",
         "x": [
          320,
          220
         ],
         "y": [
          164,
          234
         ],
         "z": [
          212,
          212
         ]
        },
        {
         "line": {
          "color": "black",
          "width": 2
         },
         "mode": "lines",
         "type": "scatter3d",
         "x": [
          320,
          320
         ],
         "y": [
          164,
          164
         ],
         "z": [
          212,
          242
         ]
        },
        {
         "line": {
          "color": "black",
          "width": 2
         },
         "mode": "lines",
         "type": "scatter3d",
         "x": [
          320,
          220
         ],
         "y": [
          234,
          234
         ],
         "z": [
          212,
          212
         ]
        },
        {
         "line": {
          "color": "black",
          "width": 2
         },
         "mode": "lines",
         "type": "scatter3d",
         "x": [
          320,
          320
         ],
         "y": [
          234,
          234
         ],
         "z": [
          212,
          242
         ]
        },
        {
         "line": {
          "color": "black",
          "width": 2
         },
         "mode": "lines",
         "type": "scatter3d",
         "x": [
          220,
          220
         ],
         "y": [
          234,
          234
         ],
         "z": [
          212,
          242
         ]
        },
        {
         "line": {
          "color": "black",
          "width": 2
         },
         "mode": "lines",
         "type": "scatter3d",
         "x": [
          220,
          320
         ],
         "y": [
          164,
          164
         ],
         "z": [
          242,
          242
         ]
        },
        {
         "line": {
          "color": "black",
          "width": 2
         },
         "mode": "lines",
         "type": "scatter3d",
         "x": [
          220,
          320
         ],
         "y": [
          164,
          234
         ],
         "z": [
          242,
          242
         ]
        },
        {
         "line": {
          "color": "black",
          "width": 2
         },
         "mode": "lines",
         "type": "scatter3d",
         "x": [
          320,
          220
         ],
         "y": [
          164,
          234
         ],
         "z": [
          242,
          242
         ]
        },
        {
         "line": {
          "color": "black",
          "width": 2
         },
         "mode": "lines",
         "type": "scatter3d",
         "x": [
          320,
          220
         ],
         "y": [
          234,
          234
         ],
         "z": [
          242,
          242
         ]
        }
       ],
       "layout": {
        "scene": {
         "aspectmode": "data"
        },
        "template": {
         "data": {
          "bar": [
           {
            "error_x": {
             "color": "#2a3f5f"
            },
            "error_y": {
             "color": "#2a3f5f"
            },
            "marker": {
             "line": {
              "color": "#E5ECF6",
              "width": 0.5
             },
             "pattern": {
              "fillmode": "overlay",
              "size": 10,
              "solidity": 0.2
             }
            },
            "type": "bar"
           }
          ],
          "barpolar": [
           {
            "marker": {
             "line": {
              "color": "#E5ECF6",
              "width": 0.5
             },
             "pattern": {
              "fillmode": "overlay",
              "size": 10,
              "solidity": 0.2
             }
            },
            "type": "barpolar"
           }
          ],
          "carpet": [
           {
            "aaxis": {
             "endlinecolor": "#2a3f5f",
             "gridcolor": "white",
             "linecolor": "white",
             "minorgridcolor": "white",
             "startlinecolor": "#2a3f5f"
            },
            "baxis": {
             "endlinecolor": "#2a3f5f",
             "gridcolor": "white",
             "linecolor": "white",
             "minorgridcolor": "white",
             "startlinecolor": "#2a3f5f"
            },
            "type": "carpet"
           }
          ],
          "choropleth": [
           {
            "colorbar": {
             "outlinewidth": 0,
             "ticks": ""
            },
            "type": "choropleth"
           }
          ],
          "contour": [
           {
            "colorbar": {
             "outlinewidth": 0,
             "ticks": ""
            },
            "colorscale": [
             [
              0,
              "#0d0887"
             ],
             [
              0.1111111111111111,
              "#46039f"
             ],
             [
              0.2222222222222222,
              "#7201a8"
             ],
             [
              0.3333333333333333,
              "#9c179e"
             ],
             [
              0.4444444444444444,
              "#bd3786"
             ],
             [
              0.5555555555555556,
              "#d8576b"
             ],
             [
              0.6666666666666666,
              "#ed7953"
             ],
             [
              0.7777777777777778,
              "#fb9f3a"
             ],
             [
              0.8888888888888888,
              "#fdca26"
             ],
             [
              1,
              "#f0f921"
             ]
            ],
            "type": "contour"
           }
          ],
          "contourcarpet": [
           {
            "colorbar": {
             "outlinewidth": 0,
             "ticks": ""
            },
            "type": "contourcarpet"
           }
          ],
          "heatmap": [
           {
            "colorbar": {
             "outlinewidth": 0,
             "ticks": ""
            },
            "colorscale": [
             [
              0,
              "#0d0887"
             ],
             [
              0.1111111111111111,
              "#46039f"
             ],
             [
              0.2222222222222222,
              "#7201a8"
             ],
             [
              0.3333333333333333,
              "#9c179e"
             ],
             [
              0.4444444444444444,
              "#bd3786"
             ],
             [
              0.5555555555555556,
              "#d8576b"
             ],
             [
              0.6666666666666666,
              "#ed7953"
             ],
             [
              0.7777777777777778,
              "#fb9f3a"
             ],
             [
              0.8888888888888888,
              "#fdca26"
             ],
             [
              1,
              "#f0f921"
             ]
            ],
            "type": "heatmap"
           }
          ],
          "heatmapgl": [
           {
            "colorbar": {
             "outlinewidth": 0,
             "ticks": ""
            },
            "colorscale": [
             [
              0,
              "#0d0887"
             ],
             [
              0.1111111111111111,
              "#46039f"
             ],
             [
              0.2222222222222222,
              "#7201a8"
             ],
             [
              0.3333333333333333,
              "#9c179e"
             ],
             [
              0.4444444444444444,
              "#bd3786"
             ],
             [
              0.5555555555555556,
              "#d8576b"
             ],
             [
              0.6666666666666666,
              "#ed7953"
             ],
             [
              0.7777777777777778,
              "#fb9f3a"
             ],
             [
              0.8888888888888888,
              "#fdca26"
             ],
             [
              1,
              "#f0f921"
             ]
            ],
            "type": "heatmapgl"
           }
          ],
          "histogram": [
           {
            "marker": {
             "pattern": {
              "fillmode": "overlay",
              "size": 10,
              "solidity": 0.2
             }
            },
            "type": "histogram"
           }
          ],
          "histogram2d": [
           {
            "colorbar": {
             "outlinewidth": 0,
             "ticks": ""
            },
            "colorscale": [
             [
              0,
              "#0d0887"
             ],
             [
              0.1111111111111111,
              "#46039f"
             ],
             [
              0.2222222222222222,
              "#7201a8"
             ],
             [
              0.3333333333333333,
              "#9c179e"
             ],
             [
              0.4444444444444444,
              "#bd3786"
             ],
             [
              0.5555555555555556,
              "#d8576b"
             ],
             [
              0.6666666666666666,
              "#ed7953"
             ],
             [
              0.7777777777777778,
              "#fb9f3a"
             ],
             [
              0.8888888888888888,
              "#fdca26"
             ],
             [
              1,
              "#f0f921"
             ]
            ],
            "type": "histogram2d"
           }
          ],
          "histogram2dcontour": [
           {
            "colorbar": {
             "outlinewidth": 0,
             "ticks": ""
            },
            "colorscale": [
             [
              0,
              "#0d0887"
             ],
             [
              0.1111111111111111,
              "#46039f"
             ],
             [
              0.2222222222222222,
              "#7201a8"
             ],
             [
              0.3333333333333333,
              "#9c179e"
             ],
             [
              0.4444444444444444,
              "#bd3786"
             ],
             [
              0.5555555555555556,
              "#d8576b"
             ],
             [
              0.6666666666666666,
              "#ed7953"
             ],
             [
              0.7777777777777778,
              "#fb9f3a"
             ],
             [
              0.8888888888888888,
              "#fdca26"
             ],
             [
              1,
              "#f0f921"
             ]
            ],
            "type": "histogram2dcontour"
           }
          ],
          "mesh3d": [
           {
            "colorbar": {
             "outlinewidth": 0,
             "ticks": ""
            },
            "type": "mesh3d"
           }
          ],
          "parcoords": [
           {
            "line": {
             "colorbar": {
              "outlinewidth": 0,
              "ticks": ""
             }
            },
            "type": "parcoords"
           }
          ],
          "pie": [
           {
            "automargin": true,
            "type": "pie"
           }
          ],
          "scatter": [
           {
            "fillpattern": {
             "fillmode": "overlay",
             "size": 10,
             "solidity": 0.2
            },
            "type": "scatter"
           }
          ],
          "scatter3d": [
           {
            "line": {
             "colorbar": {
              "outlinewidth": 0,
              "ticks": ""
             }
            },
            "marker": {
             "colorbar": {
              "outlinewidth": 0,
              "ticks": ""
             }
            },
            "type": "scatter3d"
           }
          ],
          "scattercarpet": [
           {
            "marker": {
             "colorbar": {
              "outlinewidth": 0,
              "ticks": ""
             }
            },
            "type": "scattercarpet"
           }
          ],
          "scattergeo": [
           {
            "marker": {
             "colorbar": {
              "outlinewidth": 0,
              "ticks": ""
             }
            },
            "type": "scattergeo"
           }
          ],
          "scattergl": [
           {
            "marker": {
             "colorbar": {
              "outlinewidth": 0,
              "ticks": ""
             }
            },
            "type": "scattergl"
           }
          ],
          "scattermapbox": [
           {
            "marker": {
             "colorbar": {
              "outlinewidth": 0,
              "ticks": ""
             }
            },
            "type": "scattermapbox"
           }
          ],
          "scatterpolar": [
           {
            "marker": {
             "colorbar": {
              "outlinewidth": 0,
              "ticks": ""
             }
            },
            "type": "scatterpolar"
           }
          ],
          "scatterpolargl": [
           {
            "marker": {
             "colorbar": {
              "outlinewidth": 0,
              "ticks": ""
             }
            },
            "type": "scatterpolargl"
           }
          ],
          "scatterternary": [
           {
            "marker": {
             "colorbar": {
              "outlinewidth": 0,
              "ticks": ""
             }
            },
            "type": "scatterternary"
           }
          ],
          "surface": [
           {
            "colorbar": {
             "outlinewidth": 0,
             "ticks": ""
            },
            "colorscale": [
             [
              0,
              "#0d0887"
             ],
             [
              0.1111111111111111,
              "#46039f"
             ],
             [
              0.2222222222222222,
              "#7201a8"
             ],
             [
              0.3333333333333333,
              "#9c179e"
             ],
             [
              0.4444444444444444,
              "#bd3786"
             ],
             [
              0.5555555555555556,
              "#d8576b"
             ],
             [
              0.6666666666666666,
              "#ed7953"
             ],
             [
              0.7777777777777778,
              "#fb9f3a"
             ],
             [
              0.8888888888888888,
              "#fdca26"
             ],
             [
              1,
              "#f0f921"
             ]
            ],
            "type": "surface"
           }
          ],
          "table": [
           {
            "cells": {
             "fill": {
              "color": "#EBF0F8"
             },
             "line": {
              "color": "white"
             }
            },
            "header": {
             "fill": {
              "color": "#C8D4E3"
             },
             "line": {
              "color": "white"
             }
            },
            "type": "table"
           }
          ]
         },
         "layout": {
          "annotationdefaults": {
           "arrowcolor": "#2a3f5f",
           "arrowhead": 0,
           "arrowwidth": 1
          },
          "autotypenumbers": "strict",
          "coloraxis": {
           "colorbar": {
            "outlinewidth": 0,
            "ticks": ""
           }
          },
          "colorscale": {
           "diverging": [
            [
             0,
             "#8e0152"
            ],
            [
             0.1,
             "#c51b7d"
            ],
            [
             0.2,
             "#de77ae"
            ],
            [
             0.3,
             "#f1b6da"
            ],
            [
             0.4,
             "#fde0ef"
            ],
            [
             0.5,
             "#f7f7f7"
            ],
            [
             0.6,
             "#e6f5d0"
            ],
            [
             0.7,
             "#b8e186"
            ],
            [
             0.8,
             "#7fbc41"
            ],
            [
             0.9,
             "#4d9221"
            ],
            [
             1,
             "#276419"
            ]
           ],
           "sequential": [
            [
             0,
             "#0d0887"
            ],
            [
             0.1111111111111111,
             "#46039f"
            ],
            [
             0.2222222222222222,
             "#7201a8"
            ],
            [
             0.3333333333333333,
             "#9c179e"
            ],
            [
             0.4444444444444444,
             "#bd3786"
            ],
            [
             0.5555555555555556,
             "#d8576b"
            ],
            [
             0.6666666666666666,
             "#ed7953"
            ],
            [
             0.7777777777777778,
             "#fb9f3a"
            ],
            [
             0.8888888888888888,
             "#fdca26"
            ],
            [
             1,
             "#f0f921"
            ]
           ],
           "sequentialminus": [
            [
             0,
             "#0d0887"
            ],
            [
             0.1111111111111111,
             "#46039f"
            ],
            [
             0.2222222222222222,
             "#7201a8"
            ],
            [
             0.3333333333333333,
             "#9c179e"
            ],
            [
             0.4444444444444444,
             "#bd3786"
            ],
            [
             0.5555555555555556,
             "#d8576b"
            ],
            [
             0.6666666666666666,
             "#ed7953"
            ],
            [
             0.7777777777777778,
             "#fb9f3a"
            ],
            [
             0.8888888888888888,
             "#fdca26"
            ],
            [
             1,
             "#f0f921"
            ]
           ]
          },
          "colorway": [
           "#636efa",
           "#EF553B",
           "#00cc96",
           "#ab63fa",
           "#FFA15A",
           "#19d3f3",
           "#FF6692",
           "#B6E880",
           "#FF97FF",
           "#FECB52"
          ],
          "font": {
           "color": "#2a3f5f"
          },
          "geo": {
           "bgcolor": "white",
           "lakecolor": "white",
           "landcolor": "#E5ECF6",
           "showlakes": true,
           "showland": true,
           "subunitcolor": "white"
          },
          "hoverlabel": {
           "align": "left"
          },
          "hovermode": "closest",
          "mapbox": {
           "style": "light"
          },
          "paper_bgcolor": "white",
          "plot_bgcolor": "#E5ECF6",
          "polar": {
           "angularaxis": {
            "gridcolor": "white",
            "linecolor": "white",
            "ticks": ""
           },
           "bgcolor": "#E5ECF6",
           "radialaxis": {
            "gridcolor": "white",
            "linecolor": "white",
            "ticks": ""
           }
          },
          "scene": {
           "xaxis": {
            "backgroundcolor": "#E5ECF6",
            "gridcolor": "white",
            "gridwidth": 2,
            "linecolor": "white",
            "showbackground": true,
            "ticks": "",
            "zerolinecolor": "white"
           },
           "yaxis": {
            "backgroundcolor": "#E5ECF6",
            "gridcolor": "white",
            "gridwidth": 2,
            "linecolor": "white",
            "showbackground": true,
            "ticks": "",
            "zerolinecolor": "white"
           },
           "zaxis": {
            "backgroundcolor": "#E5ECF6",
            "gridcolor": "white",
            "gridwidth": 2,
            "linecolor": "white",
            "showbackground": true,
            "ticks": "",
            "zerolinecolor": "white"
           }
          },
          "shapedefaults": {
           "line": {
            "color": "#2a3f5f"
           }
          },
          "ternary": {
           "aaxis": {
            "gridcolor": "white",
            "linecolor": "white",
            "ticks": ""
           },
           "baxis": {
            "gridcolor": "white",
            "linecolor": "white",
            "ticks": ""
           },
           "bgcolor": "#E5ECF6",
           "caxis": {
            "gridcolor": "white",
            "linecolor": "white",
            "ticks": ""
           }
          },
          "title": {
           "x": 0.05
          },
          "xaxis": {
           "automargin": true,
           "gridcolor": "white",
           "linecolor": "white",
           "ticks": "",
           "title": {
            "standoff": 15
           },
           "zerolinecolor": "white",
           "zerolinewidth": 2
          },
          "yaxis": {
           "automargin": true,
           "gridcolor": "white",
           "linecolor": "white",
           "ticks": "",
           "title": {
            "standoff": 15
           },
           "zerolinecolor": "white",
           "zerolinewidth": 2
          }
         }
        },
        "title": {
         "text": "test"
        }
       }
      }
     },
     "metadata": {},
     "output_type": "display_data"
    }
   ],
   "source": [
    "painter=Painter(box)\n",
    "painter.plotBoxAndItems(title=\"test\", alpha=0.2, write_num=False, fontsize=10)"
   ]
  },
  {
   "cell_type": "code",
   "execution_count": null,
   "metadata": {},
   "outputs": [],
   "source": []
  },
  {
   "cell_type": "code",
   "execution_count": null,
   "metadata": {},
   "outputs": [
    {
     "data": {
      "application/vnd.plotly.v1+json": {
       "config": {
        "plotlyServerURL": "https://plot.ly"
       },
       "data": [
        {
         "color": "yellow",
         "flatshading": true,
         "i": [
          1,
          2,
          5,
          6,
          1,
          4,
          3,
          6,
          1,
          7,
          0,
          6
         ],
         "j": [
          0,
          3,
          4,
          7,
          0,
          5,
          2,
          7,
          3,
          5,
          2,
          4
         ],
         "k": [
          2,
          1,
          6,
          5,
          4,
          1,
          6,
          3,
          7,
          1,
          6,
          0
         ],
         "opacity": 0.1,
         "type": "mesh3d",
         "x": [
          0,
          10,
          0,
          10,
          0,
          10,
          0,
          10
         ],
         "y": [
          0,
          0,
          10,
          10,
          0,
          0,
          10,
          10
         ],
         "z": [
          0,
          0,
          0,
          0,
          10,
          10,
          10,
          10
         ]
        },
        {
         "line": {
          "color": "black",
          "width": 2
         },
         "mode": "lines",
         "type": "scatter3d",
         "x": [
          0,
          10
         ],
         "y": [
          0,
          0
         ],
         "z": [
          0,
          0
         ]
        },
        {
         "line": {
          "color": "black",
          "width": 2
         },
         "mode": "lines",
         "type": "scatter3d",
         "x": [
          0,
          0
         ],
         "y": [
          0,
          10
         ],
         "z": [
          0,
          0
         ]
        },
        {
         "line": {
          "color": "black",
          "width": 2
         },
         "mode": "lines",
         "type": "scatter3d",
         "x": [
          0,
          0
         ],
         "y": [
          0,
          0
         ],
         "z": [
          0,
          10
         ]
        },
        {
         "line": {
          "color": "black",
          "width": 2
         },
         "mode": "lines",
         "type": "scatter3d",
         "x": [
          10,
          10
         ],
         "y": [
          0,
          10
         ],
         "z": [
          0,
          0
         ]
        },
        {
         "line": {
          "color": "black",
          "width": 2
         },
         "mode": "lines",
         "type": "scatter3d",
         "x": [
          10,
          10
         ],
         "y": [
          0,
          0
         ],
         "z": [
          0,
          10
         ]
        },
        {
         "line": {
          "color": "black",
          "width": 2
         },
         "mode": "lines",
         "type": "scatter3d",
         "x": [
          0,
          10
         ],
         "y": [
          10,
          10
         ],
         "z": [
          0,
          0
         ]
        },
        {
         "line": {
          "color": "black",
          "width": 2
         },
         "mode": "lines",
         "type": "scatter3d",
         "x": [
          0,
          0
         ],
         "y": [
          10,
          10
         ],
         "z": [
          0,
          10
         ]
        },
        {
         "line": {
          "color": "black",
          "width": 2
         },
         "mode": "lines",
         "type": "scatter3d",
         "x": [
          10,
          10
         ],
         "y": [
          10,
          10
         ],
         "z": [
          0,
          10
         ]
        },
        {
         "line": {
          "color": "black",
          "width": 2
         },
         "mode": "lines",
         "type": "scatter3d",
         "x": [
          0,
          10
         ],
         "y": [
          0,
          0
         ],
         "z": [
          10,
          10
         ]
        },
        {
         "line": {
          "color": "black",
          "width": 2
         },
         "mode": "lines",
         "type": "scatter3d",
         "x": [
          0,
          0
         ],
         "y": [
          0,
          10
         ],
         "z": [
          10,
          10
         ]
        },
        {
         "line": {
          "color": "black",
          "width": 2
         },
         "mode": "lines",
         "type": "scatter3d",
         "x": [
          10,
          10
         ],
         "y": [
          0,
          10
         ],
         "z": [
          10,
          10
         ]
        },
        {
         "line": {
          "color": "black",
          "width": 2
         },
         "mode": "lines",
         "type": "scatter3d",
         "x": [
          0,
          10
         ],
         "y": [
          10,
          10
         ],
         "z": [
          10,
          10
         ]
        },
        {
         "color": "#2E91E5",
         "flatshading": true,
         "i": [
          1,
          2,
          5,
          6,
          1,
          4,
          3,
          6,
          1,
          7,
          0,
          6
         ],
         "j": [
          0,
          3,
          4,
          7,
          0,
          5,
          2,
          7,
          3,
          5,
          2,
          4
         ],
         "k": [
          2,
          1,
          6,
          5,
          4,
          1,
          6,
          3,
          7,
          1,
          6,
          0
         ],
         "opacity": 0.7,
         "type": "mesh3d",
         "x": [
          1,
          3,
          1,
          3,
          1,
          3,
          1,
          3
         ],
         "y": [
          1,
          1,
          4,
          4,
          1,
          1,
          4,
          4
         ],
         "z": [
          1,
          1,
          1,
          1,
          2,
          2,
          2,
          2
         ]
        },
        {
         "line": {
          "color": "black",
          "width": 2
         },
         "mode": "lines",
         "type": "scatter3d",
         "x": [
          1,
          3
         ],
         "y": [
          1,
          1
         ],
         "z": [
          1,
          1
         ]
        },
        {
         "line": {
          "color": "black",
          "width": 2
         },
         "mode": "lines",
         "type": "scatter3d",
         "x": [
          1,
          1
         ],
         "y": [
          1,
          4
         ],
         "z": [
          1,
          1
         ]
        },
        {
         "line": {
          "color": "black",
          "width": 2
         },
         "mode": "lines",
         "type": "scatter3d",
         "x": [
          1,
          1
         ],
         "y": [
          1,
          1
         ],
         "z": [
          1,
          2
         ]
        },
        {
         "line": {
          "color": "black",
          "width": 2
         },
         "mode": "lines",
         "type": "scatter3d",
         "x": [
          3,
          3
         ],
         "y": [
          1,
          4
         ],
         "z": [
          1,
          1
         ]
        },
        {
         "line": {
          "color": "black",
          "width": 2
         },
         "mode": "lines",
         "type": "scatter3d",
         "x": [
          3,
          3
         ],
         "y": [
          1,
          1
         ],
         "z": [
          1,
          2
         ]
        },
        {
         "line": {
          "color": "black",
          "width": 2
         },
         "mode": "lines",
         "type": "scatter3d",
         "x": [
          1,
          3
         ],
         "y": [
          4,
          4
         ],
         "z": [
          1,
          1
         ]
        },
        {
         "line": {
          "color": "black",
          "width": 2
         },
         "mode": "lines",
         "type": "scatter3d",
         "x": [
          1,
          1
         ],
         "y": [
          4,
          4
         ],
         "z": [
          1,
          2
         ]
        },
        {
         "line": {
          "color": "black",
          "width": 2
         },
         "mode": "lines",
         "type": "scatter3d",
         "x": [
          3,
          3
         ],
         "y": [
          4,
          4
         ],
         "z": [
          1,
          2
         ]
        },
        {
         "line": {
          "color": "black",
          "width": 2
         },
         "mode": "lines",
         "type": "scatter3d",
         "x": [
          1,
          3
         ],
         "y": [
          1,
          1
         ],
         "z": [
          2,
          2
         ]
        },
        {
         "line": {
          "color": "black",
          "width": 2
         },
         "mode": "lines",
         "type": "scatter3d",
         "x": [
          1,
          1
         ],
         "y": [
          1,
          4
         ],
         "z": [
          2,
          2
         ]
        },
        {
         "line": {
          "color": "black",
          "width": 2
         },
         "mode": "lines",
         "type": "scatter3d",
         "x": [
          3,
          3
         ],
         "y": [
          1,
          4
         ],
         "z": [
          2,
          2
         ]
        },
        {
         "line": {
          "color": "black",
          "width": 2
         },
         "mode": "lines",
         "type": "scatter3d",
         "x": [
          1,
          3
         ],
         "y": [
          4,
          4
         ],
         "z": [
          2,
          2
         ]
        },
        {
         "mode": "text",
         "text": [
          "A1"
         ],
         "textfont": {
          "color": "black",
          "size": 15
         },
         "textposition": "middle center",
         "type": "scatter3d",
         "x": [
          2
         ],
         "y": [
          2.5
         ],
         "z": [
          1.5
         ]
        },
        {
         "colorscale": [
          [
           0,
           "#E15F99"
          ],
          [
           1,
           "#E15F99"
          ]
         ],
         "opacity": 0.7,
         "type": "surface",
         "x": [
          [
           5,
           4.997986676471885,
           4.991954812830795,
           4.981928697262707,
           4.967948701396356,
           4.950071117740945,
           4.928367933016073,
           4.902926538286621,
           4.873849377069785,
           4.841253532831181,
           4.805270257531059,
           4.766044443118978,
           4.7237340381050705,
           4.678509411557132,
           4.6305526670845225,
           4.580056909571198,
           4.527225467610503,
           4.472271074772682,
           4.415415013001886,
           4.356886221591872,
           4.296920375328275,
           4.235758935509427,
           4.17364817766693,
           4.1108381999010115,
           4.047581915823742,
           3.984134036165192,
           3.9207500431432116,
           3.8576851617267147,
           3.7951933319348092,
           3.733526186309965,
           3.672932036682578,
           3.6136548743068713,
           3.555933387394226,
           3.5,
           3.4460799361338896,
           3.394390312862333,
           3.345139266054715,
           3.2985251122936785,
           3.2547355503242454,
           3.2139469052572123,
           3.1763234185701674,
           3.142016586765023,
           3.1111645513450767,
           3.0838915425679305,
           3.0603073792140916,
           3.0405070263855025,
           3.024570213114593,
           3.0125611113236057,
           3.004528077426915,
           3.000503457616815,
           3.000503457616815,
           3.004528077426915,
           3.0125611113236057,
           3.024570213114593,
           3.0405070263855025,
           3.0603073792140916,
           3.0838915425679305,
           3.1111645513450767,
           3.142016586765023,
           3.176323418570167,
           3.2139469052572127,
           3.254735550324245,
           3.298525112293679,
           3.345139266054715,
           3.3943903128623334,
           3.4460799361338896,
           3.5000000000000004,
           3.555933387394226,
           3.6136548743068713,
           3.672932036682578,
           3.733526186309965,
           3.7951933319348097,
           3.8576851617267147,
           3.920750043143211,
           3.9841340361651922,
           4.047581915823742,
           4.110838199901011,
           4.17364817766693,
           4.235758935509428,
           4.296920375328275,
           4.356886221591871,
           4.415415013001887,
           4.472271074772683,
           4.527225467610503,
           4.580056909571198,
           4.6305526670845225,
           4.678509411557132,
           4.72373403810507,
           4.766044443118978,
           4.805270257531059,
           4.841253532831181,
           4.873849377069785,
           4.902926538286621,
           4.928367933016073,
           4.950071117740945,
           4.967948701396356,
           4.981928697262707,
           4.991954812830795,
           4.997986676471885,
           5
          ],
          [
           5,
           4.997986676471885,
           4.991954812830795,
           4.981928697262707,
           4.967948701396356,
           4.950071117740945,
           4.928367933016073,
           4.902926538286621,
           4.873849377069785,
           4.841253532831181,
           4.805270257531059,
           4.766044443118978,
           4.7237340381050705,
           4.678509411557132,
           4.6305526670845225,
           4.580056909571198,
           4.527225467610503,
           4.472271074772682,
           4.415415013001886,
           4.356886221591872,
           4.296920375328275,
           4.235758935509427,
           4.17364817766693,
           4.1108381999010115,
           4.047581915823742,
           3.984134036165192,
           3.9207500431432116,
           3.8576851617267147,
           3.7951933319348092,
           3.733526186309965,
           3.672932036682578,
           3.6136548743068713,
           3.555933387394226,
           3.5,
           3.4460799361338896,
           3.394390312862333,
           3.345139266054715,
           3.2985251122936785,
           3.2547355503242454,
           3.2139469052572123,
           3.1763234185701674,
           3.142016586765023,
           3.1111645513450767,
           3.0838915425679305,
           3.0603073792140916,
           3.0405070263855025,
           3.024570213114593,
           3.0125611113236057,
           3.004528077426915,
           3.000503457616815,
           3.000503457616815,
           3.004528077426915,
           3.0125611113236057,
           3.024570213114593,
           3.0405070263855025,
           3.0603073792140916,
           3.0838915425679305,
           3.1111645513450767,
           3.142016586765023,
           3.176323418570167,
           3.2139469052572127,
           3.254735550324245,
           3.298525112293679,
           3.345139266054715,
           3.3943903128623334,
           3.4460799361338896,
           3.5000000000000004,
           3.555933387394226,
           3.6136548743068713,
           3.672932036682578,
           3.733526186309965,
           3.7951933319348097,
           3.8576851617267147,
           3.920750043143211,
           3.9841340361651922,
           4.047581915823742,
           4.110838199901011,
           4.17364817766693,
           4.235758935509428,
           4.296920375328275,
           4.356886221591871,
           4.415415013001887,
           4.472271074772683,
           4.527225467610503,
           4.580056909571198,
           4.6305526670845225,
           4.678509411557132,
           4.72373403810507,
           4.766044443118978,
           4.805270257531059,
           4.841253532831181,
           4.873849377069785,
           4.902926538286621,
           4.928367933016073,
           4.950071117740945,
           4.967948701396356,
           4.981928697262707,
           4.991954812830795,
           4.997986676471885,
           5
          ],
          [
           5,
           4.997986676471885,
           4.991954812830795,
           4.981928697262707,
           4.967948701396356,
           4.950071117740945,
           4.928367933016073,
           4.902926538286621,
           4.873849377069785,
           4.841253532831181,
           4.805270257531059,
           4.766044443118978,
           4.7237340381050705,
           4.678509411557132,
           4.6305526670845225,
           4.580056909571198,
           4.527225467610503,
           4.472271074772682,
           4.415415013001886,
           4.356886221591872,
           4.296920375328275,
           4.235758935509427,
           4.17364817766693,
           4.1108381999010115,
           4.047581915823742,
           3.984134036165192,
           3.9207500431432116,
           3.8576851617267147,
           3.7951933319348092,
           3.733526186309965,
           3.672932036682578,
           3.6136548743068713,
           3.555933387394226,
           3.5,
           3.4460799361338896,
           3.394390312862333,
           3.345139266054715,
           3.2985251122936785,
           3.2547355503242454,
           3.2139469052572123,
           3.1763234185701674,
           3.142016586765023,
           3.1111645513450767,
           3.0838915425679305,
           3.0603073792140916,
           3.0405070263855025,
           3.024570213114593,
           3.0125611113236057,
           3.004528077426915,
           3.000503457616815,
           3.000503457616815,
           3.004528077426915,
           3.0125611113236057,
           3.024570213114593,
           3.0405070263855025,
           3.0603073792140916,
           3.0838915425679305,
           3.1111645513450767,
           3.142016586765023,
           3.176323418570167,
           3.2139469052572127,
           3.254735550324245,
           3.298525112293679,
           3.345139266054715,
           3.3943903128623334,
           3.4460799361338896,
           3.5000000000000004,
           3.555933387394226,
           3.6136548743068713,
           3.672932036682578,
           3.733526186309965,
           3.7951933319348097,
           3.8576851617267147,
           3.920750043143211,
           3.9841340361651922,
           4.047581915823742,
           4.110838199901011,
           4.17364817766693,
           4.235758935509428,
           4.296920375328275,
           4.356886221591871,
           4.415415013001887,
           4.472271074772683,
           4.527225467610503,
           4.580056909571198,
           4.6305526670845225,
           4.678509411557132,
           4.72373403810507,
           4.766044443118978,
           4.805270257531059,
           4.841253532831181,
           4.873849377069785,
           4.902926538286621,
           4.928367933016073,
           4.950071117740945,
           4.967948701396356,
           4.981928697262707,
           4.991954812830795,
           4.997986676471885,
           5
          ],
          [
           5,
           4.997986676471885,
           4.991954812830795,
           4.981928697262707,
           4.967948701396356,
           4.950071117740945,
           4.928367933016073,
           4.902926538286621,
           4.873849377069785,
           4.841253532831181,
           4.805270257531059,
           4.766044443118978,
           4.7237340381050705,
           4.678509411557132,
           4.6305526670845225,
           4.580056909571198,
           4.527225467610503,
           4.472271074772682,
           4.415415013001886,
           4.356886221591872,
           4.296920375328275,
           4.235758935509427,
           4.17364817766693,
           4.1108381999010115,
           4.047581915823742,
           3.984134036165192,
           3.9207500431432116,
           3.8576851617267147,
           3.7951933319348092,
           3.733526186309965,
           3.672932036682578,
           3.6136548743068713,
           3.555933387394226,
           3.5,
           3.4460799361338896,
           3.394390312862333,
           3.345139266054715,
           3.2985251122936785,
           3.2547355503242454,
           3.2139469052572123,
           3.1763234185701674,
           3.142016586765023,
           3.1111645513450767,
           3.0838915425679305,
           3.0603073792140916,
           3.0405070263855025,
           3.024570213114593,
           3.0125611113236057,
           3.004528077426915,
           3.000503457616815,
           3.000503457616815,
           3.004528077426915,
           3.0125611113236057,
           3.024570213114593,
           3.0405070263855025,
           3.0603073792140916,
           3.0838915425679305,
           3.1111645513450767,
           3.142016586765023,
           3.176323418570167,
           3.2139469052572127,
           3.254735550324245,
           3.298525112293679,
           3.345139266054715,
           3.3943903128623334,
           3.4460799361338896,
           3.5000000000000004,
           3.555933387394226,
           3.6136548743068713,
           3.672932036682578,
           3.733526186309965,
           3.7951933319348097,
           3.8576851617267147,
           3.920750043143211,
           3.9841340361651922,
           4.047581915823742,
           4.110838199901011,
           4.17364817766693,
           4.235758935509428,
           4.296920375328275,
           4.356886221591871,
           4.415415013001887,
           4.472271074772683,
           4.527225467610503,
           4.580056909571198,
           4.6305526670845225,
           4.678509411557132,
           4.72373403810507,
           4.766044443118978,
           4.805270257531059,
           4.841253532831181,
           4.873849377069785,
           4.902926538286621,
           4.928367933016073,
           4.950071117740945,
           4.967948701396356,
           4.981928697262707,
           4.991954812830795,
           4.997986676471885,
           5
          ],
          [
           5,
           4.997986676471885,
           4.991954812830795,
           4.981928697262707,
           4.967948701396356,
           4.950071117740945,
           4.928367933016073,
           4.902926538286621,
           4.873849377069785,
           4.841253532831181,
           4.805270257531059,
           4.766044443118978,
           4.7237340381050705,
           4.678509411557132,
           4.6305526670845225,
           4.580056909571198,
           4.527225467610503,
           4.472271074772682,
           4.415415013001886,
           4.356886221591872,
           4.296920375328275,
           4.235758935509427,
           4.17364817766693,
           4.1108381999010115,
           4.047581915823742,
           3.984134036165192,
           3.9207500431432116,
           3.8576851617267147,
           3.7951933319348092,
           3.733526186309965,
           3.672932036682578,
           3.6136548743068713,
           3.555933387394226,
           3.5,
           3.4460799361338896,
           3.394390312862333,
           3.345139266054715,
           3.2985251122936785,
           3.2547355503242454,
           3.2139469052572123,
           3.1763234185701674,
           3.142016586765023,
           3.1111645513450767,
           3.0838915425679305,
           3.0603073792140916,
           3.0405070263855025,
           3.024570213114593,
           3.0125611113236057,
           3.004528077426915,
           3.000503457616815,
           3.000503457616815,
           3.004528077426915,
           3.0125611113236057,
           3.024570213114593,
           3.0405070263855025,
           3.0603073792140916,
           3.0838915425679305,
           3.1111645513450767,
           3.142016586765023,
           3.176323418570167,
           3.2139469052572127,
           3.254735550324245,
           3.298525112293679,
           3.345139266054715,
           3.3943903128623334,
           3.4460799361338896,
           3.5000000000000004,
           3.555933387394226,
           3.6136548743068713,
           3.672932036682578,
           3.733526186309965,
           3.7951933319348097,
           3.8576851617267147,
           3.920750043143211,
           3.9841340361651922,
           4.047581915823742,
           4.110838199901011,
           4.17364817766693,
           4.235758935509428,
           4.296920375328275,
           4.356886221591871,
           4.415415013001887,
           4.472271074772683,
           4.527225467610503,
           4.580056909571198,
           4.6305526670845225,
           4.678509411557132,
           4.72373403810507,
           4.766044443118978,
           4.805270257531059,
           4.841253532831181,
           4.873849377069785,
           4.902926538286621,
           4.928367933016073,
           4.950071117740945,
           4.967948701396356,
           4.981928697262707,
           4.991954812830795,
           4.997986676471885,
           5
          ],
          [
           5,
           4.997986676471885,
           4.991954812830795,
           4.981928697262707,
           4.967948701396356,
           4.950071117740945,
           4.928367933016073,
           4.902926538286621,
           4.873849377069785,
           4.841253532831181,
           4.805270257531059,
           4.766044443118978,
           4.7237340381050705,
           4.678509411557132,
           4.6305526670845225,
           4.580056909571198,
           4.527225467610503,
           4.472271074772682,
           4.415415013001886,
           4.356886221591872,
           4.296920375328275,
           4.235758935509427,
           4.17364817766693,
           4.1108381999010115,
           4.047581915823742,
           3.984134036165192,
           3.9207500431432116,
           3.8576851617267147,
           3.7951933319348092,
           3.733526186309965,
           3.672932036682578,
           3.6136548743068713,
           3.555933387394226,
           3.5,
           3.4460799361338896,
           3.394390312862333,
           3.345139266054715,
           3.2985251122936785,
           3.2547355503242454,
           3.2139469052572123,
           3.1763234185701674,
           3.142016586765023,
           3.1111645513450767,
           3.0838915425679305,
           3.0603073792140916,
           3.0405070263855025,
           3.024570213114593,
           3.0125611113236057,
           3.004528077426915,
           3.000503457616815,
           3.000503457616815,
           3.004528077426915,
           3.0125611113236057,
           3.024570213114593,
           3.0405070263855025,
           3.0603073792140916,
           3.0838915425679305,
           3.1111645513450767,
           3.142016586765023,
           3.176323418570167,
           3.2139469052572127,
           3.254735550324245,
           3.298525112293679,
           3.345139266054715,
           3.3943903128623334,
           3.4460799361338896,
           3.5000000000000004,
           3.555933387394226,
           3.6136548743068713,
           3.672932036682578,
           3.733526186309965,
           3.7951933319348097,
           3.8576851617267147,
           3.920750043143211,
           3.9841340361651922,
           4.047581915823742,
           4.110838199901011,
           4.17364817766693,
           4.235758935509428,
           4.296920375328275,
           4.356886221591871,
           4.415415013001887,
           4.472271074772683,
           4.527225467610503,
           4.580056909571198,
           4.6305526670845225,
           4.678509411557132,
           4.72373403810507,
           4.766044443118978,
           4.805270257531059,
           4.841253532831181,
           4.873849377069785,
           4.902926538286621,
           4.928367933016073,
           4.950071117740945,
           4.967948701396356,
           4.981928697262707,
           4.991954812830795,
           4.997986676471885,
           5
          ],
          [
           5,
           4.997986676471885,
           4.991954812830795,
           4.981928697262707,
           4.967948701396356,
           4.950071117740945,
           4.928367933016073,
           4.902926538286621,
           4.873849377069785,
           4.841253532831181,
           4.805270257531059,
           4.766044443118978,
           4.7237340381050705,
           4.678509411557132,
           4.6305526670845225,
           4.580056909571198,
           4.527225467610503,
           4.472271074772682,
           4.415415013001886,
           4.356886221591872,
           4.296920375328275,
           4.235758935509427,
           4.17364817766693,
           4.1108381999010115,
           4.047581915823742,
           3.984134036165192,
           3.9207500431432116,
           3.8576851617267147,
           3.7951933319348092,
           3.733526186309965,
           3.672932036682578,
           3.6136548743068713,
           3.555933387394226,
           3.5,
           3.4460799361338896,
           3.394390312862333,
           3.345139266054715,
           3.2985251122936785,
           3.2547355503242454,
           3.2139469052572123,
           3.1763234185701674,
           3.142016586765023,
           3.1111645513450767,
           3.0838915425679305,
           3.0603073792140916,
           3.0405070263855025,
           3.024570213114593,
           3.0125611113236057,
           3.004528077426915,
           3.000503457616815,
           3.000503457616815,
           3.004528077426915,
           3.0125611113236057,
           3.024570213114593,
           3.0405070263855025,
           3.0603073792140916,
           3.0838915425679305,
           3.1111645513450767,
           3.142016586765023,
           3.176323418570167,
           3.2139469052572127,
           3.254735550324245,
           3.298525112293679,
           3.345139266054715,
           3.3943903128623334,
           3.4460799361338896,
           3.5000000000000004,
           3.555933387394226,
           3.6136548743068713,
           3.672932036682578,
           3.733526186309965,
           3.7951933319348097,
           3.8576851617267147,
           3.920750043143211,
           3.9841340361651922,
           4.047581915823742,
           4.110838199901011,
           4.17364817766693,
           4.235758935509428,
           4.296920375328275,
           4.356886221591871,
           4.415415013001887,
           4.472271074772683,
           4.527225467610503,
           4.580056909571198,
           4.6305526670845225,
           4.678509411557132,
           4.72373403810507,
           4.766044443118978,
           4.805270257531059,
           4.841253532831181,
           4.873849377069785,
           4.902926538286621,
           4.928367933016073,
           4.950071117740945,
           4.967948701396356,
           4.981928697262707,
           4.991954812830795,
           4.997986676471885,
           5
          ],
          [
           5,
           4.997986676471885,
           4.991954812830795,
           4.981928697262707,
           4.967948701396356,
           4.950071117740945,
           4.928367933016073,
           4.902926538286621,
           4.873849377069785,
           4.841253532831181,
           4.805270257531059,
           4.766044443118978,
           4.7237340381050705,
           4.678509411557132,
           4.6305526670845225,
           4.580056909571198,
           4.527225467610503,
           4.472271074772682,
           4.415415013001886,
           4.356886221591872,
           4.296920375328275,
           4.235758935509427,
           4.17364817766693,
           4.1108381999010115,
           4.047581915823742,
           3.984134036165192,
           3.9207500431432116,
           3.8576851617267147,
           3.7951933319348092,
           3.733526186309965,
           3.672932036682578,
           3.6136548743068713,
           3.555933387394226,
           3.5,
           3.4460799361338896,
           3.394390312862333,
           3.345139266054715,
           3.2985251122936785,
           3.2547355503242454,
           3.2139469052572123,
           3.1763234185701674,
           3.142016586765023,
           3.1111645513450767,
           3.0838915425679305,
           3.0603073792140916,
           3.0405070263855025,
           3.024570213114593,
           3.0125611113236057,
           3.004528077426915,
           3.000503457616815,
           3.000503457616815,
           3.004528077426915,
           3.0125611113236057,
           3.024570213114593,
           3.0405070263855025,
           3.0603073792140916,
           3.0838915425679305,
           3.1111645513450767,
           3.142016586765023,
           3.176323418570167,
           3.2139469052572127,
           3.254735550324245,
           3.298525112293679,
           3.345139266054715,
           3.3943903128623334,
           3.4460799361338896,
           3.5000000000000004,
           3.555933387394226,
           3.6136548743068713,
           3.672932036682578,
           3.733526186309965,
           3.7951933319348097,
           3.8576851617267147,
           3.920750043143211,
           3.9841340361651922,
           4.047581915823742,
           4.110838199901011,
           4.17364817766693,
           4.235758935509428,
           4.296920375328275,
           4.356886221591871,
           4.415415013001887,
           4.472271074772683,
           4.527225467610503,
           4.580056909571198,
           4.6305526670845225,
           4.678509411557132,
           4.72373403810507,
           4.766044443118978,
           4.805270257531059,
           4.841253532831181,
           4.873849377069785,
           4.902926538286621,
           4.928367933016073,
           4.950071117740945,
           4.967948701396356,
           4.981928697262707,
           4.991954812830795,
           4.997986676471885,
           5
          ],
          [
           5,
           4.997986676471885,
           4.991954812830795,
           4.981928697262707,
           4.967948701396356,
           4.950071117740945,
           4.928367933016073,
           4.902926538286621,
           4.873849377069785,
           4.841253532831181,
           4.805270257531059,
           4.766044443118978,
           4.7237340381050705,
           4.678509411557132,
           4.6305526670845225,
           4.580056909571198,
           4.527225467610503,
           4.472271074772682,
           4.415415013001886,
           4.356886221591872,
           4.296920375328275,
           4.235758935509427,
           4.17364817766693,
           4.1108381999010115,
           4.047581915823742,
           3.984134036165192,
           3.9207500431432116,
           3.8576851617267147,
           3.7951933319348092,
           3.733526186309965,
           3.672932036682578,
           3.6136548743068713,
           3.555933387394226,
           3.5,
           3.4460799361338896,
           3.394390312862333,
           3.345139266054715,
           3.2985251122936785,
           3.2547355503242454,
           3.2139469052572123,
           3.1763234185701674,
           3.142016586765023,
           3.1111645513450767,
           3.0838915425679305,
           3.0603073792140916,
           3.0405070263855025,
           3.024570213114593,
           3.0125611113236057,
           3.004528077426915,
           3.000503457616815,
           3.000503457616815,
           3.004528077426915,
           3.0125611113236057,
           3.024570213114593,
           3.0405070263855025,
           3.0603073792140916,
           3.0838915425679305,
           3.1111645513450767,
           3.142016586765023,
           3.176323418570167,
           3.2139469052572127,
           3.254735550324245,
           3.298525112293679,
           3.345139266054715,
           3.3943903128623334,
           3.4460799361338896,
           3.5000000000000004,
           3.555933387394226,
           3.6136548743068713,
           3.672932036682578,
           3.733526186309965,
           3.7951933319348097,
           3.8576851617267147,
           3.920750043143211,
           3.9841340361651922,
           4.047581915823742,
           4.110838199901011,
           4.17364817766693,
           4.235758935509428,
           4.296920375328275,
           4.356886221591871,
           4.415415013001887,
           4.472271074772683,
           4.527225467610503,
           4.580056909571198,
           4.6305526670845225,
           4.678509411557132,
           4.72373403810507,
           4.766044443118978,
           4.805270257531059,
           4.841253532831181,
           4.873849377069785,
           4.902926538286621,
           4.928367933016073,
           4.950071117740945,
           4.967948701396356,
           4.981928697262707,
           4.991954812830795,
           4.997986676471885,
           5
          ],
          [
           5,
           4.997986676471885,
           4.991954812830795,
           4.981928697262707,
           4.967948701396356,
           4.950071117740945,
           4.928367933016073,
           4.902926538286621,
           4.873849377069785,
           4.841253532831181,
           4.805270257531059,
           4.766044443118978,
           4.7237340381050705,
           4.678509411557132,
           4.6305526670845225,
           4.580056909571198,
           4.527225467610503,
           4.472271074772682,
           4.415415013001886,
           4.356886221591872,
           4.296920375328275,
           4.235758935509427,
           4.17364817766693,
           4.1108381999010115,
           4.047581915823742,
           3.984134036165192,
           3.9207500431432116,
           3.8576851617267147,
           3.7951933319348092,
           3.733526186309965,
           3.672932036682578,
           3.6136548743068713,
           3.555933387394226,
           3.5,
           3.4460799361338896,
           3.394390312862333,
           3.345139266054715,
           3.2985251122936785,
           3.2547355503242454,
           3.2139469052572123,
           3.1763234185701674,
           3.142016586765023,
           3.1111645513450767,
           3.0838915425679305,
           3.0603073792140916,
           3.0405070263855025,
           3.024570213114593,
           3.0125611113236057,
           3.004528077426915,
           3.000503457616815,
           3.000503457616815,
           3.004528077426915,
           3.0125611113236057,
           3.024570213114593,
           3.0405070263855025,
           3.0603073792140916,
           3.0838915425679305,
           3.1111645513450767,
           3.142016586765023,
           3.176323418570167,
           3.2139469052572127,
           3.254735550324245,
           3.298525112293679,
           3.345139266054715,
           3.3943903128623334,
           3.4460799361338896,
           3.5000000000000004,
           3.555933387394226,
           3.6136548743068713,
           3.672932036682578,
           3.733526186309965,
           3.7951933319348097,
           3.8576851617267147,
           3.920750043143211,
           3.9841340361651922,
           4.047581915823742,
           4.110838199901011,
           4.17364817766693,
           4.235758935509428,
           4.296920375328275,
           4.356886221591871,
           4.415415013001887,
           4.472271074772683,
           4.527225467610503,
           4.580056909571198,
           4.6305526670845225,
           4.678509411557132,
           4.72373403810507,
           4.766044443118978,
           4.805270257531059,
           4.841253532831181,
           4.873849377069785,
           4.902926538286621,
           4.928367933016073,
           4.950071117740945,
           4.967948701396356,
           4.981928697262707,
           4.991954812830795,
           4.997986676471885,
           5
          ],
          [
           5,
           4.997986676471885,
           4.991954812830795,
           4.981928697262707,
           4.967948701396356,
           4.950071117740945,
           4.928367933016073,
           4.902926538286621,
           4.873849377069785,
           4.841253532831181,
           4.805270257531059,
           4.766044443118978,
           4.7237340381050705,
           4.678509411557132,
           4.6305526670845225,
           4.580056909571198,
           4.527225467610503,
           4.472271074772682,
           4.415415013001886,
           4.356886221591872,
           4.296920375328275,
           4.235758935509427,
           4.17364817766693,
           4.1108381999010115,
           4.047581915823742,
           3.984134036165192,
           3.9207500431432116,
           3.8576851617267147,
           3.7951933319348092,
           3.733526186309965,
           3.672932036682578,
           3.6136548743068713,
           3.555933387394226,
           3.5,
           3.4460799361338896,
           3.394390312862333,
           3.345139266054715,
           3.2985251122936785,
           3.2547355503242454,
           3.2139469052572123,
           3.1763234185701674,
           3.142016586765023,
           3.1111645513450767,
           3.0838915425679305,
           3.0603073792140916,
           3.0405070263855025,
           3.024570213114593,
           3.0125611113236057,
           3.004528077426915,
           3.000503457616815,
           3.000503457616815,
           3.004528077426915,
           3.0125611113236057,
           3.024570213114593,
           3.0405070263855025,
           3.0603073792140916,
           3.0838915425679305,
           3.1111645513450767,
           3.142016586765023,
           3.176323418570167,
           3.2139469052572127,
           3.254735550324245,
           3.298525112293679,
           3.345139266054715,
           3.3943903128623334,
           3.4460799361338896,
           3.5000000000000004,
           3.555933387394226,
           3.6136548743068713,
           3.672932036682578,
           3.733526186309965,
           3.7951933319348097,
           3.8576851617267147,
           3.920750043143211,
           3.9841340361651922,
           4.047581915823742,
           4.110838199901011,
           4.17364817766693,
           4.235758935509428,
           4.296920375328275,
           4.356886221591871,
           4.415415013001887,
           4.472271074772683,
           4.527225467610503,
           4.580056909571198,
           4.6305526670845225,
           4.678509411557132,
           4.72373403810507,
           4.766044443118978,
           4.805270257531059,
           4.841253532831181,
           4.873849377069785,
           4.902926538286621,
           4.928367933016073,
           4.950071117740945,
           4.967948701396356,
           4.981928697262707,
           4.991954812830795,
           4.997986676471885,
           5
          ],
          [
           5,
           4.997986676471885,
           4.991954812830795,
           4.981928697262707,
           4.967948701396356,
           4.950071117740945,
           4.928367933016073,
           4.902926538286621,
           4.873849377069785,
           4.841253532831181,
           4.805270257531059,
           4.766044443118978,
           4.7237340381050705,
           4.678509411557132,
           4.6305526670845225,
           4.580056909571198,
           4.527225467610503,
           4.472271074772682,
           4.415415013001886,
           4.356886221591872,
           4.296920375328275,
           4.235758935509427,
           4.17364817766693,
           4.1108381999010115,
           4.047581915823742,
           3.984134036165192,
           3.9207500431432116,
           3.8576851617267147,
           3.7951933319348092,
           3.733526186309965,
           3.672932036682578,
           3.6136548743068713,
           3.555933387394226,
           3.5,
           3.4460799361338896,
           3.394390312862333,
           3.345139266054715,
           3.2985251122936785,
           3.2547355503242454,
           3.2139469052572123,
           3.1763234185701674,
           3.142016586765023,
           3.1111645513450767,
           3.0838915425679305,
           3.0603073792140916,
           3.0405070263855025,
           3.024570213114593,
           3.0125611113236057,
           3.004528077426915,
           3.000503457616815,
           3.000503457616815,
           3.004528077426915,
           3.0125611113236057,
           3.024570213114593,
           3.0405070263855025,
           3.0603073792140916,
           3.0838915425679305,
           3.1111645513450767,
           3.142016586765023,
           3.176323418570167,
           3.2139469052572127,
           3.254735550324245,
           3.298525112293679,
           3.345139266054715,
           3.3943903128623334,
           3.4460799361338896,
           3.5000000000000004,
           3.555933387394226,
           3.6136548743068713,
           3.672932036682578,
           3.733526186309965,
           3.7951933319348097,
           3.8576851617267147,
           3.920750043143211,
           3.9841340361651922,
           4.047581915823742,
           4.110838199901011,
           4.17364817766693,
           4.235758935509428,
           4.296920375328275,
           4.356886221591871,
           4.415415013001887,
           4.472271074772683,
           4.527225467610503,
           4.580056909571198,
           4.6305526670845225,
           4.678509411557132,
           4.72373403810507,
           4.766044443118978,
           4.805270257531059,
           4.841253532831181,
           4.873849377069785,
           4.902926538286621,
           4.928367933016073,
           4.950071117740945,
           4.967948701396356,
           4.981928697262707,
           4.991954812830795,
           4.997986676471885,
           5
          ],
          [
           5,
           4.997986676471885,
           4.991954812830795,
           4.981928697262707,
           4.967948701396356,
           4.950071117740945,
           4.928367933016073,
           4.902926538286621,
           4.873849377069785,
           4.841253532831181,
           4.805270257531059,
           4.766044443118978,
           4.7237340381050705,
           4.678509411557132,
           4.6305526670845225,
           4.580056909571198,
           4.527225467610503,
           4.472271074772682,
           4.415415013001886,
           4.356886221591872,
           4.296920375328275,
           4.235758935509427,
           4.17364817766693,
           4.1108381999010115,
           4.047581915823742,
           3.984134036165192,
           3.9207500431432116,
           3.8576851617267147,
           3.7951933319348092,
           3.733526186309965,
           3.672932036682578,
           3.6136548743068713,
           3.555933387394226,
           3.5,
           3.4460799361338896,
           3.394390312862333,
           3.345139266054715,
           3.2985251122936785,
           3.2547355503242454,
           3.2139469052572123,
           3.1763234185701674,
           3.142016586765023,
           3.1111645513450767,
           3.0838915425679305,
           3.0603073792140916,
           3.0405070263855025,
           3.024570213114593,
           3.0125611113236057,
           3.004528077426915,
           3.000503457616815,
           3.000503457616815,
           3.004528077426915,
           3.0125611113236057,
           3.024570213114593,
           3.0405070263855025,
           3.0603073792140916,
           3.0838915425679305,
           3.1111645513450767,
           3.142016586765023,
           3.176323418570167,
           3.2139469052572127,
           3.254735550324245,
           3.298525112293679,
           3.345139266054715,
           3.3943903128623334,
           3.4460799361338896,
           3.5000000000000004,
           3.555933387394226,
           3.6136548743068713,
           3.672932036682578,
           3.733526186309965,
           3.7951933319348097,
           3.8576851617267147,
           3.920750043143211,
           3.9841340361651922,
           4.047581915823742,
           4.110838199901011,
           4.17364817766693,
           4.235758935509428,
           4.296920375328275,
           4.356886221591871,
           4.415415013001887,
           4.472271074772683,
           4.527225467610503,
           4.580056909571198,
           4.6305526670845225,
           4.678509411557132,
           4.72373403810507,
           4.766044443118978,
           4.805270257531059,
           4.841253532831181,
           4.873849377069785,
           4.902926538286621,
           4.928367933016073,
           4.950071117740945,
           4.967948701396356,
           4.981928697262707,
           4.991954812830795,
           4.997986676471885,
           5
          ],
          [
           5,
           4.997986676471885,
           4.991954812830795,
           4.981928697262707,
           4.967948701396356,
           4.950071117740945,
           4.928367933016073,
           4.902926538286621,
           4.873849377069785,
           4.841253532831181,
           4.805270257531059,
           4.766044443118978,
           4.7237340381050705,
           4.678509411557132,
           4.6305526670845225,
           4.580056909571198,
           4.527225467610503,
           4.472271074772682,
           4.415415013001886,
           4.356886221591872,
           4.296920375328275,
           4.235758935509427,
           4.17364817766693,
           4.1108381999010115,
           4.047581915823742,
           3.984134036165192,
           3.9207500431432116,
           3.8576851617267147,
           3.7951933319348092,
           3.733526186309965,
           3.672932036682578,
           3.6136548743068713,
           3.555933387394226,
           3.5,
           3.4460799361338896,
           3.394390312862333,
           3.345139266054715,
           3.2985251122936785,
           3.2547355503242454,
           3.2139469052572123,
           3.1763234185701674,
           3.142016586765023,
           3.1111645513450767,
           3.0838915425679305,
           3.0603073792140916,
           3.0405070263855025,
           3.024570213114593,
           3.0125611113236057,
           3.004528077426915,
           3.000503457616815,
           3.000503457616815,
           3.004528077426915,
           3.0125611113236057,
           3.024570213114593,
           3.0405070263855025,
           3.0603073792140916,
           3.0838915425679305,
           3.1111645513450767,
           3.142016586765023,
           3.176323418570167,
           3.2139469052572127,
           3.254735550324245,
           3.298525112293679,
           3.345139266054715,
           3.3943903128623334,
           3.4460799361338896,
           3.5000000000000004,
           3.555933387394226,
           3.6136548743068713,
           3.672932036682578,
           3.733526186309965,
           3.7951933319348097,
           3.8576851617267147,
           3.920750043143211,
           3.9841340361651922,
           4.047581915823742,
           4.110838199901011,
           4.17364817766693,
           4.235758935509428,
           4.296920375328275,
           4.356886221591871,
           4.415415013001887,
           4.472271074772683,
           4.527225467610503,
           4.580056909571198,
           4.6305526670845225,
           4.678509411557132,
           4.72373403810507,
           4.766044443118978,
           4.805270257531059,
           4.841253532831181,
           4.873849377069785,
           4.902926538286621,
           4.928367933016073,
           4.950071117740945,
           4.967948701396356,
           4.981928697262707,
           4.991954812830795,
           4.997986676471885,
           5
          ],
          [
           5,
           4.997986676471885,
           4.991954812830795,
           4.981928697262707,
           4.967948701396356,
           4.950071117740945,
           4.928367933016073,
           4.902926538286621,
           4.873849377069785,
           4.841253532831181,
           4.805270257531059,
           4.766044443118978,
           4.7237340381050705,
           4.678509411557132,
           4.6305526670845225,
           4.580056909571198,
           4.527225467610503,
           4.472271074772682,
           4.415415013001886,
           4.356886221591872,
           4.296920375328275,
           4.235758935509427,
           4.17364817766693,
           4.1108381999010115,
           4.047581915823742,
           3.984134036165192,
           3.9207500431432116,
           3.8576851617267147,
           3.7951933319348092,
           3.733526186309965,
           3.672932036682578,
           3.6136548743068713,
           3.555933387394226,
           3.5,
           3.4460799361338896,
           3.394390312862333,
           3.345139266054715,
           3.2985251122936785,
           3.2547355503242454,
           3.2139469052572123,
           3.1763234185701674,
           3.142016586765023,
           3.1111645513450767,
           3.0838915425679305,
           3.0603073792140916,
           3.0405070263855025,
           3.024570213114593,
           3.0125611113236057,
           3.004528077426915,
           3.000503457616815,
           3.000503457616815,
           3.004528077426915,
           3.0125611113236057,
           3.024570213114593,
           3.0405070263855025,
           3.0603073792140916,
           3.0838915425679305,
           3.1111645513450767,
           3.142016586765023,
           3.176323418570167,
           3.2139469052572127,
           3.254735550324245,
           3.298525112293679,
           3.345139266054715,
           3.3943903128623334,
           3.4460799361338896,
           3.5000000000000004,
           3.555933387394226,
           3.6136548743068713,
           3.672932036682578,
           3.733526186309965,
           3.7951933319348097,
           3.8576851617267147,
           3.920750043143211,
           3.9841340361651922,
           4.047581915823742,
           4.110838199901011,
           4.17364817766693,
           4.235758935509428,
           4.296920375328275,
           4.356886221591871,
           4.415415013001887,
           4.472271074772683,
           4.527225467610503,
           4.580056909571198,
           4.6305526670845225,
           4.678509411557132,
           4.72373403810507,
           4.766044443118978,
           4.805270257531059,
           4.841253532831181,
           4.873849377069785,
           4.902926538286621,
           4.928367933016073,
           4.950071117740945,
           4.967948701396356,
           4.981928697262707,
           4.991954812830795,
           4.997986676471885,
           5
          ],
          [
           5,
           4.997986676471885,
           4.991954812830795,
           4.981928697262707,
           4.967948701396356,
           4.950071117740945,
           4.928367933016073,
           4.902926538286621,
           4.873849377069785,
           4.841253532831181,
           4.805270257531059,
           4.766044443118978,
           4.7237340381050705,
           4.678509411557132,
           4.6305526670845225,
           4.580056909571198,
           4.527225467610503,
           4.472271074772682,
           4.415415013001886,
           4.356886221591872,
           4.296920375328275,
           4.235758935509427,
           4.17364817766693,
           4.1108381999010115,
           4.047581915823742,
           3.984134036165192,
           3.9207500431432116,
           3.8576851617267147,
           3.7951933319348092,
           3.733526186309965,
           3.672932036682578,
           3.6136548743068713,
           3.555933387394226,
           3.5,
           3.4460799361338896,
           3.394390312862333,
           3.345139266054715,
           3.2985251122936785,
           3.2547355503242454,
           3.2139469052572123,
           3.1763234185701674,
           3.142016586765023,
           3.1111645513450767,
           3.0838915425679305,
           3.0603073792140916,
           3.0405070263855025,
           3.024570213114593,
           3.0125611113236057,
           3.004528077426915,
           3.000503457616815,
           3.000503457616815,
           3.004528077426915,
           3.0125611113236057,
           3.024570213114593,
           3.0405070263855025,
           3.0603073792140916,
           3.0838915425679305,
           3.1111645513450767,
           3.142016586765023,
           3.176323418570167,
           3.2139469052572127,
           3.254735550324245,
           3.298525112293679,
           3.345139266054715,
           3.3943903128623334,
           3.4460799361338896,
           3.5000000000000004,
           3.555933387394226,
           3.6136548743068713,
           3.672932036682578,
           3.733526186309965,
           3.7951933319348097,
           3.8576851617267147,
           3.920750043143211,
           3.9841340361651922,
           4.047581915823742,
           4.110838199901011,
           4.17364817766693,
           4.235758935509428,
           4.296920375328275,
           4.356886221591871,
           4.415415013001887,
           4.472271074772683,
           4.527225467610503,
           4.580056909571198,
           4.6305526670845225,
           4.678509411557132,
           4.72373403810507,
           4.766044443118978,
           4.805270257531059,
           4.841253532831181,
           4.873849377069785,
           4.902926538286621,
           4.928367933016073,
           4.950071117740945,
           4.967948701396356,
           4.981928697262707,
           4.991954812830795,
           4.997986676471885,
           5
          ],
          [
           5,
           4.997986676471885,
           4.991954812830795,
           4.981928697262707,
           4.967948701396356,
           4.950071117740945,
           4.928367933016073,
           4.902926538286621,
           4.873849377069785,
           4.841253532831181,
           4.805270257531059,
           4.766044443118978,
           4.7237340381050705,
           4.678509411557132,
           4.6305526670845225,
           4.580056909571198,
           4.527225467610503,
           4.472271074772682,
           4.415415013001886,
           4.356886221591872,
           4.296920375328275,
           4.235758935509427,
           4.17364817766693,
           4.1108381999010115,
           4.047581915823742,
           3.984134036165192,
           3.9207500431432116,
           3.8576851617267147,
           3.7951933319348092,
           3.733526186309965,
           3.672932036682578,
           3.6136548743068713,
           3.555933387394226,
           3.5,
           3.4460799361338896,
           3.394390312862333,
           3.345139266054715,
           3.2985251122936785,
           3.2547355503242454,
           3.2139469052572123,
           3.1763234185701674,
           3.142016586765023,
           3.1111645513450767,
           3.0838915425679305,
           3.0603073792140916,
           3.0405070263855025,
           3.024570213114593,
           3.0125611113236057,
           3.004528077426915,
           3.000503457616815,
           3.000503457616815,
           3.004528077426915,
           3.0125611113236057,
           3.024570213114593,
           3.0405070263855025,
           3.0603073792140916,
           3.0838915425679305,
           3.1111645513450767,
           3.142016586765023,
           3.176323418570167,
           3.2139469052572127,
           3.254735550324245,
           3.298525112293679,
           3.345139266054715,
           3.3943903128623334,
           3.4460799361338896,
           3.5000000000000004,
           3.555933387394226,
           3.6136548743068713,
           3.672932036682578,
           3.733526186309965,
           3.7951933319348097,
           3.8576851617267147,
           3.920750043143211,
           3.9841340361651922,
           4.047581915823742,
           4.110838199901011,
           4.17364817766693,
           4.235758935509428,
           4.296920375328275,
           4.356886221591871,
           4.415415013001887,
           4.472271074772683,
           4.527225467610503,
           4.580056909571198,
           4.6305526670845225,
           4.678509411557132,
           4.72373403810507,
           4.766044443118978,
           4.805270257531059,
           4.841253532831181,
           4.873849377069785,
           4.902926538286621,
           4.928367933016073,
           4.950071117740945,
           4.967948701396356,
           4.981928697262707,
           4.991954812830795,
           4.997986676471885,
           5
          ],
          [
           5,
           4.997986676471885,
           4.991954812830795,
           4.981928697262707,
           4.967948701396356,
           4.950071117740945,
           4.928367933016073,
           4.902926538286621,
           4.873849377069785,
           4.841253532831181,
           4.805270257531059,
           4.766044443118978,
           4.7237340381050705,
           4.678509411557132,
           4.6305526670845225,
           4.580056909571198,
           4.527225467610503,
           4.472271074772682,
           4.415415013001886,
           4.356886221591872,
           4.296920375328275,
           4.235758935509427,
           4.17364817766693,
           4.1108381999010115,
           4.047581915823742,
           3.984134036165192,
           3.9207500431432116,
           3.8576851617267147,
           3.7951933319348092,
           3.733526186309965,
           3.672932036682578,
           3.6136548743068713,
           3.555933387394226,
           3.5,
           3.4460799361338896,
           3.394390312862333,
           3.345139266054715,
           3.2985251122936785,
           3.2547355503242454,
           3.2139469052572123,
           3.1763234185701674,
           3.142016586765023,
           3.1111645513450767,
           3.0838915425679305,
           3.0603073792140916,
           3.0405070263855025,
           3.024570213114593,
           3.0125611113236057,
           3.004528077426915,
           3.000503457616815,
           3.000503457616815,
           3.004528077426915,
           3.0125611113236057,
           3.024570213114593,
           3.0405070263855025,
           3.0603073792140916,
           3.0838915425679305,
           3.1111645513450767,
           3.142016586765023,
           3.176323418570167,
           3.2139469052572127,
           3.254735550324245,
           3.298525112293679,
           3.345139266054715,
           3.3943903128623334,
           3.4460799361338896,
           3.5000000000000004,
           3.555933387394226,
           3.6136548743068713,
           3.672932036682578,
           3.733526186309965,
           3.7951933319348097,
           3.8576851617267147,
           3.920750043143211,
           3.9841340361651922,
           4.047581915823742,
           4.110838199901011,
           4.17364817766693,
           4.235758935509428,
           4.296920375328275,
           4.356886221591871,
           4.415415013001887,
           4.472271074772683,
           4.527225467610503,
           4.580056909571198,
           4.6305526670845225,
           4.678509411557132,
           4.72373403810507,
           4.766044443118978,
           4.805270257531059,
           4.841253532831181,
           4.873849377069785,
           4.902926538286621,
           4.928367933016073,
           4.950071117740945,
           4.967948701396356,
           4.981928697262707,
           4.991954812830795,
           4.997986676471885,
           5
          ],
          [
           5,
           4.997986676471885,
           4.991954812830795,
           4.981928697262707,
           4.967948701396356,
           4.950071117740945,
           4.928367933016073,
           4.902926538286621,
           4.873849377069785,
           4.841253532831181,
           4.805270257531059,
           4.766044443118978,
           4.7237340381050705,
           4.678509411557132,
           4.6305526670845225,
           4.580056909571198,
           4.527225467610503,
           4.472271074772682,
           4.415415013001886,
           4.356886221591872,
           4.296920375328275,
           4.235758935509427,
           4.17364817766693,
           4.1108381999010115,
           4.047581915823742,
           3.984134036165192,
           3.9207500431432116,
           3.8576851617267147,
           3.7951933319348092,
           3.733526186309965,
           3.672932036682578,
           3.6136548743068713,
           3.555933387394226,
           3.5,
           3.4460799361338896,
           3.394390312862333,
           3.345139266054715,
           3.2985251122936785,
           3.2547355503242454,
           3.2139469052572123,
           3.1763234185701674,
           3.142016586765023,
           3.1111645513450767,
           3.0838915425679305,
           3.0603073792140916,
           3.0405070263855025,
           3.024570213114593,
           3.0125611113236057,
           3.004528077426915,
           3.000503457616815,
           3.000503457616815,
           3.004528077426915,
           3.0125611113236057,
           3.024570213114593,
           3.0405070263855025,
           3.0603073792140916,
           3.0838915425679305,
           3.1111645513450767,
           3.142016586765023,
           3.176323418570167,
           3.2139469052572127,
           3.254735550324245,
           3.298525112293679,
           3.345139266054715,
           3.3943903128623334,
           3.4460799361338896,
           3.5000000000000004,
           3.555933387394226,
           3.6136548743068713,
           3.672932036682578,
           3.733526186309965,
           3.7951933319348097,
           3.8576851617267147,
           3.920750043143211,
           3.9841340361651922,
           4.047581915823742,
           4.110838199901011,
           4.17364817766693,
           4.235758935509428,
           4.296920375328275,
           4.356886221591871,
           4.415415013001887,
           4.472271074772683,
           4.527225467610503,
           4.580056909571198,
           4.6305526670845225,
           4.678509411557132,
           4.72373403810507,
           4.766044443118978,
           4.805270257531059,
           4.841253532831181,
           4.873849377069785,
           4.902926538286621,
           4.928367933016073,
           4.950071117740945,
           4.967948701396356,
           4.981928697262707,
           4.991954812830795,
           4.997986676471885,
           5
          ],
          [
           5,
           4.997986676471885,
           4.991954812830795,
           4.981928697262707,
           4.967948701396356,
           4.950071117740945,
           4.928367933016073,
           4.902926538286621,
           4.873849377069785,
           4.841253532831181,
           4.805270257531059,
           4.766044443118978,
           4.7237340381050705,
           4.678509411557132,
           4.6305526670845225,
           4.580056909571198,
           4.527225467610503,
           4.472271074772682,
           4.415415013001886,
           4.356886221591872,
           4.296920375328275,
           4.235758935509427,
           4.17364817766693,
           4.1108381999010115,
           4.047581915823742,
           3.984134036165192,
           3.9207500431432116,
           3.8576851617267147,
           3.7951933319348092,
           3.733526186309965,
           3.672932036682578,
           3.6136548743068713,
           3.555933387394226,
           3.5,
           3.4460799361338896,
           3.394390312862333,
           3.345139266054715,
           3.2985251122936785,
           3.2547355503242454,
           3.2139469052572123,
           3.1763234185701674,
           3.142016586765023,
           3.1111645513450767,
           3.0838915425679305,
           3.0603073792140916,
           3.0405070263855025,
           3.024570213114593,
           3.0125611113236057,
           3.004528077426915,
           3.000503457616815,
           3.000503457616815,
           3.004528077426915,
           3.0125611113236057,
           3.024570213114593,
           3.0405070263855025,
           3.0603073792140916,
           3.0838915425679305,
           3.1111645513450767,
           3.142016586765023,
           3.176323418570167,
           3.2139469052572127,
           3.254735550324245,
           3.298525112293679,
           3.345139266054715,
           3.3943903128623334,
           3.4460799361338896,
           3.5000000000000004,
           3.555933387394226,
           3.6136548743068713,
           3.672932036682578,
           3.733526186309965,
           3.7951933319348097,
           3.8576851617267147,
           3.920750043143211,
           3.9841340361651922,
           4.047581915823742,
           4.110838199901011,
           4.17364817766693,
           4.235758935509428,
           4.296920375328275,
           4.356886221591871,
           4.415415013001887,
           4.472271074772683,
           4.527225467610503,
           4.580056909571198,
           4.6305526670845225,
           4.678509411557132,
           4.72373403810507,
           4.766044443118978,
           4.805270257531059,
           4.841253532831181,
           4.873849377069785,
           4.902926538286621,
           4.928367933016073,
           4.950071117740945,
           4.967948701396356,
           4.981928697262707,
           4.991954812830795,
           4.997986676471885,
           5
          ],
          [
           5,
           4.997986676471885,
           4.991954812830795,
           4.981928697262707,
           4.967948701396356,
           4.950071117740945,
           4.928367933016073,
           4.902926538286621,
           4.873849377069785,
           4.841253532831181,
           4.805270257531059,
           4.766044443118978,
           4.7237340381050705,
           4.678509411557132,
           4.6305526670845225,
           4.580056909571198,
           4.527225467610503,
           4.472271074772682,
           4.415415013001886,
           4.356886221591872,
           4.296920375328275,
           4.235758935509427,
           4.17364817766693,
           4.1108381999010115,
           4.047581915823742,
           3.984134036165192,
           3.9207500431432116,
           3.8576851617267147,
           3.7951933319348092,
           3.733526186309965,
           3.672932036682578,
           3.6136548743068713,
           3.555933387394226,
           3.5,
           3.4460799361338896,
           3.394390312862333,
           3.345139266054715,
           3.2985251122936785,
           3.2547355503242454,
           3.2139469052572123,
           3.1763234185701674,
           3.142016586765023,
           3.1111645513450767,
           3.0838915425679305,
           3.0603073792140916,
           3.0405070263855025,
           3.024570213114593,
           3.0125611113236057,
           3.004528077426915,
           3.000503457616815,
           3.000503457616815,
           3.004528077426915,
           3.0125611113236057,
           3.024570213114593,
           3.0405070263855025,
           3.0603073792140916,
           3.0838915425679305,
           3.1111645513450767,
           3.142016586765023,
           3.176323418570167,
           3.2139469052572127,
           3.254735550324245,
           3.298525112293679,
           3.345139266054715,
           3.3943903128623334,
           3.4460799361338896,
           3.5000000000000004,
           3.555933387394226,
           3.6136548743068713,
           3.672932036682578,
           3.733526186309965,
           3.7951933319348097,
           3.8576851617267147,
           3.920750043143211,
           3.9841340361651922,
           4.047581915823742,
           4.110838199901011,
           4.17364817766693,
           4.235758935509428,
           4.296920375328275,
           4.356886221591871,
           4.415415013001887,
           4.472271074772683,
           4.527225467610503,
           4.580056909571198,
           4.6305526670845225,
           4.678509411557132,
           4.72373403810507,
           4.766044443118978,
           4.805270257531059,
           4.841253532831181,
           4.873849377069785,
           4.902926538286621,
           4.928367933016073,
           4.950071117740945,
           4.967948701396356,
           4.981928697262707,
           4.991954812830795,
           4.997986676471885,
           5
          ],
          [
           5,
           4.997986676471885,
           4.991954812830795,
           4.981928697262707,
           4.967948701396356,
           4.950071117740945,
           4.928367933016073,
           4.902926538286621,
           4.873849377069785,
           4.841253532831181,
           4.805270257531059,
           4.766044443118978,
           4.7237340381050705,
           4.678509411557132,
           4.6305526670845225,
           4.580056909571198,
           4.527225467610503,
           4.472271074772682,
           4.415415013001886,
           4.356886221591872,
           4.296920375328275,
           4.235758935509427,
           4.17364817766693,
           4.1108381999010115,
           4.047581915823742,
           3.984134036165192,
           3.9207500431432116,
           3.8576851617267147,
           3.7951933319348092,
           3.733526186309965,
           3.672932036682578,
           3.6136548743068713,
           3.555933387394226,
           3.5,
           3.4460799361338896,
           3.394390312862333,
           3.345139266054715,
           3.2985251122936785,
           3.2547355503242454,
           3.2139469052572123,
           3.1763234185701674,
           3.142016586765023,
           3.1111645513450767,
           3.0838915425679305,
           3.0603073792140916,
           3.0405070263855025,
           3.024570213114593,
           3.0125611113236057,
           3.004528077426915,
           3.000503457616815,
           3.000503457616815,
           3.004528077426915,
           3.0125611113236057,
           3.024570213114593,
           3.0405070263855025,
           3.0603073792140916,
           3.0838915425679305,
           3.1111645513450767,
           3.142016586765023,
           3.176323418570167,
           3.2139469052572127,
           3.254735550324245,
           3.298525112293679,
           3.345139266054715,
           3.3943903128623334,
           3.4460799361338896,
           3.5000000000000004,
           3.555933387394226,
           3.6136548743068713,
           3.672932036682578,
           3.733526186309965,
           3.7951933319348097,
           3.8576851617267147,
           3.920750043143211,
           3.9841340361651922,
           4.047581915823742,
           4.110838199901011,
           4.17364817766693,
           4.235758935509428,
           4.296920375328275,
           4.356886221591871,
           4.415415013001887,
           4.472271074772683,
           4.527225467610503,
           4.580056909571198,
           4.6305526670845225,
           4.678509411557132,
           4.72373403810507,
           4.766044443118978,
           4.805270257531059,
           4.841253532831181,
           4.873849377069785,
           4.902926538286621,
           4.928367933016073,
           4.950071117740945,
           4.967948701396356,
           4.981928697262707,
           4.991954812830795,
           4.997986676471885,
           5
          ],
          [
           5,
           4.997986676471885,
           4.991954812830795,
           4.981928697262707,
           4.967948701396356,
           4.950071117740945,
           4.928367933016073,
           4.902926538286621,
           4.873849377069785,
           4.841253532831181,
           4.805270257531059,
           4.766044443118978,
           4.7237340381050705,
           4.678509411557132,
           4.6305526670845225,
           4.580056909571198,
           4.527225467610503,
           4.472271074772682,
           4.415415013001886,
           4.356886221591872,
           4.296920375328275,
           4.235758935509427,
           4.17364817766693,
           4.1108381999010115,
           4.047581915823742,
           3.984134036165192,
           3.9207500431432116,
           3.8576851617267147,
           3.7951933319348092,
           3.733526186309965,
           3.672932036682578,
           3.6136548743068713,
           3.555933387394226,
           3.5,
           3.4460799361338896,
           3.394390312862333,
           3.345139266054715,
           3.2985251122936785,
           3.2547355503242454,
           3.2139469052572123,
           3.1763234185701674,
           3.142016586765023,
           3.1111645513450767,
           3.0838915425679305,
           3.0603073792140916,
           3.0405070263855025,
           3.024570213114593,
           3.0125611113236057,
           3.004528077426915,
           3.000503457616815,
           3.000503457616815,
           3.004528077426915,
           3.0125611113236057,
           3.024570213114593,
           3.0405070263855025,
           3.0603073792140916,
           3.0838915425679305,
           3.1111645513450767,
           3.142016586765023,
           3.176323418570167,
           3.2139469052572127,
           3.254735550324245,
           3.298525112293679,
           3.345139266054715,
           3.3943903128623334,
           3.4460799361338896,
           3.5000000000000004,
           3.555933387394226,
           3.6136548743068713,
           3.672932036682578,
           3.733526186309965,
           3.7951933319348097,
           3.8576851617267147,
           3.920750043143211,
           3.9841340361651922,
           4.047581915823742,
           4.110838199901011,
           4.17364817766693,
           4.235758935509428,
           4.296920375328275,
           4.356886221591871,
           4.415415013001887,
           4.472271074772683,
           4.527225467610503,
           4.580056909571198,
           4.6305526670845225,
           4.678509411557132,
           4.72373403810507,
           4.766044443118978,
           4.805270257531059,
           4.841253532831181,
           4.873849377069785,
           4.902926538286621,
           4.928367933016073,
           4.950071117740945,
           4.967948701396356,
           4.981928697262707,
           4.991954812830795,
           4.997986676471885,
           5
          ],
          [
           5,
           4.997986676471885,
           4.991954812830795,
           4.981928697262707,
           4.967948701396356,
           4.950071117740945,
           4.928367933016073,
           4.902926538286621,
           4.873849377069785,
           4.841253532831181,
           4.805270257531059,
           4.766044443118978,
           4.7237340381050705,
           4.678509411557132,
           4.6305526670845225,
           4.580056909571198,
           4.527225467610503,
           4.472271074772682,
           4.415415013001886,
           4.356886221591872,
           4.296920375328275,
           4.235758935509427,
           4.17364817766693,
           4.1108381999010115,
           4.047581915823742,
           3.984134036165192,
           3.9207500431432116,
           3.8576851617267147,
           3.7951933319348092,
           3.733526186309965,
           3.672932036682578,
           3.6136548743068713,
           3.555933387394226,
           3.5,
           3.4460799361338896,
           3.394390312862333,
           3.345139266054715,
           3.2985251122936785,
           3.2547355503242454,
           3.2139469052572123,
           3.1763234185701674,
           3.142016586765023,
           3.1111645513450767,
           3.0838915425679305,
           3.0603073792140916,
           3.0405070263855025,
           3.024570213114593,
           3.0125611113236057,
           3.004528077426915,
           3.000503457616815,
           3.000503457616815,
           3.004528077426915,
           3.0125611113236057,
           3.024570213114593,
           3.0405070263855025,
           3.0603073792140916,
           3.0838915425679305,
           3.1111645513450767,
           3.142016586765023,
           3.176323418570167,
           3.2139469052572127,
           3.254735550324245,
           3.298525112293679,
           3.345139266054715,
           3.3943903128623334,
           3.4460799361338896,
           3.5000000000000004,
           3.555933387394226,
           3.6136548743068713,
           3.672932036682578,
           3.733526186309965,
           3.7951933319348097,
           3.8576851617267147,
           3.920750043143211,
           3.9841340361651922,
           4.047581915823742,
           4.110838199901011,
           4.17364817766693,
           4.235758935509428,
           4.296920375328275,
           4.356886221591871,
           4.415415013001887,
           4.472271074772683,
           4.527225467610503,
           4.580056909571198,
           4.6305526670845225,
           4.678509411557132,
           4.72373403810507,
           4.766044443118978,
           4.805270257531059,
           4.841253532831181,
           4.873849377069785,
           4.902926538286621,
           4.928367933016073,
           4.950071117740945,
           4.967948701396356,
           4.981928697262707,
           4.991954812830795,
           4.997986676471885,
           5
          ],
          [
           5,
           4.997986676471885,
           4.991954812830795,
           4.981928697262707,
           4.967948701396356,
           4.950071117740945,
           4.928367933016073,
           4.902926538286621,
           4.873849377069785,
           4.841253532831181,
           4.805270257531059,
           4.766044443118978,
           4.7237340381050705,
           4.678509411557132,
           4.6305526670845225,
           4.580056909571198,
           4.527225467610503,
           4.472271074772682,
           4.415415013001886,
           4.356886221591872,
           4.296920375328275,
           4.235758935509427,
           4.17364817766693,
           4.1108381999010115,
           4.047581915823742,
           3.984134036165192,
           3.9207500431432116,
           3.8576851617267147,
           3.7951933319348092,
           3.733526186309965,
           3.672932036682578,
           3.6136548743068713,
           3.555933387394226,
           3.5,
           3.4460799361338896,
           3.394390312862333,
           3.345139266054715,
           3.2985251122936785,
           3.2547355503242454,
           3.2139469052572123,
           3.1763234185701674,
           3.142016586765023,
           3.1111645513450767,
           3.0838915425679305,
           3.0603073792140916,
           3.0405070263855025,
           3.024570213114593,
           3.0125611113236057,
           3.004528077426915,
           3.000503457616815,
           3.000503457616815,
           3.004528077426915,
           3.0125611113236057,
           3.024570213114593,
           3.0405070263855025,
           3.0603073792140916,
           3.0838915425679305,
           3.1111645513450767,
           3.142016586765023,
           3.176323418570167,
           3.2139469052572127,
           3.254735550324245,
           3.298525112293679,
           3.345139266054715,
           3.3943903128623334,
           3.4460799361338896,
           3.5000000000000004,
           3.555933387394226,
           3.6136548743068713,
           3.672932036682578,
           3.733526186309965,
           3.7951933319348097,
           3.8576851617267147,
           3.920750043143211,
           3.9841340361651922,
           4.047581915823742,
           4.110838199901011,
           4.17364817766693,
           4.235758935509428,
           4.296920375328275,
           4.356886221591871,
           4.415415013001887,
           4.472271074772683,
           4.527225467610503,
           4.580056909571198,
           4.6305526670845225,
           4.678509411557132,
           4.72373403810507,
           4.766044443118978,
           4.805270257531059,
           4.841253532831181,
           4.873849377069785,
           4.902926538286621,
           4.928367933016073,
           4.950071117740945,
           4.967948701396356,
           4.981928697262707,
           4.991954812830795,
           4.997986676471885,
           5
          ],
          [
           5,
           4.997986676471885,
           4.991954812830795,
           4.981928697262707,
           4.967948701396356,
           4.950071117740945,
           4.928367933016073,
           4.902926538286621,
           4.873849377069785,
           4.841253532831181,
           4.805270257531059,
           4.766044443118978,
           4.7237340381050705,
           4.678509411557132,
           4.6305526670845225,
           4.580056909571198,
           4.527225467610503,
           4.472271074772682,
           4.415415013001886,
           4.356886221591872,
           4.296920375328275,
           4.235758935509427,
           4.17364817766693,
           4.1108381999010115,
           4.047581915823742,
           3.984134036165192,
           3.9207500431432116,
           3.8576851617267147,
           3.7951933319348092,
           3.733526186309965,
           3.672932036682578,
           3.6136548743068713,
           3.555933387394226,
           3.5,
           3.4460799361338896,
           3.394390312862333,
           3.345139266054715,
           3.2985251122936785,
           3.2547355503242454,
           3.2139469052572123,
           3.1763234185701674,
           3.142016586765023,
           3.1111645513450767,
           3.0838915425679305,
           3.0603073792140916,
           3.0405070263855025,
           3.024570213114593,
           3.0125611113236057,
           3.004528077426915,
           3.000503457616815,
           3.000503457616815,
           3.004528077426915,
           3.0125611113236057,
           3.024570213114593,
           3.0405070263855025,
           3.0603073792140916,
           3.0838915425679305,
           3.1111645513450767,
           3.142016586765023,
           3.176323418570167,
           3.2139469052572127,
           3.254735550324245,
           3.298525112293679,
           3.345139266054715,
           3.3943903128623334,
           3.4460799361338896,
           3.5000000000000004,
           3.555933387394226,
           3.6136548743068713,
           3.672932036682578,
           3.733526186309965,
           3.7951933319348097,
           3.8576851617267147,
           3.920750043143211,
           3.9841340361651922,
           4.047581915823742,
           4.110838199901011,
           4.17364817766693,
           4.235758935509428,
           4.296920375328275,
           4.356886221591871,
           4.415415013001887,
           4.472271074772683,
           4.527225467610503,
           4.580056909571198,
           4.6305526670845225,
           4.678509411557132,
           4.72373403810507,
           4.766044443118978,
           4.805270257531059,
           4.841253532831181,
           4.873849377069785,
           4.902926538286621,
           4.928367933016073,
           4.950071117740945,
           4.967948701396356,
           4.981928697262707,
           4.991954812830795,
           4.997986676471885,
           5
          ],
          [
           5,
           4.997986676471885,
           4.991954812830795,
           4.981928697262707,
           4.967948701396356,
           4.950071117740945,
           4.928367933016073,
           4.902926538286621,
           4.873849377069785,
           4.841253532831181,
           4.805270257531059,
           4.766044443118978,
           4.7237340381050705,
           4.678509411557132,
           4.6305526670845225,
           4.580056909571198,
           4.527225467610503,
           4.472271074772682,
           4.415415013001886,
           4.356886221591872,
           4.296920375328275,
           4.235758935509427,
           4.17364817766693,
           4.1108381999010115,
           4.047581915823742,
           3.984134036165192,
           3.9207500431432116,
           3.8576851617267147,
           3.7951933319348092,
           3.733526186309965,
           3.672932036682578,
           3.6136548743068713,
           3.555933387394226,
           3.5,
           3.4460799361338896,
           3.394390312862333,
           3.345139266054715,
           3.2985251122936785,
           3.2547355503242454,
           3.2139469052572123,
           3.1763234185701674,
           3.142016586765023,
           3.1111645513450767,
           3.0838915425679305,
           3.0603073792140916,
           3.0405070263855025,
           3.024570213114593,
           3.0125611113236057,
           3.004528077426915,
           3.000503457616815,
           3.000503457616815,
           3.004528077426915,
           3.0125611113236057,
           3.024570213114593,
           3.0405070263855025,
           3.0603073792140916,
           3.0838915425679305,
           3.1111645513450767,
           3.142016586765023,
           3.176323418570167,
           3.2139469052572127,
           3.254735550324245,
           3.298525112293679,
           3.345139266054715,
           3.3943903128623334,
           3.4460799361338896,
           3.5000000000000004,
           3.555933387394226,
           3.6136548743068713,
           3.672932036682578,
           3.733526186309965,
           3.7951933319348097,
           3.8576851617267147,
           3.920750043143211,
           3.9841340361651922,
           4.047581915823742,
           4.110838199901011,
           4.17364817766693,
           4.235758935509428,
           4.296920375328275,
           4.356886221591871,
           4.415415013001887,
           4.472271074772683,
           4.527225467610503,
           4.580056909571198,
           4.6305526670845225,
           4.678509411557132,
           4.72373403810507,
           4.766044443118978,
           4.805270257531059,
           4.841253532831181,
           4.873849377069785,
           4.902926538286621,
           4.928367933016073,
           4.950071117740945,
           4.967948701396356,
           4.981928697262707,
           4.991954812830795,
           4.997986676471885,
           5
          ],
          [
           5,
           4.997986676471885,
           4.991954812830795,
           4.981928697262707,
           4.967948701396356,
           4.950071117740945,
           4.928367933016073,
           4.902926538286621,
           4.873849377069785,
           4.841253532831181,
           4.805270257531059,
           4.766044443118978,
           4.7237340381050705,
           4.678509411557132,
           4.6305526670845225,
           4.580056909571198,
           4.527225467610503,
           4.472271074772682,
           4.415415013001886,
           4.356886221591872,
           4.296920375328275,
           4.235758935509427,
           4.17364817766693,
           4.1108381999010115,
           4.047581915823742,
           3.984134036165192,
           3.9207500431432116,
           3.8576851617267147,
           3.7951933319348092,
           3.733526186309965,
           3.672932036682578,
           3.6136548743068713,
           3.555933387394226,
           3.5,
           3.4460799361338896,
           3.394390312862333,
           3.345139266054715,
           3.2985251122936785,
           3.2547355503242454,
           3.2139469052572123,
           3.1763234185701674,
           3.142016586765023,
           3.1111645513450767,
           3.0838915425679305,
           3.0603073792140916,
           3.0405070263855025,
           3.024570213114593,
           3.0125611113236057,
           3.004528077426915,
           3.000503457616815,
           3.000503457616815,
           3.004528077426915,
           3.0125611113236057,
           3.024570213114593,
           3.0405070263855025,
           3.0603073792140916,
           3.0838915425679305,
           3.1111645513450767,
           3.142016586765023,
           3.176323418570167,
           3.2139469052572127,
           3.254735550324245,
           3.298525112293679,
           3.345139266054715,
           3.3943903128623334,
           3.4460799361338896,
           3.5000000000000004,
           3.555933387394226,
           3.6136548743068713,
           3.672932036682578,
           3.733526186309965,
           3.7951933319348097,
           3.8576851617267147,
           3.920750043143211,
           3.9841340361651922,
           4.047581915823742,
           4.110838199901011,
           4.17364817766693,
           4.235758935509428,
           4.296920375328275,
           4.356886221591871,
           4.415415013001887,
           4.472271074772683,
           4.527225467610503,
           4.580056909571198,
           4.6305526670845225,
           4.678509411557132,
           4.72373403810507,
           4.766044443118978,
           4.805270257531059,
           4.841253532831181,
           4.873849377069785,
           4.902926538286621,
           4.928367933016073,
           4.950071117740945,
           4.967948701396356,
           4.981928697262707,
           4.991954812830795,
           4.997986676471885,
           5
          ],
          [
           5,
           4.997986676471885,
           4.991954812830795,
           4.981928697262707,
           4.967948701396356,
           4.950071117740945,
           4.928367933016073,
           4.902926538286621,
           4.873849377069785,
           4.841253532831181,
           4.805270257531059,
           4.766044443118978,
           4.7237340381050705,
           4.678509411557132,
           4.6305526670845225,
           4.580056909571198,
           4.527225467610503,
           4.472271074772682,
           4.415415013001886,
           4.356886221591872,
           4.296920375328275,
           4.235758935509427,
           4.17364817766693,
           4.1108381999010115,
           4.047581915823742,
           3.984134036165192,
           3.9207500431432116,
           3.8576851617267147,
           3.7951933319348092,
           3.733526186309965,
           3.672932036682578,
           3.6136548743068713,
           3.555933387394226,
           3.5,
           3.4460799361338896,
           3.394390312862333,
           3.345139266054715,
           3.2985251122936785,
           3.2547355503242454,
           3.2139469052572123,
           3.1763234185701674,
           3.142016586765023,
           3.1111645513450767,
           3.0838915425679305,
           3.0603073792140916,
           3.0405070263855025,
           3.024570213114593,
           3.0125611113236057,
           3.004528077426915,
           3.000503457616815,
           3.000503457616815,
           3.004528077426915,
           3.0125611113236057,
           3.024570213114593,
           3.0405070263855025,
           3.0603073792140916,
           3.0838915425679305,
           3.1111645513450767,
           3.142016586765023,
           3.176323418570167,
           3.2139469052572127,
           3.254735550324245,
           3.298525112293679,
           3.345139266054715,
           3.3943903128623334,
           3.4460799361338896,
           3.5000000000000004,
           3.555933387394226,
           3.6136548743068713,
           3.672932036682578,
           3.733526186309965,
           3.7951933319348097,
           3.8576851617267147,
           3.920750043143211,
           3.9841340361651922,
           4.047581915823742,
           4.110838199901011,
           4.17364817766693,
           4.235758935509428,
           4.296920375328275,
           4.356886221591871,
           4.415415013001887,
           4.472271074772683,
           4.527225467610503,
           4.580056909571198,
           4.6305526670845225,
           4.678509411557132,
           4.72373403810507,
           4.766044443118978,
           4.805270257531059,
           4.841253532831181,
           4.873849377069785,
           4.902926538286621,
           4.928367933016073,
           4.950071117740945,
           4.967948701396356,
           4.981928697262707,
           4.991954812830795,
           4.997986676471885,
           5
          ],
          [
           5,
           4.997986676471885,
           4.991954812830795,
           4.981928697262707,
           4.967948701396356,
           4.950071117740945,
           4.928367933016073,
           4.902926538286621,
           4.873849377069785,
           4.841253532831181,
           4.805270257531059,
           4.766044443118978,
           4.7237340381050705,
           4.678509411557132,
           4.6305526670845225,
           4.580056909571198,
           4.527225467610503,
           4.472271074772682,
           4.415415013001886,
           4.356886221591872,
           4.296920375328275,
           4.235758935509427,
           4.17364817766693,
           4.1108381999010115,
           4.047581915823742,
           3.984134036165192,
           3.9207500431432116,
           3.8576851617267147,
           3.7951933319348092,
           3.733526186309965,
           3.672932036682578,
           3.6136548743068713,
           3.555933387394226,
           3.5,
           3.4460799361338896,
           3.394390312862333,
           3.345139266054715,
           3.2985251122936785,
           3.2547355503242454,
           3.2139469052572123,
           3.1763234185701674,
           3.142016586765023,
           3.1111645513450767,
           3.0838915425679305,
           3.0603073792140916,
           3.0405070263855025,
           3.024570213114593,
           3.0125611113236057,
           3.004528077426915,
           3.000503457616815,
           3.000503457616815,
           3.004528077426915,
           3.0125611113236057,
           3.024570213114593,
           3.0405070263855025,
           3.0603073792140916,
           3.0838915425679305,
           3.1111645513450767,
           3.142016586765023,
           3.176323418570167,
           3.2139469052572127,
           3.254735550324245,
           3.298525112293679,
           3.345139266054715,
           3.3943903128623334,
           3.4460799361338896,
           3.5000000000000004,
           3.555933387394226,
           3.6136548743068713,
           3.672932036682578,
           3.733526186309965,
           3.7951933319348097,
           3.8576851617267147,
           3.920750043143211,
           3.9841340361651922,
           4.047581915823742,
           4.110838199901011,
           4.17364817766693,
           4.235758935509428,
           4.296920375328275,
           4.356886221591871,
           4.415415013001887,
           4.472271074772683,
           4.527225467610503,
           4.580056909571198,
           4.6305526670845225,
           4.678509411557132,
           4.72373403810507,
           4.766044443118978,
           4.805270257531059,
           4.841253532831181,
           4.873849377069785,
           4.902926538286621,
           4.928367933016073,
           4.950071117740945,
           4.967948701396356,
           4.981928697262707,
           4.991954812830795,
           4.997986676471885,
           5
          ],
          [
           5,
           4.997986676471885,
           4.991954812830795,
           4.981928697262707,
           4.967948701396356,
           4.950071117740945,
           4.928367933016073,
           4.902926538286621,
           4.873849377069785,
           4.841253532831181,
           4.805270257531059,
           4.766044443118978,
           4.7237340381050705,
           4.678509411557132,
           4.6305526670845225,
           4.580056909571198,
           4.527225467610503,
           4.472271074772682,
           4.415415013001886,
           4.356886221591872,
           4.296920375328275,
           4.235758935509427,
           4.17364817766693,
           4.1108381999010115,
           4.047581915823742,
           3.984134036165192,
           3.9207500431432116,
           3.8576851617267147,
           3.7951933319348092,
           3.733526186309965,
           3.672932036682578,
           3.6136548743068713,
           3.555933387394226,
           3.5,
           3.4460799361338896,
           3.394390312862333,
           3.345139266054715,
           3.2985251122936785,
           3.2547355503242454,
           3.2139469052572123,
           3.1763234185701674,
           3.142016586765023,
           3.1111645513450767,
           3.0838915425679305,
           3.0603073792140916,
           3.0405070263855025,
           3.024570213114593,
           3.0125611113236057,
           3.004528077426915,
           3.000503457616815,
           3.000503457616815,
           3.004528077426915,
           3.0125611113236057,
           3.024570213114593,
           3.0405070263855025,
           3.0603073792140916,
           3.0838915425679305,
           3.1111645513450767,
           3.142016586765023,
           3.176323418570167,
           3.2139469052572127,
           3.254735550324245,
           3.298525112293679,
           3.345139266054715,
           3.3943903128623334,
           3.4460799361338896,
           3.5000000000000004,
           3.555933387394226,
           3.6136548743068713,
           3.672932036682578,
           3.733526186309965,
           3.7951933319348097,
           3.8576851617267147,
           3.920750043143211,
           3.9841340361651922,
           4.047581915823742,
           4.110838199901011,
           4.17364817766693,
           4.235758935509428,
           4.296920375328275,
           4.356886221591871,
           4.415415013001887,
           4.472271074772683,
           4.527225467610503,
           4.580056909571198,
           4.6305526670845225,
           4.678509411557132,
           4.72373403810507,
           4.766044443118978,
           4.805270257531059,
           4.841253532831181,
           4.873849377069785,
           4.902926538286621,
           4.928367933016073,
           4.950071117740945,
           4.967948701396356,
           4.981928697262707,
           4.991954812830795,
           4.997986676471885,
           5
          ],
          [
           5,
           4.997986676471885,
           4.991954812830795,
           4.981928697262707,
           4.967948701396356,
           4.950071117740945,
           4.928367933016073,
           4.902926538286621,
           4.873849377069785,
           4.841253532831181,
           4.805270257531059,
           4.766044443118978,
           4.7237340381050705,
           4.678509411557132,
           4.6305526670845225,
           4.580056909571198,
           4.527225467610503,
           4.472271074772682,
           4.415415013001886,
           4.356886221591872,
           4.296920375328275,
           4.235758935509427,
           4.17364817766693,
           4.1108381999010115,
           4.047581915823742,
           3.984134036165192,
           3.9207500431432116,
           3.8576851617267147,
           3.7951933319348092,
           3.733526186309965,
           3.672932036682578,
           3.6136548743068713,
           3.555933387394226,
           3.5,
           3.4460799361338896,
           3.394390312862333,
           3.345139266054715,
           3.2985251122936785,
           3.2547355503242454,
           3.2139469052572123,
           3.1763234185701674,
           3.142016586765023,
           3.1111645513450767,
           3.0838915425679305,
           3.0603073792140916,
           3.0405070263855025,
           3.024570213114593,
           3.0125611113236057,
           3.004528077426915,
           3.000503457616815,
           3.000503457616815,
           3.004528077426915,
           3.0125611113236057,
           3.024570213114593,
           3.0405070263855025,
           3.0603073792140916,
           3.0838915425679305,
           3.1111645513450767,
           3.142016586765023,
           3.176323418570167,
           3.2139469052572127,
           3.254735550324245,
           3.298525112293679,
           3.345139266054715,
           3.3943903128623334,
           3.4460799361338896,
           3.5000000000000004,
           3.555933387394226,
           3.6136548743068713,
           3.672932036682578,
           3.733526186309965,
           3.7951933319348097,
           3.8576851617267147,
           3.920750043143211,
           3.9841340361651922,
           4.047581915823742,
           4.110838199901011,
           4.17364817766693,
           4.235758935509428,
           4.296920375328275,
           4.356886221591871,
           4.415415013001887,
           4.472271074772683,
           4.527225467610503,
           4.580056909571198,
           4.6305526670845225,
           4.678509411557132,
           4.72373403810507,
           4.766044443118978,
           4.805270257531059,
           4.841253532831181,
           4.873849377069785,
           4.902926538286621,
           4.928367933016073,
           4.950071117740945,
           4.967948701396356,
           4.981928697262707,
           4.991954812830795,
           4.997986676471885,
           5
          ],
          [
           5,
           4.997986676471885,
           4.991954812830795,
           4.981928697262707,
           4.967948701396356,
           4.950071117740945,
           4.928367933016073,
           4.902926538286621,
           4.873849377069785,
           4.841253532831181,
           4.805270257531059,
           4.766044443118978,
           4.7237340381050705,
           4.678509411557132,
           4.6305526670845225,
           4.580056909571198,
           4.527225467610503,
           4.472271074772682,
           4.415415013001886,
           4.356886221591872,
           4.296920375328275,
           4.235758935509427,
           4.17364817766693,
           4.1108381999010115,
           4.047581915823742,
           3.984134036165192,
           3.9207500431432116,
           3.8576851617267147,
           3.7951933319348092,
           3.733526186309965,
           3.672932036682578,
           3.6136548743068713,
           3.555933387394226,
           3.5,
           3.4460799361338896,
           3.394390312862333,
           3.345139266054715,
           3.2985251122936785,
           3.2547355503242454,
           3.2139469052572123,
           3.1763234185701674,
           3.142016586765023,
           3.1111645513450767,
           3.0838915425679305,
           3.0603073792140916,
           3.0405070263855025,
           3.024570213114593,
           3.0125611113236057,
           3.004528077426915,
           3.000503457616815,
           3.000503457616815,
           3.004528077426915,
           3.0125611113236057,
           3.024570213114593,
           3.0405070263855025,
           3.0603073792140916,
           3.0838915425679305,
           3.1111645513450767,
           3.142016586765023,
           3.176323418570167,
           3.2139469052572127,
           3.254735550324245,
           3.298525112293679,
           3.345139266054715,
           3.3943903128623334,
           3.4460799361338896,
           3.5000000000000004,
           3.555933387394226,
           3.6136548743068713,
           3.672932036682578,
           3.733526186309965,
           3.7951933319348097,
           3.8576851617267147,
           3.920750043143211,
           3.9841340361651922,
           4.047581915823742,
           4.110838199901011,
           4.17364817766693,
           4.235758935509428,
           4.296920375328275,
           4.356886221591871,
           4.415415013001887,
           4.472271074772683,
           4.527225467610503,
           4.580056909571198,
           4.6305526670845225,
           4.678509411557132,
           4.72373403810507,
           4.766044443118978,
           4.805270257531059,
           4.841253532831181,
           4.873849377069785,
           4.902926538286621,
           4.928367933016073,
           4.950071117740945,
           4.967948701396356,
           4.981928697262707,
           4.991954812830795,
           4.997986676471885,
           5
          ],
          [
           5,
           4.997986676471885,
           4.991954812830795,
           4.981928697262707,
           4.967948701396356,
           4.950071117740945,
           4.928367933016073,
           4.902926538286621,
           4.873849377069785,
           4.841253532831181,
           4.805270257531059,
           4.766044443118978,
           4.7237340381050705,
           4.678509411557132,
           4.6305526670845225,
           4.580056909571198,
           4.527225467610503,
           4.472271074772682,
           4.415415013001886,
           4.356886221591872,
           4.296920375328275,
           4.235758935509427,
           4.17364817766693,
           4.1108381999010115,
           4.047581915823742,
           3.984134036165192,
           3.9207500431432116,
           3.8576851617267147,
           3.7951933319348092,
           3.733526186309965,
           3.672932036682578,
           3.6136548743068713,
           3.555933387394226,
           3.5,
           3.4460799361338896,
           3.394390312862333,
           3.345139266054715,
           3.2985251122936785,
           3.2547355503242454,
           3.2139469052572123,
           3.1763234185701674,
           3.142016586765023,
           3.1111645513450767,
           3.0838915425679305,
           3.0603073792140916,
           3.0405070263855025,
           3.024570213114593,
           3.0125611113236057,
           3.004528077426915,
           3.000503457616815,
           3.000503457616815,
           3.004528077426915,
           3.0125611113236057,
           3.024570213114593,
           3.0405070263855025,
           3.0603073792140916,
           3.0838915425679305,
           3.1111645513450767,
           3.142016586765023,
           3.176323418570167,
           3.2139469052572127,
           3.254735550324245,
           3.298525112293679,
           3.345139266054715,
           3.3943903128623334,
           3.4460799361338896,
           3.5000000000000004,
           3.555933387394226,
           3.6136548743068713,
           3.672932036682578,
           3.733526186309965,
           3.7951933319348097,
           3.8576851617267147,
           3.920750043143211,
           3.9841340361651922,
           4.047581915823742,
           4.110838199901011,
           4.17364817766693,
           4.235758935509428,
           4.296920375328275,
           4.356886221591871,
           4.415415013001887,
           4.472271074772683,
           4.527225467610503,
           4.580056909571198,
           4.6305526670845225,
           4.678509411557132,
           4.72373403810507,
           4.766044443118978,
           4.805270257531059,
           4.841253532831181,
           4.873849377069785,
           4.902926538286621,
           4.928367933016073,
           4.950071117740945,
           4.967948701396356,
           4.981928697262707,
           4.991954812830795,
           4.997986676471885,
           5
          ],
          [
           5,
           4.997986676471885,
           4.991954812830795,
           4.981928697262707,
           4.967948701396356,
           4.950071117740945,
           4.928367933016073,
           4.902926538286621,
           4.873849377069785,
           4.841253532831181,
           4.805270257531059,
           4.766044443118978,
           4.7237340381050705,
           4.678509411557132,
           4.6305526670845225,
           4.580056909571198,
           4.527225467610503,
           4.472271074772682,
           4.415415013001886,
           4.356886221591872,
           4.296920375328275,
           4.235758935509427,
           4.17364817766693,
           4.1108381999010115,
           4.047581915823742,
           3.984134036165192,
           3.9207500431432116,
           3.8576851617267147,
           3.7951933319348092,
           3.733526186309965,
           3.672932036682578,
           3.6136548743068713,
           3.555933387394226,
           3.5,
           3.4460799361338896,
           3.394390312862333,
           3.345139266054715,
           3.2985251122936785,
           3.2547355503242454,
           3.2139469052572123,
           3.1763234185701674,
           3.142016586765023,
           3.1111645513450767,
           3.0838915425679305,
           3.0603073792140916,
           3.0405070263855025,
           3.024570213114593,
           3.0125611113236057,
           3.004528077426915,
           3.000503457616815,
           3.000503457616815,
           3.004528077426915,
           3.0125611113236057,
           3.024570213114593,
           3.0405070263855025,
           3.0603073792140916,
           3.0838915425679305,
           3.1111645513450767,
           3.142016586765023,
           3.176323418570167,
           3.2139469052572127,
           3.254735550324245,
           3.298525112293679,
           3.345139266054715,
           3.3943903128623334,
           3.4460799361338896,
           3.5000000000000004,
           3.555933387394226,
           3.6136548743068713,
           3.672932036682578,
           3.733526186309965,
           3.7951933319348097,
           3.8576851617267147,
           3.920750043143211,
           3.9841340361651922,
           4.047581915823742,
           4.110838199901011,
           4.17364817766693,
           4.235758935509428,
           4.296920375328275,
           4.356886221591871,
           4.415415013001887,
           4.472271074772683,
           4.527225467610503,
           4.580056909571198,
           4.6305526670845225,
           4.678509411557132,
           4.72373403810507,
           4.766044443118978,
           4.805270257531059,
           4.841253532831181,
           4.873849377069785,
           4.902926538286621,
           4.928367933016073,
           4.950071117740945,
           4.967948701396356,
           4.981928697262707,
           4.991954812830795,
           4.997986676471885,
           5
          ],
          [
           5,
           4.997986676471885,
           4.991954812830795,
           4.981928697262707,
           4.967948701396356,
           4.950071117740945,
           4.928367933016073,
           4.902926538286621,
           4.873849377069785,
           4.841253532831181,
           4.805270257531059,
           4.766044443118978,
           4.7237340381050705,
           4.678509411557132,
           4.6305526670845225,
           4.580056909571198,
           4.527225467610503,
           4.472271074772682,
           4.415415013001886,
           4.356886221591872,
           4.296920375328275,
           4.235758935509427,
           4.17364817766693,
           4.1108381999010115,
           4.047581915823742,
           3.984134036165192,
           3.9207500431432116,
           3.8576851617267147,
           3.7951933319348092,
           3.733526186309965,
           3.672932036682578,
           3.6136548743068713,
           3.555933387394226,
           3.5,
           3.4460799361338896,
           3.394390312862333,
           3.345139266054715,
           3.2985251122936785,
           3.2547355503242454,
           3.2139469052572123,
           3.1763234185701674,
           3.142016586765023,
           3.1111645513450767,
           3.0838915425679305,
           3.0603073792140916,
           3.0405070263855025,
           3.024570213114593,
           3.0125611113236057,
           3.004528077426915,
           3.000503457616815,
           3.000503457616815,
           3.004528077426915,
           3.0125611113236057,
           3.024570213114593,
           3.0405070263855025,
           3.0603073792140916,
           3.0838915425679305,
           3.1111645513450767,
           3.142016586765023,
           3.176323418570167,
           3.2139469052572127,
           3.254735550324245,
           3.298525112293679,
           3.345139266054715,
           3.3943903128623334,
           3.4460799361338896,
           3.5000000000000004,
           3.555933387394226,
           3.6136548743068713,
           3.672932036682578,
           3.733526186309965,
           3.7951933319348097,
           3.8576851617267147,
           3.920750043143211,
           3.9841340361651922,
           4.047581915823742,
           4.110838199901011,
           4.17364817766693,
           4.235758935509428,
           4.296920375328275,
           4.356886221591871,
           4.415415013001887,
           4.472271074772683,
           4.527225467610503,
           4.580056909571198,
           4.6305526670845225,
           4.678509411557132,
           4.72373403810507,
           4.766044443118978,
           4.805270257531059,
           4.841253532831181,
           4.873849377069785,
           4.902926538286621,
           4.928367933016073,
           4.950071117740945,
           4.967948701396356,
           4.981928697262707,
           4.991954812830795,
           4.997986676471885,
           5
          ],
          [
           5,
           4.997986676471885,
           4.991954812830795,
           4.981928697262707,
           4.967948701396356,
           4.950071117740945,
           4.928367933016073,
           4.902926538286621,
           4.873849377069785,
           4.841253532831181,
           4.805270257531059,
           4.766044443118978,
           4.7237340381050705,
           4.678509411557132,
           4.6305526670845225,
           4.580056909571198,
           4.527225467610503,
           4.472271074772682,
           4.415415013001886,
           4.356886221591872,
           4.296920375328275,
           4.235758935509427,
           4.17364817766693,
           4.1108381999010115,
           4.047581915823742,
           3.984134036165192,
           3.9207500431432116,
           3.8576851617267147,
           3.7951933319348092,
           3.733526186309965,
           3.672932036682578,
           3.6136548743068713,
           3.555933387394226,
           3.5,
           3.4460799361338896,
           3.394390312862333,
           3.345139266054715,
           3.2985251122936785,
           3.2547355503242454,
           3.2139469052572123,
           3.1763234185701674,
           3.142016586765023,
           3.1111645513450767,
           3.0838915425679305,
           3.0603073792140916,
           3.0405070263855025,
           3.024570213114593,
           3.0125611113236057,
           3.004528077426915,
           3.000503457616815,
           3.000503457616815,
           3.004528077426915,
           3.0125611113236057,
           3.024570213114593,
           3.0405070263855025,
           3.0603073792140916,
           3.0838915425679305,
           3.1111645513450767,
           3.142016586765023,
           3.176323418570167,
           3.2139469052572127,
           3.254735550324245,
           3.298525112293679,
           3.345139266054715,
           3.3943903128623334,
           3.4460799361338896,
           3.5000000000000004,
           3.555933387394226,
           3.6136548743068713,
           3.672932036682578,
           3.733526186309965,
           3.7951933319348097,
           3.8576851617267147,
           3.920750043143211,
           3.9841340361651922,
           4.047581915823742,
           4.110838199901011,
           4.17364817766693,
           4.235758935509428,
           4.296920375328275,
           4.356886221591871,
           4.415415013001887,
           4.472271074772683,
           4.527225467610503,
           4.580056909571198,
           4.6305526670845225,
           4.678509411557132,
           4.72373403810507,
           4.766044443118978,
           4.805270257531059,
           4.841253532831181,
           4.873849377069785,
           4.902926538286621,
           4.928367933016073,
           4.950071117740945,
           4.967948701396356,
           4.981928697262707,
           4.991954812830795,
           4.997986676471885,
           5
          ],
          [
           5,
           4.997986676471885,
           4.991954812830795,
           4.981928697262707,
           4.967948701396356,
           4.950071117740945,
           4.928367933016073,
           4.902926538286621,
           4.873849377069785,
           4.841253532831181,
           4.805270257531059,
           4.766044443118978,
           4.7237340381050705,
           4.678509411557132,
           4.6305526670845225,
           4.580056909571198,
           4.527225467610503,
           4.472271074772682,
           4.415415013001886,
           4.356886221591872,
           4.296920375328275,
           4.235758935509427,
           4.17364817766693,
           4.1108381999010115,
           4.047581915823742,
           3.984134036165192,
           3.9207500431432116,
           3.8576851617267147,
           3.7951933319348092,
           3.733526186309965,
           3.672932036682578,
           3.6136548743068713,
           3.555933387394226,
           3.5,
           3.4460799361338896,
           3.394390312862333,
           3.345139266054715,
           3.2985251122936785,
           3.2547355503242454,
           3.2139469052572123,
           3.1763234185701674,
           3.142016586765023,
           3.1111645513450767,
           3.0838915425679305,
           3.0603073792140916,
           3.0405070263855025,
           3.024570213114593,
           3.0125611113236057,
           3.004528077426915,
           3.000503457616815,
           3.000503457616815,
           3.004528077426915,
           3.0125611113236057,
           3.024570213114593,
           3.0405070263855025,
           3.0603073792140916,
           3.0838915425679305,
           3.1111645513450767,
           3.142016586765023,
           3.176323418570167,
           3.2139469052572127,
           3.254735550324245,
           3.298525112293679,
           3.345139266054715,
           3.3943903128623334,
           3.4460799361338896,
           3.5000000000000004,
           3.555933387394226,
           3.6136548743068713,
           3.672932036682578,
           3.733526186309965,
           3.7951933319348097,
           3.8576851617267147,
           3.920750043143211,
           3.9841340361651922,
           4.047581915823742,
           4.110838199901011,
           4.17364817766693,
           4.235758935509428,
           4.296920375328275,
           4.356886221591871,
           4.415415013001887,
           4.472271074772683,
           4.527225467610503,
           4.580056909571198,
           4.6305526670845225,
           4.678509411557132,
           4.72373403810507,
           4.766044443118978,
           4.805270257531059,
           4.841253532831181,
           4.873849377069785,
           4.902926538286621,
           4.928367933016073,
           4.950071117740945,
           4.967948701396356,
           4.981928697262707,
           4.991954812830795,
           4.997986676471885,
           5
          ],
          [
           5,
           4.997986676471885,
           4.991954812830795,
           4.981928697262707,
           4.967948701396356,
           4.950071117740945,
           4.928367933016073,
           4.902926538286621,
           4.873849377069785,
           4.841253532831181,
           4.805270257531059,
           4.766044443118978,
           4.7237340381050705,
           4.678509411557132,
           4.6305526670845225,
           4.580056909571198,
           4.527225467610503,
           4.472271074772682,
           4.415415013001886,
           4.356886221591872,
           4.296920375328275,
           4.235758935509427,
           4.17364817766693,
           4.1108381999010115,
           4.047581915823742,
           3.984134036165192,
           3.9207500431432116,
           3.8576851617267147,
           3.7951933319348092,
           3.733526186309965,
           3.672932036682578,
           3.6136548743068713,
           3.555933387394226,
           3.5,
           3.4460799361338896,
           3.394390312862333,
           3.345139266054715,
           3.2985251122936785,
           3.2547355503242454,
           3.2139469052572123,
           3.1763234185701674,
           3.142016586765023,
           3.1111645513450767,
           3.0838915425679305,
           3.0603073792140916,
           3.0405070263855025,
           3.024570213114593,
           3.0125611113236057,
           3.004528077426915,
           3.000503457616815,
           3.000503457616815,
           3.004528077426915,
           3.0125611113236057,
           3.024570213114593,
           3.0405070263855025,
           3.0603073792140916,
           3.0838915425679305,
           3.1111645513450767,
           3.142016586765023,
           3.176323418570167,
           3.2139469052572127,
           3.254735550324245,
           3.298525112293679,
           3.345139266054715,
           3.3943903128623334,
           3.4460799361338896,
           3.5000000000000004,
           3.555933387394226,
           3.6136548743068713,
           3.672932036682578,
           3.733526186309965,
           3.7951933319348097,
           3.8576851617267147,
           3.920750043143211,
           3.9841340361651922,
           4.047581915823742,
           4.110838199901011,
           4.17364817766693,
           4.235758935509428,
           4.296920375328275,
           4.356886221591871,
           4.415415013001887,
           4.472271074772683,
           4.527225467610503,
           4.580056909571198,
           4.6305526670845225,
           4.678509411557132,
           4.72373403810507,
           4.766044443118978,
           4.805270257531059,
           4.841253532831181,
           4.873849377069785,
           4.902926538286621,
           4.928367933016073,
           4.950071117740945,
           4.967948701396356,
           4.981928697262707,
           4.991954812830795,
           4.997986676471885,
           5
          ],
          [
           5,
           4.997986676471885,
           4.991954812830795,
           4.981928697262707,
           4.967948701396356,
           4.950071117740945,
           4.928367933016073,
           4.902926538286621,
           4.873849377069785,
           4.841253532831181,
           4.805270257531059,
           4.766044443118978,
           4.7237340381050705,
           4.678509411557132,
           4.6305526670845225,
           4.580056909571198,
           4.527225467610503,
           4.472271074772682,
           4.415415013001886,
           4.356886221591872,
           4.296920375328275,
           4.235758935509427,
           4.17364817766693,
           4.1108381999010115,
           4.047581915823742,
           3.984134036165192,
           3.9207500431432116,
           3.8576851617267147,
           3.7951933319348092,
           3.733526186309965,
           3.672932036682578,
           3.6136548743068713,
           3.555933387394226,
           3.5,
           3.4460799361338896,
           3.394390312862333,
           3.345139266054715,
           3.2985251122936785,
           3.2547355503242454,
           3.2139469052572123,
           3.1763234185701674,
           3.142016586765023,
           3.1111645513450767,
           3.0838915425679305,
           3.0603073792140916,
           3.0405070263855025,
           3.024570213114593,
           3.0125611113236057,
           3.004528077426915,
           3.000503457616815,
           3.000503457616815,
           3.004528077426915,
           3.0125611113236057,
           3.024570213114593,
           3.0405070263855025,
           3.0603073792140916,
           3.0838915425679305,
           3.1111645513450767,
           3.142016586765023,
           3.176323418570167,
           3.2139469052572127,
           3.254735550324245,
           3.298525112293679,
           3.345139266054715,
           3.3943903128623334,
           3.4460799361338896,
           3.5000000000000004,
           3.555933387394226,
           3.6136548743068713,
           3.672932036682578,
           3.733526186309965,
           3.7951933319348097,
           3.8576851617267147,
           3.920750043143211,
           3.9841340361651922,
           4.047581915823742,
           4.110838199901011,
           4.17364817766693,
           4.235758935509428,
           4.296920375328275,
           4.356886221591871,
           4.415415013001887,
           4.472271074772683,
           4.527225467610503,
           4.580056909571198,
           4.6305526670845225,
           4.678509411557132,
           4.72373403810507,
           4.766044443118978,
           4.805270257531059,
           4.841253532831181,
           4.873849377069785,
           4.902926538286621,
           4.928367933016073,
           4.950071117740945,
           4.967948701396356,
           4.981928697262707,
           4.991954812830795,
           4.997986676471885,
           5
          ],
          [
           5,
           4.997986676471885,
           4.991954812830795,
           4.981928697262707,
           4.967948701396356,
           4.950071117740945,
           4.928367933016073,
           4.902926538286621,
           4.873849377069785,
           4.841253532831181,
           4.805270257531059,
           4.766044443118978,
           4.7237340381050705,
           4.678509411557132,
           4.6305526670845225,
           4.580056909571198,
           4.527225467610503,
           4.472271074772682,
           4.415415013001886,
           4.356886221591872,
           4.296920375328275,
           4.235758935509427,
           4.17364817766693,
           4.1108381999010115,
           4.047581915823742,
           3.984134036165192,
           3.9207500431432116,
           3.8576851617267147,
           3.7951933319348092,
           3.733526186309965,
           3.672932036682578,
           3.6136548743068713,
           3.555933387394226,
           3.5,
           3.4460799361338896,
           3.394390312862333,
           3.345139266054715,
           3.2985251122936785,
           3.2547355503242454,
           3.2139469052572123,
           3.1763234185701674,
           3.142016586765023,
           3.1111645513450767,
           3.0838915425679305,
           3.0603073792140916,
           3.0405070263855025,
           3.024570213114593,
           3.0125611113236057,
           3.004528077426915,
           3.000503457616815,
           3.000503457616815,
           3.004528077426915,
           3.0125611113236057,
           3.024570213114593,
           3.0405070263855025,
           3.0603073792140916,
           3.0838915425679305,
           3.1111645513450767,
           3.142016586765023,
           3.176323418570167,
           3.2139469052572127,
           3.254735550324245,
           3.298525112293679,
           3.345139266054715,
           3.3943903128623334,
           3.4460799361338896,
           3.5000000000000004,
           3.555933387394226,
           3.6136548743068713,
           3.672932036682578,
           3.733526186309965,
           3.7951933319348097,
           3.8576851617267147,
           3.920750043143211,
           3.9841340361651922,
           4.047581915823742,
           4.110838199901011,
           4.17364817766693,
           4.235758935509428,
           4.296920375328275,
           4.356886221591871,
           4.415415013001887,
           4.472271074772683,
           4.527225467610503,
           4.580056909571198,
           4.6305526670845225,
           4.678509411557132,
           4.72373403810507,
           4.766044443118978,
           4.805270257531059,
           4.841253532831181,
           4.873849377069785,
           4.902926538286621,
           4.928367933016073,
           4.950071117740945,
           4.967948701396356,
           4.981928697262707,
           4.991954812830795,
           4.997986676471885,
           5
          ],
          [
           5,
           4.997986676471885,
           4.991954812830795,
           4.981928697262707,
           4.967948701396356,
           4.950071117740945,
           4.928367933016073,
           4.902926538286621,
           4.873849377069785,
           4.841253532831181,
           4.805270257531059,
           4.766044443118978,
           4.7237340381050705,
           4.678509411557132,
           4.6305526670845225,
           4.580056909571198,
           4.527225467610503,
           4.472271074772682,
           4.415415013001886,
           4.356886221591872,
           4.296920375328275,
           4.235758935509427,
           4.17364817766693,
           4.1108381999010115,
           4.047581915823742,
           3.984134036165192,
           3.9207500431432116,
           3.8576851617267147,
           3.7951933319348092,
           3.733526186309965,
           3.672932036682578,
           3.6136548743068713,
           3.555933387394226,
           3.5,
           3.4460799361338896,
           3.394390312862333,
           3.345139266054715,
           3.2985251122936785,
           3.2547355503242454,
           3.2139469052572123,
           3.1763234185701674,
           3.142016586765023,
           3.1111645513450767,
           3.0838915425679305,
           3.0603073792140916,
           3.0405070263855025,
           3.024570213114593,
           3.0125611113236057,
           3.004528077426915,
           3.000503457616815,
           3.000503457616815,
           3.004528077426915,
           3.0125611113236057,
           3.024570213114593,
           3.0405070263855025,
           3.0603073792140916,
           3.0838915425679305,
           3.1111645513450767,
           3.142016586765023,
           3.176323418570167,
           3.2139469052572127,
           3.254735550324245,
           3.298525112293679,
           3.345139266054715,
           3.3943903128623334,
           3.4460799361338896,
           3.5000000000000004,
           3.555933387394226,
           3.6136548743068713,
           3.672932036682578,
           3.733526186309965,
           3.7951933319348097,
           3.8576851617267147,
           3.920750043143211,
           3.9841340361651922,
           4.047581915823742,
           4.110838199901011,
           4.17364817766693,
           4.235758935509428,
           4.296920375328275,
           4.356886221591871,
           4.415415013001887,
           4.472271074772683,
           4.527225467610503,
           4.580056909571198,
           4.6305526670845225,
           4.678509411557132,
           4.72373403810507,
           4.766044443118978,
           4.805270257531059,
           4.841253532831181,
           4.873849377069785,
           4.902926538286621,
           4.928367933016073,
           4.950071117740945,
           4.967948701396356,
           4.981928697262707,
           4.991954812830795,
           4.997986676471885,
           5
          ],
          [
           5,
           4.997986676471885,
           4.991954812830795,
           4.981928697262707,
           4.967948701396356,
           4.950071117740945,
           4.928367933016073,
           4.902926538286621,
           4.873849377069785,
           4.841253532831181,
           4.805270257531059,
           4.766044443118978,
           4.7237340381050705,
           4.678509411557132,
           4.6305526670845225,
           4.580056909571198,
           4.527225467610503,
           4.472271074772682,
           4.415415013001886,
           4.356886221591872,
           4.296920375328275,
           4.235758935509427,
           4.17364817766693,
           4.1108381999010115,
           4.047581915823742,
           3.984134036165192,
           3.9207500431432116,
           3.8576851617267147,
           3.7951933319348092,
           3.733526186309965,
           3.672932036682578,
           3.6136548743068713,
           3.555933387394226,
           3.5,
           3.4460799361338896,
           3.394390312862333,
           3.345139266054715,
           3.2985251122936785,
           3.2547355503242454,
           3.2139469052572123,
           3.1763234185701674,
           3.142016586765023,
           3.1111645513450767,
           3.0838915425679305,
           3.0603073792140916,
           3.0405070263855025,
           3.024570213114593,
           3.0125611113236057,
           3.004528077426915,
           3.000503457616815,
           3.000503457616815,
           3.004528077426915,
           3.0125611113236057,
           3.024570213114593,
           3.0405070263855025,
           3.0603073792140916,
           3.0838915425679305,
           3.1111645513450767,
           3.142016586765023,
           3.176323418570167,
           3.2139469052572127,
           3.254735550324245,
           3.298525112293679,
           3.345139266054715,
           3.3943903128623334,
           3.4460799361338896,
           3.5000000000000004,
           3.555933387394226,
           3.6136548743068713,
           3.672932036682578,
           3.733526186309965,
           3.7951933319348097,
           3.8576851617267147,
           3.920750043143211,
           3.9841340361651922,
           4.047581915823742,
           4.110838199901011,
           4.17364817766693,
           4.235758935509428,
           4.296920375328275,
           4.356886221591871,
           4.415415013001887,
           4.472271074772683,
           4.527225467610503,
           4.580056909571198,
           4.6305526670845225,
           4.678509411557132,
           4.72373403810507,
           4.766044443118978,
           4.805270257531059,
           4.841253532831181,
           4.873849377069785,
           4.902926538286621,
           4.928367933016073,
           4.950071117740945,
           4.967948701396356,
           4.981928697262707,
           4.991954812830795,
           4.997986676471885,
           5
          ],
          [
           5,
           4.997986676471885,
           4.991954812830795,
           4.981928697262707,
           4.967948701396356,
           4.950071117740945,
           4.928367933016073,
           4.902926538286621,
           4.873849377069785,
           4.841253532831181,
           4.805270257531059,
           4.766044443118978,
           4.7237340381050705,
           4.678509411557132,
           4.6305526670845225,
           4.580056909571198,
           4.527225467610503,
           4.472271074772682,
           4.415415013001886,
           4.356886221591872,
           4.296920375328275,
           4.235758935509427,
           4.17364817766693,
           4.1108381999010115,
           4.047581915823742,
           3.984134036165192,
           3.9207500431432116,
           3.8576851617267147,
           3.7951933319348092,
           3.733526186309965,
           3.672932036682578,
           3.6136548743068713,
           3.555933387394226,
           3.5,
           3.4460799361338896,
           3.394390312862333,
           3.345139266054715,
           3.2985251122936785,
           3.2547355503242454,
           3.2139469052572123,
           3.1763234185701674,
           3.142016586765023,
           3.1111645513450767,
           3.0838915425679305,
           3.0603073792140916,
           3.0405070263855025,
           3.024570213114593,
           3.0125611113236057,
           3.004528077426915,
           3.000503457616815,
           3.000503457616815,
           3.004528077426915,
           3.0125611113236057,
           3.024570213114593,
           3.0405070263855025,
           3.0603073792140916,
           3.0838915425679305,
           3.1111645513450767,
           3.142016586765023,
           3.176323418570167,
           3.2139469052572127,
           3.254735550324245,
           3.298525112293679,
           3.345139266054715,
           3.3943903128623334,
           3.4460799361338896,
           3.5000000000000004,
           3.555933387394226,
           3.6136548743068713,
           3.672932036682578,
           3.733526186309965,
           3.7951933319348097,
           3.8576851617267147,
           3.920750043143211,
           3.9841340361651922,
           4.047581915823742,
           4.110838199901011,
           4.17364817766693,
           4.235758935509428,
           4.296920375328275,
           4.356886221591871,
           4.415415013001887,
           4.472271074772683,
           4.527225467610503,
           4.580056909571198,
           4.6305526670845225,
           4.678509411557132,
           4.72373403810507,
           4.766044443118978,
           4.805270257531059,
           4.841253532831181,
           4.873849377069785,
           4.902926538286621,
           4.928367933016073,
           4.950071117740945,
           4.967948701396356,
           4.981928697262707,
           4.991954812830795,
           4.997986676471885,
           5
          ],
          [
           5,
           4.997986676471885,
           4.991954812830795,
           4.981928697262707,
           4.967948701396356,
           4.950071117740945,
           4.928367933016073,
           4.902926538286621,
           4.873849377069785,
           4.841253532831181,
           4.805270257531059,
           4.766044443118978,
           4.7237340381050705,
           4.678509411557132,
           4.6305526670845225,
           4.580056909571198,
           4.527225467610503,
           4.472271074772682,
           4.415415013001886,
           4.356886221591872,
           4.296920375328275,
           4.235758935509427,
           4.17364817766693,
           4.1108381999010115,
           4.047581915823742,
           3.984134036165192,
           3.9207500431432116,
           3.8576851617267147,
           3.7951933319348092,
           3.733526186309965,
           3.672932036682578,
           3.6136548743068713,
           3.555933387394226,
           3.5,
           3.4460799361338896,
           3.394390312862333,
           3.345139266054715,
           3.2985251122936785,
           3.2547355503242454,
           3.2139469052572123,
           3.1763234185701674,
           3.142016586765023,
           3.1111645513450767,
           3.0838915425679305,
           3.0603073792140916,
           3.0405070263855025,
           3.024570213114593,
           3.0125611113236057,
           3.004528077426915,
           3.000503457616815,
           3.000503457616815,
           3.004528077426915,
           3.0125611113236057,
           3.024570213114593,
           3.0405070263855025,
           3.0603073792140916,
           3.0838915425679305,
           3.1111645513450767,
           3.142016586765023,
           3.176323418570167,
           3.2139469052572127,
           3.254735550324245,
           3.298525112293679,
           3.345139266054715,
           3.3943903128623334,
           3.4460799361338896,
           3.5000000000000004,
           3.555933387394226,
           3.6136548743068713,
           3.672932036682578,
           3.733526186309965,
           3.7951933319348097,
           3.8576851617267147,
           3.920750043143211,
           3.9841340361651922,
           4.047581915823742,
           4.110838199901011,
           4.17364817766693,
           4.235758935509428,
           4.296920375328275,
           4.356886221591871,
           4.415415013001887,
           4.472271074772683,
           4.527225467610503,
           4.580056909571198,
           4.6305526670845225,
           4.678509411557132,
           4.72373403810507,
           4.766044443118978,
           4.805270257531059,
           4.841253532831181,
           4.873849377069785,
           4.902926538286621,
           4.928367933016073,
           4.950071117740945,
           4.967948701396356,
           4.981928697262707,
           4.991954812830795,
           4.997986676471885,
           5
          ],
          [
           5,
           4.997986676471885,
           4.991954812830795,
           4.981928697262707,
           4.967948701396356,
           4.950071117740945,
           4.928367933016073,
           4.902926538286621,
           4.873849377069785,
           4.841253532831181,
           4.805270257531059,
           4.766044443118978,
           4.7237340381050705,
           4.678509411557132,
           4.6305526670845225,
           4.580056909571198,
           4.527225467610503,
           4.472271074772682,
           4.415415013001886,
           4.356886221591872,
           4.296920375328275,
           4.235758935509427,
           4.17364817766693,
           4.1108381999010115,
           4.047581915823742,
           3.984134036165192,
           3.9207500431432116,
           3.8576851617267147,
           3.7951933319348092,
           3.733526186309965,
           3.672932036682578,
           3.6136548743068713,
           3.555933387394226,
           3.5,
           3.4460799361338896,
           3.394390312862333,
           3.345139266054715,
           3.2985251122936785,
           3.2547355503242454,
           3.2139469052572123,
           3.1763234185701674,
           3.142016586765023,
           3.1111645513450767,
           3.0838915425679305,
           3.0603073792140916,
           3.0405070263855025,
           3.024570213114593,
           3.0125611113236057,
           3.004528077426915,
           3.000503457616815,
           3.000503457616815,
           3.004528077426915,
           3.0125611113236057,
           3.024570213114593,
           3.0405070263855025,
           3.0603073792140916,
           3.0838915425679305,
           3.1111645513450767,
           3.142016586765023,
           3.176323418570167,
           3.2139469052572127,
           3.254735550324245,
           3.298525112293679,
           3.345139266054715,
           3.3943903128623334,
           3.4460799361338896,
           3.5000000000000004,
           3.555933387394226,
           3.6136548743068713,
           3.672932036682578,
           3.733526186309965,
           3.7951933319348097,
           3.8576851617267147,
           3.920750043143211,
           3.9841340361651922,
           4.047581915823742,
           4.110838199901011,
           4.17364817766693,
           4.235758935509428,
           4.296920375328275,
           4.356886221591871,
           4.415415013001887,
           4.472271074772683,
           4.527225467610503,
           4.580056909571198,
           4.6305526670845225,
           4.678509411557132,
           4.72373403810507,
           4.766044443118978,
           4.805270257531059,
           4.841253532831181,
           4.873849377069785,
           4.902926538286621,
           4.928367933016073,
           4.950071117740945,
           4.967948701396356,
           4.981928697262707,
           4.991954812830795,
           4.997986676471885,
           5
          ],
          [
           5,
           4.997986676471885,
           4.991954812830795,
           4.981928697262707,
           4.967948701396356,
           4.950071117740945,
           4.928367933016073,
           4.902926538286621,
           4.873849377069785,
           4.841253532831181,
           4.805270257531059,
           4.766044443118978,
           4.7237340381050705,
           4.678509411557132,
           4.6305526670845225,
           4.580056909571198,
           4.527225467610503,
           4.472271074772682,
           4.415415013001886,
           4.356886221591872,
           4.296920375328275,
           4.235758935509427,
           4.17364817766693,
           4.1108381999010115,
           4.047581915823742,
           3.984134036165192,
           3.9207500431432116,
           3.8576851617267147,
           3.7951933319348092,
           3.733526186309965,
           3.672932036682578,
           3.6136548743068713,
           3.555933387394226,
           3.5,
           3.4460799361338896,
           3.394390312862333,
           3.345139266054715,
           3.2985251122936785,
           3.2547355503242454,
           3.2139469052572123,
           3.1763234185701674,
           3.142016586765023,
           3.1111645513450767,
           3.0838915425679305,
           3.0603073792140916,
           3.0405070263855025,
           3.024570213114593,
           3.0125611113236057,
           3.004528077426915,
           3.000503457616815,
           3.000503457616815,
           3.004528077426915,
           3.0125611113236057,
           3.024570213114593,
           3.0405070263855025,
           3.0603073792140916,
           3.0838915425679305,
           3.1111645513450767,
           3.142016586765023,
           3.176323418570167,
           3.2139469052572127,
           3.254735550324245,
           3.298525112293679,
           3.345139266054715,
           3.3943903128623334,
           3.4460799361338896,
           3.5000000000000004,
           3.555933387394226,
           3.6136548743068713,
           3.672932036682578,
           3.733526186309965,
           3.7951933319348097,
           3.8576851617267147,
           3.920750043143211,
           3.9841340361651922,
           4.047581915823742,
           4.110838199901011,
           4.17364817766693,
           4.235758935509428,
           4.296920375328275,
           4.356886221591871,
           4.415415013001887,
           4.472271074772683,
           4.527225467610503,
           4.580056909571198,
           4.6305526670845225,
           4.678509411557132,
           4.72373403810507,
           4.766044443118978,
           4.805270257531059,
           4.841253532831181,
           4.873849377069785,
           4.902926538286621,
           4.928367933016073,
           4.950071117740945,
           4.967948701396356,
           4.981928697262707,
           4.991954812830795,
           4.997986676471885,
           5
          ],
          [
           5,
           4.997986676471885,
           4.991954812830795,
           4.981928697262707,
           4.967948701396356,
           4.950071117740945,
           4.928367933016073,
           4.902926538286621,
           4.873849377069785,
           4.841253532831181,
           4.805270257531059,
           4.766044443118978,
           4.7237340381050705,
           4.678509411557132,
           4.6305526670845225,
           4.580056909571198,
           4.527225467610503,
           4.472271074772682,
           4.415415013001886,
           4.356886221591872,
           4.296920375328275,
           4.235758935509427,
           4.17364817766693,
           4.1108381999010115,
           4.047581915823742,
           3.984134036165192,
           3.9207500431432116,
           3.8576851617267147,
           3.7951933319348092,
           3.733526186309965,
           3.672932036682578,
           3.6136548743068713,
           3.555933387394226,
           3.5,
           3.4460799361338896,
           3.394390312862333,
           3.345139266054715,
           3.2985251122936785,
           3.2547355503242454,
           3.2139469052572123,
           3.1763234185701674,
           3.142016586765023,
           3.1111645513450767,
           3.0838915425679305,
           3.0603073792140916,
           3.0405070263855025,
           3.024570213114593,
           3.0125611113236057,
           3.004528077426915,
           3.000503457616815,
           3.000503457616815,
           3.004528077426915,
           3.0125611113236057,
           3.024570213114593,
           3.0405070263855025,
           3.0603073792140916,
           3.0838915425679305,
           3.1111645513450767,
           3.142016586765023,
           3.176323418570167,
           3.2139469052572127,
           3.254735550324245,
           3.298525112293679,
           3.345139266054715,
           3.3943903128623334,
           3.4460799361338896,
           3.5000000000000004,
           3.555933387394226,
           3.6136548743068713,
           3.672932036682578,
           3.733526186309965,
           3.7951933319348097,
           3.8576851617267147,
           3.920750043143211,
           3.9841340361651922,
           4.047581915823742,
           4.110838199901011,
           4.17364817766693,
           4.235758935509428,
           4.296920375328275,
           4.356886221591871,
           4.415415013001887,
           4.472271074772683,
           4.527225467610503,
           4.580056909571198,
           4.6305526670845225,
           4.678509411557132,
           4.72373403810507,
           4.766044443118978,
           4.805270257531059,
           4.841253532831181,
           4.873849377069785,
           4.902926538286621,
           4.928367933016073,
           4.950071117740945,
           4.967948701396356,
           4.981928697262707,
           4.991954812830795,
           4.997986676471885,
           5
          ],
          [
           5,
           4.997986676471885,
           4.991954812830795,
           4.981928697262707,
           4.967948701396356,
           4.950071117740945,
           4.928367933016073,
           4.902926538286621,
           4.873849377069785,
           4.841253532831181,
           4.805270257531059,
           4.766044443118978,
           4.7237340381050705,
           4.678509411557132,
           4.6305526670845225,
           4.580056909571198,
           4.527225467610503,
           4.472271074772682,
           4.415415013001886,
           4.356886221591872,
           4.296920375328275,
           4.235758935509427,
           4.17364817766693,
           4.1108381999010115,
           4.047581915823742,
           3.984134036165192,
           3.9207500431432116,
           3.8576851617267147,
           3.7951933319348092,
           3.733526186309965,
           3.672932036682578,
           3.6136548743068713,
           3.555933387394226,
           3.5,
           3.4460799361338896,
           3.394390312862333,
           3.345139266054715,
           3.2985251122936785,
           3.2547355503242454,
           3.2139469052572123,
           3.1763234185701674,
           3.142016586765023,
           3.1111645513450767,
           3.0838915425679305,
           3.0603073792140916,
           3.0405070263855025,
           3.024570213114593,
           3.0125611113236057,
           3.004528077426915,
           3.000503457616815,
           3.000503457616815,
           3.004528077426915,
           3.0125611113236057,
           3.024570213114593,
           3.0405070263855025,
           3.0603073792140916,
           3.0838915425679305,
           3.1111645513450767,
           3.142016586765023,
           3.176323418570167,
           3.2139469052572127,
           3.254735550324245,
           3.298525112293679,
           3.345139266054715,
           3.3943903128623334,
           3.4460799361338896,
           3.5000000000000004,
           3.555933387394226,
           3.6136548743068713,
           3.672932036682578,
           3.733526186309965,
           3.7951933319348097,
           3.8576851617267147,
           3.920750043143211,
           3.9841340361651922,
           4.047581915823742,
           4.110838199901011,
           4.17364817766693,
           4.235758935509428,
           4.296920375328275,
           4.356886221591871,
           4.415415013001887,
           4.472271074772683,
           4.527225467610503,
           4.580056909571198,
           4.6305526670845225,
           4.678509411557132,
           4.72373403810507,
           4.766044443118978,
           4.805270257531059,
           4.841253532831181,
           4.873849377069785,
           4.902926538286621,
           4.928367933016073,
           4.950071117740945,
           4.967948701396356,
           4.981928697262707,
           4.991954812830795,
           4.997986676471885,
           5
          ],
          [
           5,
           4.997986676471885,
           4.991954812830795,
           4.981928697262707,
           4.967948701396356,
           4.950071117740945,
           4.928367933016073,
           4.902926538286621,
           4.873849377069785,
           4.841253532831181,
           4.805270257531059,
           4.766044443118978,
           4.7237340381050705,
           4.678509411557132,
           4.6305526670845225,
           4.580056909571198,
           4.527225467610503,
           4.472271074772682,
           4.415415013001886,
           4.356886221591872,
           4.296920375328275,
           4.235758935509427,
           4.17364817766693,
           4.1108381999010115,
           4.047581915823742,
           3.984134036165192,
           3.9207500431432116,
           3.8576851617267147,
           3.7951933319348092,
           3.733526186309965,
           3.672932036682578,
           3.6136548743068713,
           3.555933387394226,
           3.5,
           3.4460799361338896,
           3.394390312862333,
           3.345139266054715,
           3.2985251122936785,
           3.2547355503242454,
           3.2139469052572123,
           3.1763234185701674,
           3.142016586765023,
           3.1111645513450767,
           3.0838915425679305,
           3.0603073792140916,
           3.0405070263855025,
           3.024570213114593,
           3.0125611113236057,
           3.004528077426915,
           3.000503457616815,
           3.000503457616815,
           3.004528077426915,
           3.0125611113236057,
           3.024570213114593,
           3.0405070263855025,
           3.0603073792140916,
           3.0838915425679305,
           3.1111645513450767,
           3.142016586765023,
           3.176323418570167,
           3.2139469052572127,
           3.254735550324245,
           3.298525112293679,
           3.345139266054715,
           3.3943903128623334,
           3.4460799361338896,
           3.5000000000000004,
           3.555933387394226,
           3.6136548743068713,
           3.672932036682578,
           3.733526186309965,
           3.7951933319348097,
           3.8576851617267147,
           3.920750043143211,
           3.9841340361651922,
           4.047581915823742,
           4.110838199901011,
           4.17364817766693,
           4.235758935509428,
           4.296920375328275,
           4.356886221591871,
           4.415415013001887,
           4.472271074772683,
           4.527225467610503,
           4.580056909571198,
           4.6305526670845225,
           4.678509411557132,
           4.72373403810507,
           4.766044443118978,
           4.805270257531059,
           4.841253532831181,
           4.873849377069785,
           4.902926538286621,
           4.928367933016073,
           4.950071117740945,
           4.967948701396356,
           4.981928697262707,
           4.991954812830795,
           4.997986676471885,
           5
          ]
         ],
         "y": [
          [
           2,
           2.0634239196565645,
           2.1265924535737493,
           2.18925124436041,
           2.251147987181079,
           2.312033445698487,
           2.3716624556603274,
           2.4297949120891715,
           2.4861967361004687,
           2.5406408174555977,
           2.5929079290546406,
           2.6427876096865393,
           2.690079011482112,
           2.7345917086575335,
           2.776146464291757,
           2.814575952050336,
           2.8497254299495145,
           2.881453363447582,
           2.9096319953545184,
           2.9341478602651065,
           2.9549022414440738,
           2.9718115683235418,
           2.984807753012208,
           2.993838464461254,
           2.998867339183008,
           2.999874127673875,
           2.9968547759519426,
           2.989821441880933,
           2.978802446214779,
           2.963842158559942,
           2.9450008187146683,
           2.9223542941045815,
           2.8959937742913358,
           2.8660254037844384,
           2.8325698546347713,
           2.795761840530832,
           2.755749574354258,
           2.7126941713788626,
           2.6667690005162914,
           2.618158986220605,
           2.567059863862771,
           2.513677391573406,
           2.4582265217274104,
           2.4009305354066135,
           2.342020143325669,
           2.2817325568414297,
           2.2203105327865407,
           2.1580013959733497,
           2.0950560433041825,
           2.031727933498068,
           1.9682720665019322,
           1.9049439566958173,
           1.8419986040266498,
           1.7796894672134593,
           1.7182674431585703,
           1.6579798566743313,
           1.5990694645933863,
           1.5417734782725896,
           1.4863226084265935,
           1.4329401361372294,
           1.3818410137793946,
           1.3332309994837086,
           1.287305828621137,
           1.2442504256457418,
           1.2042381594691678,
           1.1674301453652287,
           1.1339745962155612,
           1.104006225708664,
           1.0776457058954185,
           1.0549991812853317,
           1.0361578414400578,
           1.0211975537852211,
           1.0101785581190672,
           1.0031452240480578,
           1.0001258723261248,
           1.001132660816992,
           1.0061615355387459,
           1.0151922469877919,
           1.0281884316764582,
           1.0450977585559262,
           1.0658521397348932,
           1.0903680046454818,
           1.1185466365524181,
           1.1502745700504855,
           1.185424047949664,
           1.2238535357082434,
           1.265408291342467,
           1.309920988517888,
           1.3572123903134603,
           1.4070920709453598,
           1.4593591825444026,
           1.5138032638995311,
           1.570205087910828,
           1.6283375443396728,
           1.687966554301513,
           1.7488520128189207,
           1.8107487556395903,
           1.873407546426251,
           1.9365760803434355,
           1.9999999999999998
          ],
          [
           2,
           2.0634239196565645,
           2.1265924535737493,
           2.18925124436041,
           2.251147987181079,
           2.312033445698487,
           2.3716624556603274,
           2.4297949120891715,
           2.4861967361004687,
           2.5406408174555977,
           2.5929079290546406,
           2.6427876096865393,
           2.690079011482112,
           2.7345917086575335,
           2.776146464291757,
           2.814575952050336,
           2.8497254299495145,
           2.881453363447582,
           2.9096319953545184,
           2.9341478602651065,
           2.9549022414440738,
           2.9718115683235418,
           2.984807753012208,
           2.993838464461254,
           2.998867339183008,
           2.999874127673875,
           2.9968547759519426,
           2.989821441880933,
           2.978802446214779,
           2.963842158559942,
           2.9450008187146683,
           2.9223542941045815,
           2.8959937742913358,
           2.8660254037844384,
           2.8325698546347713,
           2.795761840530832,
           2.755749574354258,
           2.7126941713788626,
           2.6667690005162914,
           2.618158986220605,
           2.567059863862771,
           2.513677391573406,
           2.4582265217274104,
           2.4009305354066135,
           2.342020143325669,
           2.2817325568414297,
           2.2203105327865407,
           2.1580013959733497,
           2.0950560433041825,
           2.031727933498068,
           1.9682720665019322,
           1.9049439566958173,
           1.8419986040266498,
           1.7796894672134593,
           1.7182674431585703,
           1.6579798566743313,
           1.5990694645933863,
           1.5417734782725896,
           1.4863226084265935,
           1.4329401361372294,
           1.3818410137793946,
           1.3332309994837086,
           1.287305828621137,
           1.2442504256457418,
           1.2042381594691678,
           1.1674301453652287,
           1.1339745962155612,
           1.104006225708664,
           1.0776457058954185,
           1.0549991812853317,
           1.0361578414400578,
           1.0211975537852211,
           1.0101785581190672,
           1.0031452240480578,
           1.0001258723261248,
           1.001132660816992,
           1.0061615355387459,
           1.0151922469877919,
           1.0281884316764582,
           1.0450977585559262,
           1.0658521397348932,
           1.0903680046454818,
           1.1185466365524181,
           1.1502745700504855,
           1.185424047949664,
           1.2238535357082434,
           1.265408291342467,
           1.309920988517888,
           1.3572123903134603,
           1.4070920709453598,
           1.4593591825444026,
           1.5138032638995311,
           1.570205087910828,
           1.6283375443396728,
           1.687966554301513,
           1.7488520128189207,
           1.8107487556395903,
           1.873407546426251,
           1.9365760803434355,
           1.9999999999999998
          ],
          [
           2,
           2.0634239196565645,
           2.1265924535737493,
           2.18925124436041,
           2.251147987181079,
           2.312033445698487,
           2.3716624556603274,
           2.4297949120891715,
           2.4861967361004687,
           2.5406408174555977,
           2.5929079290546406,
           2.6427876096865393,
           2.690079011482112,
           2.7345917086575335,
           2.776146464291757,
           2.814575952050336,
           2.8497254299495145,
           2.881453363447582,
           2.9096319953545184,
           2.9341478602651065,
           2.9549022414440738,
           2.9718115683235418,
           2.984807753012208,
           2.993838464461254,
           2.998867339183008,
           2.999874127673875,
           2.9968547759519426,
           2.989821441880933,
           2.978802446214779,
           2.963842158559942,
           2.9450008187146683,
           2.9223542941045815,
           2.8959937742913358,
           2.8660254037844384,
           2.8325698546347713,
           2.795761840530832,
           2.755749574354258,
           2.7126941713788626,
           2.6667690005162914,
           2.618158986220605,
           2.567059863862771,
           2.513677391573406,
           2.4582265217274104,
           2.4009305354066135,
           2.342020143325669,
           2.2817325568414297,
           2.2203105327865407,
           2.1580013959733497,
           2.0950560433041825,
           2.031727933498068,
           1.9682720665019322,
           1.9049439566958173,
           1.8419986040266498,
           1.7796894672134593,
           1.7182674431585703,
           1.6579798566743313,
           1.5990694645933863,
           1.5417734782725896,
           1.4863226084265935,
           1.4329401361372294,
           1.3818410137793946,
           1.3332309994837086,
           1.287305828621137,
           1.2442504256457418,
           1.2042381594691678,
           1.1674301453652287,
           1.1339745962155612,
           1.104006225708664,
           1.0776457058954185,
           1.0549991812853317,
           1.0361578414400578,
           1.0211975537852211,
           1.0101785581190672,
           1.0031452240480578,
           1.0001258723261248,
           1.001132660816992,
           1.0061615355387459,
           1.0151922469877919,
           1.0281884316764582,
           1.0450977585559262,
           1.0658521397348932,
           1.0903680046454818,
           1.1185466365524181,
           1.1502745700504855,
           1.185424047949664,
           1.2238535357082434,
           1.265408291342467,
           1.309920988517888,
           1.3572123903134603,
           1.4070920709453598,
           1.4593591825444026,
           1.5138032638995311,
           1.570205087910828,
           1.6283375443396728,
           1.687966554301513,
           1.7488520128189207,
           1.8107487556395903,
           1.873407546426251,
           1.9365760803434355,
           1.9999999999999998
          ],
          [
           2,
           2.0634239196565645,
           2.1265924535737493,
           2.18925124436041,
           2.251147987181079,
           2.312033445698487,
           2.3716624556603274,
           2.4297949120891715,
           2.4861967361004687,
           2.5406408174555977,
           2.5929079290546406,
           2.6427876096865393,
           2.690079011482112,
           2.7345917086575335,
           2.776146464291757,
           2.814575952050336,
           2.8497254299495145,
           2.881453363447582,
           2.9096319953545184,
           2.9341478602651065,
           2.9549022414440738,
           2.9718115683235418,
           2.984807753012208,
           2.993838464461254,
           2.998867339183008,
           2.999874127673875,
           2.9968547759519426,
           2.989821441880933,
           2.978802446214779,
           2.963842158559942,
           2.9450008187146683,
           2.9223542941045815,
           2.8959937742913358,
           2.8660254037844384,
           2.8325698546347713,
           2.795761840530832,
           2.755749574354258,
           2.7126941713788626,
           2.6667690005162914,
           2.618158986220605,
           2.567059863862771,
           2.513677391573406,
           2.4582265217274104,
           2.4009305354066135,
           2.342020143325669,
           2.2817325568414297,
           2.2203105327865407,
           2.1580013959733497,
           2.0950560433041825,
           2.031727933498068,
           1.9682720665019322,
           1.9049439566958173,
           1.8419986040266498,
           1.7796894672134593,
           1.7182674431585703,
           1.6579798566743313,
           1.5990694645933863,
           1.5417734782725896,
           1.4863226084265935,
           1.4329401361372294,
           1.3818410137793946,
           1.3332309994837086,
           1.287305828621137,
           1.2442504256457418,
           1.2042381594691678,
           1.1674301453652287,
           1.1339745962155612,
           1.104006225708664,
           1.0776457058954185,
           1.0549991812853317,
           1.0361578414400578,
           1.0211975537852211,
           1.0101785581190672,
           1.0031452240480578,
           1.0001258723261248,
           1.001132660816992,
           1.0061615355387459,
           1.0151922469877919,
           1.0281884316764582,
           1.0450977585559262,
           1.0658521397348932,
           1.0903680046454818,
           1.1185466365524181,
           1.1502745700504855,
           1.185424047949664,
           1.2238535357082434,
           1.265408291342467,
           1.309920988517888,
           1.3572123903134603,
           1.4070920709453598,
           1.4593591825444026,
           1.5138032638995311,
           1.570205087910828,
           1.6283375443396728,
           1.687966554301513,
           1.7488520128189207,
           1.8107487556395903,
           1.873407546426251,
           1.9365760803434355,
           1.9999999999999998
          ],
          [
           2,
           2.0634239196565645,
           2.1265924535737493,
           2.18925124436041,
           2.251147987181079,
           2.312033445698487,
           2.3716624556603274,
           2.4297949120891715,
           2.4861967361004687,
           2.5406408174555977,
           2.5929079290546406,
           2.6427876096865393,
           2.690079011482112,
           2.7345917086575335,
           2.776146464291757,
           2.814575952050336,
           2.8497254299495145,
           2.881453363447582,
           2.9096319953545184,
           2.9341478602651065,
           2.9549022414440738,
           2.9718115683235418,
           2.984807753012208,
           2.993838464461254,
           2.998867339183008,
           2.999874127673875,
           2.9968547759519426,
           2.989821441880933,
           2.978802446214779,
           2.963842158559942,
           2.9450008187146683,
           2.9223542941045815,
           2.8959937742913358,
           2.8660254037844384,
           2.8325698546347713,
           2.795761840530832,
           2.755749574354258,
           2.7126941713788626,
           2.6667690005162914,
           2.618158986220605,
           2.567059863862771,
           2.513677391573406,
           2.4582265217274104,
           2.4009305354066135,
           2.342020143325669,
           2.2817325568414297,
           2.2203105327865407,
           2.1580013959733497,
           2.0950560433041825,
           2.031727933498068,
           1.9682720665019322,
           1.9049439566958173,
           1.8419986040266498,
           1.7796894672134593,
           1.7182674431585703,
           1.6579798566743313,
           1.5990694645933863,
           1.5417734782725896,
           1.4863226084265935,
           1.4329401361372294,
           1.3818410137793946,
           1.3332309994837086,
           1.287305828621137,
           1.2442504256457418,
           1.2042381594691678,
           1.1674301453652287,
           1.1339745962155612,
           1.104006225708664,
           1.0776457058954185,
           1.0549991812853317,
           1.0361578414400578,
           1.0211975537852211,
           1.0101785581190672,
           1.0031452240480578,
           1.0001258723261248,
           1.001132660816992,
           1.0061615355387459,
           1.0151922469877919,
           1.0281884316764582,
           1.0450977585559262,
           1.0658521397348932,
           1.0903680046454818,
           1.1185466365524181,
           1.1502745700504855,
           1.185424047949664,
           1.2238535357082434,
           1.265408291342467,
           1.309920988517888,
           1.3572123903134603,
           1.4070920709453598,
           1.4593591825444026,
           1.5138032638995311,
           1.570205087910828,
           1.6283375443396728,
           1.687966554301513,
           1.7488520128189207,
           1.8107487556395903,
           1.873407546426251,
           1.9365760803434355,
           1.9999999999999998
          ],
          [
           2,
           2.0634239196565645,
           2.1265924535737493,
           2.18925124436041,
           2.251147987181079,
           2.312033445698487,
           2.3716624556603274,
           2.4297949120891715,
           2.4861967361004687,
           2.5406408174555977,
           2.5929079290546406,
           2.6427876096865393,
           2.690079011482112,
           2.7345917086575335,
           2.776146464291757,
           2.814575952050336,
           2.8497254299495145,
           2.881453363447582,
           2.9096319953545184,
           2.9341478602651065,
           2.9549022414440738,
           2.9718115683235418,
           2.984807753012208,
           2.993838464461254,
           2.998867339183008,
           2.999874127673875,
           2.9968547759519426,
           2.989821441880933,
           2.978802446214779,
           2.963842158559942,
           2.9450008187146683,
           2.9223542941045815,
           2.8959937742913358,
           2.8660254037844384,
           2.8325698546347713,
           2.795761840530832,
           2.755749574354258,
           2.7126941713788626,
           2.6667690005162914,
           2.618158986220605,
           2.567059863862771,
           2.513677391573406,
           2.4582265217274104,
           2.4009305354066135,
           2.342020143325669,
           2.2817325568414297,
           2.2203105327865407,
           2.1580013959733497,
           2.0950560433041825,
           2.031727933498068,
           1.9682720665019322,
           1.9049439566958173,
           1.8419986040266498,
           1.7796894672134593,
           1.7182674431585703,
           1.6579798566743313,
           1.5990694645933863,
           1.5417734782725896,
           1.4863226084265935,
           1.4329401361372294,
           1.3818410137793946,
           1.3332309994837086,
           1.287305828621137,
           1.2442504256457418,
           1.2042381594691678,
           1.1674301453652287,
           1.1339745962155612,
           1.104006225708664,
           1.0776457058954185,
           1.0549991812853317,
           1.0361578414400578,
           1.0211975537852211,
           1.0101785581190672,
           1.0031452240480578,
           1.0001258723261248,
           1.001132660816992,
           1.0061615355387459,
           1.0151922469877919,
           1.0281884316764582,
           1.0450977585559262,
           1.0658521397348932,
           1.0903680046454818,
           1.1185466365524181,
           1.1502745700504855,
           1.185424047949664,
           1.2238535357082434,
           1.265408291342467,
           1.309920988517888,
           1.3572123903134603,
           1.4070920709453598,
           1.4593591825444026,
           1.5138032638995311,
           1.570205087910828,
           1.6283375443396728,
           1.687966554301513,
           1.7488520128189207,
           1.8107487556395903,
           1.873407546426251,
           1.9365760803434355,
           1.9999999999999998
          ],
          [
           2,
           2.0634239196565645,
           2.1265924535737493,
           2.18925124436041,
           2.251147987181079,
           2.312033445698487,
           2.3716624556603274,
           2.4297949120891715,
           2.4861967361004687,
           2.5406408174555977,
           2.5929079290546406,
           2.6427876096865393,
           2.690079011482112,
           2.7345917086575335,
           2.776146464291757,
           2.814575952050336,
           2.8497254299495145,
           2.881453363447582,
           2.9096319953545184,
           2.9341478602651065,
           2.9549022414440738,
           2.9718115683235418,
           2.984807753012208,
           2.993838464461254,
           2.998867339183008,
           2.999874127673875,
           2.9968547759519426,
           2.989821441880933,
           2.978802446214779,
           2.963842158559942,
           2.9450008187146683,
           2.9223542941045815,
           2.8959937742913358,
           2.8660254037844384,
           2.8325698546347713,
           2.795761840530832,
           2.755749574354258,
           2.7126941713788626,
           2.6667690005162914,
           2.618158986220605,
           2.567059863862771,
           2.513677391573406,
           2.4582265217274104,
           2.4009305354066135,
           2.342020143325669,
           2.2817325568414297,
           2.2203105327865407,
           2.1580013959733497,
           2.0950560433041825,
           2.031727933498068,
           1.9682720665019322,
           1.9049439566958173,
           1.8419986040266498,
           1.7796894672134593,
           1.7182674431585703,
           1.6579798566743313,
           1.5990694645933863,
           1.5417734782725896,
           1.4863226084265935,
           1.4329401361372294,
           1.3818410137793946,
           1.3332309994837086,
           1.287305828621137,
           1.2442504256457418,
           1.2042381594691678,
           1.1674301453652287,
           1.1339745962155612,
           1.104006225708664,
           1.0776457058954185,
           1.0549991812853317,
           1.0361578414400578,
           1.0211975537852211,
           1.0101785581190672,
           1.0031452240480578,
           1.0001258723261248,
           1.001132660816992,
           1.0061615355387459,
           1.0151922469877919,
           1.0281884316764582,
           1.0450977585559262,
           1.0658521397348932,
           1.0903680046454818,
           1.1185466365524181,
           1.1502745700504855,
           1.185424047949664,
           1.2238535357082434,
           1.265408291342467,
           1.309920988517888,
           1.3572123903134603,
           1.4070920709453598,
           1.4593591825444026,
           1.5138032638995311,
           1.570205087910828,
           1.6283375443396728,
           1.687966554301513,
           1.7488520128189207,
           1.8107487556395903,
           1.873407546426251,
           1.9365760803434355,
           1.9999999999999998
          ],
          [
           2,
           2.0634239196565645,
           2.1265924535737493,
           2.18925124436041,
           2.251147987181079,
           2.312033445698487,
           2.3716624556603274,
           2.4297949120891715,
           2.4861967361004687,
           2.5406408174555977,
           2.5929079290546406,
           2.6427876096865393,
           2.690079011482112,
           2.7345917086575335,
           2.776146464291757,
           2.814575952050336,
           2.8497254299495145,
           2.881453363447582,
           2.9096319953545184,
           2.9341478602651065,
           2.9549022414440738,
           2.9718115683235418,
           2.984807753012208,
           2.993838464461254,
           2.998867339183008,
           2.999874127673875,
           2.9968547759519426,
           2.989821441880933,
           2.978802446214779,
           2.963842158559942,
           2.9450008187146683,
           2.9223542941045815,
           2.8959937742913358,
           2.8660254037844384,
           2.8325698546347713,
           2.795761840530832,
           2.755749574354258,
           2.7126941713788626,
           2.6667690005162914,
           2.618158986220605,
           2.567059863862771,
           2.513677391573406,
           2.4582265217274104,
           2.4009305354066135,
           2.342020143325669,
           2.2817325568414297,
           2.2203105327865407,
           2.1580013959733497,
           2.0950560433041825,
           2.031727933498068,
           1.9682720665019322,
           1.9049439566958173,
           1.8419986040266498,
           1.7796894672134593,
           1.7182674431585703,
           1.6579798566743313,
           1.5990694645933863,
           1.5417734782725896,
           1.4863226084265935,
           1.4329401361372294,
           1.3818410137793946,
           1.3332309994837086,
           1.287305828621137,
           1.2442504256457418,
           1.2042381594691678,
           1.1674301453652287,
           1.1339745962155612,
           1.104006225708664,
           1.0776457058954185,
           1.0549991812853317,
           1.0361578414400578,
           1.0211975537852211,
           1.0101785581190672,
           1.0031452240480578,
           1.0001258723261248,
           1.001132660816992,
           1.0061615355387459,
           1.0151922469877919,
           1.0281884316764582,
           1.0450977585559262,
           1.0658521397348932,
           1.0903680046454818,
           1.1185466365524181,
           1.1502745700504855,
           1.185424047949664,
           1.2238535357082434,
           1.265408291342467,
           1.309920988517888,
           1.3572123903134603,
           1.4070920709453598,
           1.4593591825444026,
           1.5138032638995311,
           1.570205087910828,
           1.6283375443396728,
           1.687966554301513,
           1.7488520128189207,
           1.8107487556395903,
           1.873407546426251,
           1.9365760803434355,
           1.9999999999999998
          ],
          [
           2,
           2.0634239196565645,
           2.1265924535737493,
           2.18925124436041,
           2.251147987181079,
           2.312033445698487,
           2.3716624556603274,
           2.4297949120891715,
           2.4861967361004687,
           2.5406408174555977,
           2.5929079290546406,
           2.6427876096865393,
           2.690079011482112,
           2.7345917086575335,
           2.776146464291757,
           2.814575952050336,
           2.8497254299495145,
           2.881453363447582,
           2.9096319953545184,
           2.9341478602651065,
           2.9549022414440738,
           2.9718115683235418,
           2.984807753012208,
           2.993838464461254,
           2.998867339183008,
           2.999874127673875,
           2.9968547759519426,
           2.989821441880933,
           2.978802446214779,
           2.963842158559942,
           2.9450008187146683,
           2.9223542941045815,
           2.8959937742913358,
           2.8660254037844384,
           2.8325698546347713,
           2.795761840530832,
           2.755749574354258,
           2.7126941713788626,
           2.6667690005162914,
           2.618158986220605,
           2.567059863862771,
           2.513677391573406,
           2.4582265217274104,
           2.4009305354066135,
           2.342020143325669,
           2.2817325568414297,
           2.2203105327865407,
           2.1580013959733497,
           2.0950560433041825,
           2.031727933498068,
           1.9682720665019322,
           1.9049439566958173,
           1.8419986040266498,
           1.7796894672134593,
           1.7182674431585703,
           1.6579798566743313,
           1.5990694645933863,
           1.5417734782725896,
           1.4863226084265935,
           1.4329401361372294,
           1.3818410137793946,
           1.3332309994837086,
           1.287305828621137,
           1.2442504256457418,
           1.2042381594691678,
           1.1674301453652287,
           1.1339745962155612,
           1.104006225708664,
           1.0776457058954185,
           1.0549991812853317,
           1.0361578414400578,
           1.0211975537852211,
           1.0101785581190672,
           1.0031452240480578,
           1.0001258723261248,
           1.001132660816992,
           1.0061615355387459,
           1.0151922469877919,
           1.0281884316764582,
           1.0450977585559262,
           1.0658521397348932,
           1.0903680046454818,
           1.1185466365524181,
           1.1502745700504855,
           1.185424047949664,
           1.2238535357082434,
           1.265408291342467,
           1.309920988517888,
           1.3572123903134603,
           1.4070920709453598,
           1.4593591825444026,
           1.5138032638995311,
           1.570205087910828,
           1.6283375443396728,
           1.687966554301513,
           1.7488520128189207,
           1.8107487556395903,
           1.873407546426251,
           1.9365760803434355,
           1.9999999999999998
          ],
          [
           2,
           2.0634239196565645,
           2.1265924535737493,
           2.18925124436041,
           2.251147987181079,
           2.312033445698487,
           2.3716624556603274,
           2.4297949120891715,
           2.4861967361004687,
           2.5406408174555977,
           2.5929079290546406,
           2.6427876096865393,
           2.690079011482112,
           2.7345917086575335,
           2.776146464291757,
           2.814575952050336,
           2.8497254299495145,
           2.881453363447582,
           2.9096319953545184,
           2.9341478602651065,
           2.9549022414440738,
           2.9718115683235418,
           2.984807753012208,
           2.993838464461254,
           2.998867339183008,
           2.999874127673875,
           2.9968547759519426,
           2.989821441880933,
           2.978802446214779,
           2.963842158559942,
           2.9450008187146683,
           2.9223542941045815,
           2.8959937742913358,
           2.8660254037844384,
           2.8325698546347713,
           2.795761840530832,
           2.755749574354258,
           2.7126941713788626,
           2.6667690005162914,
           2.618158986220605,
           2.567059863862771,
           2.513677391573406,
           2.4582265217274104,
           2.4009305354066135,
           2.342020143325669,
           2.2817325568414297,
           2.2203105327865407,
           2.1580013959733497,
           2.0950560433041825,
           2.031727933498068,
           1.9682720665019322,
           1.9049439566958173,
           1.8419986040266498,
           1.7796894672134593,
           1.7182674431585703,
           1.6579798566743313,
           1.5990694645933863,
           1.5417734782725896,
           1.4863226084265935,
           1.4329401361372294,
           1.3818410137793946,
           1.3332309994837086,
           1.287305828621137,
           1.2442504256457418,
           1.2042381594691678,
           1.1674301453652287,
           1.1339745962155612,
           1.104006225708664,
           1.0776457058954185,
           1.0549991812853317,
           1.0361578414400578,
           1.0211975537852211,
           1.0101785581190672,
           1.0031452240480578,
           1.0001258723261248,
           1.001132660816992,
           1.0061615355387459,
           1.0151922469877919,
           1.0281884316764582,
           1.0450977585559262,
           1.0658521397348932,
           1.0903680046454818,
           1.1185466365524181,
           1.1502745700504855,
           1.185424047949664,
           1.2238535357082434,
           1.265408291342467,
           1.309920988517888,
           1.3572123903134603,
           1.4070920709453598,
           1.4593591825444026,
           1.5138032638995311,
           1.570205087910828,
           1.6283375443396728,
           1.687966554301513,
           1.7488520128189207,
           1.8107487556395903,
           1.873407546426251,
           1.9365760803434355,
           1.9999999999999998
          ],
          [
           2,
           2.0634239196565645,
           2.1265924535737493,
           2.18925124436041,
           2.251147987181079,
           2.312033445698487,
           2.3716624556603274,
           2.4297949120891715,
           2.4861967361004687,
           2.5406408174555977,
           2.5929079290546406,
           2.6427876096865393,
           2.690079011482112,
           2.7345917086575335,
           2.776146464291757,
           2.814575952050336,
           2.8497254299495145,
           2.881453363447582,
           2.9096319953545184,
           2.9341478602651065,
           2.9549022414440738,
           2.9718115683235418,
           2.984807753012208,
           2.993838464461254,
           2.998867339183008,
           2.999874127673875,
           2.9968547759519426,
           2.989821441880933,
           2.978802446214779,
           2.963842158559942,
           2.9450008187146683,
           2.9223542941045815,
           2.8959937742913358,
           2.8660254037844384,
           2.8325698546347713,
           2.795761840530832,
           2.755749574354258,
           2.7126941713788626,
           2.6667690005162914,
           2.618158986220605,
           2.567059863862771,
           2.513677391573406,
           2.4582265217274104,
           2.4009305354066135,
           2.342020143325669,
           2.2817325568414297,
           2.2203105327865407,
           2.1580013959733497,
           2.0950560433041825,
           2.031727933498068,
           1.9682720665019322,
           1.9049439566958173,
           1.8419986040266498,
           1.7796894672134593,
           1.7182674431585703,
           1.6579798566743313,
           1.5990694645933863,
           1.5417734782725896,
           1.4863226084265935,
           1.4329401361372294,
           1.3818410137793946,
           1.3332309994837086,
           1.287305828621137,
           1.2442504256457418,
           1.2042381594691678,
           1.1674301453652287,
           1.1339745962155612,
           1.104006225708664,
           1.0776457058954185,
           1.0549991812853317,
           1.0361578414400578,
           1.0211975537852211,
           1.0101785581190672,
           1.0031452240480578,
           1.0001258723261248,
           1.001132660816992,
           1.0061615355387459,
           1.0151922469877919,
           1.0281884316764582,
           1.0450977585559262,
           1.0658521397348932,
           1.0903680046454818,
           1.1185466365524181,
           1.1502745700504855,
           1.185424047949664,
           1.2238535357082434,
           1.265408291342467,
           1.309920988517888,
           1.3572123903134603,
           1.4070920709453598,
           1.4593591825444026,
           1.5138032638995311,
           1.570205087910828,
           1.6283375443396728,
           1.687966554301513,
           1.7488520128189207,
           1.8107487556395903,
           1.873407546426251,
           1.9365760803434355,
           1.9999999999999998
          ],
          [
           2,
           2.0634239196565645,
           2.1265924535737493,
           2.18925124436041,
           2.251147987181079,
           2.312033445698487,
           2.3716624556603274,
           2.4297949120891715,
           2.4861967361004687,
           2.5406408174555977,
           2.5929079290546406,
           2.6427876096865393,
           2.690079011482112,
           2.7345917086575335,
           2.776146464291757,
           2.814575952050336,
           2.8497254299495145,
           2.881453363447582,
           2.9096319953545184,
           2.9341478602651065,
           2.9549022414440738,
           2.9718115683235418,
           2.984807753012208,
           2.993838464461254,
           2.998867339183008,
           2.999874127673875,
           2.9968547759519426,
           2.989821441880933,
           2.978802446214779,
           2.963842158559942,
           2.9450008187146683,
           2.9223542941045815,
           2.8959937742913358,
           2.8660254037844384,
           2.8325698546347713,
           2.795761840530832,
           2.755749574354258,
           2.7126941713788626,
           2.6667690005162914,
           2.618158986220605,
           2.567059863862771,
           2.513677391573406,
           2.4582265217274104,
           2.4009305354066135,
           2.342020143325669,
           2.2817325568414297,
           2.2203105327865407,
           2.1580013959733497,
           2.0950560433041825,
           2.031727933498068,
           1.9682720665019322,
           1.9049439566958173,
           1.8419986040266498,
           1.7796894672134593,
           1.7182674431585703,
           1.6579798566743313,
           1.5990694645933863,
           1.5417734782725896,
           1.4863226084265935,
           1.4329401361372294,
           1.3818410137793946,
           1.3332309994837086,
           1.287305828621137,
           1.2442504256457418,
           1.2042381594691678,
           1.1674301453652287,
           1.1339745962155612,
           1.104006225708664,
           1.0776457058954185,
           1.0549991812853317,
           1.0361578414400578,
           1.0211975537852211,
           1.0101785581190672,
           1.0031452240480578,
           1.0001258723261248,
           1.001132660816992,
           1.0061615355387459,
           1.0151922469877919,
           1.0281884316764582,
           1.0450977585559262,
           1.0658521397348932,
           1.0903680046454818,
           1.1185466365524181,
           1.1502745700504855,
           1.185424047949664,
           1.2238535357082434,
           1.265408291342467,
           1.309920988517888,
           1.3572123903134603,
           1.4070920709453598,
           1.4593591825444026,
           1.5138032638995311,
           1.570205087910828,
           1.6283375443396728,
           1.687966554301513,
           1.7488520128189207,
           1.8107487556395903,
           1.873407546426251,
           1.9365760803434355,
           1.9999999999999998
          ],
          [
           2,
           2.0634239196565645,
           2.1265924535737493,
           2.18925124436041,
           2.251147987181079,
           2.312033445698487,
           2.3716624556603274,
           2.4297949120891715,
           2.4861967361004687,
           2.5406408174555977,
           2.5929079290546406,
           2.6427876096865393,
           2.690079011482112,
           2.7345917086575335,
           2.776146464291757,
           2.814575952050336,
           2.8497254299495145,
           2.881453363447582,
           2.9096319953545184,
           2.9341478602651065,
           2.9549022414440738,
           2.9718115683235418,
           2.984807753012208,
           2.993838464461254,
           2.998867339183008,
           2.999874127673875,
           2.9968547759519426,
           2.989821441880933,
           2.978802446214779,
           2.963842158559942,
           2.9450008187146683,
           2.9223542941045815,
           2.8959937742913358,
           2.8660254037844384,
           2.8325698546347713,
           2.795761840530832,
           2.755749574354258,
           2.7126941713788626,
           2.6667690005162914,
           2.618158986220605,
           2.567059863862771,
           2.513677391573406,
           2.4582265217274104,
           2.4009305354066135,
           2.342020143325669,
           2.2817325568414297,
           2.2203105327865407,
           2.1580013959733497,
           2.0950560433041825,
           2.031727933498068,
           1.9682720665019322,
           1.9049439566958173,
           1.8419986040266498,
           1.7796894672134593,
           1.7182674431585703,
           1.6579798566743313,
           1.5990694645933863,
           1.5417734782725896,
           1.4863226084265935,
           1.4329401361372294,
           1.3818410137793946,
           1.3332309994837086,
           1.287305828621137,
           1.2442504256457418,
           1.2042381594691678,
           1.1674301453652287,
           1.1339745962155612,
           1.104006225708664,
           1.0776457058954185,
           1.0549991812853317,
           1.0361578414400578,
           1.0211975537852211,
           1.0101785581190672,
           1.0031452240480578,
           1.0001258723261248,
           1.001132660816992,
           1.0061615355387459,
           1.0151922469877919,
           1.0281884316764582,
           1.0450977585559262,
           1.0658521397348932,
           1.0903680046454818,
           1.1185466365524181,
           1.1502745700504855,
           1.185424047949664,
           1.2238535357082434,
           1.265408291342467,
           1.309920988517888,
           1.3572123903134603,
           1.4070920709453598,
           1.4593591825444026,
           1.5138032638995311,
           1.570205087910828,
           1.6283375443396728,
           1.687966554301513,
           1.7488520128189207,
           1.8107487556395903,
           1.873407546426251,
           1.9365760803434355,
           1.9999999999999998
          ],
          [
           2,
           2.0634239196565645,
           2.1265924535737493,
           2.18925124436041,
           2.251147987181079,
           2.312033445698487,
           2.3716624556603274,
           2.4297949120891715,
           2.4861967361004687,
           2.5406408174555977,
           2.5929079290546406,
           2.6427876096865393,
           2.690079011482112,
           2.7345917086575335,
           2.776146464291757,
           2.814575952050336,
           2.8497254299495145,
           2.881453363447582,
           2.9096319953545184,
           2.9341478602651065,
           2.9549022414440738,
           2.9718115683235418,
           2.984807753012208,
           2.993838464461254,
           2.998867339183008,
           2.999874127673875,
           2.9968547759519426,
           2.989821441880933,
           2.978802446214779,
           2.963842158559942,
           2.9450008187146683,
           2.9223542941045815,
           2.8959937742913358,
           2.8660254037844384,
           2.8325698546347713,
           2.795761840530832,
           2.755749574354258,
           2.7126941713788626,
           2.6667690005162914,
           2.618158986220605,
           2.567059863862771,
           2.513677391573406,
           2.4582265217274104,
           2.4009305354066135,
           2.342020143325669,
           2.2817325568414297,
           2.2203105327865407,
           2.1580013959733497,
           2.0950560433041825,
           2.031727933498068,
           1.9682720665019322,
           1.9049439566958173,
           1.8419986040266498,
           1.7796894672134593,
           1.7182674431585703,
           1.6579798566743313,
           1.5990694645933863,
           1.5417734782725896,
           1.4863226084265935,
           1.4329401361372294,
           1.3818410137793946,
           1.3332309994837086,
           1.287305828621137,
           1.2442504256457418,
           1.2042381594691678,
           1.1674301453652287,
           1.1339745962155612,
           1.104006225708664,
           1.0776457058954185,
           1.0549991812853317,
           1.0361578414400578,
           1.0211975537852211,
           1.0101785581190672,
           1.0031452240480578,
           1.0001258723261248,
           1.001132660816992,
           1.0061615355387459,
           1.0151922469877919,
           1.0281884316764582,
           1.0450977585559262,
           1.0658521397348932,
           1.0903680046454818,
           1.1185466365524181,
           1.1502745700504855,
           1.185424047949664,
           1.2238535357082434,
           1.265408291342467,
           1.309920988517888,
           1.3572123903134603,
           1.4070920709453598,
           1.4593591825444026,
           1.5138032638995311,
           1.570205087910828,
           1.6283375443396728,
           1.687966554301513,
           1.7488520128189207,
           1.8107487556395903,
           1.873407546426251,
           1.9365760803434355,
           1.9999999999999998
          ],
          [
           2,
           2.0634239196565645,
           2.1265924535737493,
           2.18925124436041,
           2.251147987181079,
           2.312033445698487,
           2.3716624556603274,
           2.4297949120891715,
           2.4861967361004687,
           2.5406408174555977,
           2.5929079290546406,
           2.6427876096865393,
           2.690079011482112,
           2.7345917086575335,
           2.776146464291757,
           2.814575952050336,
           2.8497254299495145,
           2.881453363447582,
           2.9096319953545184,
           2.9341478602651065,
           2.9549022414440738,
           2.9718115683235418,
           2.984807753012208,
           2.993838464461254,
           2.998867339183008,
           2.999874127673875,
           2.9968547759519426,
           2.989821441880933,
           2.978802446214779,
           2.963842158559942,
           2.9450008187146683,
           2.9223542941045815,
           2.8959937742913358,
           2.8660254037844384,
           2.8325698546347713,
           2.795761840530832,
           2.755749574354258,
           2.7126941713788626,
           2.6667690005162914,
           2.618158986220605,
           2.567059863862771,
           2.513677391573406,
           2.4582265217274104,
           2.4009305354066135,
           2.342020143325669,
           2.2817325568414297,
           2.2203105327865407,
           2.1580013959733497,
           2.0950560433041825,
           2.031727933498068,
           1.9682720665019322,
           1.9049439566958173,
           1.8419986040266498,
           1.7796894672134593,
           1.7182674431585703,
           1.6579798566743313,
           1.5990694645933863,
           1.5417734782725896,
           1.4863226084265935,
           1.4329401361372294,
           1.3818410137793946,
           1.3332309994837086,
           1.287305828621137,
           1.2442504256457418,
           1.2042381594691678,
           1.1674301453652287,
           1.1339745962155612,
           1.104006225708664,
           1.0776457058954185,
           1.0549991812853317,
           1.0361578414400578,
           1.0211975537852211,
           1.0101785581190672,
           1.0031452240480578,
           1.0001258723261248,
           1.001132660816992,
           1.0061615355387459,
           1.0151922469877919,
           1.0281884316764582,
           1.0450977585559262,
           1.0658521397348932,
           1.0903680046454818,
           1.1185466365524181,
           1.1502745700504855,
           1.185424047949664,
           1.2238535357082434,
           1.265408291342467,
           1.309920988517888,
           1.3572123903134603,
           1.4070920709453598,
           1.4593591825444026,
           1.5138032638995311,
           1.570205087910828,
           1.6283375443396728,
           1.687966554301513,
           1.7488520128189207,
           1.8107487556395903,
           1.873407546426251,
           1.9365760803434355,
           1.9999999999999998
          ],
          [
           2,
           2.0634239196565645,
           2.1265924535737493,
           2.18925124436041,
           2.251147987181079,
           2.312033445698487,
           2.3716624556603274,
           2.4297949120891715,
           2.4861967361004687,
           2.5406408174555977,
           2.5929079290546406,
           2.6427876096865393,
           2.690079011482112,
           2.7345917086575335,
           2.776146464291757,
           2.814575952050336,
           2.8497254299495145,
           2.881453363447582,
           2.9096319953545184,
           2.9341478602651065,
           2.9549022414440738,
           2.9718115683235418,
           2.984807753012208,
           2.993838464461254,
           2.998867339183008,
           2.999874127673875,
           2.9968547759519426,
           2.989821441880933,
           2.978802446214779,
           2.963842158559942,
           2.9450008187146683,
           2.9223542941045815,
           2.8959937742913358,
           2.8660254037844384,
           2.8325698546347713,
           2.795761840530832,
           2.755749574354258,
           2.7126941713788626,
           2.6667690005162914,
           2.618158986220605,
           2.567059863862771,
           2.513677391573406,
           2.4582265217274104,
           2.4009305354066135,
           2.342020143325669,
           2.2817325568414297,
           2.2203105327865407,
           2.1580013959733497,
           2.0950560433041825,
           2.031727933498068,
           1.9682720665019322,
           1.9049439566958173,
           1.8419986040266498,
           1.7796894672134593,
           1.7182674431585703,
           1.6579798566743313,
           1.5990694645933863,
           1.5417734782725896,
           1.4863226084265935,
           1.4329401361372294,
           1.3818410137793946,
           1.3332309994837086,
           1.287305828621137,
           1.2442504256457418,
           1.2042381594691678,
           1.1674301453652287,
           1.1339745962155612,
           1.104006225708664,
           1.0776457058954185,
           1.0549991812853317,
           1.0361578414400578,
           1.0211975537852211,
           1.0101785581190672,
           1.0031452240480578,
           1.0001258723261248,
           1.001132660816992,
           1.0061615355387459,
           1.0151922469877919,
           1.0281884316764582,
           1.0450977585559262,
           1.0658521397348932,
           1.0903680046454818,
           1.1185466365524181,
           1.1502745700504855,
           1.185424047949664,
           1.2238535357082434,
           1.265408291342467,
           1.309920988517888,
           1.3572123903134603,
           1.4070920709453598,
           1.4593591825444026,
           1.5138032638995311,
           1.570205087910828,
           1.6283375443396728,
           1.687966554301513,
           1.7488520128189207,
           1.8107487556395903,
           1.873407546426251,
           1.9365760803434355,
           1.9999999999999998
          ],
          [
           2,
           2.0634239196565645,
           2.1265924535737493,
           2.18925124436041,
           2.251147987181079,
           2.312033445698487,
           2.3716624556603274,
           2.4297949120891715,
           2.4861967361004687,
           2.5406408174555977,
           2.5929079290546406,
           2.6427876096865393,
           2.690079011482112,
           2.7345917086575335,
           2.776146464291757,
           2.814575952050336,
           2.8497254299495145,
           2.881453363447582,
           2.9096319953545184,
           2.9341478602651065,
           2.9549022414440738,
           2.9718115683235418,
           2.984807753012208,
           2.993838464461254,
           2.998867339183008,
           2.999874127673875,
           2.9968547759519426,
           2.989821441880933,
           2.978802446214779,
           2.963842158559942,
           2.9450008187146683,
           2.9223542941045815,
           2.8959937742913358,
           2.8660254037844384,
           2.8325698546347713,
           2.795761840530832,
           2.755749574354258,
           2.7126941713788626,
           2.6667690005162914,
           2.618158986220605,
           2.567059863862771,
           2.513677391573406,
           2.4582265217274104,
           2.4009305354066135,
           2.342020143325669,
           2.2817325568414297,
           2.2203105327865407,
           2.1580013959733497,
           2.0950560433041825,
           2.031727933498068,
           1.9682720665019322,
           1.9049439566958173,
           1.8419986040266498,
           1.7796894672134593,
           1.7182674431585703,
           1.6579798566743313,
           1.5990694645933863,
           1.5417734782725896,
           1.4863226084265935,
           1.4329401361372294,
           1.3818410137793946,
           1.3332309994837086,
           1.287305828621137,
           1.2442504256457418,
           1.2042381594691678,
           1.1674301453652287,
           1.1339745962155612,
           1.104006225708664,
           1.0776457058954185,
           1.0549991812853317,
           1.0361578414400578,
           1.0211975537852211,
           1.0101785581190672,
           1.0031452240480578,
           1.0001258723261248,
           1.001132660816992,
           1.0061615355387459,
           1.0151922469877919,
           1.0281884316764582,
           1.0450977585559262,
           1.0658521397348932,
           1.0903680046454818,
           1.1185466365524181,
           1.1502745700504855,
           1.185424047949664,
           1.2238535357082434,
           1.265408291342467,
           1.309920988517888,
           1.3572123903134603,
           1.4070920709453598,
           1.4593591825444026,
           1.5138032638995311,
           1.570205087910828,
           1.6283375443396728,
           1.687966554301513,
           1.7488520128189207,
           1.8107487556395903,
           1.873407546426251,
           1.9365760803434355,
           1.9999999999999998
          ],
          [
           2,
           2.0634239196565645,
           2.1265924535737493,
           2.18925124436041,
           2.251147987181079,
           2.312033445698487,
           2.3716624556603274,
           2.4297949120891715,
           2.4861967361004687,
           2.5406408174555977,
           2.5929079290546406,
           2.6427876096865393,
           2.690079011482112,
           2.7345917086575335,
           2.776146464291757,
           2.814575952050336,
           2.8497254299495145,
           2.881453363447582,
           2.9096319953545184,
           2.9341478602651065,
           2.9549022414440738,
           2.9718115683235418,
           2.984807753012208,
           2.993838464461254,
           2.998867339183008,
           2.999874127673875,
           2.9968547759519426,
           2.989821441880933,
           2.978802446214779,
           2.963842158559942,
           2.9450008187146683,
           2.9223542941045815,
           2.8959937742913358,
           2.8660254037844384,
           2.8325698546347713,
           2.795761840530832,
           2.755749574354258,
           2.7126941713788626,
           2.6667690005162914,
           2.618158986220605,
           2.567059863862771,
           2.513677391573406,
           2.4582265217274104,
           2.4009305354066135,
           2.342020143325669,
           2.2817325568414297,
           2.2203105327865407,
           2.1580013959733497,
           2.0950560433041825,
           2.031727933498068,
           1.9682720665019322,
           1.9049439566958173,
           1.8419986040266498,
           1.7796894672134593,
           1.7182674431585703,
           1.6579798566743313,
           1.5990694645933863,
           1.5417734782725896,
           1.4863226084265935,
           1.4329401361372294,
           1.3818410137793946,
           1.3332309994837086,
           1.287305828621137,
           1.2442504256457418,
           1.2042381594691678,
           1.1674301453652287,
           1.1339745962155612,
           1.104006225708664,
           1.0776457058954185,
           1.0549991812853317,
           1.0361578414400578,
           1.0211975537852211,
           1.0101785581190672,
           1.0031452240480578,
           1.0001258723261248,
           1.001132660816992,
           1.0061615355387459,
           1.0151922469877919,
           1.0281884316764582,
           1.0450977585559262,
           1.0658521397348932,
           1.0903680046454818,
           1.1185466365524181,
           1.1502745700504855,
           1.185424047949664,
           1.2238535357082434,
           1.265408291342467,
           1.309920988517888,
           1.3572123903134603,
           1.4070920709453598,
           1.4593591825444026,
           1.5138032638995311,
           1.570205087910828,
           1.6283375443396728,
           1.687966554301513,
           1.7488520128189207,
           1.8107487556395903,
           1.873407546426251,
           1.9365760803434355,
           1.9999999999999998
          ],
          [
           2,
           2.0634239196565645,
           2.1265924535737493,
           2.18925124436041,
           2.251147987181079,
           2.312033445698487,
           2.3716624556603274,
           2.4297949120891715,
           2.4861967361004687,
           2.5406408174555977,
           2.5929079290546406,
           2.6427876096865393,
           2.690079011482112,
           2.7345917086575335,
           2.776146464291757,
           2.814575952050336,
           2.8497254299495145,
           2.881453363447582,
           2.9096319953545184,
           2.9341478602651065,
           2.9549022414440738,
           2.9718115683235418,
           2.984807753012208,
           2.993838464461254,
           2.998867339183008,
           2.999874127673875,
           2.9968547759519426,
           2.989821441880933,
           2.978802446214779,
           2.963842158559942,
           2.9450008187146683,
           2.9223542941045815,
           2.8959937742913358,
           2.8660254037844384,
           2.8325698546347713,
           2.795761840530832,
           2.755749574354258,
           2.7126941713788626,
           2.6667690005162914,
           2.618158986220605,
           2.567059863862771,
           2.513677391573406,
           2.4582265217274104,
           2.4009305354066135,
           2.342020143325669,
           2.2817325568414297,
           2.2203105327865407,
           2.1580013959733497,
           2.0950560433041825,
           2.031727933498068,
           1.9682720665019322,
           1.9049439566958173,
           1.8419986040266498,
           1.7796894672134593,
           1.7182674431585703,
           1.6579798566743313,
           1.5990694645933863,
           1.5417734782725896,
           1.4863226084265935,
           1.4329401361372294,
           1.3818410137793946,
           1.3332309994837086,
           1.287305828621137,
           1.2442504256457418,
           1.2042381594691678,
           1.1674301453652287,
           1.1339745962155612,
           1.104006225708664,
           1.0776457058954185,
           1.0549991812853317,
           1.0361578414400578,
           1.0211975537852211,
           1.0101785581190672,
           1.0031452240480578,
           1.0001258723261248,
           1.001132660816992,
           1.0061615355387459,
           1.0151922469877919,
           1.0281884316764582,
           1.0450977585559262,
           1.0658521397348932,
           1.0903680046454818,
           1.1185466365524181,
           1.1502745700504855,
           1.185424047949664,
           1.2238535357082434,
           1.265408291342467,
           1.309920988517888,
           1.3572123903134603,
           1.4070920709453598,
           1.4593591825444026,
           1.5138032638995311,
           1.570205087910828,
           1.6283375443396728,
           1.687966554301513,
           1.7488520128189207,
           1.8107487556395903,
           1.873407546426251,
           1.9365760803434355,
           1.9999999999999998
          ],
          [
           2,
           2.0634239196565645,
           2.1265924535737493,
           2.18925124436041,
           2.251147987181079,
           2.312033445698487,
           2.3716624556603274,
           2.4297949120891715,
           2.4861967361004687,
           2.5406408174555977,
           2.5929079290546406,
           2.6427876096865393,
           2.690079011482112,
           2.7345917086575335,
           2.776146464291757,
           2.814575952050336,
           2.8497254299495145,
           2.881453363447582,
           2.9096319953545184,
           2.9341478602651065,
           2.9549022414440738,
           2.9718115683235418,
           2.984807753012208,
           2.993838464461254,
           2.998867339183008,
           2.999874127673875,
           2.9968547759519426,
           2.989821441880933,
           2.978802446214779,
           2.963842158559942,
           2.9450008187146683,
           2.9223542941045815,
           2.8959937742913358,
           2.8660254037844384,
           2.8325698546347713,
           2.795761840530832,
           2.755749574354258,
           2.7126941713788626,
           2.6667690005162914,
           2.618158986220605,
           2.567059863862771,
           2.513677391573406,
           2.4582265217274104,
           2.4009305354066135,
           2.342020143325669,
           2.2817325568414297,
           2.2203105327865407,
           2.1580013959733497,
           2.0950560433041825,
           2.031727933498068,
           1.9682720665019322,
           1.9049439566958173,
           1.8419986040266498,
           1.7796894672134593,
           1.7182674431585703,
           1.6579798566743313,
           1.5990694645933863,
           1.5417734782725896,
           1.4863226084265935,
           1.4329401361372294,
           1.3818410137793946,
           1.3332309994837086,
           1.287305828621137,
           1.2442504256457418,
           1.2042381594691678,
           1.1674301453652287,
           1.1339745962155612,
           1.104006225708664,
           1.0776457058954185,
           1.0549991812853317,
           1.0361578414400578,
           1.0211975537852211,
           1.0101785581190672,
           1.0031452240480578,
           1.0001258723261248,
           1.001132660816992,
           1.0061615355387459,
           1.0151922469877919,
           1.0281884316764582,
           1.0450977585559262,
           1.0658521397348932,
           1.0903680046454818,
           1.1185466365524181,
           1.1502745700504855,
           1.185424047949664,
           1.2238535357082434,
           1.265408291342467,
           1.309920988517888,
           1.3572123903134603,
           1.4070920709453598,
           1.4593591825444026,
           1.5138032638995311,
           1.570205087910828,
           1.6283375443396728,
           1.687966554301513,
           1.7488520128189207,
           1.8107487556395903,
           1.873407546426251,
           1.9365760803434355,
           1.9999999999999998
          ],
          [
           2,
           2.0634239196565645,
           2.1265924535737493,
           2.18925124436041,
           2.251147987181079,
           2.312033445698487,
           2.3716624556603274,
           2.4297949120891715,
           2.4861967361004687,
           2.5406408174555977,
           2.5929079290546406,
           2.6427876096865393,
           2.690079011482112,
           2.7345917086575335,
           2.776146464291757,
           2.814575952050336,
           2.8497254299495145,
           2.881453363447582,
           2.9096319953545184,
           2.9341478602651065,
           2.9549022414440738,
           2.9718115683235418,
           2.984807753012208,
           2.993838464461254,
           2.998867339183008,
           2.999874127673875,
           2.9968547759519426,
           2.989821441880933,
           2.978802446214779,
           2.963842158559942,
           2.9450008187146683,
           2.9223542941045815,
           2.8959937742913358,
           2.8660254037844384,
           2.8325698546347713,
           2.795761840530832,
           2.755749574354258,
           2.7126941713788626,
           2.6667690005162914,
           2.618158986220605,
           2.567059863862771,
           2.513677391573406,
           2.4582265217274104,
           2.4009305354066135,
           2.342020143325669,
           2.2817325568414297,
           2.2203105327865407,
           2.1580013959733497,
           2.0950560433041825,
           2.031727933498068,
           1.9682720665019322,
           1.9049439566958173,
           1.8419986040266498,
           1.7796894672134593,
           1.7182674431585703,
           1.6579798566743313,
           1.5990694645933863,
           1.5417734782725896,
           1.4863226084265935,
           1.4329401361372294,
           1.3818410137793946,
           1.3332309994837086,
           1.287305828621137,
           1.2442504256457418,
           1.2042381594691678,
           1.1674301453652287,
           1.1339745962155612,
           1.104006225708664,
           1.0776457058954185,
           1.0549991812853317,
           1.0361578414400578,
           1.0211975537852211,
           1.0101785581190672,
           1.0031452240480578,
           1.0001258723261248,
           1.001132660816992,
           1.0061615355387459,
           1.0151922469877919,
           1.0281884316764582,
           1.0450977585559262,
           1.0658521397348932,
           1.0903680046454818,
           1.1185466365524181,
           1.1502745700504855,
           1.185424047949664,
           1.2238535357082434,
           1.265408291342467,
           1.309920988517888,
           1.3572123903134603,
           1.4070920709453598,
           1.4593591825444026,
           1.5138032638995311,
           1.570205087910828,
           1.6283375443396728,
           1.687966554301513,
           1.7488520128189207,
           1.8107487556395903,
           1.873407546426251,
           1.9365760803434355,
           1.9999999999999998
          ],
          [
           2,
           2.0634239196565645,
           2.1265924535737493,
           2.18925124436041,
           2.251147987181079,
           2.312033445698487,
           2.3716624556603274,
           2.4297949120891715,
           2.4861967361004687,
           2.5406408174555977,
           2.5929079290546406,
           2.6427876096865393,
           2.690079011482112,
           2.7345917086575335,
           2.776146464291757,
           2.814575952050336,
           2.8497254299495145,
           2.881453363447582,
           2.9096319953545184,
           2.9341478602651065,
           2.9549022414440738,
           2.9718115683235418,
           2.984807753012208,
           2.993838464461254,
           2.998867339183008,
           2.999874127673875,
           2.9968547759519426,
           2.989821441880933,
           2.978802446214779,
           2.963842158559942,
           2.9450008187146683,
           2.9223542941045815,
           2.8959937742913358,
           2.8660254037844384,
           2.8325698546347713,
           2.795761840530832,
           2.755749574354258,
           2.7126941713788626,
           2.6667690005162914,
           2.618158986220605,
           2.567059863862771,
           2.513677391573406,
           2.4582265217274104,
           2.4009305354066135,
           2.342020143325669,
           2.2817325568414297,
           2.2203105327865407,
           2.1580013959733497,
           2.0950560433041825,
           2.031727933498068,
           1.9682720665019322,
           1.9049439566958173,
           1.8419986040266498,
           1.7796894672134593,
           1.7182674431585703,
           1.6579798566743313,
           1.5990694645933863,
           1.5417734782725896,
           1.4863226084265935,
           1.4329401361372294,
           1.3818410137793946,
           1.3332309994837086,
           1.287305828621137,
           1.2442504256457418,
           1.2042381594691678,
           1.1674301453652287,
           1.1339745962155612,
           1.104006225708664,
           1.0776457058954185,
           1.0549991812853317,
           1.0361578414400578,
           1.0211975537852211,
           1.0101785581190672,
           1.0031452240480578,
           1.0001258723261248,
           1.001132660816992,
           1.0061615355387459,
           1.0151922469877919,
           1.0281884316764582,
           1.0450977585559262,
           1.0658521397348932,
           1.0903680046454818,
           1.1185466365524181,
           1.1502745700504855,
           1.185424047949664,
           1.2238535357082434,
           1.265408291342467,
           1.309920988517888,
           1.3572123903134603,
           1.4070920709453598,
           1.4593591825444026,
           1.5138032638995311,
           1.570205087910828,
           1.6283375443396728,
           1.687966554301513,
           1.7488520128189207,
           1.8107487556395903,
           1.873407546426251,
           1.9365760803434355,
           1.9999999999999998
          ],
          [
           2,
           2.0634239196565645,
           2.1265924535737493,
           2.18925124436041,
           2.251147987181079,
           2.312033445698487,
           2.3716624556603274,
           2.4297949120891715,
           2.4861967361004687,
           2.5406408174555977,
           2.5929079290546406,
           2.6427876096865393,
           2.690079011482112,
           2.7345917086575335,
           2.776146464291757,
           2.814575952050336,
           2.8497254299495145,
           2.881453363447582,
           2.9096319953545184,
           2.9341478602651065,
           2.9549022414440738,
           2.9718115683235418,
           2.984807753012208,
           2.993838464461254,
           2.998867339183008,
           2.999874127673875,
           2.9968547759519426,
           2.989821441880933,
           2.978802446214779,
           2.963842158559942,
           2.9450008187146683,
           2.9223542941045815,
           2.8959937742913358,
           2.8660254037844384,
           2.8325698546347713,
           2.795761840530832,
           2.755749574354258,
           2.7126941713788626,
           2.6667690005162914,
           2.618158986220605,
           2.567059863862771,
           2.513677391573406,
           2.4582265217274104,
           2.4009305354066135,
           2.342020143325669,
           2.2817325568414297,
           2.2203105327865407,
           2.1580013959733497,
           2.0950560433041825,
           2.031727933498068,
           1.9682720665019322,
           1.9049439566958173,
           1.8419986040266498,
           1.7796894672134593,
           1.7182674431585703,
           1.6579798566743313,
           1.5990694645933863,
           1.5417734782725896,
           1.4863226084265935,
           1.4329401361372294,
           1.3818410137793946,
           1.3332309994837086,
           1.287305828621137,
           1.2442504256457418,
           1.2042381594691678,
           1.1674301453652287,
           1.1339745962155612,
           1.104006225708664,
           1.0776457058954185,
           1.0549991812853317,
           1.0361578414400578,
           1.0211975537852211,
           1.0101785581190672,
           1.0031452240480578,
           1.0001258723261248,
           1.001132660816992,
           1.0061615355387459,
           1.0151922469877919,
           1.0281884316764582,
           1.0450977585559262,
           1.0658521397348932,
           1.0903680046454818,
           1.1185466365524181,
           1.1502745700504855,
           1.185424047949664,
           1.2238535357082434,
           1.265408291342467,
           1.309920988517888,
           1.3572123903134603,
           1.4070920709453598,
           1.4593591825444026,
           1.5138032638995311,
           1.570205087910828,
           1.6283375443396728,
           1.687966554301513,
           1.7488520128189207,
           1.8107487556395903,
           1.873407546426251,
           1.9365760803434355,
           1.9999999999999998
          ],
          [
           2,
           2.0634239196565645,
           2.1265924535737493,
           2.18925124436041,
           2.251147987181079,
           2.312033445698487,
           2.3716624556603274,
           2.4297949120891715,
           2.4861967361004687,
           2.5406408174555977,
           2.5929079290546406,
           2.6427876096865393,
           2.690079011482112,
           2.7345917086575335,
           2.776146464291757,
           2.814575952050336,
           2.8497254299495145,
           2.881453363447582,
           2.9096319953545184,
           2.9341478602651065,
           2.9549022414440738,
           2.9718115683235418,
           2.984807753012208,
           2.993838464461254,
           2.998867339183008,
           2.999874127673875,
           2.9968547759519426,
           2.989821441880933,
           2.978802446214779,
           2.963842158559942,
           2.9450008187146683,
           2.9223542941045815,
           2.8959937742913358,
           2.8660254037844384,
           2.8325698546347713,
           2.795761840530832,
           2.755749574354258,
           2.7126941713788626,
           2.6667690005162914,
           2.618158986220605,
           2.567059863862771,
           2.513677391573406,
           2.4582265217274104,
           2.4009305354066135,
           2.342020143325669,
           2.2817325568414297,
           2.2203105327865407,
           2.1580013959733497,
           2.0950560433041825,
           2.031727933498068,
           1.9682720665019322,
           1.9049439566958173,
           1.8419986040266498,
           1.7796894672134593,
           1.7182674431585703,
           1.6579798566743313,
           1.5990694645933863,
           1.5417734782725896,
           1.4863226084265935,
           1.4329401361372294,
           1.3818410137793946,
           1.3332309994837086,
           1.287305828621137,
           1.2442504256457418,
           1.2042381594691678,
           1.1674301453652287,
           1.1339745962155612,
           1.104006225708664,
           1.0776457058954185,
           1.0549991812853317,
           1.0361578414400578,
           1.0211975537852211,
           1.0101785581190672,
           1.0031452240480578,
           1.0001258723261248,
           1.001132660816992,
           1.0061615355387459,
           1.0151922469877919,
           1.0281884316764582,
           1.0450977585559262,
           1.0658521397348932,
           1.0903680046454818,
           1.1185466365524181,
           1.1502745700504855,
           1.185424047949664,
           1.2238535357082434,
           1.265408291342467,
           1.309920988517888,
           1.3572123903134603,
           1.4070920709453598,
           1.4593591825444026,
           1.5138032638995311,
           1.570205087910828,
           1.6283375443396728,
           1.687966554301513,
           1.7488520128189207,
           1.8107487556395903,
           1.873407546426251,
           1.9365760803434355,
           1.9999999999999998
          ],
          [
           2,
           2.0634239196565645,
           2.1265924535737493,
           2.18925124436041,
           2.251147987181079,
           2.312033445698487,
           2.3716624556603274,
           2.4297949120891715,
           2.4861967361004687,
           2.5406408174555977,
           2.5929079290546406,
           2.6427876096865393,
           2.690079011482112,
           2.7345917086575335,
           2.776146464291757,
           2.814575952050336,
           2.8497254299495145,
           2.881453363447582,
           2.9096319953545184,
           2.9341478602651065,
           2.9549022414440738,
           2.9718115683235418,
           2.984807753012208,
           2.993838464461254,
           2.998867339183008,
           2.999874127673875,
           2.9968547759519426,
           2.989821441880933,
           2.978802446214779,
           2.963842158559942,
           2.9450008187146683,
           2.9223542941045815,
           2.8959937742913358,
           2.8660254037844384,
           2.8325698546347713,
           2.795761840530832,
           2.755749574354258,
           2.7126941713788626,
           2.6667690005162914,
           2.618158986220605,
           2.567059863862771,
           2.513677391573406,
           2.4582265217274104,
           2.4009305354066135,
           2.342020143325669,
           2.2817325568414297,
           2.2203105327865407,
           2.1580013959733497,
           2.0950560433041825,
           2.031727933498068,
           1.9682720665019322,
           1.9049439566958173,
           1.8419986040266498,
           1.7796894672134593,
           1.7182674431585703,
           1.6579798566743313,
           1.5990694645933863,
           1.5417734782725896,
           1.4863226084265935,
           1.4329401361372294,
           1.3818410137793946,
           1.3332309994837086,
           1.287305828621137,
           1.2442504256457418,
           1.2042381594691678,
           1.1674301453652287,
           1.1339745962155612,
           1.104006225708664,
           1.0776457058954185,
           1.0549991812853317,
           1.0361578414400578,
           1.0211975537852211,
           1.0101785581190672,
           1.0031452240480578,
           1.0001258723261248,
           1.001132660816992,
           1.0061615355387459,
           1.0151922469877919,
           1.0281884316764582,
           1.0450977585559262,
           1.0658521397348932,
           1.0903680046454818,
           1.1185466365524181,
           1.1502745700504855,
           1.185424047949664,
           1.2238535357082434,
           1.265408291342467,
           1.309920988517888,
           1.3572123903134603,
           1.4070920709453598,
           1.4593591825444026,
           1.5138032638995311,
           1.570205087910828,
           1.6283375443396728,
           1.687966554301513,
           1.7488520128189207,
           1.8107487556395903,
           1.873407546426251,
           1.9365760803434355,
           1.9999999999999998
          ],
          [
           2,
           2.0634239196565645,
           2.1265924535737493,
           2.18925124436041,
           2.251147987181079,
           2.312033445698487,
           2.3716624556603274,
           2.4297949120891715,
           2.4861967361004687,
           2.5406408174555977,
           2.5929079290546406,
           2.6427876096865393,
           2.690079011482112,
           2.7345917086575335,
           2.776146464291757,
           2.814575952050336,
           2.8497254299495145,
           2.881453363447582,
           2.9096319953545184,
           2.9341478602651065,
           2.9549022414440738,
           2.9718115683235418,
           2.984807753012208,
           2.993838464461254,
           2.998867339183008,
           2.999874127673875,
           2.9968547759519426,
           2.989821441880933,
           2.978802446214779,
           2.963842158559942,
           2.9450008187146683,
           2.9223542941045815,
           2.8959937742913358,
           2.8660254037844384,
           2.8325698546347713,
           2.795761840530832,
           2.755749574354258,
           2.7126941713788626,
           2.6667690005162914,
           2.618158986220605,
           2.567059863862771,
           2.513677391573406,
           2.4582265217274104,
           2.4009305354066135,
           2.342020143325669,
           2.2817325568414297,
           2.2203105327865407,
           2.1580013959733497,
           2.0950560433041825,
           2.031727933498068,
           1.9682720665019322,
           1.9049439566958173,
           1.8419986040266498,
           1.7796894672134593,
           1.7182674431585703,
           1.6579798566743313,
           1.5990694645933863,
           1.5417734782725896,
           1.4863226084265935,
           1.4329401361372294,
           1.3818410137793946,
           1.3332309994837086,
           1.287305828621137,
           1.2442504256457418,
           1.2042381594691678,
           1.1674301453652287,
           1.1339745962155612,
           1.104006225708664,
           1.0776457058954185,
           1.0549991812853317,
           1.0361578414400578,
           1.0211975537852211,
           1.0101785581190672,
           1.0031452240480578,
           1.0001258723261248,
           1.001132660816992,
           1.0061615355387459,
           1.0151922469877919,
           1.0281884316764582,
           1.0450977585559262,
           1.0658521397348932,
           1.0903680046454818,
           1.1185466365524181,
           1.1502745700504855,
           1.185424047949664,
           1.2238535357082434,
           1.265408291342467,
           1.309920988517888,
           1.3572123903134603,
           1.4070920709453598,
           1.4593591825444026,
           1.5138032638995311,
           1.570205087910828,
           1.6283375443396728,
           1.687966554301513,
           1.7488520128189207,
           1.8107487556395903,
           1.873407546426251,
           1.9365760803434355,
           1.9999999999999998
          ],
          [
           2,
           2.0634239196565645,
           2.1265924535737493,
           2.18925124436041,
           2.251147987181079,
           2.312033445698487,
           2.3716624556603274,
           2.4297949120891715,
           2.4861967361004687,
           2.5406408174555977,
           2.5929079290546406,
           2.6427876096865393,
           2.690079011482112,
           2.7345917086575335,
           2.776146464291757,
           2.814575952050336,
           2.8497254299495145,
           2.881453363447582,
           2.9096319953545184,
           2.9341478602651065,
           2.9549022414440738,
           2.9718115683235418,
           2.984807753012208,
           2.993838464461254,
           2.998867339183008,
           2.999874127673875,
           2.9968547759519426,
           2.989821441880933,
           2.978802446214779,
           2.963842158559942,
           2.9450008187146683,
           2.9223542941045815,
           2.8959937742913358,
           2.8660254037844384,
           2.8325698546347713,
           2.795761840530832,
           2.755749574354258,
           2.7126941713788626,
           2.6667690005162914,
           2.618158986220605,
           2.567059863862771,
           2.513677391573406,
           2.4582265217274104,
           2.4009305354066135,
           2.342020143325669,
           2.2817325568414297,
           2.2203105327865407,
           2.1580013959733497,
           2.0950560433041825,
           2.031727933498068,
           1.9682720665019322,
           1.9049439566958173,
           1.8419986040266498,
           1.7796894672134593,
           1.7182674431585703,
           1.6579798566743313,
           1.5990694645933863,
           1.5417734782725896,
           1.4863226084265935,
           1.4329401361372294,
           1.3818410137793946,
           1.3332309994837086,
           1.287305828621137,
           1.2442504256457418,
           1.2042381594691678,
           1.1674301453652287,
           1.1339745962155612,
           1.104006225708664,
           1.0776457058954185,
           1.0549991812853317,
           1.0361578414400578,
           1.0211975537852211,
           1.0101785581190672,
           1.0031452240480578,
           1.0001258723261248,
           1.001132660816992,
           1.0061615355387459,
           1.0151922469877919,
           1.0281884316764582,
           1.0450977585559262,
           1.0658521397348932,
           1.0903680046454818,
           1.1185466365524181,
           1.1502745700504855,
           1.185424047949664,
           1.2238535357082434,
           1.265408291342467,
           1.309920988517888,
           1.3572123903134603,
           1.4070920709453598,
           1.4593591825444026,
           1.5138032638995311,
           1.570205087910828,
           1.6283375443396728,
           1.687966554301513,
           1.7488520128189207,
           1.8107487556395903,
           1.873407546426251,
           1.9365760803434355,
           1.9999999999999998
          ],
          [
           2,
           2.0634239196565645,
           2.1265924535737493,
           2.18925124436041,
           2.251147987181079,
           2.312033445698487,
           2.3716624556603274,
           2.4297949120891715,
           2.4861967361004687,
           2.5406408174555977,
           2.5929079290546406,
           2.6427876096865393,
           2.690079011482112,
           2.7345917086575335,
           2.776146464291757,
           2.814575952050336,
           2.8497254299495145,
           2.881453363447582,
           2.9096319953545184,
           2.9341478602651065,
           2.9549022414440738,
           2.9718115683235418,
           2.984807753012208,
           2.993838464461254,
           2.998867339183008,
           2.999874127673875,
           2.9968547759519426,
           2.989821441880933,
           2.978802446214779,
           2.963842158559942,
           2.9450008187146683,
           2.9223542941045815,
           2.8959937742913358,
           2.8660254037844384,
           2.8325698546347713,
           2.795761840530832,
           2.755749574354258,
           2.7126941713788626,
           2.6667690005162914,
           2.618158986220605,
           2.567059863862771,
           2.513677391573406,
           2.4582265217274104,
           2.4009305354066135,
           2.342020143325669,
           2.2817325568414297,
           2.2203105327865407,
           2.1580013959733497,
           2.0950560433041825,
           2.031727933498068,
           1.9682720665019322,
           1.9049439566958173,
           1.8419986040266498,
           1.7796894672134593,
           1.7182674431585703,
           1.6579798566743313,
           1.5990694645933863,
           1.5417734782725896,
           1.4863226084265935,
           1.4329401361372294,
           1.3818410137793946,
           1.3332309994837086,
           1.287305828621137,
           1.2442504256457418,
           1.2042381594691678,
           1.1674301453652287,
           1.1339745962155612,
           1.104006225708664,
           1.0776457058954185,
           1.0549991812853317,
           1.0361578414400578,
           1.0211975537852211,
           1.0101785581190672,
           1.0031452240480578,
           1.0001258723261248,
           1.001132660816992,
           1.0061615355387459,
           1.0151922469877919,
           1.0281884316764582,
           1.0450977585559262,
           1.0658521397348932,
           1.0903680046454818,
           1.1185466365524181,
           1.1502745700504855,
           1.185424047949664,
           1.2238535357082434,
           1.265408291342467,
           1.309920988517888,
           1.3572123903134603,
           1.4070920709453598,
           1.4593591825444026,
           1.5138032638995311,
           1.570205087910828,
           1.6283375443396728,
           1.687966554301513,
           1.7488520128189207,
           1.8107487556395903,
           1.873407546426251,
           1.9365760803434355,
           1.9999999999999998
          ],
          [
           2,
           2.0634239196565645,
           2.1265924535737493,
           2.18925124436041,
           2.251147987181079,
           2.312033445698487,
           2.3716624556603274,
           2.4297949120891715,
           2.4861967361004687,
           2.5406408174555977,
           2.5929079290546406,
           2.6427876096865393,
           2.690079011482112,
           2.7345917086575335,
           2.776146464291757,
           2.814575952050336,
           2.8497254299495145,
           2.881453363447582,
           2.9096319953545184,
           2.9341478602651065,
           2.9549022414440738,
           2.9718115683235418,
           2.984807753012208,
           2.993838464461254,
           2.998867339183008,
           2.999874127673875,
           2.9968547759519426,
           2.989821441880933,
           2.978802446214779,
           2.963842158559942,
           2.9450008187146683,
           2.9223542941045815,
           2.8959937742913358,
           2.8660254037844384,
           2.8325698546347713,
           2.795761840530832,
           2.755749574354258,
           2.7126941713788626,
           2.6667690005162914,
           2.618158986220605,
           2.567059863862771,
           2.513677391573406,
           2.4582265217274104,
           2.4009305354066135,
           2.342020143325669,
           2.2817325568414297,
           2.2203105327865407,
           2.1580013959733497,
           2.0950560433041825,
           2.031727933498068,
           1.9682720665019322,
           1.9049439566958173,
           1.8419986040266498,
           1.7796894672134593,
           1.7182674431585703,
           1.6579798566743313,
           1.5990694645933863,
           1.5417734782725896,
           1.4863226084265935,
           1.4329401361372294,
           1.3818410137793946,
           1.3332309994837086,
           1.287305828621137,
           1.2442504256457418,
           1.2042381594691678,
           1.1674301453652287,
           1.1339745962155612,
           1.104006225708664,
           1.0776457058954185,
           1.0549991812853317,
           1.0361578414400578,
           1.0211975537852211,
           1.0101785581190672,
           1.0031452240480578,
           1.0001258723261248,
           1.001132660816992,
           1.0061615355387459,
           1.0151922469877919,
           1.0281884316764582,
           1.0450977585559262,
           1.0658521397348932,
           1.0903680046454818,
           1.1185466365524181,
           1.1502745700504855,
           1.185424047949664,
           1.2238535357082434,
           1.265408291342467,
           1.309920988517888,
           1.3572123903134603,
           1.4070920709453598,
           1.4593591825444026,
           1.5138032638995311,
           1.570205087910828,
           1.6283375443396728,
           1.687966554301513,
           1.7488520128189207,
           1.8107487556395903,
           1.873407546426251,
           1.9365760803434355,
           1.9999999999999998
          ],
          [
           2,
           2.0634239196565645,
           2.1265924535737493,
           2.18925124436041,
           2.251147987181079,
           2.312033445698487,
           2.3716624556603274,
           2.4297949120891715,
           2.4861967361004687,
           2.5406408174555977,
           2.5929079290546406,
           2.6427876096865393,
           2.690079011482112,
           2.7345917086575335,
           2.776146464291757,
           2.814575952050336,
           2.8497254299495145,
           2.881453363447582,
           2.9096319953545184,
           2.9341478602651065,
           2.9549022414440738,
           2.9718115683235418,
           2.984807753012208,
           2.993838464461254,
           2.998867339183008,
           2.999874127673875,
           2.9968547759519426,
           2.989821441880933,
           2.978802446214779,
           2.963842158559942,
           2.9450008187146683,
           2.9223542941045815,
           2.8959937742913358,
           2.8660254037844384,
           2.8325698546347713,
           2.795761840530832,
           2.755749574354258,
           2.7126941713788626,
           2.6667690005162914,
           2.618158986220605,
           2.567059863862771,
           2.513677391573406,
           2.4582265217274104,
           2.4009305354066135,
           2.342020143325669,
           2.2817325568414297,
           2.2203105327865407,
           2.1580013959733497,
           2.0950560433041825,
           2.031727933498068,
           1.9682720665019322,
           1.9049439566958173,
           1.8419986040266498,
           1.7796894672134593,
           1.7182674431585703,
           1.6579798566743313,
           1.5990694645933863,
           1.5417734782725896,
           1.4863226084265935,
           1.4329401361372294,
           1.3818410137793946,
           1.3332309994837086,
           1.287305828621137,
           1.2442504256457418,
           1.2042381594691678,
           1.1674301453652287,
           1.1339745962155612,
           1.104006225708664,
           1.0776457058954185,
           1.0549991812853317,
           1.0361578414400578,
           1.0211975537852211,
           1.0101785581190672,
           1.0031452240480578,
           1.0001258723261248,
           1.001132660816992,
           1.0061615355387459,
           1.0151922469877919,
           1.0281884316764582,
           1.0450977585559262,
           1.0658521397348932,
           1.0903680046454818,
           1.1185466365524181,
           1.1502745700504855,
           1.185424047949664,
           1.2238535357082434,
           1.265408291342467,
           1.309920988517888,
           1.3572123903134603,
           1.4070920709453598,
           1.4593591825444026,
           1.5138032638995311,
           1.570205087910828,
           1.6283375443396728,
           1.687966554301513,
           1.7488520128189207,
           1.8107487556395903,
           1.873407546426251,
           1.9365760803434355,
           1.9999999999999998
          ],
          [
           2,
           2.0634239196565645,
           2.1265924535737493,
           2.18925124436041,
           2.251147987181079,
           2.312033445698487,
           2.3716624556603274,
           2.4297949120891715,
           2.4861967361004687,
           2.5406408174555977,
           2.5929079290546406,
           2.6427876096865393,
           2.690079011482112,
           2.7345917086575335,
           2.776146464291757,
           2.814575952050336,
           2.8497254299495145,
           2.881453363447582,
           2.9096319953545184,
           2.9341478602651065,
           2.9549022414440738,
           2.9718115683235418,
           2.984807753012208,
           2.993838464461254,
           2.998867339183008,
           2.999874127673875,
           2.9968547759519426,
           2.989821441880933,
           2.978802446214779,
           2.963842158559942,
           2.9450008187146683,
           2.9223542941045815,
           2.8959937742913358,
           2.8660254037844384,
           2.8325698546347713,
           2.795761840530832,
           2.755749574354258,
           2.7126941713788626,
           2.6667690005162914,
           2.618158986220605,
           2.567059863862771,
           2.513677391573406,
           2.4582265217274104,
           2.4009305354066135,
           2.342020143325669,
           2.2817325568414297,
           2.2203105327865407,
           2.1580013959733497,
           2.0950560433041825,
           2.031727933498068,
           1.9682720665019322,
           1.9049439566958173,
           1.8419986040266498,
           1.7796894672134593,
           1.7182674431585703,
           1.6579798566743313,
           1.5990694645933863,
           1.5417734782725896,
           1.4863226084265935,
           1.4329401361372294,
           1.3818410137793946,
           1.3332309994837086,
           1.287305828621137,
           1.2442504256457418,
           1.2042381594691678,
           1.1674301453652287,
           1.1339745962155612,
           1.104006225708664,
           1.0776457058954185,
           1.0549991812853317,
           1.0361578414400578,
           1.0211975537852211,
           1.0101785581190672,
           1.0031452240480578,
           1.0001258723261248,
           1.001132660816992,
           1.0061615355387459,
           1.0151922469877919,
           1.0281884316764582,
           1.0450977585559262,
           1.0658521397348932,
           1.0903680046454818,
           1.1185466365524181,
           1.1502745700504855,
           1.185424047949664,
           1.2238535357082434,
           1.265408291342467,
           1.309920988517888,
           1.3572123903134603,
           1.4070920709453598,
           1.4593591825444026,
           1.5138032638995311,
           1.570205087910828,
           1.6283375443396728,
           1.687966554301513,
           1.7488520128189207,
           1.8107487556395903,
           1.873407546426251,
           1.9365760803434355,
           1.9999999999999998
          ],
          [
           2,
           2.0634239196565645,
           2.1265924535737493,
           2.18925124436041,
           2.251147987181079,
           2.312033445698487,
           2.3716624556603274,
           2.4297949120891715,
           2.4861967361004687,
           2.5406408174555977,
           2.5929079290546406,
           2.6427876096865393,
           2.690079011482112,
           2.7345917086575335,
           2.776146464291757,
           2.814575952050336,
           2.8497254299495145,
           2.881453363447582,
           2.9096319953545184,
           2.9341478602651065,
           2.9549022414440738,
           2.9718115683235418,
           2.984807753012208,
           2.993838464461254,
           2.998867339183008,
           2.999874127673875,
           2.9968547759519426,
           2.989821441880933,
           2.978802446214779,
           2.963842158559942,
           2.9450008187146683,
           2.9223542941045815,
           2.8959937742913358,
           2.8660254037844384,
           2.8325698546347713,
           2.795761840530832,
           2.755749574354258,
           2.7126941713788626,
           2.6667690005162914,
           2.618158986220605,
           2.567059863862771,
           2.513677391573406,
           2.4582265217274104,
           2.4009305354066135,
           2.342020143325669,
           2.2817325568414297,
           2.2203105327865407,
           2.1580013959733497,
           2.0950560433041825,
           2.031727933498068,
           1.9682720665019322,
           1.9049439566958173,
           1.8419986040266498,
           1.7796894672134593,
           1.7182674431585703,
           1.6579798566743313,
           1.5990694645933863,
           1.5417734782725896,
           1.4863226084265935,
           1.4329401361372294,
           1.3818410137793946,
           1.3332309994837086,
           1.287305828621137,
           1.2442504256457418,
           1.2042381594691678,
           1.1674301453652287,
           1.1339745962155612,
           1.104006225708664,
           1.0776457058954185,
           1.0549991812853317,
           1.0361578414400578,
           1.0211975537852211,
           1.0101785581190672,
           1.0031452240480578,
           1.0001258723261248,
           1.001132660816992,
           1.0061615355387459,
           1.0151922469877919,
           1.0281884316764582,
           1.0450977585559262,
           1.0658521397348932,
           1.0903680046454818,
           1.1185466365524181,
           1.1502745700504855,
           1.185424047949664,
           1.2238535357082434,
           1.265408291342467,
           1.309920988517888,
           1.3572123903134603,
           1.4070920709453598,
           1.4593591825444026,
           1.5138032638995311,
           1.570205087910828,
           1.6283375443396728,
           1.687966554301513,
           1.7488520128189207,
           1.8107487556395903,
           1.873407546426251,
           1.9365760803434355,
           1.9999999999999998
          ],
          [
           2,
           2.0634239196565645,
           2.1265924535737493,
           2.18925124436041,
           2.251147987181079,
           2.312033445698487,
           2.3716624556603274,
           2.4297949120891715,
           2.4861967361004687,
           2.5406408174555977,
           2.5929079290546406,
           2.6427876096865393,
           2.690079011482112,
           2.7345917086575335,
           2.776146464291757,
           2.814575952050336,
           2.8497254299495145,
           2.881453363447582,
           2.9096319953545184,
           2.9341478602651065,
           2.9549022414440738,
           2.9718115683235418,
           2.984807753012208,
           2.993838464461254,
           2.998867339183008,
           2.999874127673875,
           2.9968547759519426,
           2.989821441880933,
           2.978802446214779,
           2.963842158559942,
           2.9450008187146683,
           2.9223542941045815,
           2.8959937742913358,
           2.8660254037844384,
           2.8325698546347713,
           2.795761840530832,
           2.755749574354258,
           2.7126941713788626,
           2.6667690005162914,
           2.618158986220605,
           2.567059863862771,
           2.513677391573406,
           2.4582265217274104,
           2.4009305354066135,
           2.342020143325669,
           2.2817325568414297,
           2.2203105327865407,
           2.1580013959733497,
           2.0950560433041825,
           2.031727933498068,
           1.9682720665019322,
           1.9049439566958173,
           1.8419986040266498,
           1.7796894672134593,
           1.7182674431585703,
           1.6579798566743313,
           1.5990694645933863,
           1.5417734782725896,
           1.4863226084265935,
           1.4329401361372294,
           1.3818410137793946,
           1.3332309994837086,
           1.287305828621137,
           1.2442504256457418,
           1.2042381594691678,
           1.1674301453652287,
           1.1339745962155612,
           1.104006225708664,
           1.0776457058954185,
           1.0549991812853317,
           1.0361578414400578,
           1.0211975537852211,
           1.0101785581190672,
           1.0031452240480578,
           1.0001258723261248,
           1.001132660816992,
           1.0061615355387459,
           1.0151922469877919,
           1.0281884316764582,
           1.0450977585559262,
           1.0658521397348932,
           1.0903680046454818,
           1.1185466365524181,
           1.1502745700504855,
           1.185424047949664,
           1.2238535357082434,
           1.265408291342467,
           1.309920988517888,
           1.3572123903134603,
           1.4070920709453598,
           1.4593591825444026,
           1.5138032638995311,
           1.570205087910828,
           1.6283375443396728,
           1.687966554301513,
           1.7488520128189207,
           1.8107487556395903,
           1.873407546426251,
           1.9365760803434355,
           1.9999999999999998
          ],
          [
           2,
           2.0634239196565645,
           2.1265924535737493,
           2.18925124436041,
           2.251147987181079,
           2.312033445698487,
           2.3716624556603274,
           2.4297949120891715,
           2.4861967361004687,
           2.5406408174555977,
           2.5929079290546406,
           2.6427876096865393,
           2.690079011482112,
           2.7345917086575335,
           2.776146464291757,
           2.814575952050336,
           2.8497254299495145,
           2.881453363447582,
           2.9096319953545184,
           2.9341478602651065,
           2.9549022414440738,
           2.9718115683235418,
           2.984807753012208,
           2.993838464461254,
           2.998867339183008,
           2.999874127673875,
           2.9968547759519426,
           2.989821441880933,
           2.978802446214779,
           2.963842158559942,
           2.9450008187146683,
           2.9223542941045815,
           2.8959937742913358,
           2.8660254037844384,
           2.8325698546347713,
           2.795761840530832,
           2.755749574354258,
           2.7126941713788626,
           2.6667690005162914,
           2.618158986220605,
           2.567059863862771,
           2.513677391573406,
           2.4582265217274104,
           2.4009305354066135,
           2.342020143325669,
           2.2817325568414297,
           2.2203105327865407,
           2.1580013959733497,
           2.0950560433041825,
           2.031727933498068,
           1.9682720665019322,
           1.9049439566958173,
           1.8419986040266498,
           1.7796894672134593,
           1.7182674431585703,
           1.6579798566743313,
           1.5990694645933863,
           1.5417734782725896,
           1.4863226084265935,
           1.4329401361372294,
           1.3818410137793946,
           1.3332309994837086,
           1.287305828621137,
           1.2442504256457418,
           1.2042381594691678,
           1.1674301453652287,
           1.1339745962155612,
           1.104006225708664,
           1.0776457058954185,
           1.0549991812853317,
           1.0361578414400578,
           1.0211975537852211,
           1.0101785581190672,
           1.0031452240480578,
           1.0001258723261248,
           1.001132660816992,
           1.0061615355387459,
           1.0151922469877919,
           1.0281884316764582,
           1.0450977585559262,
           1.0658521397348932,
           1.0903680046454818,
           1.1185466365524181,
           1.1502745700504855,
           1.185424047949664,
           1.2238535357082434,
           1.265408291342467,
           1.309920988517888,
           1.3572123903134603,
           1.4070920709453598,
           1.4593591825444026,
           1.5138032638995311,
           1.570205087910828,
           1.6283375443396728,
           1.687966554301513,
           1.7488520128189207,
           1.8107487556395903,
           1.873407546426251,
           1.9365760803434355,
           1.9999999999999998
          ],
          [
           2,
           2.0634239196565645,
           2.1265924535737493,
           2.18925124436041,
           2.251147987181079,
           2.312033445698487,
           2.3716624556603274,
           2.4297949120891715,
           2.4861967361004687,
           2.5406408174555977,
           2.5929079290546406,
           2.6427876096865393,
           2.690079011482112,
           2.7345917086575335,
           2.776146464291757,
           2.814575952050336,
           2.8497254299495145,
           2.881453363447582,
           2.9096319953545184,
           2.9341478602651065,
           2.9549022414440738,
           2.9718115683235418,
           2.984807753012208,
           2.993838464461254,
           2.998867339183008,
           2.999874127673875,
           2.9968547759519426,
           2.989821441880933,
           2.978802446214779,
           2.963842158559942,
           2.9450008187146683,
           2.9223542941045815,
           2.8959937742913358,
           2.8660254037844384,
           2.8325698546347713,
           2.795761840530832,
           2.755749574354258,
           2.7126941713788626,
           2.6667690005162914,
           2.618158986220605,
           2.567059863862771,
           2.513677391573406,
           2.4582265217274104,
           2.4009305354066135,
           2.342020143325669,
           2.2817325568414297,
           2.2203105327865407,
           2.1580013959733497,
           2.0950560433041825,
           2.031727933498068,
           1.9682720665019322,
           1.9049439566958173,
           1.8419986040266498,
           1.7796894672134593,
           1.7182674431585703,
           1.6579798566743313,
           1.5990694645933863,
           1.5417734782725896,
           1.4863226084265935,
           1.4329401361372294,
           1.3818410137793946,
           1.3332309994837086,
           1.287305828621137,
           1.2442504256457418,
           1.2042381594691678,
           1.1674301453652287,
           1.1339745962155612,
           1.104006225708664,
           1.0776457058954185,
           1.0549991812853317,
           1.0361578414400578,
           1.0211975537852211,
           1.0101785581190672,
           1.0031452240480578,
           1.0001258723261248,
           1.001132660816992,
           1.0061615355387459,
           1.0151922469877919,
           1.0281884316764582,
           1.0450977585559262,
           1.0658521397348932,
           1.0903680046454818,
           1.1185466365524181,
           1.1502745700504855,
           1.185424047949664,
           1.2238535357082434,
           1.265408291342467,
           1.309920988517888,
           1.3572123903134603,
           1.4070920709453598,
           1.4593591825444026,
           1.5138032638995311,
           1.570205087910828,
           1.6283375443396728,
           1.687966554301513,
           1.7488520128189207,
           1.8107487556395903,
           1.873407546426251,
           1.9365760803434355,
           1.9999999999999998
          ],
          [
           2,
           2.0634239196565645,
           2.1265924535737493,
           2.18925124436041,
           2.251147987181079,
           2.312033445698487,
           2.3716624556603274,
           2.4297949120891715,
           2.4861967361004687,
           2.5406408174555977,
           2.5929079290546406,
           2.6427876096865393,
           2.690079011482112,
           2.7345917086575335,
           2.776146464291757,
           2.814575952050336,
           2.8497254299495145,
           2.881453363447582,
           2.9096319953545184,
           2.9341478602651065,
           2.9549022414440738,
           2.9718115683235418,
           2.984807753012208,
           2.993838464461254,
           2.998867339183008,
           2.999874127673875,
           2.9968547759519426,
           2.989821441880933,
           2.978802446214779,
           2.963842158559942,
           2.9450008187146683,
           2.9223542941045815,
           2.8959937742913358,
           2.8660254037844384,
           2.8325698546347713,
           2.795761840530832,
           2.755749574354258,
           2.7126941713788626,
           2.6667690005162914,
           2.618158986220605,
           2.567059863862771,
           2.513677391573406,
           2.4582265217274104,
           2.4009305354066135,
           2.342020143325669,
           2.2817325568414297,
           2.2203105327865407,
           2.1580013959733497,
           2.0950560433041825,
           2.031727933498068,
           1.9682720665019322,
           1.9049439566958173,
           1.8419986040266498,
           1.7796894672134593,
           1.7182674431585703,
           1.6579798566743313,
           1.5990694645933863,
           1.5417734782725896,
           1.4863226084265935,
           1.4329401361372294,
           1.3818410137793946,
           1.3332309994837086,
           1.287305828621137,
           1.2442504256457418,
           1.2042381594691678,
           1.1674301453652287,
           1.1339745962155612,
           1.104006225708664,
           1.0776457058954185,
           1.0549991812853317,
           1.0361578414400578,
           1.0211975537852211,
           1.0101785581190672,
           1.0031452240480578,
           1.0001258723261248,
           1.001132660816992,
           1.0061615355387459,
           1.0151922469877919,
           1.0281884316764582,
           1.0450977585559262,
           1.0658521397348932,
           1.0903680046454818,
           1.1185466365524181,
           1.1502745700504855,
           1.185424047949664,
           1.2238535357082434,
           1.265408291342467,
           1.309920988517888,
           1.3572123903134603,
           1.4070920709453598,
           1.4593591825444026,
           1.5138032638995311,
           1.570205087910828,
           1.6283375443396728,
           1.687966554301513,
           1.7488520128189207,
           1.8107487556395903,
           1.873407546426251,
           1.9365760803434355,
           1.9999999999999998
          ],
          [
           2,
           2.0634239196565645,
           2.1265924535737493,
           2.18925124436041,
           2.251147987181079,
           2.312033445698487,
           2.3716624556603274,
           2.4297949120891715,
           2.4861967361004687,
           2.5406408174555977,
           2.5929079290546406,
           2.6427876096865393,
           2.690079011482112,
           2.7345917086575335,
           2.776146464291757,
           2.814575952050336,
           2.8497254299495145,
           2.881453363447582,
           2.9096319953545184,
           2.9341478602651065,
           2.9549022414440738,
           2.9718115683235418,
           2.984807753012208,
           2.993838464461254,
           2.998867339183008,
           2.999874127673875,
           2.9968547759519426,
           2.989821441880933,
           2.978802446214779,
           2.963842158559942,
           2.9450008187146683,
           2.9223542941045815,
           2.8959937742913358,
           2.8660254037844384,
           2.8325698546347713,
           2.795761840530832,
           2.755749574354258,
           2.7126941713788626,
           2.6667690005162914,
           2.618158986220605,
           2.567059863862771,
           2.513677391573406,
           2.4582265217274104,
           2.4009305354066135,
           2.342020143325669,
           2.2817325568414297,
           2.2203105327865407,
           2.1580013959733497,
           2.0950560433041825,
           2.031727933498068,
           1.9682720665019322,
           1.9049439566958173,
           1.8419986040266498,
           1.7796894672134593,
           1.7182674431585703,
           1.6579798566743313,
           1.5990694645933863,
           1.5417734782725896,
           1.4863226084265935,
           1.4329401361372294,
           1.3818410137793946,
           1.3332309994837086,
           1.287305828621137,
           1.2442504256457418,
           1.2042381594691678,
           1.1674301453652287,
           1.1339745962155612,
           1.104006225708664,
           1.0776457058954185,
           1.0549991812853317,
           1.0361578414400578,
           1.0211975537852211,
           1.0101785581190672,
           1.0031452240480578,
           1.0001258723261248,
           1.001132660816992,
           1.0061615355387459,
           1.0151922469877919,
           1.0281884316764582,
           1.0450977585559262,
           1.0658521397348932,
           1.0903680046454818,
           1.1185466365524181,
           1.1502745700504855,
           1.185424047949664,
           1.2238535357082434,
           1.265408291342467,
           1.309920988517888,
           1.3572123903134603,
           1.4070920709453598,
           1.4593591825444026,
           1.5138032638995311,
           1.570205087910828,
           1.6283375443396728,
           1.687966554301513,
           1.7488520128189207,
           1.8107487556395903,
           1.873407546426251,
           1.9365760803434355,
           1.9999999999999998
          ],
          [
           2,
           2.0634239196565645,
           2.1265924535737493,
           2.18925124436041,
           2.251147987181079,
           2.312033445698487,
           2.3716624556603274,
           2.4297949120891715,
           2.4861967361004687,
           2.5406408174555977,
           2.5929079290546406,
           2.6427876096865393,
           2.690079011482112,
           2.7345917086575335,
           2.776146464291757,
           2.814575952050336,
           2.8497254299495145,
           2.881453363447582,
           2.9096319953545184,
           2.9341478602651065,
           2.9549022414440738,
           2.9718115683235418,
           2.984807753012208,
           2.993838464461254,
           2.998867339183008,
           2.999874127673875,
           2.9968547759519426,
           2.989821441880933,
           2.978802446214779,
           2.963842158559942,
           2.9450008187146683,
           2.9223542941045815,
           2.8959937742913358,
           2.8660254037844384,
           2.8325698546347713,
           2.795761840530832,
           2.755749574354258,
           2.7126941713788626,
           2.6667690005162914,
           2.618158986220605,
           2.567059863862771,
           2.513677391573406,
           2.4582265217274104,
           2.4009305354066135,
           2.342020143325669,
           2.2817325568414297,
           2.2203105327865407,
           2.1580013959733497,
           2.0950560433041825,
           2.031727933498068,
           1.9682720665019322,
           1.9049439566958173,
           1.8419986040266498,
           1.7796894672134593,
           1.7182674431585703,
           1.6579798566743313,
           1.5990694645933863,
           1.5417734782725896,
           1.4863226084265935,
           1.4329401361372294,
           1.3818410137793946,
           1.3332309994837086,
           1.287305828621137,
           1.2442504256457418,
           1.2042381594691678,
           1.1674301453652287,
           1.1339745962155612,
           1.104006225708664,
           1.0776457058954185,
           1.0549991812853317,
           1.0361578414400578,
           1.0211975537852211,
           1.0101785581190672,
           1.0031452240480578,
           1.0001258723261248,
           1.001132660816992,
           1.0061615355387459,
           1.0151922469877919,
           1.0281884316764582,
           1.0450977585559262,
           1.0658521397348932,
           1.0903680046454818,
           1.1185466365524181,
           1.1502745700504855,
           1.185424047949664,
           1.2238535357082434,
           1.265408291342467,
           1.309920988517888,
           1.3572123903134603,
           1.4070920709453598,
           1.4593591825444026,
           1.5138032638995311,
           1.570205087910828,
           1.6283375443396728,
           1.687966554301513,
           1.7488520128189207,
           1.8107487556395903,
           1.873407546426251,
           1.9365760803434355,
           1.9999999999999998
          ],
          [
           2,
           2.0634239196565645,
           2.1265924535737493,
           2.18925124436041,
           2.251147987181079,
           2.312033445698487,
           2.3716624556603274,
           2.4297949120891715,
           2.4861967361004687,
           2.5406408174555977,
           2.5929079290546406,
           2.6427876096865393,
           2.690079011482112,
           2.7345917086575335,
           2.776146464291757,
           2.814575952050336,
           2.8497254299495145,
           2.881453363447582,
           2.9096319953545184,
           2.9341478602651065,
           2.9549022414440738,
           2.9718115683235418,
           2.984807753012208,
           2.993838464461254,
           2.998867339183008,
           2.999874127673875,
           2.9968547759519426,
           2.989821441880933,
           2.978802446214779,
           2.963842158559942,
           2.9450008187146683,
           2.9223542941045815,
           2.8959937742913358,
           2.8660254037844384,
           2.8325698546347713,
           2.795761840530832,
           2.755749574354258,
           2.7126941713788626,
           2.6667690005162914,
           2.618158986220605,
           2.567059863862771,
           2.513677391573406,
           2.4582265217274104,
           2.4009305354066135,
           2.342020143325669,
           2.2817325568414297,
           2.2203105327865407,
           2.1580013959733497,
           2.0950560433041825,
           2.031727933498068,
           1.9682720665019322,
           1.9049439566958173,
           1.8419986040266498,
           1.7796894672134593,
           1.7182674431585703,
           1.6579798566743313,
           1.5990694645933863,
           1.5417734782725896,
           1.4863226084265935,
           1.4329401361372294,
           1.3818410137793946,
           1.3332309994837086,
           1.287305828621137,
           1.2442504256457418,
           1.2042381594691678,
           1.1674301453652287,
           1.1339745962155612,
           1.104006225708664,
           1.0776457058954185,
           1.0549991812853317,
           1.0361578414400578,
           1.0211975537852211,
           1.0101785581190672,
           1.0031452240480578,
           1.0001258723261248,
           1.001132660816992,
           1.0061615355387459,
           1.0151922469877919,
           1.0281884316764582,
           1.0450977585559262,
           1.0658521397348932,
           1.0903680046454818,
           1.1185466365524181,
           1.1502745700504855,
           1.185424047949664,
           1.2238535357082434,
           1.265408291342467,
           1.309920988517888,
           1.3572123903134603,
           1.4070920709453598,
           1.4593591825444026,
           1.5138032638995311,
           1.570205087910828,
           1.6283375443396728,
           1.687966554301513,
           1.7488520128189207,
           1.8107487556395903,
           1.873407546426251,
           1.9365760803434355,
           1.9999999999999998
          ],
          [
           2,
           2.0634239196565645,
           2.1265924535737493,
           2.18925124436041,
           2.251147987181079,
           2.312033445698487,
           2.3716624556603274,
           2.4297949120891715,
           2.4861967361004687,
           2.5406408174555977,
           2.5929079290546406,
           2.6427876096865393,
           2.690079011482112,
           2.7345917086575335,
           2.776146464291757,
           2.814575952050336,
           2.8497254299495145,
           2.881453363447582,
           2.9096319953545184,
           2.9341478602651065,
           2.9549022414440738,
           2.9718115683235418,
           2.984807753012208,
           2.993838464461254,
           2.998867339183008,
           2.999874127673875,
           2.9968547759519426,
           2.989821441880933,
           2.978802446214779,
           2.963842158559942,
           2.9450008187146683,
           2.9223542941045815,
           2.8959937742913358,
           2.8660254037844384,
           2.8325698546347713,
           2.795761840530832,
           2.755749574354258,
           2.7126941713788626,
           2.6667690005162914,
           2.618158986220605,
           2.567059863862771,
           2.513677391573406,
           2.4582265217274104,
           2.4009305354066135,
           2.342020143325669,
           2.2817325568414297,
           2.2203105327865407,
           2.1580013959733497,
           2.0950560433041825,
           2.031727933498068,
           1.9682720665019322,
           1.9049439566958173,
           1.8419986040266498,
           1.7796894672134593,
           1.7182674431585703,
           1.6579798566743313,
           1.5990694645933863,
           1.5417734782725896,
           1.4863226084265935,
           1.4329401361372294,
           1.3818410137793946,
           1.3332309994837086,
           1.287305828621137,
           1.2442504256457418,
           1.2042381594691678,
           1.1674301453652287,
           1.1339745962155612,
           1.104006225708664,
           1.0776457058954185,
           1.0549991812853317,
           1.0361578414400578,
           1.0211975537852211,
           1.0101785581190672,
           1.0031452240480578,
           1.0001258723261248,
           1.001132660816992,
           1.0061615355387459,
           1.0151922469877919,
           1.0281884316764582,
           1.0450977585559262,
           1.0658521397348932,
           1.0903680046454818,
           1.1185466365524181,
           1.1502745700504855,
           1.185424047949664,
           1.2238535357082434,
           1.265408291342467,
           1.309920988517888,
           1.3572123903134603,
           1.4070920709453598,
           1.4593591825444026,
           1.5138032638995311,
           1.570205087910828,
           1.6283375443396728,
           1.687966554301513,
           1.7488520128189207,
           1.8107487556395903,
           1.873407546426251,
           1.9365760803434355,
           1.9999999999999998
          ],
          [
           2,
           2.0634239196565645,
           2.1265924535737493,
           2.18925124436041,
           2.251147987181079,
           2.312033445698487,
           2.3716624556603274,
           2.4297949120891715,
           2.4861967361004687,
           2.5406408174555977,
           2.5929079290546406,
           2.6427876096865393,
           2.690079011482112,
           2.7345917086575335,
           2.776146464291757,
           2.814575952050336,
           2.8497254299495145,
           2.881453363447582,
           2.9096319953545184,
           2.9341478602651065,
           2.9549022414440738,
           2.9718115683235418,
           2.984807753012208,
           2.993838464461254,
           2.998867339183008,
           2.999874127673875,
           2.9968547759519426,
           2.989821441880933,
           2.978802446214779,
           2.963842158559942,
           2.9450008187146683,
           2.9223542941045815,
           2.8959937742913358,
           2.8660254037844384,
           2.8325698546347713,
           2.795761840530832,
           2.755749574354258,
           2.7126941713788626,
           2.6667690005162914,
           2.618158986220605,
           2.567059863862771,
           2.513677391573406,
           2.4582265217274104,
           2.4009305354066135,
           2.342020143325669,
           2.2817325568414297,
           2.2203105327865407,
           2.1580013959733497,
           2.0950560433041825,
           2.031727933498068,
           1.9682720665019322,
           1.9049439566958173,
           1.8419986040266498,
           1.7796894672134593,
           1.7182674431585703,
           1.6579798566743313,
           1.5990694645933863,
           1.5417734782725896,
           1.4863226084265935,
           1.4329401361372294,
           1.3818410137793946,
           1.3332309994837086,
           1.287305828621137,
           1.2442504256457418,
           1.2042381594691678,
           1.1674301453652287,
           1.1339745962155612,
           1.104006225708664,
           1.0776457058954185,
           1.0549991812853317,
           1.0361578414400578,
           1.0211975537852211,
           1.0101785581190672,
           1.0031452240480578,
           1.0001258723261248,
           1.001132660816992,
           1.0061615355387459,
           1.0151922469877919,
           1.0281884316764582,
           1.0450977585559262,
           1.0658521397348932,
           1.0903680046454818,
           1.1185466365524181,
           1.1502745700504855,
           1.185424047949664,
           1.2238535357082434,
           1.265408291342467,
           1.309920988517888,
           1.3572123903134603,
           1.4070920709453598,
           1.4593591825444026,
           1.5138032638995311,
           1.570205087910828,
           1.6283375443396728,
           1.687966554301513,
           1.7488520128189207,
           1.8107487556395903,
           1.873407546426251,
           1.9365760803434355,
           1.9999999999999998
          ],
          [
           2,
           2.0634239196565645,
           2.1265924535737493,
           2.18925124436041,
           2.251147987181079,
           2.312033445698487,
           2.3716624556603274,
           2.4297949120891715,
           2.4861967361004687,
           2.5406408174555977,
           2.5929079290546406,
           2.6427876096865393,
           2.690079011482112,
           2.7345917086575335,
           2.776146464291757,
           2.814575952050336,
           2.8497254299495145,
           2.881453363447582,
           2.9096319953545184,
           2.9341478602651065,
           2.9549022414440738,
           2.9718115683235418,
           2.984807753012208,
           2.993838464461254,
           2.998867339183008,
           2.999874127673875,
           2.9968547759519426,
           2.989821441880933,
           2.978802446214779,
           2.963842158559942,
           2.9450008187146683,
           2.9223542941045815,
           2.8959937742913358,
           2.8660254037844384,
           2.8325698546347713,
           2.795761840530832,
           2.755749574354258,
           2.7126941713788626,
           2.6667690005162914,
           2.618158986220605,
           2.567059863862771,
           2.513677391573406,
           2.4582265217274104,
           2.4009305354066135,
           2.342020143325669,
           2.2817325568414297,
           2.2203105327865407,
           2.1580013959733497,
           2.0950560433041825,
           2.031727933498068,
           1.9682720665019322,
           1.9049439566958173,
           1.8419986040266498,
           1.7796894672134593,
           1.7182674431585703,
           1.6579798566743313,
           1.5990694645933863,
           1.5417734782725896,
           1.4863226084265935,
           1.4329401361372294,
           1.3818410137793946,
           1.3332309994837086,
           1.287305828621137,
           1.2442504256457418,
           1.2042381594691678,
           1.1674301453652287,
           1.1339745962155612,
           1.104006225708664,
           1.0776457058954185,
           1.0549991812853317,
           1.0361578414400578,
           1.0211975537852211,
           1.0101785581190672,
           1.0031452240480578,
           1.0001258723261248,
           1.001132660816992,
           1.0061615355387459,
           1.0151922469877919,
           1.0281884316764582,
           1.0450977585559262,
           1.0658521397348932,
           1.0903680046454818,
           1.1185466365524181,
           1.1502745700504855,
           1.185424047949664,
           1.2238535357082434,
           1.265408291342467,
           1.309920988517888,
           1.3572123903134603,
           1.4070920709453598,
           1.4593591825444026,
           1.5138032638995311,
           1.570205087910828,
           1.6283375443396728,
           1.687966554301513,
           1.7488520128189207,
           1.8107487556395903,
           1.873407546426251,
           1.9365760803434355,
           1.9999999999999998
          ],
          [
           2,
           2.0634239196565645,
           2.1265924535737493,
           2.18925124436041,
           2.251147987181079,
           2.312033445698487,
           2.3716624556603274,
           2.4297949120891715,
           2.4861967361004687,
           2.5406408174555977,
           2.5929079290546406,
           2.6427876096865393,
           2.690079011482112,
           2.7345917086575335,
           2.776146464291757,
           2.814575952050336,
           2.8497254299495145,
           2.881453363447582,
           2.9096319953545184,
           2.9341478602651065,
           2.9549022414440738,
           2.9718115683235418,
           2.984807753012208,
           2.993838464461254,
           2.998867339183008,
           2.999874127673875,
           2.9968547759519426,
           2.989821441880933,
           2.978802446214779,
           2.963842158559942,
           2.9450008187146683,
           2.9223542941045815,
           2.8959937742913358,
           2.8660254037844384,
           2.8325698546347713,
           2.795761840530832,
           2.755749574354258,
           2.7126941713788626,
           2.6667690005162914,
           2.618158986220605,
           2.567059863862771,
           2.513677391573406,
           2.4582265217274104,
           2.4009305354066135,
           2.342020143325669,
           2.2817325568414297,
           2.2203105327865407,
           2.1580013959733497,
           2.0950560433041825,
           2.031727933498068,
           1.9682720665019322,
           1.9049439566958173,
           1.8419986040266498,
           1.7796894672134593,
           1.7182674431585703,
           1.6579798566743313,
           1.5990694645933863,
           1.5417734782725896,
           1.4863226084265935,
           1.4329401361372294,
           1.3818410137793946,
           1.3332309994837086,
           1.287305828621137,
           1.2442504256457418,
           1.2042381594691678,
           1.1674301453652287,
           1.1339745962155612,
           1.104006225708664,
           1.0776457058954185,
           1.0549991812853317,
           1.0361578414400578,
           1.0211975537852211,
           1.0101785581190672,
           1.0031452240480578,
           1.0001258723261248,
           1.001132660816992,
           1.0061615355387459,
           1.0151922469877919,
           1.0281884316764582,
           1.0450977585559262,
           1.0658521397348932,
           1.0903680046454818,
           1.1185466365524181,
           1.1502745700504855,
           1.185424047949664,
           1.2238535357082434,
           1.265408291342467,
           1.309920988517888,
           1.3572123903134603,
           1.4070920709453598,
           1.4593591825444026,
           1.5138032638995311,
           1.570205087910828,
           1.6283375443396728,
           1.687966554301513,
           1.7488520128189207,
           1.8107487556395903,
           1.873407546426251,
           1.9365760803434355,
           1.9999999999999998
          ],
          [
           2,
           2.0634239196565645,
           2.1265924535737493,
           2.18925124436041,
           2.251147987181079,
           2.312033445698487,
           2.3716624556603274,
           2.4297949120891715,
           2.4861967361004687,
           2.5406408174555977,
           2.5929079290546406,
           2.6427876096865393,
           2.690079011482112,
           2.7345917086575335,
           2.776146464291757,
           2.814575952050336,
           2.8497254299495145,
           2.881453363447582,
           2.9096319953545184,
           2.9341478602651065,
           2.9549022414440738,
           2.9718115683235418,
           2.984807753012208,
           2.993838464461254,
           2.998867339183008,
           2.999874127673875,
           2.9968547759519426,
           2.989821441880933,
           2.978802446214779,
           2.963842158559942,
           2.9450008187146683,
           2.9223542941045815,
           2.8959937742913358,
           2.8660254037844384,
           2.8325698546347713,
           2.795761840530832,
           2.755749574354258,
           2.7126941713788626,
           2.6667690005162914,
           2.618158986220605,
           2.567059863862771,
           2.513677391573406,
           2.4582265217274104,
           2.4009305354066135,
           2.342020143325669,
           2.2817325568414297,
           2.2203105327865407,
           2.1580013959733497,
           2.0950560433041825,
           2.031727933498068,
           1.9682720665019322,
           1.9049439566958173,
           1.8419986040266498,
           1.7796894672134593,
           1.7182674431585703,
           1.6579798566743313,
           1.5990694645933863,
           1.5417734782725896,
           1.4863226084265935,
           1.4329401361372294,
           1.3818410137793946,
           1.3332309994837086,
           1.287305828621137,
           1.2442504256457418,
           1.2042381594691678,
           1.1674301453652287,
           1.1339745962155612,
           1.104006225708664,
           1.0776457058954185,
           1.0549991812853317,
           1.0361578414400578,
           1.0211975537852211,
           1.0101785581190672,
           1.0031452240480578,
           1.0001258723261248,
           1.001132660816992,
           1.0061615355387459,
           1.0151922469877919,
           1.0281884316764582,
           1.0450977585559262,
           1.0658521397348932,
           1.0903680046454818,
           1.1185466365524181,
           1.1502745700504855,
           1.185424047949664,
           1.2238535357082434,
           1.265408291342467,
           1.309920988517888,
           1.3572123903134603,
           1.4070920709453598,
           1.4593591825444026,
           1.5138032638995311,
           1.570205087910828,
           1.6283375443396728,
           1.687966554301513,
           1.7488520128189207,
           1.8107487556395903,
           1.873407546426251,
           1.9365760803434355,
           1.9999999999999998
          ],
          [
           2,
           2.0634239196565645,
           2.1265924535737493,
           2.18925124436041,
           2.251147987181079,
           2.312033445698487,
           2.3716624556603274,
           2.4297949120891715,
           2.4861967361004687,
           2.5406408174555977,
           2.5929079290546406,
           2.6427876096865393,
           2.690079011482112,
           2.7345917086575335,
           2.776146464291757,
           2.814575952050336,
           2.8497254299495145,
           2.881453363447582,
           2.9096319953545184,
           2.9341478602651065,
           2.9549022414440738,
           2.9718115683235418,
           2.984807753012208,
           2.993838464461254,
           2.998867339183008,
           2.999874127673875,
           2.9968547759519426,
           2.989821441880933,
           2.978802446214779,
           2.963842158559942,
           2.9450008187146683,
           2.9223542941045815,
           2.8959937742913358,
           2.8660254037844384,
           2.8325698546347713,
           2.795761840530832,
           2.755749574354258,
           2.7126941713788626,
           2.6667690005162914,
           2.618158986220605,
           2.567059863862771,
           2.513677391573406,
           2.4582265217274104,
           2.4009305354066135,
           2.342020143325669,
           2.2817325568414297,
           2.2203105327865407,
           2.1580013959733497,
           2.0950560433041825,
           2.031727933498068,
           1.9682720665019322,
           1.9049439566958173,
           1.8419986040266498,
           1.7796894672134593,
           1.7182674431585703,
           1.6579798566743313,
           1.5990694645933863,
           1.5417734782725896,
           1.4863226084265935,
           1.4329401361372294,
           1.3818410137793946,
           1.3332309994837086,
           1.287305828621137,
           1.2442504256457418,
           1.2042381594691678,
           1.1674301453652287,
           1.1339745962155612,
           1.104006225708664,
           1.0776457058954185,
           1.0549991812853317,
           1.0361578414400578,
           1.0211975537852211,
           1.0101785581190672,
           1.0031452240480578,
           1.0001258723261248,
           1.001132660816992,
           1.0061615355387459,
           1.0151922469877919,
           1.0281884316764582,
           1.0450977585559262,
           1.0658521397348932,
           1.0903680046454818,
           1.1185466365524181,
           1.1502745700504855,
           1.185424047949664,
           1.2238535357082434,
           1.265408291342467,
           1.309920988517888,
           1.3572123903134603,
           1.4070920709453598,
           1.4593591825444026,
           1.5138032638995311,
           1.570205087910828,
           1.6283375443396728,
           1.687966554301513,
           1.7488520128189207,
           1.8107487556395903,
           1.873407546426251,
           1.9365760803434355,
           1.9999999999999998
          ],
          [
           2,
           2.0634239196565645,
           2.1265924535737493,
           2.18925124436041,
           2.251147987181079,
           2.312033445698487,
           2.3716624556603274,
           2.4297949120891715,
           2.4861967361004687,
           2.5406408174555977,
           2.5929079290546406,
           2.6427876096865393,
           2.690079011482112,
           2.7345917086575335,
           2.776146464291757,
           2.814575952050336,
           2.8497254299495145,
           2.881453363447582,
           2.9096319953545184,
           2.9341478602651065,
           2.9549022414440738,
           2.9718115683235418,
           2.984807753012208,
           2.993838464461254,
           2.998867339183008,
           2.999874127673875,
           2.9968547759519426,
           2.989821441880933,
           2.978802446214779,
           2.963842158559942,
           2.9450008187146683,
           2.9223542941045815,
           2.8959937742913358,
           2.8660254037844384,
           2.8325698546347713,
           2.795761840530832,
           2.755749574354258,
           2.7126941713788626,
           2.6667690005162914,
           2.618158986220605,
           2.567059863862771,
           2.513677391573406,
           2.4582265217274104,
           2.4009305354066135,
           2.342020143325669,
           2.2817325568414297,
           2.2203105327865407,
           2.1580013959733497,
           2.0950560433041825,
           2.031727933498068,
           1.9682720665019322,
           1.9049439566958173,
           1.8419986040266498,
           1.7796894672134593,
           1.7182674431585703,
           1.6579798566743313,
           1.5990694645933863,
           1.5417734782725896,
           1.4863226084265935,
           1.4329401361372294,
           1.3818410137793946,
           1.3332309994837086,
           1.287305828621137,
           1.2442504256457418,
           1.2042381594691678,
           1.1674301453652287,
           1.1339745962155612,
           1.104006225708664,
           1.0776457058954185,
           1.0549991812853317,
           1.0361578414400578,
           1.0211975537852211,
           1.0101785581190672,
           1.0031452240480578,
           1.0001258723261248,
           1.001132660816992,
           1.0061615355387459,
           1.0151922469877919,
           1.0281884316764582,
           1.0450977585559262,
           1.0658521397348932,
           1.0903680046454818,
           1.1185466365524181,
           1.1502745700504855,
           1.185424047949664,
           1.2238535357082434,
           1.265408291342467,
           1.309920988517888,
           1.3572123903134603,
           1.4070920709453598,
           1.4593591825444026,
           1.5138032638995311,
           1.570205087910828,
           1.6283375443396728,
           1.687966554301513,
           1.7488520128189207,
           1.8107487556395903,
           1.873407546426251,
           1.9365760803434355,
           1.9999999999999998
          ],
          [
           2,
           2.0634239196565645,
           2.1265924535737493,
           2.18925124436041,
           2.251147987181079,
           2.312033445698487,
           2.3716624556603274,
           2.4297949120891715,
           2.4861967361004687,
           2.5406408174555977,
           2.5929079290546406,
           2.6427876096865393,
           2.690079011482112,
           2.7345917086575335,
           2.776146464291757,
           2.814575952050336,
           2.8497254299495145,
           2.881453363447582,
           2.9096319953545184,
           2.9341478602651065,
           2.9549022414440738,
           2.9718115683235418,
           2.984807753012208,
           2.993838464461254,
           2.998867339183008,
           2.999874127673875,
           2.9968547759519426,
           2.989821441880933,
           2.978802446214779,
           2.963842158559942,
           2.9450008187146683,
           2.9223542941045815,
           2.8959937742913358,
           2.8660254037844384,
           2.8325698546347713,
           2.795761840530832,
           2.755749574354258,
           2.7126941713788626,
           2.6667690005162914,
           2.618158986220605,
           2.567059863862771,
           2.513677391573406,
           2.4582265217274104,
           2.4009305354066135,
           2.342020143325669,
           2.2817325568414297,
           2.2203105327865407,
           2.1580013959733497,
           2.0950560433041825,
           2.031727933498068,
           1.9682720665019322,
           1.9049439566958173,
           1.8419986040266498,
           1.7796894672134593,
           1.7182674431585703,
           1.6579798566743313,
           1.5990694645933863,
           1.5417734782725896,
           1.4863226084265935,
           1.4329401361372294,
           1.3818410137793946,
           1.3332309994837086,
           1.287305828621137,
           1.2442504256457418,
           1.2042381594691678,
           1.1674301453652287,
           1.1339745962155612,
           1.104006225708664,
           1.0776457058954185,
           1.0549991812853317,
           1.0361578414400578,
           1.0211975537852211,
           1.0101785581190672,
           1.0031452240480578,
           1.0001258723261248,
           1.001132660816992,
           1.0061615355387459,
           1.0151922469877919,
           1.0281884316764582,
           1.0450977585559262,
           1.0658521397348932,
           1.0903680046454818,
           1.1185466365524181,
           1.1502745700504855,
           1.185424047949664,
           1.2238535357082434,
           1.265408291342467,
           1.309920988517888,
           1.3572123903134603,
           1.4070920709453598,
           1.4593591825444026,
           1.5138032638995311,
           1.570205087910828,
           1.6283375443396728,
           1.687966554301513,
           1.7488520128189207,
           1.8107487556395903,
           1.873407546426251,
           1.9365760803434355,
           1.9999999999999998
          ],
          [
           2,
           2.0634239196565645,
           2.1265924535737493,
           2.18925124436041,
           2.251147987181079,
           2.312033445698487,
           2.3716624556603274,
           2.4297949120891715,
           2.4861967361004687,
           2.5406408174555977,
           2.5929079290546406,
           2.6427876096865393,
           2.690079011482112,
           2.7345917086575335,
           2.776146464291757,
           2.814575952050336,
           2.8497254299495145,
           2.881453363447582,
           2.9096319953545184,
           2.9341478602651065,
           2.9549022414440738,
           2.9718115683235418,
           2.984807753012208,
           2.993838464461254,
           2.998867339183008,
           2.999874127673875,
           2.9968547759519426,
           2.989821441880933,
           2.978802446214779,
           2.963842158559942,
           2.9450008187146683,
           2.9223542941045815,
           2.8959937742913358,
           2.8660254037844384,
           2.8325698546347713,
           2.795761840530832,
           2.755749574354258,
           2.7126941713788626,
           2.6667690005162914,
           2.618158986220605,
           2.567059863862771,
           2.513677391573406,
           2.4582265217274104,
           2.4009305354066135,
           2.342020143325669,
           2.2817325568414297,
           2.2203105327865407,
           2.1580013959733497,
           2.0950560433041825,
           2.031727933498068,
           1.9682720665019322,
           1.9049439566958173,
           1.8419986040266498,
           1.7796894672134593,
           1.7182674431585703,
           1.6579798566743313,
           1.5990694645933863,
           1.5417734782725896,
           1.4863226084265935,
           1.4329401361372294,
           1.3818410137793946,
           1.3332309994837086,
           1.287305828621137,
           1.2442504256457418,
           1.2042381594691678,
           1.1674301453652287,
           1.1339745962155612,
           1.104006225708664,
           1.0776457058954185,
           1.0549991812853317,
           1.0361578414400578,
           1.0211975537852211,
           1.0101785581190672,
           1.0031452240480578,
           1.0001258723261248,
           1.001132660816992,
           1.0061615355387459,
           1.0151922469877919,
           1.0281884316764582,
           1.0450977585559262,
           1.0658521397348932,
           1.0903680046454818,
           1.1185466365524181,
           1.1502745700504855,
           1.185424047949664,
           1.2238535357082434,
           1.265408291342467,
           1.309920988517888,
           1.3572123903134603,
           1.4070920709453598,
           1.4593591825444026,
           1.5138032638995311,
           1.570205087910828,
           1.6283375443396728,
           1.687966554301513,
           1.7488520128189207,
           1.8107487556395903,
           1.873407546426251,
           1.9365760803434355,
           1.9999999999999998
          ],
          [
           2,
           2.0634239196565645,
           2.1265924535737493,
           2.18925124436041,
           2.251147987181079,
           2.312033445698487,
           2.3716624556603274,
           2.4297949120891715,
           2.4861967361004687,
           2.5406408174555977,
           2.5929079290546406,
           2.6427876096865393,
           2.690079011482112,
           2.7345917086575335,
           2.776146464291757,
           2.814575952050336,
           2.8497254299495145,
           2.881453363447582,
           2.9096319953545184,
           2.9341478602651065,
           2.9549022414440738,
           2.9718115683235418,
           2.984807753012208,
           2.993838464461254,
           2.998867339183008,
           2.999874127673875,
           2.9968547759519426,
           2.989821441880933,
           2.978802446214779,
           2.963842158559942,
           2.9450008187146683,
           2.9223542941045815,
           2.8959937742913358,
           2.8660254037844384,
           2.8325698546347713,
           2.795761840530832,
           2.755749574354258,
           2.7126941713788626,
           2.6667690005162914,
           2.618158986220605,
           2.567059863862771,
           2.513677391573406,
           2.4582265217274104,
           2.4009305354066135,
           2.342020143325669,
           2.2817325568414297,
           2.2203105327865407,
           2.1580013959733497,
           2.0950560433041825,
           2.031727933498068,
           1.9682720665019322,
           1.9049439566958173,
           1.8419986040266498,
           1.7796894672134593,
           1.7182674431585703,
           1.6579798566743313,
           1.5990694645933863,
           1.5417734782725896,
           1.4863226084265935,
           1.4329401361372294,
           1.3818410137793946,
           1.3332309994837086,
           1.287305828621137,
           1.2442504256457418,
           1.2042381594691678,
           1.1674301453652287,
           1.1339745962155612,
           1.104006225708664,
           1.0776457058954185,
           1.0549991812853317,
           1.0361578414400578,
           1.0211975537852211,
           1.0101785581190672,
           1.0031452240480578,
           1.0001258723261248,
           1.001132660816992,
           1.0061615355387459,
           1.0151922469877919,
           1.0281884316764582,
           1.0450977585559262,
           1.0658521397348932,
           1.0903680046454818,
           1.1185466365524181,
           1.1502745700504855,
           1.185424047949664,
           1.2238535357082434,
           1.265408291342467,
           1.309920988517888,
           1.3572123903134603,
           1.4070920709453598,
           1.4593591825444026,
           1.5138032638995311,
           1.570205087910828,
           1.6283375443396728,
           1.687966554301513,
           1.7488520128189207,
           1.8107487556395903,
           1.873407546426251,
           1.9365760803434355,
           1.9999999999999998
          ],
          [
           2,
           2.0634239196565645,
           2.1265924535737493,
           2.18925124436041,
           2.251147987181079,
           2.312033445698487,
           2.3716624556603274,
           2.4297949120891715,
           2.4861967361004687,
           2.5406408174555977,
           2.5929079290546406,
           2.6427876096865393,
           2.690079011482112,
           2.7345917086575335,
           2.776146464291757,
           2.814575952050336,
           2.8497254299495145,
           2.881453363447582,
           2.9096319953545184,
           2.9341478602651065,
           2.9549022414440738,
           2.9718115683235418,
           2.984807753012208,
           2.993838464461254,
           2.998867339183008,
           2.999874127673875,
           2.9968547759519426,
           2.989821441880933,
           2.978802446214779,
           2.963842158559942,
           2.9450008187146683,
           2.9223542941045815,
           2.8959937742913358,
           2.8660254037844384,
           2.8325698546347713,
           2.795761840530832,
           2.755749574354258,
           2.7126941713788626,
           2.6667690005162914,
           2.618158986220605,
           2.567059863862771,
           2.513677391573406,
           2.4582265217274104,
           2.4009305354066135,
           2.342020143325669,
           2.2817325568414297,
           2.2203105327865407,
           2.1580013959733497,
           2.0950560433041825,
           2.031727933498068,
           1.9682720665019322,
           1.9049439566958173,
           1.8419986040266498,
           1.7796894672134593,
           1.7182674431585703,
           1.6579798566743313,
           1.5990694645933863,
           1.5417734782725896,
           1.4863226084265935,
           1.4329401361372294,
           1.3818410137793946,
           1.3332309994837086,
           1.287305828621137,
           1.2442504256457418,
           1.2042381594691678,
           1.1674301453652287,
           1.1339745962155612,
           1.104006225708664,
           1.0776457058954185,
           1.0549991812853317,
           1.0361578414400578,
           1.0211975537852211,
           1.0101785581190672,
           1.0031452240480578,
           1.0001258723261248,
           1.001132660816992,
           1.0061615355387459,
           1.0151922469877919,
           1.0281884316764582,
           1.0450977585559262,
           1.0658521397348932,
           1.0903680046454818,
           1.1185466365524181,
           1.1502745700504855,
           1.185424047949664,
           1.2238535357082434,
           1.265408291342467,
           1.309920988517888,
           1.3572123903134603,
           1.4070920709453598,
           1.4593591825444026,
           1.5138032638995311,
           1.570205087910828,
           1.6283375443396728,
           1.687966554301513,
           1.7488520128189207,
           1.8107487556395903,
           1.873407546426251,
           1.9365760803434355,
           1.9999999999999998
          ]
         ],
         "z": [
          [
           3,
           3,
           3,
           3,
           3,
           3,
           3,
           3,
           3,
           3,
           3,
           3,
           3,
           3,
           3,
           3,
           3,
           3,
           3,
           3,
           3,
           3,
           3,
           3,
           3,
           3,
           3,
           3,
           3,
           3,
           3,
           3,
           3,
           3,
           3,
           3,
           3,
           3,
           3,
           3,
           3,
           3,
           3,
           3,
           3,
           3,
           3,
           3,
           3,
           3,
           3,
           3,
           3,
           3,
           3,
           3,
           3,
           3,
           3,
           3,
           3,
           3,
           3,
           3,
           3,
           3,
           3,
           3,
           3,
           3,
           3,
           3,
           3,
           3,
           3,
           3,
           3,
           3,
           3,
           3,
           3,
           3,
           3,
           3,
           3,
           3,
           3,
           3,
           3,
           3,
           3,
           3,
           3,
           3,
           3,
           3,
           3,
           3,
           3,
           3
          ],
          [
           3.0408163265306123,
           3.0408163265306123,
           3.0408163265306123,
           3.0408163265306123,
           3.0408163265306123,
           3.0408163265306123,
           3.0408163265306123,
           3.0408163265306123,
           3.0408163265306123,
           3.0408163265306123,
           3.0408163265306123,
           3.0408163265306123,
           3.0408163265306123,
           3.0408163265306123,
           3.0408163265306123,
           3.0408163265306123,
           3.0408163265306123,
           3.0408163265306123,
           3.0408163265306123,
           3.0408163265306123,
           3.0408163265306123,
           3.0408163265306123,
           3.0408163265306123,
           3.0408163265306123,
           3.0408163265306123,
           3.0408163265306123,
           3.0408163265306123,
           3.0408163265306123,
           3.0408163265306123,
           3.0408163265306123,
           3.0408163265306123,
           3.0408163265306123,
           3.0408163265306123,
           3.0408163265306123,
           3.0408163265306123,
           3.0408163265306123,
           3.0408163265306123,
           3.0408163265306123,
           3.0408163265306123,
           3.0408163265306123,
           3.0408163265306123,
           3.0408163265306123,
           3.0408163265306123,
           3.0408163265306123,
           3.0408163265306123,
           3.0408163265306123,
           3.0408163265306123,
           3.0408163265306123,
           3.0408163265306123,
           3.0408163265306123,
           3.0408163265306123,
           3.0408163265306123,
           3.0408163265306123,
           3.0408163265306123,
           3.0408163265306123,
           3.0408163265306123,
           3.0408163265306123,
           3.0408163265306123,
           3.0408163265306123,
           3.0408163265306123,
           3.0408163265306123,
           3.0408163265306123,
           3.0408163265306123,
           3.0408163265306123,
           3.0408163265306123,
           3.0408163265306123,
           3.0408163265306123,
           3.0408163265306123,
           3.0408163265306123,
           3.0408163265306123,
           3.0408163265306123,
           3.0408163265306123,
           3.0408163265306123,
           3.0408163265306123,
           3.0408163265306123,
           3.0408163265306123,
           3.0408163265306123,
           3.0408163265306123,
           3.0408163265306123,
           3.0408163265306123,
           3.0408163265306123,
           3.0408163265306123,
           3.0408163265306123,
           3.0408163265306123,
           3.0408163265306123,
           3.0408163265306123,
           3.0408163265306123,
           3.0408163265306123,
           3.0408163265306123,
           3.0408163265306123,
           3.0408163265306123,
           3.0408163265306123,
           3.0408163265306123,
           3.0408163265306123,
           3.0408163265306123,
           3.0408163265306123,
           3.0408163265306123,
           3.0408163265306123,
           3.0408163265306123,
           3.0408163265306123
          ],
          [
           3.0816326530612246,
           3.0816326530612246,
           3.0816326530612246,
           3.0816326530612246,
           3.0816326530612246,
           3.0816326530612246,
           3.0816326530612246,
           3.0816326530612246,
           3.0816326530612246,
           3.0816326530612246,
           3.0816326530612246,
           3.0816326530612246,
           3.0816326530612246,
           3.0816326530612246,
           3.0816326530612246,
           3.0816326530612246,
           3.0816326530612246,
           3.0816326530612246,
           3.0816326530612246,
           3.0816326530612246,
           3.0816326530612246,
           3.0816326530612246,
           3.0816326530612246,
           3.0816326530612246,
           3.0816326530612246,
           3.0816326530612246,
           3.0816326530612246,
           3.0816326530612246,
           3.0816326530612246,
           3.0816326530612246,
           3.0816326530612246,
           3.0816326530612246,
           3.0816326530612246,
           3.0816326530612246,
           3.0816326530612246,
           3.0816326530612246,
           3.0816326530612246,
           3.0816326530612246,
           3.0816326530612246,
           3.0816326530612246,
           3.0816326530612246,
           3.0816326530612246,
           3.0816326530612246,
           3.0816326530612246,
           3.0816326530612246,
           3.0816326530612246,
           3.0816326530612246,
           3.0816326530612246,
           3.0816326530612246,
           3.0816326530612246,
           3.0816326530612246,
           3.0816326530612246,
           3.0816326530612246,
           3.0816326530612246,
           3.0816326530612246,
           3.0816326530612246,
           3.0816326530612246,
           3.0816326530612246,
           3.0816326530612246,
           3.0816326530612246,
           3.0816326530612246,
           3.0816326530612246,
           3.0816326530612246,
           3.0816326530612246,
           3.0816326530612246,
           3.0816326530612246,
           3.0816326530612246,
           3.0816326530612246,
           3.0816326530612246,
           3.0816326530612246,
           3.0816326530612246,
           3.0816326530612246,
           3.0816326530612246,
           3.0816326530612246,
           3.0816326530612246,
           3.0816326530612246,
           3.0816326530612246,
           3.0816326530612246,
           3.0816326530612246,
           3.0816326530612246,
           3.0816326530612246,
           3.0816326530612246,
           3.0816326530612246,
           3.0816326530612246,
           3.0816326530612246,
           3.0816326530612246,
           3.0816326530612246,
           3.0816326530612246,
           3.0816326530612246,
           3.0816326530612246,
           3.0816326530612246,
           3.0816326530612246,
           3.0816326530612246,
           3.0816326530612246,
           3.0816326530612246,
           3.0816326530612246,
           3.0816326530612246,
           3.0816326530612246,
           3.0816326530612246,
           3.0816326530612246
          ],
          [
           3.122448979591837,
           3.122448979591837,
           3.122448979591837,
           3.122448979591837,
           3.122448979591837,
           3.122448979591837,
           3.122448979591837,
           3.122448979591837,
           3.122448979591837,
           3.122448979591837,
           3.122448979591837,
           3.122448979591837,
           3.122448979591837,
           3.122448979591837,
           3.122448979591837,
           3.122448979591837,
           3.122448979591837,
           3.122448979591837,
           3.122448979591837,
           3.122448979591837,
           3.122448979591837,
           3.122448979591837,
           3.122448979591837,
           3.122448979591837,
           3.122448979591837,
           3.122448979591837,
           3.122448979591837,
           3.122448979591837,
           3.122448979591837,
           3.122448979591837,
           3.122448979591837,
           3.122448979591837,
           3.122448979591837,
           3.122448979591837,
           3.122448979591837,
           3.122448979591837,
           3.122448979591837,
           3.122448979591837,
           3.122448979591837,
           3.122448979591837,
           3.122448979591837,
           3.122448979591837,
           3.122448979591837,
           3.122448979591837,
           3.122448979591837,
           3.122448979591837,
           3.122448979591837,
           3.122448979591837,
           3.122448979591837,
           3.122448979591837,
           3.122448979591837,
           3.122448979591837,
           3.122448979591837,
           3.122448979591837,
           3.122448979591837,
           3.122448979591837,
           3.122448979591837,
           3.122448979591837,
           3.122448979591837,
           3.122448979591837,
           3.122448979591837,
           3.122448979591837,
           3.122448979591837,
           3.122448979591837,
           3.122448979591837,
           3.122448979591837,
           3.122448979591837,
           3.122448979591837,
           3.122448979591837,
           3.122448979591837,
           3.122448979591837,
           3.122448979591837,
           3.122448979591837,
           3.122448979591837,
           3.122448979591837,
           3.122448979591837,
           3.122448979591837,
           3.122448979591837,
           3.122448979591837,
           3.122448979591837,
           3.122448979591837,
           3.122448979591837,
           3.122448979591837,
           3.122448979591837,
           3.122448979591837,
           3.122448979591837,
           3.122448979591837,
           3.122448979591837,
           3.122448979591837,
           3.122448979591837,
           3.122448979591837,
           3.122448979591837,
           3.122448979591837,
           3.122448979591837,
           3.122448979591837,
           3.122448979591837,
           3.122448979591837,
           3.122448979591837,
           3.122448979591837,
           3.122448979591837
          ],
          [
           3.163265306122449,
           3.163265306122449,
           3.163265306122449,
           3.163265306122449,
           3.163265306122449,
           3.163265306122449,
           3.163265306122449,
           3.163265306122449,
           3.163265306122449,
           3.163265306122449,
           3.163265306122449,
           3.163265306122449,
           3.163265306122449,
           3.163265306122449,
           3.163265306122449,
           3.163265306122449,
           3.163265306122449,
           3.163265306122449,
           3.163265306122449,
           3.163265306122449,
           3.163265306122449,
           3.163265306122449,
           3.163265306122449,
           3.163265306122449,
           3.163265306122449,
           3.163265306122449,
           3.163265306122449,
           3.163265306122449,
           3.163265306122449,
           3.163265306122449,
           3.163265306122449,
           3.163265306122449,
           3.163265306122449,
           3.163265306122449,
           3.163265306122449,
           3.163265306122449,
           3.163265306122449,
           3.163265306122449,
           3.163265306122449,
           3.163265306122449,
           3.163265306122449,
           3.163265306122449,
           3.163265306122449,
           3.163265306122449,
           3.163265306122449,
           3.163265306122449,
           3.163265306122449,
           3.163265306122449,
           3.163265306122449,
           3.163265306122449,
           3.163265306122449,
           3.163265306122449,
           3.163265306122449,
           3.163265306122449,
           3.163265306122449,
           3.163265306122449,
           3.163265306122449,
           3.163265306122449,
           3.163265306122449,
           3.163265306122449,
           3.163265306122449,
           3.163265306122449,
           3.163265306122449,
           3.163265306122449,
           3.163265306122449,
           3.163265306122449,
           3.163265306122449,
           3.163265306122449,
           3.163265306122449,
           3.163265306122449,
           3.163265306122449,
           3.163265306122449,
           3.163265306122449,
           3.163265306122449,
           3.163265306122449,
           3.163265306122449,
           3.163265306122449,
           3.163265306122449,
           3.163265306122449,
           3.163265306122449,
           3.163265306122449,
           3.163265306122449,
           3.163265306122449,
           3.163265306122449,
           3.163265306122449,
           3.163265306122449,
           3.163265306122449,
           3.163265306122449,
           3.163265306122449,
           3.163265306122449,
           3.163265306122449,
           3.163265306122449,
           3.163265306122449,
           3.163265306122449,
           3.163265306122449,
           3.163265306122449,
           3.163265306122449,
           3.163265306122449,
           3.163265306122449,
           3.163265306122449
          ],
          [
           3.204081632653061,
           3.204081632653061,
           3.204081632653061,
           3.204081632653061,
           3.204081632653061,
           3.204081632653061,
           3.204081632653061,
           3.204081632653061,
           3.204081632653061,
           3.204081632653061,
           3.204081632653061,
           3.204081632653061,
           3.204081632653061,
           3.204081632653061,
           3.204081632653061,
           3.204081632653061,
           3.204081632653061,
           3.204081632653061,
           3.204081632653061,
           3.204081632653061,
           3.204081632653061,
           3.204081632653061,
           3.204081632653061,
           3.204081632653061,
           3.204081632653061,
           3.204081632653061,
           3.204081632653061,
           3.204081632653061,
           3.204081632653061,
           3.204081632653061,
           3.204081632653061,
           3.204081632653061,
           3.204081632653061,
           3.204081632653061,
           3.204081632653061,
           3.204081632653061,
           3.204081632653061,
           3.204081632653061,
           3.204081632653061,
           3.204081632653061,
           3.204081632653061,
           3.204081632653061,
           3.204081632653061,
           3.204081632653061,
           3.204081632653061,
           3.204081632653061,
           3.204081632653061,
           3.204081632653061,
           3.204081632653061,
           3.204081632653061,
           3.204081632653061,
           3.204081632653061,
           3.204081632653061,
           3.204081632653061,
           3.204081632653061,
           3.204081632653061,
           3.204081632653061,
           3.204081632653061,
           3.204081632653061,
           3.204081632653061,
           3.204081632653061,
           3.204081632653061,
           3.204081632653061,
           3.204081632653061,
           3.204081632653061,
           3.204081632653061,
           3.204081632653061,
           3.204081632653061,
           3.204081632653061,
           3.204081632653061,
           3.204081632653061,
           3.204081632653061,
           3.204081632653061,
           3.204081632653061,
           3.204081632653061,
           3.204081632653061,
           3.204081632653061,
           3.204081632653061,
           3.204081632653061,
           3.204081632653061,
           3.204081632653061,
           3.204081632653061,
           3.204081632653061,
           3.204081632653061,
           3.204081632653061,
           3.204081632653061,
           3.204081632653061,
           3.204081632653061,
           3.204081632653061,
           3.204081632653061,
           3.204081632653061,
           3.204081632653061,
           3.204081632653061,
           3.204081632653061,
           3.204081632653061,
           3.204081632653061,
           3.204081632653061,
           3.204081632653061,
           3.204081632653061,
           3.204081632653061
          ],
          [
           3.2448979591836733,
           3.2448979591836733,
           3.2448979591836733,
           3.2448979591836733,
           3.2448979591836733,
           3.2448979591836733,
           3.2448979591836733,
           3.2448979591836733,
           3.2448979591836733,
           3.2448979591836733,
           3.2448979591836733,
           3.2448979591836733,
           3.2448979591836733,
           3.2448979591836733,
           3.2448979591836733,
           3.2448979591836733,
           3.2448979591836733,
           3.2448979591836733,
           3.2448979591836733,
           3.2448979591836733,
           3.2448979591836733,
           3.2448979591836733,
           3.2448979591836733,
           3.2448979591836733,
           3.2448979591836733,
           3.2448979591836733,
           3.2448979591836733,
           3.2448979591836733,
           3.2448979591836733,
           3.2448979591836733,
           3.2448979591836733,
           3.2448979591836733,
           3.2448979591836733,
           3.2448979591836733,
           3.2448979591836733,
           3.2448979591836733,
           3.2448979591836733,
           3.2448979591836733,
           3.2448979591836733,
           3.2448979591836733,
           3.2448979591836733,
           3.2448979591836733,
           3.2448979591836733,
           3.2448979591836733,
           3.2448979591836733,
           3.2448979591836733,
           3.2448979591836733,
           3.2448979591836733,
           3.2448979591836733,
           3.2448979591836733,
           3.2448979591836733,
           3.2448979591836733,
           3.2448979591836733,
           3.2448979591836733,
           3.2448979591836733,
           3.2448979591836733,
           3.2448979591836733,
           3.2448979591836733,
           3.2448979591836733,
           3.2448979591836733,
           3.2448979591836733,
           3.2448979591836733,
           3.2448979591836733,
           3.2448979591836733,
           3.2448979591836733,
           3.2448979591836733,
           3.2448979591836733,
           3.2448979591836733,
           3.2448979591836733,
           3.2448979591836733,
           3.2448979591836733,
           3.2448979591836733,
           3.2448979591836733,
           3.2448979591836733,
           3.2448979591836733,
           3.2448979591836733,
           3.2448979591836733,
           3.2448979591836733,
           3.2448979591836733,
           3.2448979591836733,
           3.2448979591836733,
           3.2448979591836733,
           3.2448979591836733,
           3.2448979591836733,
           3.2448979591836733,
           3.2448979591836733,
           3.2448979591836733,
           3.2448979591836733,
           3.2448979591836733,
           3.2448979591836733,
           3.2448979591836733,
           3.2448979591836733,
           3.2448979591836733,
           3.2448979591836733,
           3.2448979591836733,
           3.2448979591836733,
           3.2448979591836733,
           3.2448979591836733,
           3.2448979591836733,
           3.2448979591836733
          ],
          [
           3.2857142857142856,
           3.2857142857142856,
           3.2857142857142856,
           3.2857142857142856,
           3.2857142857142856,
           3.2857142857142856,
           3.2857142857142856,
           3.2857142857142856,
           3.2857142857142856,
           3.2857142857142856,
           3.2857142857142856,
           3.2857142857142856,
           3.2857142857142856,
           3.2857142857142856,
           3.2857142857142856,
           3.2857142857142856,
           3.2857142857142856,
           3.2857142857142856,
           3.2857142857142856,
           3.2857142857142856,
           3.2857142857142856,
           3.2857142857142856,
           3.2857142857142856,
           3.2857142857142856,
           3.2857142857142856,
           3.2857142857142856,
           3.2857142857142856,
           3.2857142857142856,
           3.2857142857142856,
           3.2857142857142856,
           3.2857142857142856,
           3.2857142857142856,
           3.2857142857142856,
           3.2857142857142856,
           3.2857142857142856,
           3.2857142857142856,
           3.2857142857142856,
           3.2857142857142856,
           3.2857142857142856,
           3.2857142857142856,
           3.2857142857142856,
           3.2857142857142856,
           3.2857142857142856,
           3.2857142857142856,
           3.2857142857142856,
           3.2857142857142856,
           3.2857142857142856,
           3.2857142857142856,
           3.2857142857142856,
           3.2857142857142856,
           3.2857142857142856,
           3.2857142857142856,
           3.2857142857142856,
           3.2857142857142856,
           3.2857142857142856,
           3.2857142857142856,
           3.2857142857142856,
           3.2857142857142856,
           3.2857142857142856,
           3.2857142857142856,
           3.2857142857142856,
           3.2857142857142856,
           3.2857142857142856,
           3.2857142857142856,
           3.2857142857142856,
           3.2857142857142856,
           3.2857142857142856,
           3.2857142857142856,
           3.2857142857142856,
           3.2857142857142856,
           3.2857142857142856,
           3.2857142857142856,
           3.2857142857142856,
           3.2857142857142856,
           3.2857142857142856,
           3.2857142857142856,
           3.2857142857142856,
           3.2857142857142856,
           3.2857142857142856,
           3.2857142857142856,
           3.2857142857142856,
           3.2857142857142856,
           3.2857142857142856,
           3.2857142857142856,
           3.2857142857142856,
           3.2857142857142856,
           3.2857142857142856,
           3.2857142857142856,
           3.2857142857142856,
           3.2857142857142856,
           3.2857142857142856,
           3.2857142857142856,
           3.2857142857142856,
           3.2857142857142856,
           3.2857142857142856,
           3.2857142857142856,
           3.2857142857142856,
           3.2857142857142856,
           3.2857142857142856,
           3.2857142857142856
          ],
          [
           3.326530612244898,
           3.326530612244898,
           3.326530612244898,
           3.326530612244898,
           3.326530612244898,
           3.326530612244898,
           3.326530612244898,
           3.326530612244898,
           3.326530612244898,
           3.326530612244898,
           3.326530612244898,
           3.326530612244898,
           3.326530612244898,
           3.326530612244898,
           3.326530612244898,
           3.326530612244898,
           3.326530612244898,
           3.326530612244898,
           3.326530612244898,
           3.326530612244898,
           3.326530612244898,
           3.326530612244898,
           3.326530612244898,
           3.326530612244898,
           3.326530612244898,
           3.326530612244898,
           3.326530612244898,
           3.326530612244898,
           3.326530612244898,
           3.326530612244898,
           3.326530612244898,
           3.326530612244898,
           3.326530612244898,
           3.326530612244898,
           3.326530612244898,
           3.326530612244898,
           3.326530612244898,
           3.326530612244898,
           3.326530612244898,
           3.326530612244898,
           3.326530612244898,
           3.326530612244898,
           3.326530612244898,
           3.326530612244898,
           3.326530612244898,
           3.326530612244898,
           3.326530612244898,
           3.326530612244898,
           3.326530612244898,
           3.326530612244898,
           3.326530612244898,
           3.326530612244898,
           3.326530612244898,
           3.326530612244898,
           3.326530612244898,
           3.326530612244898,
           3.326530612244898,
           3.326530612244898,
           3.326530612244898,
           3.326530612244898,
           3.326530612244898,
           3.326530612244898,
           3.326530612244898,
           3.326530612244898,
           3.326530612244898,
           3.326530612244898,
           3.326530612244898,
           3.326530612244898,
           3.326530612244898,
           3.326530612244898,
           3.326530612244898,
           3.326530612244898,
           3.326530612244898,
           3.326530612244898,
           3.326530612244898,
           3.326530612244898,
           3.326530612244898,
           3.326530612244898,
           3.326530612244898,
           3.326530612244898,
           3.326530612244898,
           3.326530612244898,
           3.326530612244898,
           3.326530612244898,
           3.326530612244898,
           3.326530612244898,
           3.326530612244898,
           3.326530612244898,
           3.326530612244898,
           3.326530612244898,
           3.326530612244898,
           3.326530612244898,
           3.326530612244898,
           3.326530612244898,
           3.326530612244898,
           3.326530612244898,
           3.326530612244898,
           3.326530612244898,
           3.326530612244898,
           3.326530612244898
          ],
          [
           3.36734693877551,
           3.36734693877551,
           3.36734693877551,
           3.36734693877551,
           3.36734693877551,
           3.36734693877551,
           3.36734693877551,
           3.36734693877551,
           3.36734693877551,
           3.36734693877551,
           3.36734693877551,
           3.36734693877551,
           3.36734693877551,
           3.36734693877551,
           3.36734693877551,
           3.36734693877551,
           3.36734693877551,
           3.36734693877551,
           3.36734693877551,
           3.36734693877551,
           3.36734693877551,
           3.36734693877551,
           3.36734693877551,
           3.36734693877551,
           3.36734693877551,
           3.36734693877551,
           3.36734693877551,
           3.36734693877551,
           3.36734693877551,
           3.36734693877551,
           3.36734693877551,
           3.36734693877551,
           3.36734693877551,
           3.36734693877551,
           3.36734693877551,
           3.36734693877551,
           3.36734693877551,
           3.36734693877551,
           3.36734693877551,
           3.36734693877551,
           3.36734693877551,
           3.36734693877551,
           3.36734693877551,
           3.36734693877551,
           3.36734693877551,
           3.36734693877551,
           3.36734693877551,
           3.36734693877551,
           3.36734693877551,
           3.36734693877551,
           3.36734693877551,
           3.36734693877551,
           3.36734693877551,
           3.36734693877551,
           3.36734693877551,
           3.36734693877551,
           3.36734693877551,
           3.36734693877551,
           3.36734693877551,
           3.36734693877551,
           3.36734693877551,
           3.36734693877551,
           3.36734693877551,
           3.36734693877551,
           3.36734693877551,
           3.36734693877551,
           3.36734693877551,
           3.36734693877551,
           3.36734693877551,
           3.36734693877551,
           3.36734693877551,
           3.36734693877551,
           3.36734693877551,
           3.36734693877551,
           3.36734693877551,
           3.36734693877551,
           3.36734693877551,
           3.36734693877551,
           3.36734693877551,
           3.36734693877551,
           3.36734693877551,
           3.36734693877551,
           3.36734693877551,
           3.36734693877551,
           3.36734693877551,
           3.36734693877551,
           3.36734693877551,
           3.36734693877551,
           3.36734693877551,
           3.36734693877551,
           3.36734693877551,
           3.36734693877551,
           3.36734693877551,
           3.36734693877551,
           3.36734693877551,
           3.36734693877551,
           3.36734693877551,
           3.36734693877551,
           3.36734693877551,
           3.36734693877551
          ],
          [
           3.4081632653061225,
           3.4081632653061225,
           3.4081632653061225,
           3.4081632653061225,
           3.4081632653061225,
           3.4081632653061225,
           3.4081632653061225,
           3.4081632653061225,
           3.4081632653061225,
           3.4081632653061225,
           3.4081632653061225,
           3.4081632653061225,
           3.4081632653061225,
           3.4081632653061225,
           3.4081632653061225,
           3.4081632653061225,
           3.4081632653061225,
           3.4081632653061225,
           3.4081632653061225,
           3.4081632653061225,
           3.4081632653061225,
           3.4081632653061225,
           3.4081632653061225,
           3.4081632653061225,
           3.4081632653061225,
           3.4081632653061225,
           3.4081632653061225,
           3.4081632653061225,
           3.4081632653061225,
           3.4081632653061225,
           3.4081632653061225,
           3.4081632653061225,
           3.4081632653061225,
           3.4081632653061225,
           3.4081632653061225,
           3.4081632653061225,
           3.4081632653061225,
           3.4081632653061225,
           3.4081632653061225,
           3.4081632653061225,
           3.4081632653061225,
           3.4081632653061225,
           3.4081632653061225,
           3.4081632653061225,
           3.4081632653061225,
           3.4081632653061225,
           3.4081632653061225,
           3.4081632653061225,
           3.4081632653061225,
           3.4081632653061225,
           3.4081632653061225,
           3.4081632653061225,
           3.4081632653061225,
           3.4081632653061225,
           3.4081632653061225,
           3.4081632653061225,
           3.4081632653061225,
           3.4081632653061225,
           3.4081632653061225,
           3.4081632653061225,
           3.4081632653061225,
           3.4081632653061225,
           3.4081632653061225,
           3.4081632653061225,
           3.4081632653061225,
           3.4081632653061225,
           3.4081632653061225,
           3.4081632653061225,
           3.4081632653061225,
           3.4081632653061225,
           3.4081632653061225,
           3.4081632653061225,
           3.4081632653061225,
           3.4081632653061225,
           3.4081632653061225,
           3.4081632653061225,
           3.4081632653061225,
           3.4081632653061225,
           3.4081632653061225,
           3.4081632653061225,
           3.4081632653061225,
           3.4081632653061225,
           3.4081632653061225,
           3.4081632653061225,
           3.4081632653061225,
           3.4081632653061225,
           3.4081632653061225,
           3.4081632653061225,
           3.4081632653061225,
           3.4081632653061225,
           3.4081632653061225,
           3.4081632653061225,
           3.4081632653061225,
           3.4081632653061225,
           3.4081632653061225,
           3.4081632653061225,
           3.4081632653061225,
           3.4081632653061225,
           3.4081632653061225,
           3.4081632653061225
          ],
          [
           3.4489795918367347,
           3.4489795918367347,
           3.4489795918367347,
           3.4489795918367347,
           3.4489795918367347,
           3.4489795918367347,
           3.4489795918367347,
           3.4489795918367347,
           3.4489795918367347,
           3.4489795918367347,
           3.4489795918367347,
           3.4489795918367347,
           3.4489795918367347,
           3.4489795918367347,
           3.4489795918367347,
           3.4489795918367347,
           3.4489795918367347,
           3.4489795918367347,
           3.4489795918367347,
           3.4489795918367347,
           3.4489795918367347,
           3.4489795918367347,
           3.4489795918367347,
           3.4489795918367347,
           3.4489795918367347,
           3.4489795918367347,
           3.4489795918367347,
           3.4489795918367347,
           3.4489795918367347,
           3.4489795918367347,
           3.4489795918367347,
           3.4489795918367347,
           3.4489795918367347,
           3.4489795918367347,
           3.4489795918367347,
           3.4489795918367347,
           3.4489795918367347,
           3.4489795918367347,
           3.4489795918367347,
           3.4489795918367347,
           3.4489795918367347,
           3.4489795918367347,
           3.4489795918367347,
           3.4489795918367347,
           3.4489795918367347,
           3.4489795918367347,
           3.4489795918367347,
           3.4489795918367347,
           3.4489795918367347,
           3.4489795918367347,
           3.4489795918367347,
           3.4489795918367347,
           3.4489795918367347,
           3.4489795918367347,
           3.4489795918367347,
           3.4489795918367347,
           3.4489795918367347,
           3.4489795918367347,
           3.4489795918367347,
           3.4489795918367347,
           3.4489795918367347,
           3.4489795918367347,
           3.4489795918367347,
           3.4489795918367347,
           3.4489795918367347,
           3.4489795918367347,
           3.4489795918367347,
           3.4489795918367347,
           3.4489795918367347,
           3.4489795918367347,
           3.4489795918367347,
           3.4489795918367347,
           3.4489795918367347,
           3.4489795918367347,
           3.4489795918367347,
           3.4489795918367347,
           3.4489795918367347,
           3.4489795918367347,
           3.4489795918367347,
           3.4489795918367347,
           3.4489795918367347,
           3.4489795918367347,
           3.4489795918367347,
           3.4489795918367347,
           3.4489795918367347,
           3.4489795918367347,
           3.4489795918367347,
           3.4489795918367347,
           3.4489795918367347,
           3.4489795918367347,
           3.4489795918367347,
           3.4489795918367347,
           3.4489795918367347,
           3.4489795918367347,
           3.4489795918367347,
           3.4489795918367347,
           3.4489795918367347,
           3.4489795918367347,
           3.4489795918367347,
           3.4489795918367347
          ],
          [
           3.489795918367347,
           3.489795918367347,
           3.489795918367347,
           3.489795918367347,
           3.489795918367347,
           3.489795918367347,
           3.489795918367347,
           3.489795918367347,
           3.489795918367347,
           3.489795918367347,
           3.489795918367347,
           3.489795918367347,
           3.489795918367347,
           3.489795918367347,
           3.489795918367347,
           3.489795918367347,
           3.489795918367347,
           3.489795918367347,
           3.489795918367347,
           3.489795918367347,
           3.489795918367347,
           3.489795918367347,
           3.489795918367347,
           3.489795918367347,
           3.489795918367347,
           3.489795918367347,
           3.489795918367347,
           3.489795918367347,
           3.489795918367347,
           3.489795918367347,
           3.489795918367347,
           3.489795918367347,
           3.489795918367347,
           3.489795918367347,
           3.489795918367347,
           3.489795918367347,
           3.489795918367347,
           3.489795918367347,
           3.489795918367347,
           3.489795918367347,
           3.489795918367347,
           3.489795918367347,
           3.489795918367347,
           3.489795918367347,
           3.489795918367347,
           3.489795918367347,
           3.489795918367347,
           3.489795918367347,
           3.489795918367347,
           3.489795918367347,
           3.489795918367347,
           3.489795918367347,
           3.489795918367347,
           3.489795918367347,
           3.489795918367347,
           3.489795918367347,
           3.489795918367347,
           3.489795918367347,
           3.489795918367347,
           3.489795918367347,
           3.489795918367347,
           3.489795918367347,
           3.489795918367347,
           3.489795918367347,
           3.489795918367347,
           3.489795918367347,
           3.489795918367347,
           3.489795918367347,
           3.489795918367347,
           3.489795918367347,
           3.489795918367347,
           3.489795918367347,
           3.489795918367347,
           3.489795918367347,
           3.489795918367347,
           3.489795918367347,
           3.489795918367347,
           3.489795918367347,
           3.489795918367347,
           3.489795918367347,
           3.489795918367347,
           3.489795918367347,
           3.489795918367347,
           3.489795918367347,
           3.489795918367347,
           3.489795918367347,
           3.489795918367347,
           3.489795918367347,
           3.489795918367347,
           3.489795918367347,
           3.489795918367347,
           3.489795918367347,
           3.489795918367347,
           3.489795918367347,
           3.489795918367347,
           3.489795918367347,
           3.489795918367347,
           3.489795918367347,
           3.489795918367347,
           3.489795918367347
          ],
          [
           3.5306122448979593,
           3.5306122448979593,
           3.5306122448979593,
           3.5306122448979593,
           3.5306122448979593,
           3.5306122448979593,
           3.5306122448979593,
           3.5306122448979593,
           3.5306122448979593,
           3.5306122448979593,
           3.5306122448979593,
           3.5306122448979593,
           3.5306122448979593,
           3.5306122448979593,
           3.5306122448979593,
           3.5306122448979593,
           3.5306122448979593,
           3.5306122448979593,
           3.5306122448979593,
           3.5306122448979593,
           3.5306122448979593,
           3.5306122448979593,
           3.5306122448979593,
           3.5306122448979593,
           3.5306122448979593,
           3.5306122448979593,
           3.5306122448979593,
           3.5306122448979593,
           3.5306122448979593,
           3.5306122448979593,
           3.5306122448979593,
           3.5306122448979593,
           3.5306122448979593,
           3.5306122448979593,
           3.5306122448979593,
           3.5306122448979593,
           3.5306122448979593,
           3.5306122448979593,
           3.5306122448979593,
           3.5306122448979593,
           3.5306122448979593,
           3.5306122448979593,
           3.5306122448979593,
           3.5306122448979593,
           3.5306122448979593,
           3.5306122448979593,
           3.5306122448979593,
           3.5306122448979593,
           3.5306122448979593,
           3.5306122448979593,
           3.5306122448979593,
           3.5306122448979593,
           3.5306122448979593,
           3.5306122448979593,
           3.5306122448979593,
           3.5306122448979593,
           3.5306122448979593,
           3.5306122448979593,
           3.5306122448979593,
           3.5306122448979593,
           3.5306122448979593,
           3.5306122448979593,
           3.5306122448979593,
           3.5306122448979593,
           3.5306122448979593,
           3.5306122448979593,
           3.5306122448979593,
           3.5306122448979593,
           3.5306122448979593,
           3.5306122448979593,
           3.5306122448979593,
           3.5306122448979593,
           3.5306122448979593,
           3.5306122448979593,
           3.5306122448979593,
           3.5306122448979593,
           3.5306122448979593,
           3.5306122448979593,
           3.5306122448979593,
           3.5306122448979593,
           3.5306122448979593,
           3.5306122448979593,
           3.5306122448979593,
           3.5306122448979593,
           3.5306122448979593,
           3.5306122448979593,
           3.5306122448979593,
           3.5306122448979593,
           3.5306122448979593,
           3.5306122448979593,
           3.5306122448979593,
           3.5306122448979593,
           3.5306122448979593,
           3.5306122448979593,
           3.5306122448979593,
           3.5306122448979593,
           3.5306122448979593,
           3.5306122448979593,
           3.5306122448979593,
           3.5306122448979593
          ],
          [
           3.571428571428571,
           3.571428571428571,
           3.571428571428571,
           3.571428571428571,
           3.571428571428571,
           3.571428571428571,
           3.571428571428571,
           3.571428571428571,
           3.571428571428571,
           3.571428571428571,
           3.571428571428571,
           3.571428571428571,
           3.571428571428571,
           3.571428571428571,
           3.571428571428571,
           3.571428571428571,
           3.571428571428571,
           3.571428571428571,
           3.571428571428571,
           3.571428571428571,
           3.571428571428571,
           3.571428571428571,
           3.571428571428571,
           3.571428571428571,
           3.571428571428571,
           3.571428571428571,
           3.571428571428571,
           3.571428571428571,
           3.571428571428571,
           3.571428571428571,
           3.571428571428571,
           3.571428571428571,
           3.571428571428571,
           3.571428571428571,
           3.571428571428571,
           3.571428571428571,
           3.571428571428571,
           3.571428571428571,
           3.571428571428571,
           3.571428571428571,
           3.571428571428571,
           3.571428571428571,
           3.571428571428571,
           3.571428571428571,
           3.571428571428571,
           3.571428571428571,
           3.571428571428571,
           3.571428571428571,
           3.571428571428571,
           3.571428571428571,
           3.571428571428571,
           3.571428571428571,
           3.571428571428571,
           3.571428571428571,
           3.571428571428571,
           3.571428571428571,
           3.571428571428571,
           3.571428571428571,
           3.571428571428571,
           3.571428571428571,
           3.571428571428571,
           3.571428571428571,
           3.571428571428571,
           3.571428571428571,
           3.571428571428571,
           3.571428571428571,
           3.571428571428571,
           3.571428571428571,
           3.571428571428571,
           3.571428571428571,
           3.571428571428571,
           3.571428571428571,
           3.571428571428571,
           3.571428571428571,
           3.571428571428571,
           3.571428571428571,
           3.571428571428571,
           3.571428571428571,
           3.571428571428571,
           3.571428571428571,
           3.571428571428571,
           3.571428571428571,
           3.571428571428571,
           3.571428571428571,
           3.571428571428571,
           3.571428571428571,
           3.571428571428571,
           3.571428571428571,
           3.571428571428571,
           3.571428571428571,
           3.571428571428571,
           3.571428571428571,
           3.571428571428571,
           3.571428571428571,
           3.571428571428571,
           3.571428571428571,
           3.571428571428571,
           3.571428571428571,
           3.571428571428571,
           3.571428571428571
          ],
          [
           3.6122448979591835,
           3.6122448979591835,
           3.6122448979591835,
           3.6122448979591835,
           3.6122448979591835,
           3.6122448979591835,
           3.6122448979591835,
           3.6122448979591835,
           3.6122448979591835,
           3.6122448979591835,
           3.6122448979591835,
           3.6122448979591835,
           3.6122448979591835,
           3.6122448979591835,
           3.6122448979591835,
           3.6122448979591835,
           3.6122448979591835,
           3.6122448979591835,
           3.6122448979591835,
           3.6122448979591835,
           3.6122448979591835,
           3.6122448979591835,
           3.6122448979591835,
           3.6122448979591835,
           3.6122448979591835,
           3.6122448979591835,
           3.6122448979591835,
           3.6122448979591835,
           3.6122448979591835,
           3.6122448979591835,
           3.6122448979591835,
           3.6122448979591835,
           3.6122448979591835,
           3.6122448979591835,
           3.6122448979591835,
           3.6122448979591835,
           3.6122448979591835,
           3.6122448979591835,
           3.6122448979591835,
           3.6122448979591835,
           3.6122448979591835,
           3.6122448979591835,
           3.6122448979591835,
           3.6122448979591835,
           3.6122448979591835,
           3.6122448979591835,
           3.6122448979591835,
           3.6122448979591835,
           3.6122448979591835,
           3.6122448979591835,
           3.6122448979591835,
           3.6122448979591835,
           3.6122448979591835,
           3.6122448979591835,
           3.6122448979591835,
           3.6122448979591835,
           3.6122448979591835,
           3.6122448979591835,
           3.6122448979591835,
           3.6122448979591835,
           3.6122448979591835,
           3.6122448979591835,
           3.6122448979591835,
           3.6122448979591835,
           3.6122448979591835,
           3.6122448979591835,
           3.6122448979591835,
           3.6122448979591835,
           3.6122448979591835,
           3.6122448979591835,
           3.6122448979591835,
           3.6122448979591835,
           3.6122448979591835,
           3.6122448979591835,
           3.6122448979591835,
           3.6122448979591835,
           3.6122448979591835,
           3.6122448979591835,
           3.6122448979591835,
           3.6122448979591835,
           3.6122448979591835,
           3.6122448979591835,
           3.6122448979591835,
           3.6122448979591835,
           3.6122448979591835,
           3.6122448979591835,
           3.6122448979591835,
           3.6122448979591835,
           3.6122448979591835,
           3.6122448979591835,
           3.6122448979591835,
           3.6122448979591835,
           3.6122448979591835,
           3.6122448979591835,
           3.6122448979591835,
           3.6122448979591835,
           3.6122448979591835,
           3.6122448979591835,
           3.6122448979591835,
           3.6122448979591835
          ],
          [
           3.6530612244897958,
           3.6530612244897958,
           3.6530612244897958,
           3.6530612244897958,
           3.6530612244897958,
           3.6530612244897958,
           3.6530612244897958,
           3.6530612244897958,
           3.6530612244897958,
           3.6530612244897958,
           3.6530612244897958,
           3.6530612244897958,
           3.6530612244897958,
           3.6530612244897958,
           3.6530612244897958,
           3.6530612244897958,
           3.6530612244897958,
           3.6530612244897958,
           3.6530612244897958,
           3.6530612244897958,
           3.6530612244897958,
           3.6530612244897958,
           3.6530612244897958,
           3.6530612244897958,
           3.6530612244897958,
           3.6530612244897958,
           3.6530612244897958,
           3.6530612244897958,
           3.6530612244897958,
           3.6530612244897958,
           3.6530612244897958,
           3.6530612244897958,
           3.6530612244897958,
           3.6530612244897958,
           3.6530612244897958,
           3.6530612244897958,
           3.6530612244897958,
           3.6530612244897958,
           3.6530612244897958,
           3.6530612244897958,
           3.6530612244897958,
           3.6530612244897958,
           3.6530612244897958,
           3.6530612244897958,
           3.6530612244897958,
           3.6530612244897958,
           3.6530612244897958,
           3.6530612244897958,
           3.6530612244897958,
           3.6530612244897958,
           3.6530612244897958,
           3.6530612244897958,
           3.6530612244897958,
           3.6530612244897958,
           3.6530612244897958,
           3.6530612244897958,
           3.6530612244897958,
           3.6530612244897958,
           3.6530612244897958,
           3.6530612244897958,
           3.6530612244897958,
           3.6530612244897958,
           3.6530612244897958,
           3.6530612244897958,
           3.6530612244897958,
           3.6530612244897958,
           3.6530612244897958,
           3.6530612244897958,
           3.6530612244897958,
           3.6530612244897958,
           3.6530612244897958,
           3.6530612244897958,
           3.6530612244897958,
           3.6530612244897958,
           3.6530612244897958,
           3.6530612244897958,
           3.6530612244897958,
           3.6530612244897958,
           3.6530612244897958,
           3.6530612244897958,
           3.6530612244897958,
           3.6530612244897958,
           3.6530612244897958,
           3.6530612244897958,
           3.6530612244897958,
           3.6530612244897958,
           3.6530612244897958,
           3.6530612244897958,
           3.6530612244897958,
           3.6530612244897958,
           3.6530612244897958,
           3.6530612244897958,
           3.6530612244897958,
           3.6530612244897958,
           3.6530612244897958,
           3.6530612244897958,
           3.6530612244897958,
           3.6530612244897958,
           3.6530612244897958,
           3.6530612244897958
          ],
          [
           3.693877551020408,
           3.693877551020408,
           3.693877551020408,
           3.693877551020408,
           3.693877551020408,
           3.693877551020408,
           3.693877551020408,
           3.693877551020408,
           3.693877551020408,
           3.693877551020408,
           3.693877551020408,
           3.693877551020408,
           3.693877551020408,
           3.693877551020408,
           3.693877551020408,
           3.693877551020408,
           3.693877551020408,
           3.693877551020408,
           3.693877551020408,
           3.693877551020408,
           3.693877551020408,
           3.693877551020408,
           3.693877551020408,
           3.693877551020408,
           3.693877551020408,
           3.693877551020408,
           3.693877551020408,
           3.693877551020408,
           3.693877551020408,
           3.693877551020408,
           3.693877551020408,
           3.693877551020408,
           3.693877551020408,
           3.693877551020408,
           3.693877551020408,
           3.693877551020408,
           3.693877551020408,
           3.693877551020408,
           3.693877551020408,
           3.693877551020408,
           3.693877551020408,
           3.693877551020408,
           3.693877551020408,
           3.693877551020408,
           3.693877551020408,
           3.693877551020408,
           3.693877551020408,
           3.693877551020408,
           3.693877551020408,
           3.693877551020408,
           3.693877551020408,
           3.693877551020408,
           3.693877551020408,
           3.693877551020408,
           3.693877551020408,
           3.693877551020408,
           3.693877551020408,
           3.693877551020408,
           3.693877551020408,
           3.693877551020408,
           3.693877551020408,
           3.693877551020408,
           3.693877551020408,
           3.693877551020408,
           3.693877551020408,
           3.693877551020408,
           3.693877551020408,
           3.693877551020408,
           3.693877551020408,
           3.693877551020408,
           3.693877551020408,
           3.693877551020408,
           3.693877551020408,
           3.693877551020408,
           3.693877551020408,
           3.693877551020408,
           3.693877551020408,
           3.693877551020408,
           3.693877551020408,
           3.693877551020408,
           3.693877551020408,
           3.693877551020408,
           3.693877551020408,
           3.693877551020408,
           3.693877551020408,
           3.693877551020408,
           3.693877551020408,
           3.693877551020408,
           3.693877551020408,
           3.693877551020408,
           3.693877551020408,
           3.693877551020408,
           3.693877551020408,
           3.693877551020408,
           3.693877551020408,
           3.693877551020408,
           3.693877551020408,
           3.693877551020408,
           3.693877551020408,
           3.693877551020408
          ],
          [
           3.7346938775510203,
           3.7346938775510203,
           3.7346938775510203,
           3.7346938775510203,
           3.7346938775510203,
           3.7346938775510203,
           3.7346938775510203,
           3.7346938775510203,
           3.7346938775510203,
           3.7346938775510203,
           3.7346938775510203,
           3.7346938775510203,
           3.7346938775510203,
           3.7346938775510203,
           3.7346938775510203,
           3.7346938775510203,
           3.7346938775510203,
           3.7346938775510203,
           3.7346938775510203,
           3.7346938775510203,
           3.7346938775510203,
           3.7346938775510203,
           3.7346938775510203,
           3.7346938775510203,
           3.7346938775510203,
           3.7346938775510203,
           3.7346938775510203,
           3.7346938775510203,
           3.7346938775510203,
           3.7346938775510203,
           3.7346938775510203,
           3.7346938775510203,
           3.7346938775510203,
           3.7346938775510203,
           3.7346938775510203,
           3.7346938775510203,
           3.7346938775510203,
           3.7346938775510203,
           3.7346938775510203,
           3.7346938775510203,
           3.7346938775510203,
           3.7346938775510203,
           3.7346938775510203,
           3.7346938775510203,
           3.7346938775510203,
           3.7346938775510203,
           3.7346938775510203,
           3.7346938775510203,
           3.7346938775510203,
           3.7346938775510203,
           3.7346938775510203,
           3.7346938775510203,
           3.7346938775510203,
           3.7346938775510203,
           3.7346938775510203,
           3.7346938775510203,
           3.7346938775510203,
           3.7346938775510203,
           3.7346938775510203,
           3.7346938775510203,
           3.7346938775510203,
           3.7346938775510203,
           3.7346938775510203,
           3.7346938775510203,
           3.7346938775510203,
           3.7346938775510203,
           3.7346938775510203,
           3.7346938775510203,
           3.7346938775510203,
           3.7346938775510203,
           3.7346938775510203,
           3.7346938775510203,
           3.7346938775510203,
           3.7346938775510203,
           3.7346938775510203,
           3.7346938775510203,
           3.7346938775510203,
           3.7346938775510203,
           3.7346938775510203,
           3.7346938775510203,
           3.7346938775510203,
           3.7346938775510203,
           3.7346938775510203,
           3.7346938775510203,
           3.7346938775510203,
           3.7346938775510203,
           3.7346938775510203,
           3.7346938775510203,
           3.7346938775510203,
           3.7346938775510203,
           3.7346938775510203,
           3.7346938775510203,
           3.7346938775510203,
           3.7346938775510203,
           3.7346938775510203,
           3.7346938775510203,
           3.7346938775510203,
           3.7346938775510203,
           3.7346938775510203,
           3.7346938775510203
          ],
          [
           3.7755102040816326,
           3.7755102040816326,
           3.7755102040816326,
           3.7755102040816326,
           3.7755102040816326,
           3.7755102040816326,
           3.7755102040816326,
           3.7755102040816326,
           3.7755102040816326,
           3.7755102040816326,
           3.7755102040816326,
           3.7755102040816326,
           3.7755102040816326,
           3.7755102040816326,
           3.7755102040816326,
           3.7755102040816326,
           3.7755102040816326,
           3.7755102040816326,
           3.7755102040816326,
           3.7755102040816326,
           3.7755102040816326,
           3.7755102040816326,
           3.7755102040816326,
           3.7755102040816326,
           3.7755102040816326,
           3.7755102040816326,
           3.7755102040816326,
           3.7755102040816326,
           3.7755102040816326,
           3.7755102040816326,
           3.7755102040816326,
           3.7755102040816326,
           3.7755102040816326,
           3.7755102040816326,
           3.7755102040816326,
           3.7755102040816326,
           3.7755102040816326,
           3.7755102040816326,
           3.7755102040816326,
           3.7755102040816326,
           3.7755102040816326,
           3.7755102040816326,
           3.7755102040816326,
           3.7755102040816326,
           3.7755102040816326,
           3.7755102040816326,
           3.7755102040816326,
           3.7755102040816326,
           3.7755102040816326,
           3.7755102040816326,
           3.7755102040816326,
           3.7755102040816326,
           3.7755102040816326,
           3.7755102040816326,
           3.7755102040816326,
           3.7755102040816326,
           3.7755102040816326,
           3.7755102040816326,
           3.7755102040816326,
           3.7755102040816326,
           3.7755102040816326,
           3.7755102040816326,
           3.7755102040816326,
           3.7755102040816326,
           3.7755102040816326,
           3.7755102040816326,
           3.7755102040816326,
           3.7755102040816326,
           3.7755102040816326,
           3.7755102040816326,
           3.7755102040816326,
           3.7755102040816326,
           3.7755102040816326,
           3.7755102040816326,
           3.7755102040816326,
           3.7755102040816326,
           3.7755102040816326,
           3.7755102040816326,
           3.7755102040816326,
           3.7755102040816326,
           3.7755102040816326,
           3.7755102040816326,
           3.7755102040816326,
           3.7755102040816326,
           3.7755102040816326,
           3.7755102040816326,
           3.7755102040816326,
           3.7755102040816326,
           3.7755102040816326,
           3.7755102040816326,
           3.7755102040816326,
           3.7755102040816326,
           3.7755102040816326,
           3.7755102040816326,
           3.7755102040816326,
           3.7755102040816326,
           3.7755102040816326,
           3.7755102040816326,
           3.7755102040816326,
           3.7755102040816326
          ],
          [
           3.816326530612245,
           3.816326530612245,
           3.816326530612245,
           3.816326530612245,
           3.816326530612245,
           3.816326530612245,
           3.816326530612245,
           3.816326530612245,
           3.816326530612245,
           3.816326530612245,
           3.816326530612245,
           3.816326530612245,
           3.816326530612245,
           3.816326530612245,
           3.816326530612245,
           3.816326530612245,
           3.816326530612245,
           3.816326530612245,
           3.816326530612245,
           3.816326530612245,
           3.816326530612245,
           3.816326530612245,
           3.816326530612245,
           3.816326530612245,
           3.816326530612245,
           3.816326530612245,
           3.816326530612245,
           3.816326530612245,
           3.816326530612245,
           3.816326530612245,
           3.816326530612245,
           3.816326530612245,
           3.816326530612245,
           3.816326530612245,
           3.816326530612245,
           3.816326530612245,
           3.816326530612245,
           3.816326530612245,
           3.816326530612245,
           3.816326530612245,
           3.816326530612245,
           3.816326530612245,
           3.816326530612245,
           3.816326530612245,
           3.816326530612245,
           3.816326530612245,
           3.816326530612245,
           3.816326530612245,
           3.816326530612245,
           3.816326530612245,
           3.816326530612245,
           3.816326530612245,
           3.816326530612245,
           3.816326530612245,
           3.816326530612245,
           3.816326530612245,
           3.816326530612245,
           3.816326530612245,
           3.816326530612245,
           3.816326530612245,
           3.816326530612245,
           3.816326530612245,
           3.816326530612245,
           3.816326530612245,
           3.816326530612245,
           3.816326530612245,
           3.816326530612245,
           3.816326530612245,
           3.816326530612245,
           3.816326530612245,
           3.816326530612245,
           3.816326530612245,
           3.816326530612245,
           3.816326530612245,
           3.816326530612245,
           3.816326530612245,
           3.816326530612245,
           3.816326530612245,
           3.816326530612245,
           3.816326530612245,
           3.816326530612245,
           3.816326530612245,
           3.816326530612245,
           3.816326530612245,
           3.816326530612245,
           3.816326530612245,
           3.816326530612245,
           3.816326530612245,
           3.816326530612245,
           3.816326530612245,
           3.816326530612245,
           3.816326530612245,
           3.816326530612245,
           3.816326530612245,
           3.816326530612245,
           3.816326530612245,
           3.816326530612245,
           3.816326530612245,
           3.816326530612245,
           3.816326530612245
          ],
          [
           3.857142857142857,
           3.857142857142857,
           3.857142857142857,
           3.857142857142857,
           3.857142857142857,
           3.857142857142857,
           3.857142857142857,
           3.857142857142857,
           3.857142857142857,
           3.857142857142857,
           3.857142857142857,
           3.857142857142857,
           3.857142857142857,
           3.857142857142857,
           3.857142857142857,
           3.857142857142857,
           3.857142857142857,
           3.857142857142857,
           3.857142857142857,
           3.857142857142857,
           3.857142857142857,
           3.857142857142857,
           3.857142857142857,
           3.857142857142857,
           3.857142857142857,
           3.857142857142857,
           3.857142857142857,
           3.857142857142857,
           3.857142857142857,
           3.857142857142857,
           3.857142857142857,
           3.857142857142857,
           3.857142857142857,
           3.857142857142857,
           3.857142857142857,
           3.857142857142857,
           3.857142857142857,
           3.857142857142857,
           3.857142857142857,
           3.857142857142857,
           3.857142857142857,
           3.857142857142857,
           3.857142857142857,
           3.857142857142857,
           3.857142857142857,
           3.857142857142857,
           3.857142857142857,
           3.857142857142857,
           3.857142857142857,
           3.857142857142857,
           3.857142857142857,
           3.857142857142857,
           3.857142857142857,
           3.857142857142857,
           3.857142857142857,
           3.857142857142857,
           3.857142857142857,
           3.857142857142857,
           3.857142857142857,
           3.857142857142857,
           3.857142857142857,
           3.857142857142857,
           3.857142857142857,
           3.857142857142857,
           3.857142857142857,
           3.857142857142857,
           3.857142857142857,
           3.857142857142857,
           3.857142857142857,
           3.857142857142857,
           3.857142857142857,
           3.857142857142857,
           3.857142857142857,
           3.857142857142857,
           3.857142857142857,
           3.857142857142857,
           3.857142857142857,
           3.857142857142857,
           3.857142857142857,
           3.857142857142857,
           3.857142857142857,
           3.857142857142857,
           3.857142857142857,
           3.857142857142857,
           3.857142857142857,
           3.857142857142857,
           3.857142857142857,
           3.857142857142857,
           3.857142857142857,
           3.857142857142857,
           3.857142857142857,
           3.857142857142857,
           3.857142857142857,
           3.857142857142857,
           3.857142857142857,
           3.857142857142857,
           3.857142857142857,
           3.857142857142857,
           3.857142857142857,
           3.857142857142857
          ],
          [
           3.8979591836734695,
           3.8979591836734695,
           3.8979591836734695,
           3.8979591836734695,
           3.8979591836734695,
           3.8979591836734695,
           3.8979591836734695,
           3.8979591836734695,
           3.8979591836734695,
           3.8979591836734695,
           3.8979591836734695,
           3.8979591836734695,
           3.8979591836734695,
           3.8979591836734695,
           3.8979591836734695,
           3.8979591836734695,
           3.8979591836734695,
           3.8979591836734695,
           3.8979591836734695,
           3.8979591836734695,
           3.8979591836734695,
           3.8979591836734695,
           3.8979591836734695,
           3.8979591836734695,
           3.8979591836734695,
           3.8979591836734695,
           3.8979591836734695,
           3.8979591836734695,
           3.8979591836734695,
           3.8979591836734695,
           3.8979591836734695,
           3.8979591836734695,
           3.8979591836734695,
           3.8979591836734695,
           3.8979591836734695,
           3.8979591836734695,
           3.8979591836734695,
           3.8979591836734695,
           3.8979591836734695,
           3.8979591836734695,
           3.8979591836734695,
           3.8979591836734695,
           3.8979591836734695,
           3.8979591836734695,
           3.8979591836734695,
           3.8979591836734695,
           3.8979591836734695,
           3.8979591836734695,
           3.8979591836734695,
           3.8979591836734695,
           3.8979591836734695,
           3.8979591836734695,
           3.8979591836734695,
           3.8979591836734695,
           3.8979591836734695,
           3.8979591836734695,
           3.8979591836734695,
           3.8979591836734695,
           3.8979591836734695,
           3.8979591836734695,
           3.8979591836734695,
           3.8979591836734695,
           3.8979591836734695,
           3.8979591836734695,
           3.8979591836734695,
           3.8979591836734695,
           3.8979591836734695,
           3.8979591836734695,
           3.8979591836734695,
           3.8979591836734695,
           3.8979591836734695,
           3.8979591836734695,
           3.8979591836734695,
           3.8979591836734695,
           3.8979591836734695,
           3.8979591836734695,
           3.8979591836734695,
           3.8979591836734695,
           3.8979591836734695,
           3.8979591836734695,
           3.8979591836734695,
           3.8979591836734695,
           3.8979591836734695,
           3.8979591836734695,
           3.8979591836734695,
           3.8979591836734695,
           3.8979591836734695,
           3.8979591836734695,
           3.8979591836734695,
           3.8979591836734695,
           3.8979591836734695,
           3.8979591836734695,
           3.8979591836734695,
           3.8979591836734695,
           3.8979591836734695,
           3.8979591836734695,
           3.8979591836734695,
           3.8979591836734695,
           3.8979591836734695,
           3.8979591836734695
          ],
          [
           3.9387755102040813,
           3.9387755102040813,
           3.9387755102040813,
           3.9387755102040813,
           3.9387755102040813,
           3.9387755102040813,
           3.9387755102040813,
           3.9387755102040813,
           3.9387755102040813,
           3.9387755102040813,
           3.9387755102040813,
           3.9387755102040813,
           3.9387755102040813,
           3.9387755102040813,
           3.9387755102040813,
           3.9387755102040813,
           3.9387755102040813,
           3.9387755102040813,
           3.9387755102040813,
           3.9387755102040813,
           3.9387755102040813,
           3.9387755102040813,
           3.9387755102040813,
           3.9387755102040813,
           3.9387755102040813,
           3.9387755102040813,
           3.9387755102040813,
           3.9387755102040813,
           3.9387755102040813,
           3.9387755102040813,
           3.9387755102040813,
           3.9387755102040813,
           3.9387755102040813,
           3.9387755102040813,
           3.9387755102040813,
           3.9387755102040813,
           3.9387755102040813,
           3.9387755102040813,
           3.9387755102040813,
           3.9387755102040813,
           3.9387755102040813,
           3.9387755102040813,
           3.9387755102040813,
           3.9387755102040813,
           3.9387755102040813,
           3.9387755102040813,
           3.9387755102040813,
           3.9387755102040813,
           3.9387755102040813,
           3.9387755102040813,
           3.9387755102040813,
           3.9387755102040813,
           3.9387755102040813,
           3.9387755102040813,
           3.9387755102040813,
           3.9387755102040813,
           3.9387755102040813,
           3.9387755102040813,
           3.9387755102040813,
           3.9387755102040813,
           3.9387755102040813,
           3.9387755102040813,
           3.9387755102040813,
           3.9387755102040813,
           3.9387755102040813,
           3.9387755102040813,
           3.9387755102040813,
           3.9387755102040813,
           3.9387755102040813,
           3.9387755102040813,
           3.9387755102040813,
           3.9387755102040813,
           3.9387755102040813,
           3.9387755102040813,
           3.9387755102040813,
           3.9387755102040813,
           3.9387755102040813,
           3.9387755102040813,
           3.9387755102040813,
           3.9387755102040813,
           3.9387755102040813,
           3.9387755102040813,
           3.9387755102040813,
           3.9387755102040813,
           3.9387755102040813,
           3.9387755102040813,
           3.9387755102040813,
           3.9387755102040813,
           3.9387755102040813,
           3.9387755102040813,
           3.9387755102040813,
           3.9387755102040813,
           3.9387755102040813,
           3.9387755102040813,
           3.9387755102040813,
           3.9387755102040813,
           3.9387755102040813,
           3.9387755102040813,
           3.9387755102040813,
           3.9387755102040813
          ],
          [
           3.979591836734694,
           3.979591836734694,
           3.979591836734694,
           3.979591836734694,
           3.979591836734694,
           3.979591836734694,
           3.979591836734694,
           3.979591836734694,
           3.979591836734694,
           3.979591836734694,
           3.979591836734694,
           3.979591836734694,
           3.979591836734694,
           3.979591836734694,
           3.979591836734694,
           3.979591836734694,
           3.979591836734694,
           3.979591836734694,
           3.979591836734694,
           3.979591836734694,
           3.979591836734694,
           3.979591836734694,
           3.979591836734694,
           3.979591836734694,
           3.979591836734694,
           3.979591836734694,
           3.979591836734694,
           3.979591836734694,
           3.979591836734694,
           3.979591836734694,
           3.979591836734694,
           3.979591836734694,
           3.979591836734694,
           3.979591836734694,
           3.979591836734694,
           3.979591836734694,
           3.979591836734694,
           3.979591836734694,
           3.979591836734694,
           3.979591836734694,
           3.979591836734694,
           3.979591836734694,
           3.979591836734694,
           3.979591836734694,
           3.979591836734694,
           3.979591836734694,
           3.979591836734694,
           3.979591836734694,
           3.979591836734694,
           3.979591836734694,
           3.979591836734694,
           3.979591836734694,
           3.979591836734694,
           3.979591836734694,
           3.979591836734694,
           3.979591836734694,
           3.979591836734694,
           3.979591836734694,
           3.979591836734694,
           3.979591836734694,
           3.979591836734694,
           3.979591836734694,
           3.979591836734694,
           3.979591836734694,
           3.979591836734694,
           3.979591836734694,
           3.979591836734694,
           3.979591836734694,
           3.979591836734694,
           3.979591836734694,
           3.979591836734694,
           3.979591836734694,
           3.979591836734694,
           3.979591836734694,
           3.979591836734694,
           3.979591836734694,
           3.979591836734694,
           3.979591836734694,
           3.979591836734694,
           3.979591836734694,
           3.979591836734694,
           3.979591836734694,
           3.979591836734694,
           3.979591836734694,
           3.979591836734694,
           3.979591836734694,
           3.979591836734694,
           3.979591836734694,
           3.979591836734694,
           3.979591836734694,
           3.979591836734694,
           3.979591836734694,
           3.979591836734694,
           3.979591836734694,
           3.979591836734694,
           3.979591836734694,
           3.979591836734694,
           3.979591836734694,
           3.979591836734694,
           3.979591836734694
          ],
          [
           4.020408163265306,
           4.020408163265306,
           4.020408163265306,
           4.020408163265306,
           4.020408163265306,
           4.020408163265306,
           4.020408163265306,
           4.020408163265306,
           4.020408163265306,
           4.020408163265306,
           4.020408163265306,
           4.020408163265306,
           4.020408163265306,
           4.020408163265306,
           4.020408163265306,
           4.020408163265306,
           4.020408163265306,
           4.020408163265306,
           4.020408163265306,
           4.020408163265306,
           4.020408163265306,
           4.020408163265306,
           4.020408163265306,
           4.020408163265306,
           4.020408163265306,
           4.020408163265306,
           4.020408163265306,
           4.020408163265306,
           4.020408163265306,
           4.020408163265306,
           4.020408163265306,
           4.020408163265306,
           4.020408163265306,
           4.020408163265306,
           4.020408163265306,
           4.020408163265306,
           4.020408163265306,
           4.020408163265306,
           4.020408163265306,
           4.020408163265306,
           4.020408163265306,
           4.020408163265306,
           4.020408163265306,
           4.020408163265306,
           4.020408163265306,
           4.020408163265306,
           4.020408163265306,
           4.020408163265306,
           4.020408163265306,
           4.020408163265306,
           4.020408163265306,
           4.020408163265306,
           4.020408163265306,
           4.020408163265306,
           4.020408163265306,
           4.020408163265306,
           4.020408163265306,
           4.020408163265306,
           4.020408163265306,
           4.020408163265306,
           4.020408163265306,
           4.020408163265306,
           4.020408163265306,
           4.020408163265306,
           4.020408163265306,
           4.020408163265306,
           4.020408163265306,
           4.020408163265306,
           4.020408163265306,
           4.020408163265306,
           4.020408163265306,
           4.020408163265306,
           4.020408163265306,
           4.020408163265306,
           4.020408163265306,
           4.020408163265306,
           4.020408163265306,
           4.020408163265306,
           4.020408163265306,
           4.020408163265306,
           4.020408163265306,
           4.020408163265306,
           4.020408163265306,
           4.020408163265306,
           4.020408163265306,
           4.020408163265306,
           4.020408163265306,
           4.020408163265306,
           4.020408163265306,
           4.020408163265306,
           4.020408163265306,
           4.020408163265306,
           4.020408163265306,
           4.020408163265306,
           4.020408163265306,
           4.020408163265306,
           4.020408163265306,
           4.020408163265306,
           4.020408163265306,
           4.020408163265306
          ],
          [
           4.061224489795919,
           4.061224489795919,
           4.061224489795919,
           4.061224489795919,
           4.061224489795919,
           4.061224489795919,
           4.061224489795919,
           4.061224489795919,
           4.061224489795919,
           4.061224489795919,
           4.061224489795919,
           4.061224489795919,
           4.061224489795919,
           4.061224489795919,
           4.061224489795919,
           4.061224489795919,
           4.061224489795919,
           4.061224489795919,
           4.061224489795919,
           4.061224489795919,
           4.061224489795919,
           4.061224489795919,
           4.061224489795919,
           4.061224489795919,
           4.061224489795919,
           4.061224489795919,
           4.061224489795919,
           4.061224489795919,
           4.061224489795919,
           4.061224489795919,
           4.061224489795919,
           4.061224489795919,
           4.061224489795919,
           4.061224489795919,
           4.061224489795919,
           4.061224489795919,
           4.061224489795919,
           4.061224489795919,
           4.061224489795919,
           4.061224489795919,
           4.061224489795919,
           4.061224489795919,
           4.061224489795919,
           4.061224489795919,
           4.061224489795919,
           4.061224489795919,
           4.061224489795919,
           4.061224489795919,
           4.061224489795919,
           4.061224489795919,
           4.061224489795919,
           4.061224489795919,
           4.061224489795919,
           4.061224489795919,
           4.061224489795919,
           4.061224489795919,
           4.061224489795919,
           4.061224489795919,
           4.061224489795919,
           4.061224489795919,
           4.061224489795919,
           4.061224489795919,
           4.061224489795919,
           4.061224489795919,
           4.061224489795919,
           4.061224489795919,
           4.061224489795919,
           4.061224489795919,
           4.061224489795919,
           4.061224489795919,
           4.061224489795919,
           4.061224489795919,
           4.061224489795919,
           4.061224489795919,
           4.061224489795919,
           4.061224489795919,
           4.061224489795919,
           4.061224489795919,
           4.061224489795919,
           4.061224489795919,
           4.061224489795919,
           4.061224489795919,
           4.061224489795919,
           4.061224489795919,
           4.061224489795919,
           4.061224489795919,
           4.061224489795919,
           4.061224489795919,
           4.061224489795919,
           4.061224489795919,
           4.061224489795919,
           4.061224489795919,
           4.061224489795919,
           4.061224489795919,
           4.061224489795919,
           4.061224489795919,
           4.061224489795919,
           4.061224489795919,
           4.061224489795919,
           4.061224489795919
          ],
          [
           4.1020408163265305,
           4.1020408163265305,
           4.1020408163265305,
           4.1020408163265305,
           4.1020408163265305,
           4.1020408163265305,
           4.1020408163265305,
           4.1020408163265305,
           4.1020408163265305,
           4.1020408163265305,
           4.1020408163265305,
           4.1020408163265305,
           4.1020408163265305,
           4.1020408163265305,
           4.1020408163265305,
           4.1020408163265305,
           4.1020408163265305,
           4.1020408163265305,
           4.1020408163265305,
           4.1020408163265305,
           4.1020408163265305,
           4.1020408163265305,
           4.1020408163265305,
           4.1020408163265305,
           4.1020408163265305,
           4.1020408163265305,
           4.1020408163265305,
           4.1020408163265305,
           4.1020408163265305,
           4.1020408163265305,
           4.1020408163265305,
           4.1020408163265305,
           4.1020408163265305,
           4.1020408163265305,
           4.1020408163265305,
           4.1020408163265305,
           4.1020408163265305,
           4.1020408163265305,
           4.1020408163265305,
           4.1020408163265305,
           4.1020408163265305,
           4.1020408163265305,
           4.1020408163265305,
           4.1020408163265305,
           4.1020408163265305,
           4.1020408163265305,
           4.1020408163265305,
           4.1020408163265305,
           4.1020408163265305,
           4.1020408163265305,
           4.1020408163265305,
           4.1020408163265305,
           4.1020408163265305,
           4.1020408163265305,
           4.1020408163265305,
           4.1020408163265305,
           4.1020408163265305,
           4.1020408163265305,
           4.1020408163265305,
           4.1020408163265305,
           4.1020408163265305,
           4.1020408163265305,
           4.1020408163265305,
           4.1020408163265305,
           4.1020408163265305,
           4.1020408163265305,
           4.1020408163265305,
           4.1020408163265305,
           4.1020408163265305,
           4.1020408163265305,
           4.1020408163265305,
           4.1020408163265305,
           4.1020408163265305,
           4.1020408163265305,
           4.1020408163265305,
           4.1020408163265305,
           4.1020408163265305,
           4.1020408163265305,
           4.1020408163265305,
           4.1020408163265305,
           4.1020408163265305,
           4.1020408163265305,
           4.1020408163265305,
           4.1020408163265305,
           4.1020408163265305,
           4.1020408163265305,
           4.1020408163265305,
           4.1020408163265305,
           4.1020408163265305,
           4.1020408163265305,
           4.1020408163265305,
           4.1020408163265305,
           4.1020408163265305,
           4.1020408163265305,
           4.1020408163265305,
           4.1020408163265305,
           4.1020408163265305,
           4.1020408163265305,
           4.1020408163265305,
           4.1020408163265305
          ],
          [
           4.142857142857142,
           4.142857142857142,
           4.142857142857142,
           4.142857142857142,
           4.142857142857142,
           4.142857142857142,
           4.142857142857142,
           4.142857142857142,
           4.142857142857142,
           4.142857142857142,
           4.142857142857142,
           4.142857142857142,
           4.142857142857142,
           4.142857142857142,
           4.142857142857142,
           4.142857142857142,
           4.142857142857142,
           4.142857142857142,
           4.142857142857142,
           4.142857142857142,
           4.142857142857142,
           4.142857142857142,
           4.142857142857142,
           4.142857142857142,
           4.142857142857142,
           4.142857142857142,
           4.142857142857142,
           4.142857142857142,
           4.142857142857142,
           4.142857142857142,
           4.142857142857142,
           4.142857142857142,
           4.142857142857142,
           4.142857142857142,
           4.142857142857142,
           4.142857142857142,
           4.142857142857142,
           4.142857142857142,
           4.142857142857142,
           4.142857142857142,
           4.142857142857142,
           4.142857142857142,
           4.142857142857142,
           4.142857142857142,
           4.142857142857142,
           4.142857142857142,
           4.142857142857142,
           4.142857142857142,
           4.142857142857142,
           4.142857142857142,
           4.142857142857142,
           4.142857142857142,
           4.142857142857142,
           4.142857142857142,
           4.142857142857142,
           4.142857142857142,
           4.142857142857142,
           4.142857142857142,
           4.142857142857142,
           4.142857142857142,
           4.142857142857142,
           4.142857142857142,
           4.142857142857142,
           4.142857142857142,
           4.142857142857142,
           4.142857142857142,
           4.142857142857142,
           4.142857142857142,
           4.142857142857142,
           4.142857142857142,
           4.142857142857142,
           4.142857142857142,
           4.142857142857142,
           4.142857142857142,
           4.142857142857142,
           4.142857142857142,
           4.142857142857142,
           4.142857142857142,
           4.142857142857142,
           4.142857142857142,
           4.142857142857142,
           4.142857142857142,
           4.142857142857142,
           4.142857142857142,
           4.142857142857142,
           4.142857142857142,
           4.142857142857142,
           4.142857142857142,
           4.142857142857142,
           4.142857142857142,
           4.142857142857142,
           4.142857142857142,
           4.142857142857142,
           4.142857142857142,
           4.142857142857142,
           4.142857142857142,
           4.142857142857142,
           4.142857142857142,
           4.142857142857142,
           4.142857142857142
          ],
          [
           4.183673469387755,
           4.183673469387755,
           4.183673469387755,
           4.183673469387755,
           4.183673469387755,
           4.183673469387755,
           4.183673469387755,
           4.183673469387755,
           4.183673469387755,
           4.183673469387755,
           4.183673469387755,
           4.183673469387755,
           4.183673469387755,
           4.183673469387755,
           4.183673469387755,
           4.183673469387755,
           4.183673469387755,
           4.183673469387755,
           4.183673469387755,
           4.183673469387755,
           4.183673469387755,
           4.183673469387755,
           4.183673469387755,
           4.183673469387755,
           4.183673469387755,
           4.183673469387755,
           4.183673469387755,
           4.183673469387755,
           4.183673469387755,
           4.183673469387755,
           4.183673469387755,
           4.183673469387755,
           4.183673469387755,
           4.183673469387755,
           4.183673469387755,
           4.183673469387755,
           4.183673469387755,
           4.183673469387755,
           4.183673469387755,
           4.183673469387755,
           4.183673469387755,
           4.183673469387755,
           4.183673469387755,
           4.183673469387755,
           4.183673469387755,
           4.183673469387755,
           4.183673469387755,
           4.183673469387755,
           4.183673469387755,
           4.183673469387755,
           4.183673469387755,
           4.183673469387755,
           4.183673469387755,
           4.183673469387755,
           4.183673469387755,
           4.183673469387755,
           4.183673469387755,
           4.183673469387755,
           4.183673469387755,
           4.183673469387755,
           4.183673469387755,
           4.183673469387755,
           4.183673469387755,
           4.183673469387755,
           4.183673469387755,
           4.183673469387755,
           4.183673469387755,
           4.183673469387755,
           4.183673469387755,
           4.183673469387755,
           4.183673469387755,
           4.183673469387755,
           4.183673469387755,
           4.183673469387755,
           4.183673469387755,
           4.183673469387755,
           4.183673469387755,
           4.183673469387755,
           4.183673469387755,
           4.183673469387755,
           4.183673469387755,
           4.183673469387755,
           4.183673469387755,
           4.183673469387755,
           4.183673469387755,
           4.183673469387755,
           4.183673469387755,
           4.183673469387755,
           4.183673469387755,
           4.183673469387755,
           4.183673469387755,
           4.183673469387755,
           4.183673469387755,
           4.183673469387755,
           4.183673469387755,
           4.183673469387755,
           4.183673469387755,
           4.183673469387755,
           4.183673469387755,
           4.183673469387755
          ],
          [
           4.224489795918367,
           4.224489795918367,
           4.224489795918367,
           4.224489795918367,
           4.224489795918367,
           4.224489795918367,
           4.224489795918367,
           4.224489795918367,
           4.224489795918367,
           4.224489795918367,
           4.224489795918367,
           4.224489795918367,
           4.224489795918367,
           4.224489795918367,
           4.224489795918367,
           4.224489795918367,
           4.224489795918367,
           4.224489795918367,
           4.224489795918367,
           4.224489795918367,
           4.224489795918367,
           4.224489795918367,
           4.224489795918367,
           4.224489795918367,
           4.224489795918367,
           4.224489795918367,
           4.224489795918367,
           4.224489795918367,
           4.224489795918367,
           4.224489795918367,
           4.224489795918367,
           4.224489795918367,
           4.224489795918367,
           4.224489795918367,
           4.224489795918367,
           4.224489795918367,
           4.224489795918367,
           4.224489795918367,
           4.224489795918367,
           4.224489795918367,
           4.224489795918367,
           4.224489795918367,
           4.224489795918367,
           4.224489795918367,
           4.224489795918367,
           4.224489795918367,
           4.224489795918367,
           4.224489795918367,
           4.224489795918367,
           4.224489795918367,
           4.224489795918367,
           4.224489795918367,
           4.224489795918367,
           4.224489795918367,
           4.224489795918367,
           4.224489795918367,
           4.224489795918367,
           4.224489795918367,
           4.224489795918367,
           4.224489795918367,
           4.224489795918367,
           4.224489795918367,
           4.224489795918367,
           4.224489795918367,
           4.224489795918367,
           4.224489795918367,
           4.224489795918367,
           4.224489795918367,
           4.224489795918367,
           4.224489795918367,
           4.224489795918367,
           4.224489795918367,
           4.224489795918367,
           4.224489795918367,
           4.224489795918367,
           4.224489795918367,
           4.224489795918367,
           4.224489795918367,
           4.224489795918367,
           4.224489795918367,
           4.224489795918367,
           4.224489795918367,
           4.224489795918367,
           4.224489795918367,
           4.224489795918367,
           4.224489795918367,
           4.224489795918367,
           4.224489795918367,
           4.224489795918367,
           4.224489795918367,
           4.224489795918367,
           4.224489795918367,
           4.224489795918367,
           4.224489795918367,
           4.224489795918367,
           4.224489795918367,
           4.224489795918367,
           4.224489795918367,
           4.224489795918367,
           4.224489795918367
          ],
          [
           4.26530612244898,
           4.26530612244898,
           4.26530612244898,
           4.26530612244898,
           4.26530612244898,
           4.26530612244898,
           4.26530612244898,
           4.26530612244898,
           4.26530612244898,
           4.26530612244898,
           4.26530612244898,
           4.26530612244898,
           4.26530612244898,
           4.26530612244898,
           4.26530612244898,
           4.26530612244898,
           4.26530612244898,
           4.26530612244898,
           4.26530612244898,
           4.26530612244898,
           4.26530612244898,
           4.26530612244898,
           4.26530612244898,
           4.26530612244898,
           4.26530612244898,
           4.26530612244898,
           4.26530612244898,
           4.26530612244898,
           4.26530612244898,
           4.26530612244898,
           4.26530612244898,
           4.26530612244898,
           4.26530612244898,
           4.26530612244898,
           4.26530612244898,
           4.26530612244898,
           4.26530612244898,
           4.26530612244898,
           4.26530612244898,
           4.26530612244898,
           4.26530612244898,
           4.26530612244898,
           4.26530612244898,
           4.26530612244898,
           4.26530612244898,
           4.26530612244898,
           4.26530612244898,
           4.26530612244898,
           4.26530612244898,
           4.26530612244898,
           4.26530612244898,
           4.26530612244898,
           4.26530612244898,
           4.26530612244898,
           4.26530612244898,
           4.26530612244898,
           4.26530612244898,
           4.26530612244898,
           4.26530612244898,
           4.26530612244898,
           4.26530612244898,
           4.26530612244898,
           4.26530612244898,
           4.26530612244898,
           4.26530612244898,
           4.26530612244898,
           4.26530612244898,
           4.26530612244898,
           4.26530612244898,
           4.26530612244898,
           4.26530612244898,
           4.26530612244898,
           4.26530612244898,
           4.26530612244898,
           4.26530612244898,
           4.26530612244898,
           4.26530612244898,
           4.26530612244898,
           4.26530612244898,
           4.26530612244898,
           4.26530612244898,
           4.26530612244898,
           4.26530612244898,
           4.26530612244898,
           4.26530612244898,
           4.26530612244898,
           4.26530612244898,
           4.26530612244898,
           4.26530612244898,
           4.26530612244898,
           4.26530612244898,
           4.26530612244898,
           4.26530612244898,
           4.26530612244898,
           4.26530612244898,
           4.26530612244898,
           4.26530612244898,
           4.26530612244898,
           4.26530612244898,
           4.26530612244898
          ],
          [
           4.3061224489795915,
           4.3061224489795915,
           4.3061224489795915,
           4.3061224489795915,
           4.3061224489795915,
           4.3061224489795915,
           4.3061224489795915,
           4.3061224489795915,
           4.3061224489795915,
           4.3061224489795915,
           4.3061224489795915,
           4.3061224489795915,
           4.3061224489795915,
           4.3061224489795915,
           4.3061224489795915,
           4.3061224489795915,
           4.3061224489795915,
           4.3061224489795915,
           4.3061224489795915,
           4.3061224489795915,
           4.3061224489795915,
           4.3061224489795915,
           4.3061224489795915,
           4.3061224489795915,
           4.3061224489795915,
           4.3061224489795915,
           4.3061224489795915,
           4.3061224489795915,
           4.3061224489795915,
           4.3061224489795915,
           4.3061224489795915,
           4.3061224489795915,
           4.3061224489795915,
           4.3061224489795915,
           4.3061224489795915,
           4.3061224489795915,
           4.3061224489795915,
           4.3061224489795915,
           4.3061224489795915,
           4.3061224489795915,
           4.3061224489795915,
           4.3061224489795915,
           4.3061224489795915,
           4.3061224489795915,
           4.3061224489795915,
           4.3061224489795915,
           4.3061224489795915,
           4.3061224489795915,
           4.3061224489795915,
           4.3061224489795915,
           4.3061224489795915,
           4.3061224489795915,
           4.3061224489795915,
           4.3061224489795915,
           4.3061224489795915,
           4.3061224489795915,
           4.3061224489795915,
           4.3061224489795915,
           4.3061224489795915,
           4.3061224489795915,
           4.3061224489795915,
           4.3061224489795915,
           4.3061224489795915,
           4.3061224489795915,
           4.3061224489795915,
           4.3061224489795915,
           4.3061224489795915,
           4.3061224489795915,
           4.3061224489795915,
           4.3061224489795915,
           4.3061224489795915,
           4.3061224489795915,
           4.3061224489795915,
           4.3061224489795915,
           4.3061224489795915,
           4.3061224489795915,
           4.3061224489795915,
           4.3061224489795915,
           4.3061224489795915,
           4.3061224489795915,
           4.3061224489795915,
           4.3061224489795915,
           4.3061224489795915,
           4.3061224489795915,
           4.3061224489795915,
           4.3061224489795915,
           4.3061224489795915,
           4.3061224489795915,
           4.3061224489795915,
           4.3061224489795915,
           4.3061224489795915,
           4.3061224489795915,
           4.3061224489795915,
           4.3061224489795915,
           4.3061224489795915,
           4.3061224489795915,
           4.3061224489795915,
           4.3061224489795915,
           4.3061224489795915,
           4.3061224489795915
          ],
          [
           4.346938775510204,
           4.346938775510204,
           4.346938775510204,
           4.346938775510204,
           4.346938775510204,
           4.346938775510204,
           4.346938775510204,
           4.346938775510204,
           4.346938775510204,
           4.346938775510204,
           4.346938775510204,
           4.346938775510204,
           4.346938775510204,
           4.346938775510204,
           4.346938775510204,
           4.346938775510204,
           4.346938775510204,
           4.346938775510204,
           4.346938775510204,
           4.346938775510204,
           4.346938775510204,
           4.346938775510204,
           4.346938775510204,
           4.346938775510204,
           4.346938775510204,
           4.346938775510204,
           4.346938775510204,
           4.346938775510204,
           4.346938775510204,
           4.346938775510204,
           4.346938775510204,
           4.346938775510204,
           4.346938775510204,
           4.346938775510204,
           4.346938775510204,
           4.346938775510204,
           4.346938775510204,
           4.346938775510204,
           4.346938775510204,
           4.346938775510204,
           4.346938775510204,
           4.346938775510204,
           4.346938775510204,
           4.346938775510204,
           4.346938775510204,
           4.346938775510204,
           4.346938775510204,
           4.346938775510204,
           4.346938775510204,
           4.346938775510204,
           4.346938775510204,
           4.346938775510204,
           4.346938775510204,
           4.346938775510204,
           4.346938775510204,
           4.346938775510204,
           4.346938775510204,
           4.346938775510204,
           4.346938775510204,
           4.346938775510204,
           4.346938775510204,
           4.346938775510204,
           4.346938775510204,
           4.346938775510204,
           4.346938775510204,
           4.346938775510204,
           4.346938775510204,
           4.346938775510204,
           4.346938775510204,
           4.346938775510204,
           4.346938775510204,
           4.346938775510204,
           4.346938775510204,
           4.346938775510204,
           4.346938775510204,
           4.346938775510204,
           4.346938775510204,
           4.346938775510204,
           4.346938775510204,
           4.346938775510204,
           4.346938775510204,
           4.346938775510204,
           4.346938775510204,
           4.346938775510204,
           4.346938775510204,
           4.346938775510204,
           4.346938775510204,
           4.346938775510204,
           4.346938775510204,
           4.346938775510204,
           4.346938775510204,
           4.346938775510204,
           4.346938775510204,
           4.346938775510204,
           4.346938775510204,
           4.346938775510204,
           4.346938775510204,
           4.346938775510204,
           4.346938775510204,
           4.346938775510204
          ],
          [
           4.387755102040816,
           4.387755102040816,
           4.387755102040816,
           4.387755102040816,
           4.387755102040816,
           4.387755102040816,
           4.387755102040816,
           4.387755102040816,
           4.387755102040816,
           4.387755102040816,
           4.387755102040816,
           4.387755102040816,
           4.387755102040816,
           4.387755102040816,
           4.387755102040816,
           4.387755102040816,
           4.387755102040816,
           4.387755102040816,
           4.387755102040816,
           4.387755102040816,
           4.387755102040816,
           4.387755102040816,
           4.387755102040816,
           4.387755102040816,
           4.387755102040816,
           4.387755102040816,
           4.387755102040816,
           4.387755102040816,
           4.387755102040816,
           4.387755102040816,
           4.387755102040816,
           4.387755102040816,
           4.387755102040816,
           4.387755102040816,
           4.387755102040816,
           4.387755102040816,
           4.387755102040816,
           4.387755102040816,
           4.387755102040816,
           4.387755102040816,
           4.387755102040816,
           4.387755102040816,
           4.387755102040816,
           4.387755102040816,
           4.387755102040816,
           4.387755102040816,
           4.387755102040816,
           4.387755102040816,
           4.387755102040816,
           4.387755102040816,
           4.387755102040816,
           4.387755102040816,
           4.387755102040816,
           4.387755102040816,
           4.387755102040816,
           4.387755102040816,
           4.387755102040816,
           4.387755102040816,
           4.387755102040816,
           4.387755102040816,
           4.387755102040816,
           4.387755102040816,
           4.387755102040816,
           4.387755102040816,
           4.387755102040816,
           4.387755102040816,
           4.387755102040816,
           4.387755102040816,
           4.387755102040816,
           4.387755102040816,
           4.387755102040816,
           4.387755102040816,
           4.387755102040816,
           4.387755102040816,
           4.387755102040816,
           4.387755102040816,
           4.387755102040816,
           4.387755102040816,
           4.387755102040816,
           4.387755102040816,
           4.387755102040816,
           4.387755102040816,
           4.387755102040816,
           4.387755102040816,
           4.387755102040816,
           4.387755102040816,
           4.387755102040816,
           4.387755102040816,
           4.387755102040816,
           4.387755102040816,
           4.387755102040816,
           4.387755102040816,
           4.387755102040816,
           4.387755102040816,
           4.387755102040816,
           4.387755102040816,
           4.387755102040816,
           4.387755102040816,
           4.387755102040816,
           4.387755102040816
          ],
          [
           4.428571428571429,
           4.428571428571429,
           4.428571428571429,
           4.428571428571429,
           4.428571428571429,
           4.428571428571429,
           4.428571428571429,
           4.428571428571429,
           4.428571428571429,
           4.428571428571429,
           4.428571428571429,
           4.428571428571429,
           4.428571428571429,
           4.428571428571429,
           4.428571428571429,
           4.428571428571429,
           4.428571428571429,
           4.428571428571429,
           4.428571428571429,
           4.428571428571429,
           4.428571428571429,
           4.428571428571429,
           4.428571428571429,
           4.428571428571429,
           4.428571428571429,
           4.428571428571429,
           4.428571428571429,
           4.428571428571429,
           4.428571428571429,
           4.428571428571429,
           4.428571428571429,
           4.428571428571429,
           4.428571428571429,
           4.428571428571429,
           4.428571428571429,
           4.428571428571429,
           4.428571428571429,
           4.428571428571429,
           4.428571428571429,
           4.428571428571429,
           4.428571428571429,
           4.428571428571429,
           4.428571428571429,
           4.428571428571429,
           4.428571428571429,
           4.428571428571429,
           4.428571428571429,
           4.428571428571429,
           4.428571428571429,
           4.428571428571429,
           4.428571428571429,
           4.428571428571429,
           4.428571428571429,
           4.428571428571429,
           4.428571428571429,
           4.428571428571429,
           4.428571428571429,
           4.428571428571429,
           4.428571428571429,
           4.428571428571429,
           4.428571428571429,
           4.428571428571429,
           4.428571428571429,
           4.428571428571429,
           4.428571428571429,
           4.428571428571429,
           4.428571428571429,
           4.428571428571429,
           4.428571428571429,
           4.428571428571429,
           4.428571428571429,
           4.428571428571429,
           4.428571428571429,
           4.428571428571429,
           4.428571428571429,
           4.428571428571429,
           4.428571428571429,
           4.428571428571429,
           4.428571428571429,
           4.428571428571429,
           4.428571428571429,
           4.428571428571429,
           4.428571428571429,
           4.428571428571429,
           4.428571428571429,
           4.428571428571429,
           4.428571428571429,
           4.428571428571429,
           4.428571428571429,
           4.428571428571429,
           4.428571428571429,
           4.428571428571429,
           4.428571428571429,
           4.428571428571429,
           4.428571428571429,
           4.428571428571429,
           4.428571428571429,
           4.428571428571429,
           4.428571428571429,
           4.428571428571429
          ],
          [
           4.469387755102041,
           4.469387755102041,
           4.469387755102041,
           4.469387755102041,
           4.469387755102041,
           4.469387755102041,
           4.469387755102041,
           4.469387755102041,
           4.469387755102041,
           4.469387755102041,
           4.469387755102041,
           4.469387755102041,
           4.469387755102041,
           4.469387755102041,
           4.469387755102041,
           4.469387755102041,
           4.469387755102041,
           4.469387755102041,
           4.469387755102041,
           4.469387755102041,
           4.469387755102041,
           4.469387755102041,
           4.469387755102041,
           4.469387755102041,
           4.469387755102041,
           4.469387755102041,
           4.469387755102041,
           4.469387755102041,
           4.469387755102041,
           4.469387755102041,
           4.469387755102041,
           4.469387755102041,
           4.469387755102041,
           4.469387755102041,
           4.469387755102041,
           4.469387755102041,
           4.469387755102041,
           4.469387755102041,
           4.469387755102041,
           4.469387755102041,
           4.469387755102041,
           4.469387755102041,
           4.469387755102041,
           4.469387755102041,
           4.469387755102041,
           4.469387755102041,
           4.469387755102041,
           4.469387755102041,
           4.469387755102041,
           4.469387755102041,
           4.469387755102041,
           4.469387755102041,
           4.469387755102041,
           4.469387755102041,
           4.469387755102041,
           4.469387755102041,
           4.469387755102041,
           4.469387755102041,
           4.469387755102041,
           4.469387755102041,
           4.469387755102041,
           4.469387755102041,
           4.469387755102041,
           4.469387755102041,
           4.469387755102041,
           4.469387755102041,
           4.469387755102041,
           4.469387755102041,
           4.469387755102041,
           4.469387755102041,
           4.469387755102041,
           4.469387755102041,
           4.469387755102041,
           4.469387755102041,
           4.469387755102041,
           4.469387755102041,
           4.469387755102041,
           4.469387755102041,
           4.469387755102041,
           4.469387755102041,
           4.469387755102041,
           4.469387755102041,
           4.469387755102041,
           4.469387755102041,
           4.469387755102041,
           4.469387755102041,
           4.469387755102041,
           4.469387755102041,
           4.469387755102041,
           4.469387755102041,
           4.469387755102041,
           4.469387755102041,
           4.469387755102041,
           4.469387755102041,
           4.469387755102041,
           4.469387755102041,
           4.469387755102041,
           4.469387755102041,
           4.469387755102041,
           4.469387755102041
          ],
          [
           4.5102040816326525,
           4.5102040816326525,
           4.5102040816326525,
           4.5102040816326525,
           4.5102040816326525,
           4.5102040816326525,
           4.5102040816326525,
           4.5102040816326525,
           4.5102040816326525,
           4.5102040816326525,
           4.5102040816326525,
           4.5102040816326525,
           4.5102040816326525,
           4.5102040816326525,
           4.5102040816326525,
           4.5102040816326525,
           4.5102040816326525,
           4.5102040816326525,
           4.5102040816326525,
           4.5102040816326525,
           4.5102040816326525,
           4.5102040816326525,
           4.5102040816326525,
           4.5102040816326525,
           4.5102040816326525,
           4.5102040816326525,
           4.5102040816326525,
           4.5102040816326525,
           4.5102040816326525,
           4.5102040816326525,
           4.5102040816326525,
           4.5102040816326525,
           4.5102040816326525,
           4.5102040816326525,
           4.5102040816326525,
           4.5102040816326525,
           4.5102040816326525,
           4.5102040816326525,
           4.5102040816326525,
           4.5102040816326525,
           4.5102040816326525,
           4.5102040816326525,
           4.5102040816326525,
           4.5102040816326525,
           4.5102040816326525,
           4.5102040816326525,
           4.5102040816326525,
           4.5102040816326525,
           4.5102040816326525,
           4.5102040816326525,
           4.5102040816326525,
           4.5102040816326525,
           4.5102040816326525,
           4.5102040816326525,
           4.5102040816326525,
           4.5102040816326525,
           4.5102040816326525,
           4.5102040816326525,
           4.5102040816326525,
           4.5102040816326525,
           4.5102040816326525,
           4.5102040816326525,
           4.5102040816326525,
           4.5102040816326525,
           4.5102040816326525,
           4.5102040816326525,
           4.5102040816326525,
           4.5102040816326525,
           4.5102040816326525,
           4.5102040816326525,
           4.5102040816326525,
           4.5102040816326525,
           4.5102040816326525,
           4.5102040816326525,
           4.5102040816326525,
           4.5102040816326525,
           4.5102040816326525,
           4.5102040816326525,
           4.5102040816326525,
           4.5102040816326525,
           4.5102040816326525,
           4.5102040816326525,
           4.5102040816326525,
           4.5102040816326525,
           4.5102040816326525,
           4.5102040816326525,
           4.5102040816326525,
           4.5102040816326525,
           4.5102040816326525,
           4.5102040816326525,
           4.5102040816326525,
           4.5102040816326525,
           4.5102040816326525,
           4.5102040816326525,
           4.5102040816326525,
           4.5102040816326525,
           4.5102040816326525,
           4.5102040816326525,
           4.5102040816326525,
           4.5102040816326525
          ],
          [
           4.551020408163265,
           4.551020408163265,
           4.551020408163265,
           4.551020408163265,
           4.551020408163265,
           4.551020408163265,
           4.551020408163265,
           4.551020408163265,
           4.551020408163265,
           4.551020408163265,
           4.551020408163265,
           4.551020408163265,
           4.551020408163265,
           4.551020408163265,
           4.551020408163265,
           4.551020408163265,
           4.551020408163265,
           4.551020408163265,
           4.551020408163265,
           4.551020408163265,
           4.551020408163265,
           4.551020408163265,
           4.551020408163265,
           4.551020408163265,
           4.551020408163265,
           4.551020408163265,
           4.551020408163265,
           4.551020408163265,
           4.551020408163265,
           4.551020408163265,
           4.551020408163265,
           4.551020408163265,
           4.551020408163265,
           4.551020408163265,
           4.551020408163265,
           4.551020408163265,
           4.551020408163265,
           4.551020408163265,
           4.551020408163265,
           4.551020408163265,
           4.551020408163265,
           4.551020408163265,
           4.551020408163265,
           4.551020408163265,
           4.551020408163265,
           4.551020408163265,
           4.551020408163265,
           4.551020408163265,
           4.551020408163265,
           4.551020408163265,
           4.551020408163265,
           4.551020408163265,
           4.551020408163265,
           4.551020408163265,
           4.551020408163265,
           4.551020408163265,
           4.551020408163265,
           4.551020408163265,
           4.551020408163265,
           4.551020408163265,
           4.551020408163265,
           4.551020408163265,
           4.551020408163265,
           4.551020408163265,
           4.551020408163265,
           4.551020408163265,
           4.551020408163265,
           4.551020408163265,
           4.551020408163265,
           4.551020408163265,
           4.551020408163265,
           4.551020408163265,
           4.551020408163265,
           4.551020408163265,
           4.551020408163265,
           4.551020408163265,
           4.551020408163265,
           4.551020408163265,
           4.551020408163265,
           4.551020408163265,
           4.551020408163265,
           4.551020408163265,
           4.551020408163265,
           4.551020408163265,
           4.551020408163265,
           4.551020408163265,
           4.551020408163265,
           4.551020408163265,
           4.551020408163265,
           4.551020408163265,
           4.551020408163265,
           4.551020408163265,
           4.551020408163265,
           4.551020408163265,
           4.551020408163265,
           4.551020408163265,
           4.551020408163265,
           4.551020408163265,
           4.551020408163265,
           4.551020408163265
          ],
          [
           4.591836734693877,
           4.591836734693877,
           4.591836734693877,
           4.591836734693877,
           4.591836734693877,
           4.591836734693877,
           4.591836734693877,
           4.591836734693877,
           4.591836734693877,
           4.591836734693877,
           4.591836734693877,
           4.591836734693877,
           4.591836734693877,
           4.591836734693877,
           4.591836734693877,
           4.591836734693877,
           4.591836734693877,
           4.591836734693877,
           4.591836734693877,
           4.591836734693877,
           4.591836734693877,
           4.591836734693877,
           4.591836734693877,
           4.591836734693877,
           4.591836734693877,
           4.591836734693877,
           4.591836734693877,
           4.591836734693877,
           4.591836734693877,
           4.591836734693877,
           4.591836734693877,
           4.591836734693877,
           4.591836734693877,
           4.591836734693877,
           4.591836734693877,
           4.591836734693877,
           4.591836734693877,
           4.591836734693877,
           4.591836734693877,
           4.591836734693877,
           4.591836734693877,
           4.591836734693877,
           4.591836734693877,
           4.591836734693877,
           4.591836734693877,
           4.591836734693877,
           4.591836734693877,
           4.591836734693877,
           4.591836734693877,
           4.591836734693877,
           4.591836734693877,
           4.591836734693877,
           4.591836734693877,
           4.591836734693877,
           4.591836734693877,
           4.591836734693877,
           4.591836734693877,
           4.591836734693877,
           4.591836734693877,
           4.591836734693877,
           4.591836734693877,
           4.591836734693877,
           4.591836734693877,
           4.591836734693877,
           4.591836734693877,
           4.591836734693877,
           4.591836734693877,
           4.591836734693877,
           4.591836734693877,
           4.591836734693877,
           4.591836734693877,
           4.591836734693877,
           4.591836734693877,
           4.591836734693877,
           4.591836734693877,
           4.591836734693877,
           4.591836734693877,
           4.591836734693877,
           4.591836734693877,
           4.591836734693877,
           4.591836734693877,
           4.591836734693877,
           4.591836734693877,
           4.591836734693877,
           4.591836734693877,
           4.591836734693877,
           4.591836734693877,
           4.591836734693877,
           4.591836734693877,
           4.591836734693877,
           4.591836734693877,
           4.591836734693877,
           4.591836734693877,
           4.591836734693877,
           4.591836734693877,
           4.591836734693877,
           4.591836734693877,
           4.591836734693877,
           4.591836734693877,
           4.591836734693877
          ],
          [
           4.63265306122449,
           4.63265306122449,
           4.63265306122449,
           4.63265306122449,
           4.63265306122449,
           4.63265306122449,
           4.63265306122449,
           4.63265306122449,
           4.63265306122449,
           4.63265306122449,
           4.63265306122449,
           4.63265306122449,
           4.63265306122449,
           4.63265306122449,
           4.63265306122449,
           4.63265306122449,
           4.63265306122449,
           4.63265306122449,
           4.63265306122449,
           4.63265306122449,
           4.63265306122449,
           4.63265306122449,
           4.63265306122449,
           4.63265306122449,
           4.63265306122449,
           4.63265306122449,
           4.63265306122449,
           4.63265306122449,
           4.63265306122449,
           4.63265306122449,
           4.63265306122449,
           4.63265306122449,
           4.63265306122449,
           4.63265306122449,
           4.63265306122449,
           4.63265306122449,
           4.63265306122449,
           4.63265306122449,
           4.63265306122449,
           4.63265306122449,
           4.63265306122449,
           4.63265306122449,
           4.63265306122449,
           4.63265306122449,
           4.63265306122449,
           4.63265306122449,
           4.63265306122449,
           4.63265306122449,
           4.63265306122449,
           4.63265306122449,
           4.63265306122449,
           4.63265306122449,
           4.63265306122449,
           4.63265306122449,
           4.63265306122449,
           4.63265306122449,
           4.63265306122449,
           4.63265306122449,
           4.63265306122449,
           4.63265306122449,
           4.63265306122449,
           4.63265306122449,
           4.63265306122449,
           4.63265306122449,
           4.63265306122449,
           4.63265306122449,
           4.63265306122449,
           4.63265306122449,
           4.63265306122449,
           4.63265306122449,
           4.63265306122449,
           4.63265306122449,
           4.63265306122449,
           4.63265306122449,
           4.63265306122449,
           4.63265306122449,
           4.63265306122449,
           4.63265306122449,
           4.63265306122449,
           4.63265306122449,
           4.63265306122449,
           4.63265306122449,
           4.63265306122449,
           4.63265306122449,
           4.63265306122449,
           4.63265306122449,
           4.63265306122449,
           4.63265306122449,
           4.63265306122449,
           4.63265306122449,
           4.63265306122449,
           4.63265306122449,
           4.63265306122449,
           4.63265306122449,
           4.63265306122449,
           4.63265306122449,
           4.63265306122449,
           4.63265306122449,
           4.63265306122449,
           4.63265306122449
          ],
          [
           4.673469387755102,
           4.673469387755102,
           4.673469387755102,
           4.673469387755102,
           4.673469387755102,
           4.673469387755102,
           4.673469387755102,
           4.673469387755102,
           4.673469387755102,
           4.673469387755102,
           4.673469387755102,
           4.673469387755102,
           4.673469387755102,
           4.673469387755102,
           4.673469387755102,
           4.673469387755102,
           4.673469387755102,
           4.673469387755102,
           4.673469387755102,
           4.673469387755102,
           4.673469387755102,
           4.673469387755102,
           4.673469387755102,
           4.673469387755102,
           4.673469387755102,
           4.673469387755102,
           4.673469387755102,
           4.673469387755102,
           4.673469387755102,
           4.673469387755102,
           4.673469387755102,
           4.673469387755102,
           4.673469387755102,
           4.673469387755102,
           4.673469387755102,
           4.673469387755102,
           4.673469387755102,
           4.673469387755102,
           4.673469387755102,
           4.673469387755102,
           4.673469387755102,
           4.673469387755102,
           4.673469387755102,
           4.673469387755102,
           4.673469387755102,
           4.673469387755102,
           4.673469387755102,
           4.673469387755102,
           4.673469387755102,
           4.673469387755102,
           4.673469387755102,
           4.673469387755102,
           4.673469387755102,
           4.673469387755102,
           4.673469387755102,
           4.673469387755102,
           4.673469387755102,
           4.673469387755102,
           4.673469387755102,
           4.673469387755102,
           4.673469387755102,
           4.673469387755102,
           4.673469387755102,
           4.673469387755102,
           4.673469387755102,
           4.673469387755102,
           4.673469387755102,
           4.673469387755102,
           4.673469387755102,
           4.673469387755102,
           4.673469387755102,
           4.673469387755102,
           4.673469387755102,
           4.673469387755102,
           4.673469387755102,
           4.673469387755102,
           4.673469387755102,
           4.673469387755102,
           4.673469387755102,
           4.673469387755102,
           4.673469387755102,
           4.673469387755102,
           4.673469387755102,
           4.673469387755102,
           4.673469387755102,
           4.673469387755102,
           4.673469387755102,
           4.673469387755102,
           4.673469387755102,
           4.673469387755102,
           4.673469387755102,
           4.673469387755102,
           4.673469387755102,
           4.673469387755102,
           4.673469387755102,
           4.673469387755102,
           4.673469387755102,
           4.673469387755102,
           4.673469387755102,
           4.673469387755102
          ],
          [
           4.714285714285714,
           4.714285714285714,
           4.714285714285714,
           4.714285714285714,
           4.714285714285714,
           4.714285714285714,
           4.714285714285714,
           4.714285714285714,
           4.714285714285714,
           4.714285714285714,
           4.714285714285714,
           4.714285714285714,
           4.714285714285714,
           4.714285714285714,
           4.714285714285714,
           4.714285714285714,
           4.714285714285714,
           4.714285714285714,
           4.714285714285714,
           4.714285714285714,
           4.714285714285714,
           4.714285714285714,
           4.714285714285714,
           4.714285714285714,
           4.714285714285714,
           4.714285714285714,
           4.714285714285714,
           4.714285714285714,
           4.714285714285714,
           4.714285714285714,
           4.714285714285714,
           4.714285714285714,
           4.714285714285714,
           4.714285714285714,
           4.714285714285714,
           4.714285714285714,
           4.714285714285714,
           4.714285714285714,
           4.714285714285714,
           4.714285714285714,
           4.714285714285714,
           4.714285714285714,
           4.714285714285714,
           4.714285714285714,
           4.714285714285714,
           4.714285714285714,
           4.714285714285714,
           4.714285714285714,
           4.714285714285714,
           4.714285714285714,
           4.714285714285714,
           4.714285714285714,
           4.714285714285714,
           4.714285714285714,
           4.714285714285714,
           4.714285714285714,
           4.714285714285714,
           4.714285714285714,
           4.714285714285714,
           4.714285714285714,
           4.714285714285714,
           4.714285714285714,
           4.714285714285714,
           4.714285714285714,
           4.714285714285714,
           4.714285714285714,
           4.714285714285714,
           4.714285714285714,
           4.714285714285714,
           4.714285714285714,
           4.714285714285714,
           4.714285714285714,
           4.714285714285714,
           4.714285714285714,
           4.714285714285714,
           4.714285714285714,
           4.714285714285714,
           4.714285714285714,
           4.714285714285714,
           4.714285714285714,
           4.714285714285714,
           4.714285714285714,
           4.714285714285714,
           4.714285714285714,
           4.714285714285714,
           4.714285714285714,
           4.714285714285714,
           4.714285714285714,
           4.714285714285714,
           4.714285714285714,
           4.714285714285714,
           4.714285714285714,
           4.714285714285714,
           4.714285714285714,
           4.714285714285714,
           4.714285714285714,
           4.714285714285714,
           4.714285714285714,
           4.714285714285714,
           4.714285714285714
          ],
          [
           4.755102040816326,
           4.755102040816326,
           4.755102040816326,
           4.755102040816326,
           4.755102040816326,
           4.755102040816326,
           4.755102040816326,
           4.755102040816326,
           4.755102040816326,
           4.755102040816326,
           4.755102040816326,
           4.755102040816326,
           4.755102040816326,
           4.755102040816326,
           4.755102040816326,
           4.755102040816326,
           4.755102040816326,
           4.755102040816326,
           4.755102040816326,
           4.755102040816326,
           4.755102040816326,
           4.755102040816326,
           4.755102040816326,
           4.755102040816326,
           4.755102040816326,
           4.755102040816326,
           4.755102040816326,
           4.755102040816326,
           4.755102040816326,
           4.755102040816326,
           4.755102040816326,
           4.755102040816326,
           4.755102040816326,
           4.755102040816326,
           4.755102040816326,
           4.755102040816326,
           4.755102040816326,
           4.755102040816326,
           4.755102040816326,
           4.755102040816326,
           4.755102040816326,
           4.755102040816326,
           4.755102040816326,
           4.755102040816326,
           4.755102040816326,
           4.755102040816326,
           4.755102040816326,
           4.755102040816326,
           4.755102040816326,
           4.755102040816326,
           4.755102040816326,
           4.755102040816326,
           4.755102040816326,
           4.755102040816326,
           4.755102040816326,
           4.755102040816326,
           4.755102040816326,
           4.755102040816326,
           4.755102040816326,
           4.755102040816326,
           4.755102040816326,
           4.755102040816326,
           4.755102040816326,
           4.755102040816326,
           4.755102040816326,
           4.755102040816326,
           4.755102040816326,
           4.755102040816326,
           4.755102040816326,
           4.755102040816326,
           4.755102040816326,
           4.755102040816326,
           4.755102040816326,
           4.755102040816326,
           4.755102040816326,
           4.755102040816326,
           4.755102040816326,
           4.755102040816326,
           4.755102040816326,
           4.755102040816326,
           4.755102040816326,
           4.755102040816326,
           4.755102040816326,
           4.755102040816326,
           4.755102040816326,
           4.755102040816326,
           4.755102040816326,
           4.755102040816326,
           4.755102040816326,
           4.755102040816326,
           4.755102040816326,
           4.755102040816326,
           4.755102040816326,
           4.755102040816326,
           4.755102040816326,
           4.755102040816326,
           4.755102040816326,
           4.755102040816326,
           4.755102040816326,
           4.755102040816326
          ],
          [
           4.795918367346939,
           4.795918367346939,
           4.795918367346939,
           4.795918367346939,
           4.795918367346939,
           4.795918367346939,
           4.795918367346939,
           4.795918367346939,
           4.795918367346939,
           4.795918367346939,
           4.795918367346939,
           4.795918367346939,
           4.795918367346939,
           4.795918367346939,
           4.795918367346939,
           4.795918367346939,
           4.795918367346939,
           4.795918367346939,
           4.795918367346939,
           4.795918367346939,
           4.795918367346939,
           4.795918367346939,
           4.795918367346939,
           4.795918367346939,
           4.795918367346939,
           4.795918367346939,
           4.795918367346939,
           4.795918367346939,
           4.795918367346939,
           4.795918367346939,
           4.795918367346939,
           4.795918367346939,
           4.795918367346939,
           4.795918367346939,
           4.795918367346939,
           4.795918367346939,
           4.795918367346939,
           4.795918367346939,
           4.795918367346939,
           4.795918367346939,
           4.795918367346939,
           4.795918367346939,
           4.795918367346939,
           4.795918367346939,
           4.795918367346939,
           4.795918367346939,
           4.795918367346939,
           4.795918367346939,
           4.795918367346939,
           4.795918367346939,
           4.795918367346939,
           4.795918367346939,
           4.795918367346939,
           4.795918367346939,
           4.795918367346939,
           4.795918367346939,
           4.795918367346939,
           4.795918367346939,
           4.795918367346939,
           4.795918367346939,
           4.795918367346939,
           4.795918367346939,
           4.795918367346939,
           4.795918367346939,
           4.795918367346939,
           4.795918367346939,
           4.795918367346939,
           4.795918367346939,
           4.795918367346939,
           4.795918367346939,
           4.795918367346939,
           4.795918367346939,
           4.795918367346939,
           4.795918367346939,
           4.795918367346939,
           4.795918367346939,
           4.795918367346939,
           4.795918367346939,
           4.795918367346939,
           4.795918367346939,
           4.795918367346939,
           4.795918367346939,
           4.795918367346939,
           4.795918367346939,
           4.795918367346939,
           4.795918367346939,
           4.795918367346939,
           4.795918367346939,
           4.795918367346939,
           4.795918367346939,
           4.795918367346939,
           4.795918367346939,
           4.795918367346939,
           4.795918367346939,
           4.795918367346939,
           4.795918367346939,
           4.795918367346939,
           4.795918367346939,
           4.795918367346939,
           4.795918367346939
          ],
          [
           4.836734693877551,
           4.836734693877551,
           4.836734693877551,
           4.836734693877551,
           4.836734693877551,
           4.836734693877551,
           4.836734693877551,
           4.836734693877551,
           4.836734693877551,
           4.836734693877551,
           4.836734693877551,
           4.836734693877551,
           4.836734693877551,
           4.836734693877551,
           4.836734693877551,
           4.836734693877551,
           4.836734693877551,
           4.836734693877551,
           4.836734693877551,
           4.836734693877551,
           4.836734693877551,
           4.836734693877551,
           4.836734693877551,
           4.836734693877551,
           4.836734693877551,
           4.836734693877551,
           4.836734693877551,
           4.836734693877551,
           4.836734693877551,
           4.836734693877551,
           4.836734693877551,
           4.836734693877551,
           4.836734693877551,
           4.836734693877551,
           4.836734693877551,
           4.836734693877551,
           4.836734693877551,
           4.836734693877551,
           4.836734693877551,
           4.836734693877551,
           4.836734693877551,
           4.836734693877551,
           4.836734693877551,
           4.836734693877551,
           4.836734693877551,
           4.836734693877551,
           4.836734693877551,
           4.836734693877551,
           4.836734693877551,
           4.836734693877551,
           4.836734693877551,
           4.836734693877551,
           4.836734693877551,
           4.836734693877551,
           4.836734693877551,
           4.836734693877551,
           4.836734693877551,
           4.836734693877551,
           4.836734693877551,
           4.836734693877551,
           4.836734693877551,
           4.836734693877551,
           4.836734693877551,
           4.836734693877551,
           4.836734693877551,
           4.836734693877551,
           4.836734693877551,
           4.836734693877551,
           4.836734693877551,
           4.836734693877551,
           4.836734693877551,
           4.836734693877551,
           4.836734693877551,
           4.836734693877551,
           4.836734693877551,
           4.836734693877551,
           4.836734693877551,
           4.836734693877551,
           4.836734693877551,
           4.836734693877551,
           4.836734693877551,
           4.836734693877551,
           4.836734693877551,
           4.836734693877551,
           4.836734693877551,
           4.836734693877551,
           4.836734693877551,
           4.836734693877551,
           4.836734693877551,
           4.836734693877551,
           4.836734693877551,
           4.836734693877551,
           4.836734693877551,
           4.836734693877551,
           4.836734693877551,
           4.836734693877551,
           4.836734693877551,
           4.836734693877551,
           4.836734693877551,
           4.836734693877551
          ],
          [
           4.877551020408163,
           4.877551020408163,
           4.877551020408163,
           4.877551020408163,
           4.877551020408163,
           4.877551020408163,
           4.877551020408163,
           4.877551020408163,
           4.877551020408163,
           4.877551020408163,
           4.877551020408163,
           4.877551020408163,
           4.877551020408163,
           4.877551020408163,
           4.877551020408163,
           4.877551020408163,
           4.877551020408163,
           4.877551020408163,
           4.877551020408163,
           4.877551020408163,
           4.877551020408163,
           4.877551020408163,
           4.877551020408163,
           4.877551020408163,
           4.877551020408163,
           4.877551020408163,
           4.877551020408163,
           4.877551020408163,
           4.877551020408163,
           4.877551020408163,
           4.877551020408163,
           4.877551020408163,
           4.877551020408163,
           4.877551020408163,
           4.877551020408163,
           4.877551020408163,
           4.877551020408163,
           4.877551020408163,
           4.877551020408163,
           4.877551020408163,
           4.877551020408163,
           4.877551020408163,
           4.877551020408163,
           4.877551020408163,
           4.877551020408163,
           4.877551020408163,
           4.877551020408163,
           4.877551020408163,
           4.877551020408163,
           4.877551020408163,
           4.877551020408163,
           4.877551020408163,
           4.877551020408163,
           4.877551020408163,
           4.877551020408163,
           4.877551020408163,
           4.877551020408163,
           4.877551020408163,
           4.877551020408163,
           4.877551020408163,
           4.877551020408163,
           4.877551020408163,
           4.877551020408163,
           4.877551020408163,
           4.877551020408163,
           4.877551020408163,
           4.877551020408163,
           4.877551020408163,
           4.877551020408163,
           4.877551020408163,
           4.877551020408163,
           4.877551020408163,
           4.877551020408163,
           4.877551020408163,
           4.877551020408163,
           4.877551020408163,
           4.877551020408163,
           4.877551020408163,
           4.877551020408163,
           4.877551020408163,
           4.877551020408163,
           4.877551020408163,
           4.877551020408163,
           4.877551020408163,
           4.877551020408163,
           4.877551020408163,
           4.877551020408163,
           4.877551020408163,
           4.877551020408163,
           4.877551020408163,
           4.877551020408163,
           4.877551020408163,
           4.877551020408163,
           4.877551020408163,
           4.877551020408163,
           4.877551020408163,
           4.877551020408163,
           4.877551020408163,
           4.877551020408163,
           4.877551020408163
          ],
          [
           4.918367346938775,
           4.918367346938775,
           4.918367346938775,
           4.918367346938775,
           4.918367346938775,
           4.918367346938775,
           4.918367346938775,
           4.918367346938775,
           4.918367346938775,
           4.918367346938775,
           4.918367346938775,
           4.918367346938775,
           4.918367346938775,
           4.918367346938775,
           4.918367346938775,
           4.918367346938775,
           4.918367346938775,
           4.918367346938775,
           4.918367346938775,
           4.918367346938775,
           4.918367346938775,
           4.918367346938775,
           4.918367346938775,
           4.918367346938775,
           4.918367346938775,
           4.918367346938775,
           4.918367346938775,
           4.918367346938775,
           4.918367346938775,
           4.918367346938775,
           4.918367346938775,
           4.918367346938775,
           4.918367346938775,
           4.918367346938775,
           4.918367346938775,
           4.918367346938775,
           4.918367346938775,
           4.918367346938775,
           4.918367346938775,
           4.918367346938775,
           4.918367346938775,
           4.918367346938775,
           4.918367346938775,
           4.918367346938775,
           4.918367346938775,
           4.918367346938775,
           4.918367346938775,
           4.918367346938775,
           4.918367346938775,
           4.918367346938775,
           4.918367346938775,
           4.918367346938775,
           4.918367346938775,
           4.918367346938775,
           4.918367346938775,
           4.918367346938775,
           4.918367346938775,
           4.918367346938775,
           4.918367346938775,
           4.918367346938775,
           4.918367346938775,
           4.918367346938775,
           4.918367346938775,
           4.918367346938775,
           4.918367346938775,
           4.918367346938775,
           4.918367346938775,
           4.918367346938775,
           4.918367346938775,
           4.918367346938775,
           4.918367346938775,
           4.918367346938775,
           4.918367346938775,
           4.918367346938775,
           4.918367346938775,
           4.918367346938775,
           4.918367346938775,
           4.918367346938775,
           4.918367346938775,
           4.918367346938775,
           4.918367346938775,
           4.918367346938775,
           4.918367346938775,
           4.918367346938775,
           4.918367346938775,
           4.918367346938775,
           4.918367346938775,
           4.918367346938775,
           4.918367346938775,
           4.918367346938775,
           4.918367346938775,
           4.918367346938775,
           4.918367346938775,
           4.918367346938775,
           4.918367346938775,
           4.918367346938775,
           4.918367346938775,
           4.918367346938775,
           4.918367346938775,
           4.918367346938775
          ],
          [
           4.959183673469388,
           4.959183673469388,
           4.959183673469388,
           4.959183673469388,
           4.959183673469388,
           4.959183673469388,
           4.959183673469388,
           4.959183673469388,
           4.959183673469388,
           4.959183673469388,
           4.959183673469388,
           4.959183673469388,
           4.959183673469388,
           4.959183673469388,
           4.959183673469388,
           4.959183673469388,
           4.959183673469388,
           4.959183673469388,
           4.959183673469388,
           4.959183673469388,
           4.959183673469388,
           4.959183673469388,
           4.959183673469388,
           4.959183673469388,
           4.959183673469388,
           4.959183673469388,
           4.959183673469388,
           4.959183673469388,
           4.959183673469388,
           4.959183673469388,
           4.959183673469388,
           4.959183673469388,
           4.959183673469388,
           4.959183673469388,
           4.959183673469388,
           4.959183673469388,
           4.959183673469388,
           4.959183673469388,
           4.959183673469388,
           4.959183673469388,
           4.959183673469388,
           4.959183673469388,
           4.959183673469388,
           4.959183673469388,
           4.959183673469388,
           4.959183673469388,
           4.959183673469388,
           4.959183673469388,
           4.959183673469388,
           4.959183673469388,
           4.959183673469388,
           4.959183673469388,
           4.959183673469388,
           4.959183673469388,
           4.959183673469388,
           4.959183673469388,
           4.959183673469388,
           4.959183673469388,
           4.959183673469388,
           4.959183673469388,
           4.959183673469388,
           4.959183673469388,
           4.959183673469388,
           4.959183673469388,
           4.959183673469388,
           4.959183673469388,
           4.959183673469388,
           4.959183673469388,
           4.959183673469388,
           4.959183673469388,
           4.959183673469388,
           4.959183673469388,
           4.959183673469388,
           4.959183673469388,
           4.959183673469388,
           4.959183673469388,
           4.959183673469388,
           4.959183673469388,
           4.959183673469388,
           4.959183673469388,
           4.959183673469388,
           4.959183673469388,
           4.959183673469388,
           4.959183673469388,
           4.959183673469388,
           4.959183673469388,
           4.959183673469388,
           4.959183673469388,
           4.959183673469388,
           4.959183673469388,
           4.959183673469388,
           4.959183673469388,
           4.959183673469388,
           4.959183673469388,
           4.959183673469388,
           4.959183673469388,
           4.959183673469388,
           4.959183673469388,
           4.959183673469388,
           4.959183673469388
          ],
          [
           5,
           5,
           5,
           5,
           5,
           5,
           5,
           5,
           5,
           5,
           5,
           5,
           5,
           5,
           5,
           5,
           5,
           5,
           5,
           5,
           5,
           5,
           5,
           5,
           5,
           5,
           5,
           5,
           5,
           5,
           5,
           5,
           5,
           5,
           5,
           5,
           5,
           5,
           5,
           5,
           5,
           5,
           5,
           5,
           5,
           5,
           5,
           5,
           5,
           5,
           5,
           5,
           5,
           5,
           5,
           5,
           5,
           5,
           5,
           5,
           5,
           5,
           5,
           5,
           5,
           5,
           5,
           5,
           5,
           5,
           5,
           5,
           5,
           5,
           5,
           5,
           5,
           5,
           5,
           5,
           5,
           5,
           5,
           5,
           5,
           5,
           5,
           5,
           5,
           5,
           5,
           5,
           5,
           5,
           5,
           5,
           5,
           5,
           5,
           5
          ]
         ]
        },
        {
         "mode": "text",
         "text": [
          "B1"
         ],
         "textfont": {
          "color": "black",
          "size": 15
         },
         "textposition": "middle center",
         "type": "scatter3d",
         "x": [
          5
         ],
         "y": [
          2
         ],
         "z": [
          4
         ]
        }
       ],
       "layout": {
        "height": 1200,
        "margin": {
         "b": 10,
         "l": 10,
         "r": 20,
         "t": 10
        },
        "scene": {
         "aspectmode": "cube",
         "camera": {
          "center": {
           "x": 0,
           "y": 0,
           "z": 0
          },
          "eye": {
           "x": 1.25,
           "y": 1.25,
           "z": 1.25
          },
          "up": {
           "x": 0,
           "y": 0,
           "z": 1
          }
         },
         "xaxis": {
          "nticks": 12,
          "range": [
           0,
           15
          ],
          "showgrid": false,
          "showticklabels": false
         },
         "yaxis": {
          "nticks": 12,
          "range": [
           0,
           15
          ],
          "showgrid": false,
          "showticklabels": false
         },
         "zaxis": {
          "nticks": 12,
          "range": [
           0,
           15
          ],
          "showgrid": false,
          "showticklabels": false
         }
        },
        "showlegend": false,
        "template": {
         "data": {
          "bar": [
           {
            "error_x": {
             "color": "#f2f5fa"
            },
            "error_y": {
             "color": "#f2f5fa"
            },
            "marker": {
             "line": {
              "color": "rgb(17,17,17)",
              "width": 0.5
             },
             "pattern": {
              "fillmode": "overlay",
              "size": 10,
              "solidity": 0.2
             }
            },
            "type": "bar"
           }
          ],
          "barpolar": [
           {
            "marker": {
             "line": {
              "color": "rgb(17,17,17)",
              "width": 0.5
             },
             "pattern": {
              "fillmode": "overlay",
              "size": 10,
              "solidity": 0.2
             }
            },
            "type": "barpolar"
           }
          ],
          "carpet": [
           {
            "aaxis": {
             "endlinecolor": "#A2B1C6",
             "gridcolor": "#506784",
             "linecolor": "#506784",
             "minorgridcolor": "#506784",
             "startlinecolor": "#A2B1C6"
            },
            "baxis": {
             "endlinecolor": "#A2B1C6",
             "gridcolor": "#506784",
             "linecolor": "#506784",
             "minorgridcolor": "#506784",
             "startlinecolor": "#A2B1C6"
            },
            "type": "carpet"
           }
          ],
          "choropleth": [
           {
            "colorbar": {
             "outlinewidth": 0,
             "ticks": ""
            },
            "type": "choropleth"
           }
          ],
          "contour": [
           {
            "colorbar": {
             "outlinewidth": 0,
             "ticks": ""
            },
            "colorscale": [
             [
              0,
              "#0d0887"
             ],
             [
              0.1111111111111111,
              "#46039f"
             ],
             [
              0.2222222222222222,
              "#7201a8"
             ],
             [
              0.3333333333333333,
              "#9c179e"
             ],
             [
              0.4444444444444444,
              "#bd3786"
             ],
             [
              0.5555555555555556,
              "#d8576b"
             ],
             [
              0.6666666666666666,
              "#ed7953"
             ],
             [
              0.7777777777777778,
              "#fb9f3a"
             ],
             [
              0.8888888888888888,
              "#fdca26"
             ],
             [
              1,
              "#f0f921"
             ]
            ],
            "type": "contour"
           }
          ],
          "contourcarpet": [
           {
            "colorbar": {
             "outlinewidth": 0,
             "ticks": ""
            },
            "type": "contourcarpet"
           }
          ],
          "heatmap": [
           {
            "colorbar": {
             "outlinewidth": 0,
             "ticks": ""
            },
            "colorscale": [
             [
              0,
              "#0d0887"
             ],
             [
              0.1111111111111111,
              "#46039f"
             ],
             [
              0.2222222222222222,
              "#7201a8"
             ],
             [
              0.3333333333333333,
              "#9c179e"
             ],
             [
              0.4444444444444444,
              "#bd3786"
             ],
             [
              0.5555555555555556,
              "#d8576b"
             ],
             [
              0.6666666666666666,
              "#ed7953"
             ],
             [
              0.7777777777777778,
              "#fb9f3a"
             ],
             [
              0.8888888888888888,
              "#fdca26"
             ],
             [
              1,
              "#f0f921"
             ]
            ],
            "type": "heatmap"
           }
          ],
          "heatmapgl": [
           {
            "colorbar": {
             "outlinewidth": 0,
             "ticks": ""
            },
            "colorscale": [
             [
              0,
              "#0d0887"
             ],
             [
              0.1111111111111111,
              "#46039f"
             ],
             [
              0.2222222222222222,
              "#7201a8"
             ],
             [
              0.3333333333333333,
              "#9c179e"
             ],
             [
              0.4444444444444444,
              "#bd3786"
             ],
             [
              0.5555555555555556,
              "#d8576b"
             ],
             [
              0.6666666666666666,
              "#ed7953"
             ],
             [
              0.7777777777777778,
              "#fb9f3a"
             ],
             [
              0.8888888888888888,
              "#fdca26"
             ],
             [
              1,
              "#f0f921"
             ]
            ],
            "type": "heatmapgl"
           }
          ],
          "histogram": [
           {
            "marker": {
             "pattern": {
              "fillmode": "overlay",
              "size": 10,
              "solidity": 0.2
             }
            },
            "type": "histogram"
           }
          ],
          "histogram2d": [
           {
            "colorbar": {
             "outlinewidth": 0,
             "ticks": ""
            },
            "colorscale": [
             [
              0,
              "#0d0887"
             ],
             [
              0.1111111111111111,
              "#46039f"
             ],
             [
              0.2222222222222222,
              "#7201a8"
             ],
             [
              0.3333333333333333,
              "#9c179e"
             ],
             [
              0.4444444444444444,
              "#bd3786"
             ],
             [
              0.5555555555555556,
              "#d8576b"
             ],
             [
              0.6666666666666666,
              "#ed7953"
             ],
             [
              0.7777777777777778,
              "#fb9f3a"
             ],
             [
              0.8888888888888888,
              "#fdca26"
             ],
             [
              1,
              "#f0f921"
             ]
            ],
            "type": "histogram2d"
           }
          ],
          "histogram2dcontour": [
           {
            "colorbar": {
             "outlinewidth": 0,
             "ticks": ""
            },
            "colorscale": [
             [
              0,
              "#0d0887"
             ],
             [
              0.1111111111111111,
              "#46039f"
             ],
             [
              0.2222222222222222,
              "#7201a8"
             ],
             [
              0.3333333333333333,
              "#9c179e"
             ],
             [
              0.4444444444444444,
              "#bd3786"
             ],
             [
              0.5555555555555556,
              "#d8576b"
             ],
             [
              0.6666666666666666,
              "#ed7953"
             ],
             [
              0.7777777777777778,
              "#fb9f3a"
             ],
             [
              0.8888888888888888,
              "#fdca26"
             ],
             [
              1,
              "#f0f921"
             ]
            ],
            "type": "histogram2dcontour"
           }
          ],
          "mesh3d": [
           {
            "colorbar": {
             "outlinewidth": 0,
             "ticks": ""
            },
            "type": "mesh3d"
           }
          ],
          "parcoords": [
           {
            "line": {
             "colorbar": {
              "outlinewidth": 0,
              "ticks": ""
             }
            },
            "type": "parcoords"
           }
          ],
          "pie": [
           {
            "automargin": true,
            "type": "pie"
           }
          ],
          "scatter": [
           {
            "marker": {
             "line": {
              "color": "#283442"
             }
            },
            "type": "scatter"
           }
          ],
          "scatter3d": [
           {
            "line": {
             "colorbar": {
              "outlinewidth": 0,
              "ticks": ""
             }
            },
            "marker": {
             "colorbar": {
              "outlinewidth": 0,
              "ticks": ""
             }
            },
            "type": "scatter3d"
           }
          ],
          "scattercarpet": [
           {
            "marker": {
             "colorbar": {
              "outlinewidth": 0,
              "ticks": ""
             }
            },
            "type": "scattercarpet"
           }
          ],
          "scattergeo": [
           {
            "marker": {
             "colorbar": {
              "outlinewidth": 0,
              "ticks": ""
             }
            },
            "type": "scattergeo"
           }
          ],
          "scattergl": [
           {
            "marker": {
             "line": {
              "color": "#283442"
             }
            },
            "type": "scattergl"
           }
          ],
          "scattermapbox": [
           {
            "marker": {
             "colorbar": {
              "outlinewidth": 0,
              "ticks": ""
             }
            },
            "type": "scattermapbox"
           }
          ],
          "scatterpolar": [
           {
            "marker": {
             "colorbar": {
              "outlinewidth": 0,
              "ticks": ""
             }
            },
            "type": "scatterpolar"
           }
          ],
          "scatterpolargl": [
           {
            "marker": {
             "colorbar": {
              "outlinewidth": 0,
              "ticks": ""
             }
            },
            "type": "scatterpolargl"
           }
          ],
          "scatterternary": [
           {
            "marker": {
             "colorbar": {
              "outlinewidth": 0,
              "ticks": ""
             }
            },
            "type": "scatterternary"
           }
          ],
          "surface": [
           {
            "colorbar": {
             "outlinewidth": 0,
             "ticks": ""
            },
            "colorscale": [
             [
              0,
              "#0d0887"
             ],
             [
              0.1111111111111111,
              "#46039f"
             ],
             [
              0.2222222222222222,
              "#7201a8"
             ],
             [
              0.3333333333333333,
              "#9c179e"
             ],
             [
              0.4444444444444444,
              "#bd3786"
             ],
             [
              0.5555555555555556,
              "#d8576b"
             ],
             [
              0.6666666666666666,
              "#ed7953"
             ],
             [
              0.7777777777777778,
              "#fb9f3a"
             ],
             [
              0.8888888888888888,
              "#fdca26"
             ],
             [
              1,
              "#f0f921"
             ]
            ],
            "type": "surface"
           }
          ],
          "table": [
           {
            "cells": {
             "fill": {
              "color": "#506784"
             },
             "line": {
              "color": "rgb(17,17,17)"
             }
            },
            "header": {
             "fill": {
              "color": "#2a3f5f"
             },
             "line": {
              "color": "rgb(17,17,17)"
             }
            },
            "type": "table"
           }
          ]
         },
         "layout": {
          "annotationdefaults": {
           "arrowcolor": "#f2f5fa",
           "arrowhead": 0,
           "arrowwidth": 1
          },
          "autotypenumbers": "strict",
          "coloraxis": {
           "colorbar": {
            "outlinewidth": 0,
            "ticks": ""
           }
          },
          "colorscale": {
           "diverging": [
            [
             0,
             "#8e0152"
            ],
            [
             0.1,
             "#c51b7d"
            ],
            [
             0.2,
             "#de77ae"
            ],
            [
             0.3,
             "#f1b6da"
            ],
            [
             0.4,
             "#fde0ef"
            ],
            [
             0.5,
             "#f7f7f7"
            ],
            [
             0.6,
             "#e6f5d0"
            ],
            [
             0.7,
             "#b8e186"
            ],
            [
             0.8,
             "#7fbc41"
            ],
            [
             0.9,
             "#4d9221"
            ],
            [
             1,
             "#276419"
            ]
           ],
           "sequential": [
            [
             0,
             "#0d0887"
            ],
            [
             0.1111111111111111,
             "#46039f"
            ],
            [
             0.2222222222222222,
             "#7201a8"
            ],
            [
             0.3333333333333333,
             "#9c179e"
            ],
            [
             0.4444444444444444,
             "#bd3786"
            ],
            [
             0.5555555555555556,
             "#d8576b"
            ],
            [
             0.6666666666666666,
             "#ed7953"
            ],
            [
             0.7777777777777778,
             "#fb9f3a"
            ],
            [
             0.8888888888888888,
             "#fdca26"
            ],
            [
             1,
             "#f0f921"
            ]
           ],
           "sequentialminus": [
            [
             0,
             "#0d0887"
            ],
            [
             0.1111111111111111,
             "#46039f"
            ],
            [
             0.2222222222222222,
             "#7201a8"
            ],
            [
             0.3333333333333333,
             "#9c179e"
            ],
            [
             0.4444444444444444,
             "#bd3786"
            ],
            [
             0.5555555555555556,
             "#d8576b"
            ],
            [
             0.6666666666666666,
             "#ed7953"
            ],
            [
             0.7777777777777778,
             "#fb9f3a"
            ],
            [
             0.8888888888888888,
             "#fdca26"
            ],
            [
             1,
             "#f0f921"
            ]
           ]
          },
          "colorway": [
           "#636efa",
           "#EF553B",
           "#00cc96",
           "#ab63fa",
           "#FFA15A",
           "#19d3f3",
           "#FF6692",
           "#B6E880",
           "#FF97FF",
           "#FECB52"
          ],
          "font": {
           "color": "#f2f5fa"
          },
          "geo": {
           "bgcolor": "rgb(17,17,17)",
           "lakecolor": "rgb(17,17,17)",
           "landcolor": "rgb(17,17,17)",
           "showlakes": true,
           "showland": true,
           "subunitcolor": "#506784"
          },
          "hoverlabel": {
           "align": "left"
          },
          "hovermode": "closest",
          "mapbox": {
           "style": "dark"
          },
          "paper_bgcolor": "rgb(17,17,17)",
          "plot_bgcolor": "rgb(17,17,17)",
          "polar": {
           "angularaxis": {
            "gridcolor": "#506784",
            "linecolor": "#506784",
            "ticks": ""
           },
           "bgcolor": "rgb(17,17,17)",
           "radialaxis": {
            "gridcolor": "#506784",
            "linecolor": "#506784",
            "ticks": ""
           }
          },
          "scene": {
           "xaxis": {
            "backgroundcolor": "rgb(17,17,17)",
            "gridcolor": "#506784",
            "gridwidth": 2,
            "linecolor": "#506784",
            "showbackground": true,
            "ticks": "",
            "zerolinecolor": "#C8D4E3"
           },
           "yaxis": {
            "backgroundcolor": "rgb(17,17,17)",
            "gridcolor": "#506784",
            "gridwidth": 2,
            "linecolor": "#506784",
            "showbackground": true,
            "ticks": "",
            "zerolinecolor": "#C8D4E3"
           },
           "zaxis": {
            "backgroundcolor": "rgb(17,17,17)",
            "gridcolor": "#506784",
            "gridwidth": 2,
            "linecolor": "#506784",
            "showbackground": true,
            "ticks": "",
            "zerolinecolor": "#C8D4E3"
           }
          },
          "shapedefaults": {
           "line": {
            "color": "#f2f5fa"
           }
          },
          "sliderdefaults": {
           "bgcolor": "#C8D4E3",
           "bordercolor": "rgb(17,17,17)",
           "borderwidth": 1,
           "tickwidth": 0
          },
          "ternary": {
           "aaxis": {
            "gridcolor": "#506784",
            "linecolor": "#506784",
            "ticks": ""
           },
           "baxis": {
            "gridcolor": "#506784",
            "linecolor": "#506784",
            "ticks": ""
           },
           "bgcolor": "rgb(17,17,17)",
           "caxis": {
            "gridcolor": "#506784",
            "linecolor": "#506784",
            "ticks": ""
           }
          },
          "title": {
           "x": 0.05
          },
          "updatemenudefaults": {
           "bgcolor": "#506784",
           "borderwidth": 0
          },
          "xaxis": {
           "automargin": true,
           "gridcolor": "#283442",
           "linecolor": "#506784",
           "ticks": "",
           "title": {
            "standoff": 15
           },
           "zerolinecolor": "#283442",
           "zerolinewidth": 2
          },
          "yaxis": {
           "automargin": true,
           "gridcolor": "#283442",
           "linecolor": "#506784",
           "ticks": "",
           "title": {
            "standoff": 15
           },
           "zerolinecolor": "#283442",
           "zerolinewidth": 2
          }
         }
        },
        "title": {
         "text": "3D Container and Items"
        },
        "width": 1200
       }
      }
     },
     "metadata": {},
     "output_type": "display_data"
    }
   ],
   "source": []
  },
  {
   "cell_type": "code",
   "execution_count": 1,
   "metadata": {},
   "outputs": [],
   "source": [
    "from py3dbp import Packer, Bin, Item #, Painter\n",
    "import time\n",
    "# start = time.time()\n",
    "\n",
    "'''\n",
    "\n",
    "This example can be used to compare the fix_point function with and without the fix_point function.\n",
    "\n",
    "'''\n",
    "\n",
    "# init packing function\n",
    "packer = Packer()\n",
    "\n",
    "# Evergreen Real Container (20ft Steel Dry Cargo Container)\n",
    "# Unit cm/kg\n",
    "box = Bin(\n",
    "    partno='example0',\n",
    "    WHD=(589.8,243.8,259.1),\n",
    "    # WHD=(600,280,269),    \n",
    "    max_weight=28080,\n",
    "    corner=15,\n",
    "    put_type=0\n",
    ")\n",
    "\n",
    "packer.addBin(box)\n",
    "\n",
    "# dyson DC34 (20.5 * 11.5 * 32.2 ,1.33kg)\n",
    "# 64 pcs per case ,  82 * 46 * 170 (85.12)\n",
    "for i in range(5): \n",
    "    packer.addItem(Item(\n",
    "        partno='Dyson DC34 Animal{}'.format(str(i+1)),\n",
    "        name='Dyson', \n",
    "        typeof='cube',\n",
    "        WHD=(170, 82, 46), \n",
    "        weight=85.12,\n",
    "        level=1,\n",
    "        loadbear=500,\n",
    "        updown=True,\n",
    "        color='#FF0000')\n",
    "    )\n",
    "\n",
    "# washing machine (85 * 60 *60 ,10 kG)\n",
    "# 1 pcs per case, 85 * 60 *60 (10)\n",
    "for i in range(10):\n",
    "    packer.addItem(Item(\n",
    "        partno='wash{}'.format(str(i+1)),\n",
    "        name='wash',\n",
    "        typeof='cube',\n",
    "        WHD=(85, 60, 60), \n",
    "        weight=10,\n",
    "        level=1,\n",
    "        loadbear=500,\n",
    "        updown=True,\n",
    "        color='#FFFF37'\n",
    "    ))\n",
    "\n",
    "# 42U standard cabinet (60 * 80 * 200 , 80 kg)\n",
    "# one per box, 60 * 80 * 200 (80)\n",
    "for i in range(5):\n",
    "    packer.addItem(Item(\n",
    "        partno='Cabinet{}'.format(str(i+1)),\n",
    "        name='cabint',\n",
    "        typeof='cube',\n",
    "        WHD=(60, 80, 200), \n",
    "        weight=80,\n",
    "        level=1,\n",
    "        loadbear=500,\n",
    "        updown=True,\n",
    "        color='#842B00')\n",
    "    )\n",
    "\n",
    "# Server (70 * 100 * 30 , 20 kg) \n",
    "# one per box , 70 * 100 * 30 (20)\n",
    "for i in range(10):\n",
    "    packer.addItem(Item(\n",
    "        partno='Server{}'.format(str(i+1)),\n",
    "        name='server',\n",
    "        typeof='cube',\n",
    "        WHD=(70, 100, 30), \n",
    "        weight=20,\n",
    "        level=1,\n",
    "        loadbear=500,\n",
    "        updown=True,\n",
    "        color='#0000E3')\n",
    "    )\n",
    "\n",
    "\n",
    "# calculate packing\n",
    "packer.pack(\n",
    "    bigger_first=True,\n",
    "    distribute_items=False,\n",
    "    check_stable=True,\n",
    "    fix_point=True, # Try switching fix_point=True/False to compare the results\n",
    "    number_of_decimals=0\n",
    ")\n",
    "\n",
    "# # print result\n",
    "# for box in packer.bins:\n",
    "\n",
    "#     volume = box.width * box.height * box.depth\n",
    "#     print(\":::::::::::\", box.string())\n",
    "\n",
    "#     print(\"FITTED ITEMS:\")\n",
    "#     volume_t = 0\n",
    "#     volume_f = 0\n",
    "#     unfitted_name = ''\n",
    "\n",
    "#     # '''\n",
    "#     for item in box.items:\n",
    "#         print(\"partno : \",item.partno)\n",
    "#         print(\"type : \",item.name)\n",
    "#         print(\"color : \",item.color)\n",
    "#         print(\"position : \",item.position)\n",
    "#         print(\"rotation type : \",item.rotation_type)\n",
    "#         print(\"W*H*D : \",str(item.width) +'*'+ str(item.height) +'*'+ str(item.depth))\n",
    "#         print(\"volume : \",float(item.width) * float(item.height) * float(item.depth))\n",
    "#         print(\"weight : \",float(item.weight))\n",
    "#         volume_t += float(item.width) * float(item.height) * float(item.depth)\n",
    "#         print(\"***************************************************\")\n",
    "#     print(\"***************************************************\")\n",
    "#     # '''\n",
    "#     print(\"UNFITTED ITEMS:\")\n",
    "#     for item in box.unfitted_items:\n",
    "#         print(\"partno : \",item.partno)\n",
    "#         print(\"type : \",item.name)\n",
    "#         print(\"color : \",item.color)\n",
    "#         print(\"W*H*D : \",str(item.width) +'*'+ str(item.height) +'*'+ str(item.depth))\n",
    "#         print(\"volume : \",float(item.width) * float(item.height) * float(item.depth))\n",
    "#         print(\"weight : \",float(item.weight))\n",
    "#         volume_f += float(item.width) * float(item.height) * float(item.depth)\n",
    "#         unfitted_name += '{},'.format(item.partno)\n",
    "#         print(\"***************************************************\")\n",
    "#     print(\"***************************************************\")\n",
    "#     print('space utilization : {}%'.format(round(volume_t / float(volume) * 100 ,2)))\n",
    "#     print('residual volumn : ', float(volume) - volume_t )\n",
    "#     print('unpack item : ',unfitted_name)\n",
    "#     print('unpack item volumn : ',volume_f)\n",
    "#     print(\"gravity distribution : \",box.gravity)\n",
    "#     # '''\n",
    "#     stop = time.time()\n",
    "#     print('used time : ',stop - start)\n",
    "\n",
    "#     # draw results\n",
    "#     print(box)\n",
    "#     painter = Painter(box)\n",
    "#     fig = painter.plotBoxAndItems(\n",
    "#         title=box.partno,\n",
    "#         alpha=0.2,\n",
    "#         write_num=True,\n",
    "#         fontsize=10\n",
    "#     )\n",
    "# fig.show()\n"
   ]
  },
  {
   "cell_type": "code",
   "execution_count": 3,
   "metadata": {},
   "outputs": [
    {
     "name": "stdout",
     "output_type": "stream",
     "text": [
      "[{'space_utilization': 19.83, 'residual_volume': 29893680.0, 'unfitted_items': 'Dyson DC34 Animal5,wash1,wash2,wash3,wash4,wash5,wash6,wash7,wash8,wash9,wash10,Server1,Server2,Server3,Server4,Server5,Server6,Server7,Server8,Server9,Server10', 'unfitted_volume': 5801240.0, 'gravity_distribution': [56.58, 23.15, 17.07, 3.2]}]\n"
     ]
    }
   ],
   "source": [
    "results = []\n",
    "    \n",
    "for box in packer.bins:\n",
    "    volume = box.width * box.height * box.depth\n",
    "    volume_t = 0\n",
    "    volume_f = 0\n",
    "    unfitted_name = ''\n",
    "\n",
    "    for item in box.items:\n",
    "        volume_t += float(item.width) * float(item.height) * float(item.depth)\n",
    "\n",
    "    for item in box.unfitted_items:\n",
    "        volume_f += float(item.width) * float(item.height) * float(item.depth)\n",
    "        unfitted_name += '{},'.format(item.partno)\n",
    "\n",
    "    box_stats = {\n",
    "        'space_utilization': round(volume_t / float(volume) * 100, 2),\n",
    "        'residual_volume': float(volume) - volume_t,\n",
    "        'unfitted_items': unfitted_name.strip(','),\n",
    "        'unfitted_volume': volume_f,\n",
    "        'gravity_distribution': box.gravity\n",
    "    }\n",
    "\n",
    "    results.append(box_stats)\n",
    "    \n",
    "print(results)"
   ]
  },
  {
   "cell_type": "code",
   "execution_count": 4,
   "metadata": {},
   "outputs": [
    {
     "data": {
      "application/vnd.plotly.v1+json": {
       "config": {
        "plotlyServerURL": "https://plot.ly"
       },
       "data": [
        {
         "line": {
          "color": "yellow",
          "width": 3
         },
         "mode": "lines",
         "type": "scatter3d",
         "x": [
          0,
          590
         ],
         "y": [
          0,
          0
         ],
         "z": [
          0,
          0
         ]
        },
        {
         "line": {
          "color": "yellow",
          "width": 3
         },
         "mode": "lines",
         "type": "scatter3d",
         "x": [
          0,
          0
         ],
         "y": [
          0,
          244
         ],
         "z": [
          0,
          0
         ]
        },
        {
         "line": {
          "color": "yellow",
          "width": 3
         },
         "mode": "lines",
         "type": "scatter3d",
         "x": [
          0,
          0
         ],
         "y": [
          0,
          0
         ],
         "z": [
          0,
          259
         ]
        },
        {
         "line": {
          "color": "yellow",
          "width": 3
         },
         "mode": "lines",
         "type": "scatter3d",
         "x": [
          590,
          590
         ],
         "y": [
          0,
          244
         ],
         "z": [
          0,
          0
         ]
        },
        {
         "line": {
          "color": "yellow",
          "width": 3
         },
         "mode": "lines",
         "type": "scatter3d",
         "x": [
          590,
          590
         ],
         "y": [
          0,
          0
         ],
         "z": [
          0,
          259
         ]
        },
        {
         "line": {
          "color": "yellow",
          "width": 3
         },
         "mode": "lines",
         "type": "scatter3d",
         "x": [
          0,
          590
         ],
         "y": [
          244,
          244
         ],
         "z": [
          0,
          0
         ]
        },
        {
         "line": {
          "color": "yellow",
          "width": 3
         },
         "mode": "lines",
         "type": "scatter3d",
         "x": [
          0,
          0
         ],
         "y": [
          244,
          244
         ],
         "z": [
          0,
          259
         ]
        },
        {
         "line": {
          "color": "yellow",
          "width": 3
         },
         "mode": "lines",
         "type": "scatter3d",
         "x": [
          590,
          590
         ],
         "y": [
          244,
          244
         ],
         "z": [
          0,
          259
         ]
        },
        {
         "line": {
          "color": "yellow",
          "width": 3
         },
         "mode": "lines",
         "type": "scatter3d",
         "x": [
          0,
          590
         ],
         "y": [
          0,
          0
         ],
         "z": [
          259,
          259
         ]
        },
        {
         "line": {
          "color": "yellow",
          "width": 3
         },
         "mode": "lines",
         "type": "scatter3d",
         "x": [
          0,
          0
         ],
         "y": [
          0,
          244
         ],
         "z": [
          259,
          259
         ]
        },
        {
         "line": {
          "color": "yellow",
          "width": 3
         },
         "mode": "lines",
         "type": "scatter3d",
         "x": [
          590,
          590
         ],
         "y": [
          0,
          244
         ],
         "z": [
          259,
          259
         ]
        },
        {
         "line": {
          "color": "yellow",
          "width": 3
         },
         "mode": "lines",
         "type": "scatter3d",
         "x": [
          0,
          590
         ],
         "y": [
          244,
          244
         ],
         "z": [
          259,
          259
         ]
        },
        {
         "color": "#778AAE",
         "flatshading": true,
         "i": [
          1,
          2,
          5,
          6,
          1,
          4,
          3,
          6,
          1,
          7,
          0,
          6
         ],
         "j": [
          0,
          3,
          4,
          7,
          0,
          5,
          2,
          7,
          3,
          5,
          2,
          4
         ],
         "k": [
          2,
          1,
          6,
          5,
          4,
          1,
          6,
          3,
          7,
          1,
          6,
          0
         ],
         "opacity": 1,
         "type": "mesh3d",
         "x": [
          0,
          15,
          0,
          15,
          0,
          15,
          0,
          15
         ],
         "y": [
          0,
          0,
          15,
          15,
          0,
          0,
          15,
          15
         ],
         "z": [
          0,
          0,
          0,
          0,
          15,
          15,
          15,
          15
         ]
        },
        {
         "line": {
          "color": "black",
          "width": 0
         },
         "mode": "lines",
         "type": "scatter3d",
         "x": [
          0,
          15
         ],
         "y": [
          15,
          15
         ],
         "z": [
          15,
          15
         ]
        },
        {
         "color": "#862A16",
         "flatshading": true,
         "i": [
          1,
          2,
          5,
          6,
          1,
          4,
          3,
          6,
          1,
          7,
          0,
          6
         ],
         "j": [
          0,
          3,
          4,
          7,
          0,
          5,
          2,
          7,
          3,
          5,
          2,
          4
         ],
         "k": [
          2,
          1,
          6,
          5,
          4,
          1,
          6,
          3,
          7,
          1,
          6,
          0
         ],
         "opacity": 1,
         "type": "mesh3d",
         "x": [
          0,
          15,
          0,
          15,
          0,
          15,
          0,
          15
         ],
         "y": [
          0,
          0,
          15,
          15,
          0,
          0,
          15,
          15
         ],
         "z": [
          244,
          244,
          244,
          244,
          259,
          259,
          259,
          259
         ]
        },
        {
         "line": {
          "color": "black",
          "width": 0
         },
         "mode": "lines",
         "type": "scatter3d",
         "x": [
          0,
          15
         ],
         "y": [
          15,
          15
         ],
         "z": [
          259,
          259
         ]
        },
        {
         "color": "#A777F1",
         "flatshading": true,
         "i": [
          1,
          2,
          5,
          6,
          1,
          4,
          3,
          6,
          1,
          7,
          0,
          6
         ],
         "j": [
          0,
          3,
          4,
          7,
          0,
          5,
          2,
          7,
          3,
          5,
          2,
          4
         ],
         "k": [
          2,
          1,
          6,
          5,
          4,
          1,
          6,
          3,
          7,
          1,
          6,
          0
         ],
         "opacity": 1,
         "type": "mesh3d",
         "x": [
          0,
          15,
          0,
          15,
          0,
          15,
          0,
          15
         ],
         "y": [
          229,
          229,
          244,
          244,
          229,
          229,
          244,
          244
         ],
         "z": [
          244,
          244,
          244,
          244,
          259,
          259,
          259,
          259
         ]
        },
        {
         "line": {
          "color": "black",
          "width": 0
         },
         "mode": "lines",
         "type": "scatter3d",
         "x": [
          0,
          15
         ],
         "y": [
          244,
          244
         ],
         "z": [
          259,
          259
         ]
        },
        {
         "color": "#620042",
         "flatshading": true,
         "i": [
          1,
          2,
          5,
          6,
          1,
          4,
          3,
          6,
          1,
          7,
          0,
          6
         ],
         "j": [
          0,
          3,
          4,
          7,
          0,
          5,
          2,
          7,
          3,
          5,
          2,
          4
         ],
         "k": [
          2,
          1,
          6,
          5,
          4,
          1,
          6,
          3,
          7,
          1,
          6,
          0
         ],
         "opacity": 1,
         "type": "mesh3d",
         "x": [
          0,
          15,
          0,
          15,
          0,
          15,
          0,
          15
         ],
         "y": [
          229,
          229,
          244,
          244,
          229,
          229,
          244,
          244
         ],
         "z": [
          0,
          0,
          0,
          0,
          15,
          15,
          15,
          15
         ]
        },
        {
         "line": {
          "color": "black",
          "width": 0
         },
         "mode": "lines",
         "type": "scatter3d",
         "x": [
          0,
          15
         ],
         "y": [
          244,
          244
         ],
         "z": [
          15,
          15
         ]
        },
        {
         "color": "#1616A7",
         "flatshading": true,
         "i": [
          1,
          2,
          5,
          6,
          1,
          4,
          3,
          6,
          1,
          7,
          0,
          6
         ],
         "j": [
          0,
          3,
          4,
          7,
          0,
          5,
          2,
          7,
          3,
          5,
          2,
          4
         ],
         "k": [
          2,
          1,
          6,
          5,
          4,
          1,
          6,
          3,
          7,
          1,
          6,
          0
         ],
         "opacity": 1,
         "type": "mesh3d",
         "x": [
          575,
          590,
          575,
          590,
          575,
          590,
          575,
          590
         ],
         "y": [
          229,
          229,
          244,
          244,
          229,
          229,
          244,
          244
         ],
         "z": [
          0,
          0,
          0,
          0,
          15,
          15,
          15,
          15
         ]
        },
        {
         "line": {
          "color": "black",
          "width": 0
         },
         "mode": "lines",
         "type": "scatter3d",
         "x": [
          575,
          590
         ],
         "y": [
          244,
          244
         ],
         "z": [
          15,
          15
         ]
        },
        {
         "color": "#DA60CA",
         "flatshading": true,
         "i": [
          1,
          2,
          5,
          6,
          1,
          4,
          3,
          6,
          1,
          7,
          0,
          6
         ],
         "j": [
          0,
          3,
          4,
          7,
          0,
          5,
          2,
          7,
          3,
          5,
          2,
          4
         ],
         "k": [
          2,
          1,
          6,
          5,
          4,
          1,
          6,
          3,
          7,
          1,
          6,
          0
         ],
         "opacity": 1,
         "type": "mesh3d",
         "x": [
          575,
          590,
          575,
          590,
          575,
          590,
          575,
          590
         ],
         "y": [
          0,
          0,
          15,
          15,
          0,
          0,
          15,
          15
         ],
         "z": [
          0,
          0,
          0,
          0,
          15,
          15,
          15,
          15
         ]
        },
        {
         "line": {
          "color": "black",
          "width": 0
         },
         "mode": "lines",
         "type": "scatter3d",
         "x": [
          575,
          590
         ],
         "y": [
          15,
          15
         ],
         "z": [
          15,
          15
         ]
        },
        {
         "color": "#6C4516",
         "flatshading": true,
         "i": [
          1,
          2,
          5,
          6,
          1,
          4,
          3,
          6,
          1,
          7,
          0,
          6
         ],
         "j": [
          0,
          3,
          4,
          7,
          0,
          5,
          2,
          7,
          3,
          5,
          2,
          4
         ],
         "k": [
          2,
          1,
          6,
          5,
          4,
          1,
          6,
          3,
          7,
          1,
          6,
          0
         ],
         "opacity": 1,
         "type": "mesh3d",
         "x": [
          575,
          590,
          575,
          590,
          575,
          590,
          575,
          590
         ],
         "y": [
          0,
          0,
          15,
          15,
          0,
          0,
          15,
          15
         ],
         "z": [
          244,
          244,
          244,
          244,
          259,
          259,
          259,
          259
         ]
        },
        {
         "line": {
          "color": "black",
          "width": 0
         },
         "mode": "lines",
         "type": "scatter3d",
         "x": [
          575,
          590
         ],
         "y": [
          15,
          15
         ],
         "z": [
          259,
          259
         ]
        },
        {
         "color": "#0D2A63",
         "flatshading": true,
         "i": [
          1,
          2,
          5,
          6,
          1,
          4,
          3,
          6,
          1,
          7,
          0,
          6
         ],
         "j": [
          0,
          3,
          4,
          7,
          0,
          5,
          2,
          7,
          3,
          5,
          2,
          4
         ],
         "k": [
          2,
          1,
          6,
          5,
          4,
          1,
          6,
          3,
          7,
          1,
          6,
          0
         ],
         "opacity": 1,
         "type": "mesh3d",
         "x": [
          575,
          590,
          575,
          590,
          575,
          590,
          575,
          590
         ],
         "y": [
          229,
          229,
          244,
          244,
          229,
          229,
          244,
          244
         ],
         "z": [
          244,
          244,
          244,
          244,
          259,
          259,
          259,
          259
         ]
        },
        {
         "line": {
          "color": "black",
          "width": 0
         },
         "mode": "lines",
         "type": "scatter3d",
         "x": [
          575,
          590
         ],
         "y": [
          244,
          244
         ],
         "z": [
          259,
          259
         ]
        },
        {
         "color": "#EB663B",
         "flatshading": true,
         "i": [
          1,
          2,
          5,
          6,
          1,
          4,
          3,
          6,
          1,
          7,
          0,
          6
         ],
         "j": [
          0,
          3,
          4,
          7,
          0,
          5,
          2,
          7,
          3,
          5,
          2,
          4
         ],
         "k": [
          2,
          1,
          6,
          5,
          4,
          1,
          6,
          3,
          7,
          1,
          6,
          0
         ],
         "opacity": 1,
         "type": "mesh3d",
         "x": [
          15,
          75,
          15,
          75,
          15,
          75,
          15,
          75
         ],
         "y": [
          0,
          0,
          80,
          80,
          0,
          0,
          80,
          80
         ],
         "z": [
          0,
          0,
          0,
          0,
          200,
          200,
          200,
          200
         ]
        },
        {
         "line": {
          "color": "black",
          "width": 0
         },
         "mode": "lines",
         "type": "scatter3d",
         "x": [
          15,
          75
         ],
         "y": [
          80,
          80
         ],
         "z": [
          200,
          200
         ]
        },
        {
         "color": "#511CFB",
         "flatshading": true,
         "i": [
          1,
          2,
          5,
          6,
          1,
          4,
          3,
          6,
          1,
          7,
          0,
          6
         ],
         "j": [
          0,
          3,
          4,
          7,
          0,
          5,
          2,
          7,
          3,
          5,
          2,
          4
         ],
         "k": [
          2,
          1,
          6,
          5,
          4,
          1,
          6,
          3,
          7,
          1,
          6,
          0
         ],
         "opacity": 1,
         "type": "mesh3d",
         "x": [
          75,
          135,
          75,
          135,
          75,
          135,
          75,
          135
         ],
         "y": [
          0,
          0,
          80,
          80,
          0,
          0,
          80,
          80
         ],
         "z": [
          0,
          0,
          0,
          0,
          200,
          200,
          200,
          200
         ]
        },
        {
         "line": {
          "color": "black",
          "width": 0
         },
         "mode": "lines",
         "type": "scatter3d",
         "x": [
          75,
          135
         ],
         "y": [
          80,
          80
         ],
         "z": [
          200,
          200
         ]
        },
        {
         "color": "#00A08B",
         "flatshading": true,
         "i": [
          1,
          2,
          5,
          6,
          1,
          4,
          3,
          6,
          1,
          7,
          0,
          6
         ],
         "j": [
          0,
          3,
          4,
          7,
          0,
          5,
          2,
          7,
          3,
          5,
          2,
          4
         ],
         "k": [
          2,
          1,
          6,
          5,
          4,
          1,
          6,
          3,
          7,
          1,
          6,
          0
         ],
         "opacity": 1,
         "type": "mesh3d",
         "x": [
          135,
          195,
          135,
          195,
          135,
          195,
          135,
          195
         ],
         "y": [
          0,
          0,
          80,
          80,
          0,
          0,
          80,
          80
         ],
         "z": [
          0,
          0,
          0,
          0,
          200,
          200,
          200,
          200
         ]
        },
        {
         "line": {
          "color": "black",
          "width": 0
         },
         "mode": "lines",
         "type": "scatter3d",
         "x": [
          135,
          195
         ],
         "y": [
          80,
          80
         ],
         "z": [
          200,
          200
         ]
        },
        {
         "color": "#FB00D1",
         "flatshading": true,
         "i": [
          1,
          2,
          5,
          6,
          1,
          4,
          3,
          6,
          1,
          7,
          0,
          6
         ],
         "j": [
          0,
          3,
          4,
          7,
          0,
          5,
          2,
          7,
          3,
          5,
          2,
          4
         ],
         "k": [
          2,
          1,
          6,
          5,
          4,
          1,
          6,
          3,
          7,
          1,
          6,
          0
         ],
         "opacity": 1,
         "type": "mesh3d",
         "x": [
          195,
          255,
          195,
          255,
          195,
          255,
          195,
          255
         ],
         "y": [
          0,
          0,
          80,
          80,
          0,
          0,
          80,
          80
         ],
         "z": [
          0,
          0,
          0,
          0,
          200,
          200,
          200,
          200
         ]
        },
        {
         "line": {
          "color": "black",
          "width": 0
         },
         "mode": "lines",
         "type": "scatter3d",
         "x": [
          195,
          255
         ],
         "y": [
          80,
          80
         ],
         "z": [
          200,
          200
         ]
        },
        {
         "color": "#FC0080",
         "flatshading": true,
         "i": [
          1,
          2,
          5,
          6,
          1,
          4,
          3,
          6,
          1,
          7,
          0,
          6
         ],
         "j": [
          0,
          3,
          4,
          7,
          0,
          5,
          2,
          7,
          3,
          5,
          2,
          4
         ],
         "k": [
          2,
          1,
          6,
          5,
          4,
          1,
          6,
          3,
          7,
          1,
          6,
          0
         ],
         "opacity": 1,
         "type": "mesh3d",
         "x": [
          255,
          315,
          255,
          315,
          255,
          315,
          255,
          315
         ],
         "y": [
          0,
          0,
          80,
          80,
          0,
          0,
          80,
          80
         ],
         "z": [
          0,
          0,
          0,
          0,
          200,
          200,
          200,
          200
         ]
        },
        {
         "line": {
          "color": "black",
          "width": 0
         },
         "mode": "lines",
         "type": "scatter3d",
         "x": [
          255,
          315
         ],
         "y": [
          80,
          80
         ],
         "z": [
          200,
          200
         ]
        },
        {
         "color": "#6C4516",
         "flatshading": true,
         "i": [
          1,
          2,
          5,
          6,
          1,
          4,
          3,
          6,
          1,
          7,
          0,
          6
         ],
         "j": [
          0,
          3,
          4,
          7,
          0,
          5,
          2,
          7,
          3,
          5,
          2,
          4
         ],
         "k": [
          2,
          1,
          6,
          5,
          4,
          1,
          6,
          3,
          7,
          1,
          6,
          0
         ],
         "opacity": 1,
         "type": "mesh3d",
         "x": [
          315,
          485,
          315,
          485,
          315,
          485,
          315,
          485
         ],
         "y": [
          0,
          0,
          82,
          82,
          0,
          0,
          82,
          82
         ],
         "z": [
          0,
          0,
          0,
          0,
          46,
          46,
          46,
          46
         ]
        },
        {
         "line": {
          "color": "black",
          "width": 0
         },
         "mode": "lines",
         "type": "scatter3d",
         "x": [
          315,
          485
         ],
         "y": [
          82,
          82
         ],
         "z": [
          46,
          46
         ]
        },
        {
         "color": "#0D2A63",
         "flatshading": true,
         "i": [
          1,
          2,
          5,
          6,
          1,
          4,
          3,
          6,
          1,
          7,
          0,
          6
         ],
         "j": [
          0,
          3,
          4,
          7,
          0,
          5,
          2,
          7,
          3,
          5,
          2,
          4
         ],
         "k": [
          2,
          1,
          6,
          5,
          4,
          1,
          6,
          3,
          7,
          1,
          6,
          0
         ],
         "opacity": 1,
         "type": "mesh3d",
         "x": [
          485,
          567,
          485,
          567,
          485,
          567,
          485,
          567
         ],
         "y": [
          0,
          0,
          170,
          170,
          0,
          0,
          170,
          170
         ],
         "z": [
          0,
          0,
          0,
          0,
          46,
          46,
          46,
          46
         ]
        },
        {
         "line": {
          "color": "black",
          "width": 0
         },
         "mode": "lines",
         "type": "scatter3d",
         "x": [
          485,
          567
         ],
         "y": [
          170,
          170
         ],
         "z": [
          46,
          46
         ]
        },
        {
         "color": "#AF0038",
         "flatshading": true,
         "i": [
          1,
          2,
          5,
          6,
          1,
          4,
          3,
          6,
          1,
          7,
          0,
          6
         ],
         "j": [
          0,
          3,
          4,
          7,
          0,
          5,
          2,
          7,
          3,
          5,
          2,
          4
         ],
         "k": [
          2,
          1,
          6,
          5,
          4,
          1,
          6,
          3,
          7,
          1,
          6,
          0
         ],
         "opacity": 1,
         "type": "mesh3d",
         "x": [
          0,
          170,
          0,
          170,
          0,
          170,
          0,
          170
         ],
         "y": [
          80,
          80,
          162,
          162,
          80,
          80,
          162,
          162
         ],
         "z": [
          0,
          0,
          0,
          0,
          46,
          46,
          46,
          46
         ]
        },
        {
         "line": {
          "color": "black",
          "width": 0
         },
         "mode": "lines",
         "type": "scatter3d",
         "x": [
          0,
          170
         ],
         "y": [
          162,
          162
         ],
         "z": [
          46,
          46
         ]
        },
        {
         "color": "#2E91E5",
         "flatshading": true,
         "i": [
          1,
          2,
          5,
          6,
          1,
          4,
          3,
          6,
          1,
          7,
          0,
          6
         ],
         "j": [
          0,
          3,
          4,
          7,
          0,
          5,
          2,
          7,
          3,
          5,
          2,
          4
         ],
         "k": [
          2,
          1,
          6,
          5,
          4,
          1,
          6,
          3,
          7,
          1,
          6,
          0
         ],
         "opacity": 1,
         "type": "mesh3d",
         "x": [
          0,
          82,
          0,
          82,
          0,
          82,
          0,
          82
         ],
         "y": [
          162,
          162,
          208,
          208,
          162,
          162,
          208,
          208
         ],
         "z": [
          0,
          0,
          0,
          0,
          170,
          170,
          170,
          170
         ]
        },
        {
         "line": {
          "color": "black",
          "width": 0
         },
         "mode": "lines",
         "type": "scatter3d",
         "x": [
          0,
          82
         ],
         "y": [
          208,
          208
         ],
         "z": [
          170,
          170
         ]
        }
       ],
       "layout": {
        "height": 800,
        "margin": {
         "b": 10,
         "l": 10,
         "r": 20,
         "t": 10
        },
        "scene": {
         "aspectmode": "cube",
         "camera": {
          "center": {
           "x": 0,
           "y": 0,
           "z": 0
          },
          "eye": {
           "x": 1.25,
           "y": 1.25,
           "z": 1.25
          },
          "up": {
           "x": 0,
           "y": 0,
           "z": 1
          }
         },
         "xaxis": {
          "nticks": 592,
          "range": [
           0,
           595
          ],
          "showgrid": false,
          "showticklabels": false
         },
         "yaxis": {
          "nticks": 246,
          "range": [
           0,
           249
          ],
          "showgrid": false,
          "showticklabels": false
         },
         "zaxis": {
          "nticks": 261,
          "range": [
           0,
           264
          ],
          "showgrid": false,
          "showticklabels": false
         }
        },
        "showlegend": false,
        "template": {
         "data": {
          "bar": [
           {
            "error_x": {
             "color": "#f2f5fa"
            },
            "error_y": {
             "color": "#f2f5fa"
            },
            "marker": {
             "line": {
              "color": "rgb(17,17,17)",
              "width": 0.5
             },
             "pattern": {
              "fillmode": "overlay",
              "size": 10,
              "solidity": 0.2
             }
            },
            "type": "bar"
           }
          ],
          "barpolar": [
           {
            "marker": {
             "line": {
              "color": "rgb(17,17,17)",
              "width": 0.5
             },
             "pattern": {
              "fillmode": "overlay",
              "size": 10,
              "solidity": 0.2
             }
            },
            "type": "barpolar"
           }
          ],
          "carpet": [
           {
            "aaxis": {
             "endlinecolor": "#A2B1C6",
             "gridcolor": "#506784",
             "linecolor": "#506784",
             "minorgridcolor": "#506784",
             "startlinecolor": "#A2B1C6"
            },
            "baxis": {
             "endlinecolor": "#A2B1C6",
             "gridcolor": "#506784",
             "linecolor": "#506784",
             "minorgridcolor": "#506784",
             "startlinecolor": "#A2B1C6"
            },
            "type": "carpet"
           }
          ],
          "choropleth": [
           {
            "colorbar": {
             "outlinewidth": 0,
             "ticks": ""
            },
            "type": "choropleth"
           }
          ],
          "contour": [
           {
            "colorbar": {
             "outlinewidth": 0,
             "ticks": ""
            },
            "colorscale": [
             [
              0,
              "#0d0887"
             ],
             [
              0.1111111111111111,
              "#46039f"
             ],
             [
              0.2222222222222222,
              "#7201a8"
             ],
             [
              0.3333333333333333,
              "#9c179e"
             ],
             [
              0.4444444444444444,
              "#bd3786"
             ],
             [
              0.5555555555555556,
              "#d8576b"
             ],
             [
              0.6666666666666666,
              "#ed7953"
             ],
             [
              0.7777777777777778,
              "#fb9f3a"
             ],
             [
              0.8888888888888888,
              "#fdca26"
             ],
             [
              1,
              "#f0f921"
             ]
            ],
            "type": "contour"
           }
          ],
          "contourcarpet": [
           {
            "colorbar": {
             "outlinewidth": 0,
             "ticks": ""
            },
            "type": "contourcarpet"
           }
          ],
          "heatmap": [
           {
            "colorbar": {
             "outlinewidth": 0,
             "ticks": ""
            },
            "colorscale": [
             [
              0,
              "#0d0887"
             ],
             [
              0.1111111111111111,
              "#46039f"
             ],
             [
              0.2222222222222222,
              "#7201a8"
             ],
             [
              0.3333333333333333,
              "#9c179e"
             ],
             [
              0.4444444444444444,
              "#bd3786"
             ],
             [
              0.5555555555555556,
              "#d8576b"
             ],
             [
              0.6666666666666666,
              "#ed7953"
             ],
             [
              0.7777777777777778,
              "#fb9f3a"
             ],
             [
              0.8888888888888888,
              "#fdca26"
             ],
             [
              1,
              "#f0f921"
             ]
            ],
            "type": "heatmap"
           }
          ],
          "heatmapgl": [
           {
            "colorbar": {
             "outlinewidth": 0,
             "ticks": ""
            },
            "colorscale": [
             [
              0,
              "#0d0887"
             ],
             [
              0.1111111111111111,
              "#46039f"
             ],
             [
              0.2222222222222222,
              "#7201a8"
             ],
             [
              0.3333333333333333,
              "#9c179e"
             ],
             [
              0.4444444444444444,
              "#bd3786"
             ],
             [
              0.5555555555555556,
              "#d8576b"
             ],
             [
              0.6666666666666666,
              "#ed7953"
             ],
             [
              0.7777777777777778,
              "#fb9f3a"
             ],
             [
              0.8888888888888888,
              "#fdca26"
             ],
             [
              1,
              "#f0f921"
             ]
            ],
            "type": "heatmapgl"
           }
          ],
          "histogram": [
           {
            "marker": {
             "pattern": {
              "fillmode": "overlay",
              "size": 10,
              "solidity": 0.2
             }
            },
            "type": "histogram"
           }
          ],
          "histogram2d": [
           {
            "colorbar": {
             "outlinewidth": 0,
             "ticks": ""
            },
            "colorscale": [
             [
              0,
              "#0d0887"
             ],
             [
              0.1111111111111111,
              "#46039f"
             ],
             [
              0.2222222222222222,
              "#7201a8"
             ],
             [
              0.3333333333333333,
              "#9c179e"
             ],
             [
              0.4444444444444444,
              "#bd3786"
             ],
             [
              0.5555555555555556,
              "#d8576b"
             ],
             [
              0.6666666666666666,
              "#ed7953"
             ],
             [
              0.7777777777777778,
              "#fb9f3a"
             ],
             [
              0.8888888888888888,
              "#fdca26"
             ],
             [
              1,
              "#f0f921"
             ]
            ],
            "type": "histogram2d"
           }
          ],
          "histogram2dcontour": [
           {
            "colorbar": {
             "outlinewidth": 0,
             "ticks": ""
            },
            "colorscale": [
             [
              0,
              "#0d0887"
             ],
             [
              0.1111111111111111,
              "#46039f"
             ],
             [
              0.2222222222222222,
              "#7201a8"
             ],
             [
              0.3333333333333333,
              "#9c179e"
             ],
             [
              0.4444444444444444,
              "#bd3786"
             ],
             [
              0.5555555555555556,
              "#d8576b"
             ],
             [
              0.6666666666666666,
              "#ed7953"
             ],
             [
              0.7777777777777778,
              "#fb9f3a"
             ],
             [
              0.8888888888888888,
              "#fdca26"
             ],
             [
              1,
              "#f0f921"
             ]
            ],
            "type": "histogram2dcontour"
           }
          ],
          "mesh3d": [
           {
            "colorbar": {
             "outlinewidth": 0,
             "ticks": ""
            },
            "type": "mesh3d"
           }
          ],
          "parcoords": [
           {
            "line": {
             "colorbar": {
              "outlinewidth": 0,
              "ticks": ""
             }
            },
            "type": "parcoords"
           }
          ],
          "pie": [
           {
            "automargin": true,
            "type": "pie"
           }
          ],
          "scatter": [
           {
            "marker": {
             "line": {
              "color": "#283442"
             }
            },
            "type": "scatter"
           }
          ],
          "scatter3d": [
           {
            "line": {
             "colorbar": {
              "outlinewidth": 0,
              "ticks": ""
             }
            },
            "marker": {
             "colorbar": {
              "outlinewidth": 0,
              "ticks": ""
             }
            },
            "type": "scatter3d"
           }
          ],
          "scattercarpet": [
           {
            "marker": {
             "colorbar": {
              "outlinewidth": 0,
              "ticks": ""
             }
            },
            "type": "scattercarpet"
           }
          ],
          "scattergeo": [
           {
            "marker": {
             "colorbar": {
              "outlinewidth": 0,
              "ticks": ""
             }
            },
            "type": "scattergeo"
           }
          ],
          "scattergl": [
           {
            "marker": {
             "line": {
              "color": "#283442"
             }
            },
            "type": "scattergl"
           }
          ],
          "scattermapbox": [
           {
            "marker": {
             "colorbar": {
              "outlinewidth": 0,
              "ticks": ""
             }
            },
            "type": "scattermapbox"
           }
          ],
          "scatterpolar": [
           {
            "marker": {
             "colorbar": {
              "outlinewidth": 0,
              "ticks": ""
             }
            },
            "type": "scatterpolar"
           }
          ],
          "scatterpolargl": [
           {
            "marker": {
             "colorbar": {
              "outlinewidth": 0,
              "ticks": ""
             }
            },
            "type": "scatterpolargl"
           }
          ],
          "scatterternary": [
           {
            "marker": {
             "colorbar": {
              "outlinewidth": 0,
              "ticks": ""
             }
            },
            "type": "scatterternary"
           }
          ],
          "surface": [
           {
            "colorbar": {
             "outlinewidth": 0,
             "ticks": ""
            },
            "colorscale": [
             [
              0,
              "#0d0887"
             ],
             [
              0.1111111111111111,
              "#46039f"
             ],
             [
              0.2222222222222222,
              "#7201a8"
             ],
             [
              0.3333333333333333,
              "#9c179e"
             ],
             [
              0.4444444444444444,
              "#bd3786"
             ],
             [
              0.5555555555555556,
              "#d8576b"
             ],
             [
              0.6666666666666666,
              "#ed7953"
             ],
             [
              0.7777777777777778,
              "#fb9f3a"
             ],
             [
              0.8888888888888888,
              "#fdca26"
             ],
             [
              1,
              "#f0f921"
             ]
            ],
            "type": "surface"
           }
          ],
          "table": [
           {
            "cells": {
             "fill": {
              "color": "#506784"
             },
             "line": {
              "color": "rgb(17,17,17)"
             }
            },
            "header": {
             "fill": {
              "color": "#2a3f5f"
             },
             "line": {
              "color": "rgb(17,17,17)"
             }
            },
            "type": "table"
           }
          ]
         },
         "layout": {
          "annotationdefaults": {
           "arrowcolor": "#f2f5fa",
           "arrowhead": 0,
           "arrowwidth": 1
          },
          "autotypenumbers": "strict",
          "coloraxis": {
           "colorbar": {
            "outlinewidth": 0,
            "ticks": ""
           }
          },
          "colorscale": {
           "diverging": [
            [
             0,
             "#8e0152"
            ],
            [
             0.1,
             "#c51b7d"
            ],
            [
             0.2,
             "#de77ae"
            ],
            [
             0.3,
             "#f1b6da"
            ],
            [
             0.4,
             "#fde0ef"
            ],
            [
             0.5,
             "#f7f7f7"
            ],
            [
             0.6,
             "#e6f5d0"
            ],
            [
             0.7,
             "#b8e186"
            ],
            [
             0.8,
             "#7fbc41"
            ],
            [
             0.9,
             "#4d9221"
            ],
            [
             1,
             "#276419"
            ]
           ],
           "sequential": [
            [
             0,
             "#0d0887"
            ],
            [
             0.1111111111111111,
             "#46039f"
            ],
            [
             0.2222222222222222,
             "#7201a8"
            ],
            [
             0.3333333333333333,
             "#9c179e"
            ],
            [
             0.4444444444444444,
             "#bd3786"
            ],
            [
             0.5555555555555556,
             "#d8576b"
            ],
            [
             0.6666666666666666,
             "#ed7953"
            ],
            [
             0.7777777777777778,
             "#fb9f3a"
            ],
            [
             0.8888888888888888,
             "#fdca26"
            ],
            [
             1,
             "#f0f921"
            ]
           ],
           "sequentialminus": [
            [
             0,
             "#0d0887"
            ],
            [
             0.1111111111111111,
             "#46039f"
            ],
            [
             0.2222222222222222,
             "#7201a8"
            ],
            [
             0.3333333333333333,
             "#9c179e"
            ],
            [
             0.4444444444444444,
             "#bd3786"
            ],
            [
             0.5555555555555556,
             "#d8576b"
            ],
            [
             0.6666666666666666,
             "#ed7953"
            ],
            [
             0.7777777777777778,
             "#fb9f3a"
            ],
            [
             0.8888888888888888,
             "#fdca26"
            ],
            [
             1,
             "#f0f921"
            ]
           ]
          },
          "colorway": [
           "#636efa",
           "#EF553B",
           "#00cc96",
           "#ab63fa",
           "#FFA15A",
           "#19d3f3",
           "#FF6692",
           "#B6E880",
           "#FF97FF",
           "#FECB52"
          ],
          "font": {
           "color": "#f2f5fa"
          },
          "geo": {
           "bgcolor": "rgb(17,17,17)",
           "lakecolor": "rgb(17,17,17)",
           "landcolor": "rgb(17,17,17)",
           "showlakes": true,
           "showland": true,
           "subunitcolor": "#506784"
          },
          "hoverlabel": {
           "align": "left"
          },
          "hovermode": "closest",
          "mapbox": {
           "style": "dark"
          },
          "paper_bgcolor": "rgb(17,17,17)",
          "plot_bgcolor": "rgb(17,17,17)",
          "polar": {
           "angularaxis": {
            "gridcolor": "#506784",
            "linecolor": "#506784",
            "ticks": ""
           },
           "bgcolor": "rgb(17,17,17)",
           "radialaxis": {
            "gridcolor": "#506784",
            "linecolor": "#506784",
            "ticks": ""
           }
          },
          "scene": {
           "xaxis": {
            "backgroundcolor": "rgb(17,17,17)",
            "gridcolor": "#506784",
            "gridwidth": 2,
            "linecolor": "#506784",
            "showbackground": true,
            "ticks": "",
            "zerolinecolor": "#C8D4E3"
           },
           "yaxis": {
            "backgroundcolor": "rgb(17,17,17)",
            "gridcolor": "#506784",
            "gridwidth": 2,
            "linecolor": "#506784",
            "showbackground": true,
            "ticks": "",
            "zerolinecolor": "#C8D4E3"
           },
           "zaxis": {
            "backgroundcolor": "rgb(17,17,17)",
            "gridcolor": "#506784",
            "gridwidth": 2,
            "linecolor": "#506784",
            "showbackground": true,
            "ticks": "",
            "zerolinecolor": "#C8D4E3"
           }
          },
          "shapedefaults": {
           "line": {
            "color": "#f2f5fa"
           }
          },
          "sliderdefaults": {
           "bgcolor": "#C8D4E3",
           "bordercolor": "rgb(17,17,17)",
           "borderwidth": 1,
           "tickwidth": 0
          },
          "ternary": {
           "aaxis": {
            "gridcolor": "#506784",
            "linecolor": "#506784",
            "ticks": ""
           },
           "baxis": {
            "gridcolor": "#506784",
            "linecolor": "#506784",
            "ticks": ""
           },
           "bgcolor": "rgb(17,17,17)",
           "caxis": {
            "gridcolor": "#506784",
            "linecolor": "#506784",
            "ticks": ""
           }
          },
          "title": {
           "x": 0.05
          },
          "updatemenudefaults": {
           "bgcolor": "#506784",
           "borderwidth": 0
          },
          "xaxis": {
           "automargin": true,
           "gridcolor": "#283442",
           "linecolor": "#506784",
           "ticks": "",
           "title": {
            "standoff": 15
           },
           "zerolinecolor": "#283442",
           "zerolinewidth": 2
          },
          "yaxis": {
           "automargin": true,
           "gridcolor": "#283442",
           "linecolor": "#506784",
           "ticks": "",
           "title": {
            "standoff": 15
           },
           "zerolinecolor": "#283442",
           "zerolinewidth": 2
          }
         }
        },
        "width": 800
       }
      }
     },
     "metadata": {},
     "output_type": "display_data"
    }
   ],
   "source": [
    "box._plot()"
   ]
  },
  {
   "cell_type": "code",
   "execution_count": 5,
   "metadata": {},
   "outputs": [],
   "source": [
    "packer = Packer()\n",
    "#  init bin \n",
    "box = Bin('example6', (5, 4, 7), 100,0,0)\n",
    "#  add item\n",
    "# Item('item partno', (W,H,D), Weight, Packing Priority level, load bear, Upside down or not , 'item color')\n",
    "packer.addBin(box)\n",
    "packer.addItem(Item(partno='Box-1', name='test', typeof='cube', WHD=(5, 4, 1), weight=1, level=1,loadbear=100, updown=True, color='yellow'))\n",
    "packer.addItem(Item(partno='Box-2', name='test', typeof='cube', WHD=(1, 1, 4), weight=1, level=2,loadbear=100, updown=True, color='olive'))\n",
    "packer.addItem(Item(partno='Box-3', name='test', typeof='cube', WHD=(3, 4, 2), weight=1, level=3,loadbear=100, updown=True, color='pink'))\n",
    "packer.addItem(Item(partno='Box-4', name='test', typeof='cube', WHD=(1, 1, 4), weight=1, level=4,loadbear=100, updown=True, color='olive'))\n",
    "packer.addItem(Item(partno='Box-5', name='test', typeof='cube', WHD=(1, 2, 1), weight=1, level=5,loadbear=100, updown=True, color='pink'))\n",
    "packer.addItem(Item(partno='Box-6', name='test', typeof='cube', WHD=(1, 2, 1), weight=1, level=6,loadbear=100, updown=True, color='pink'))\n",
    "packer.addItem(Item(partno='Box-7', name='test', typeof='cube', WHD=(1, 1, 4), weight=1, level=7,loadbear=100, updown=True, color='olive'))\n",
    "packer.addItem(Item(partno='Box-8', name='test', typeof='cube', WHD=(1, 1, 4), weight=1, level=8,loadbear=100, updown=True, color='olive'))# Try switching WHD=(1, 1, 3) and (1, 1, 4) to compare the results\n",
    "packer.addItem(Item(partno='Box-9', name='test', typeof='cube', WHD=(5, 4, 2), weight=1, level=9,loadbear=100, updown=True, color='brown'))\n",
    "\n",
    "# calculate packing \n",
    "packer.pack(\n",
    "    bigger_first=True,\n",
    "    distribute_items=False,\n",
    "    fix_point=True,\n",
    "    check_stable=True,\n",
    "    support_surface_ratio=0.75,\n",
    "    number_of_decimals=0\n",
    ")\n",
    "\n",
    "# put order\n",
    "packer.putOrder()\n"
   ]
  },
  {
   "cell_type": "code",
   "execution_count": 6,
   "metadata": {},
   "outputs": [
    {
     "data": {
      "application/vnd.plotly.v1+json": {
       "config": {
        "plotlyServerURL": "https://plot.ly"
       },
       "data": [
        {
         "line": {
          "color": "yellow",
          "width": 3
         },
         "mode": "lines",
         "type": "scatter3d",
         "x": [
          0,
          5
         ],
         "y": [
          0,
          0
         ],
         "z": [
          0,
          0
         ]
        },
        {
         "line": {
          "color": "yellow",
          "width": 3
         },
         "mode": "lines",
         "type": "scatter3d",
         "x": [
          0,
          0
         ],
         "y": [
          0,
          4
         ],
         "z": [
          0,
          0
         ]
        },
        {
         "line": {
          "color": "yellow",
          "width": 3
         },
         "mode": "lines",
         "type": "scatter3d",
         "x": [
          0,
          0
         ],
         "y": [
          0,
          0
         ],
         "z": [
          0,
          7
         ]
        },
        {
         "line": {
          "color": "yellow",
          "width": 3
         },
         "mode": "lines",
         "type": "scatter3d",
         "x": [
          5,
          5
         ],
         "y": [
          0,
          4
         ],
         "z": [
          0,
          0
         ]
        },
        {
         "line": {
          "color": "yellow",
          "width": 3
         },
         "mode": "lines",
         "type": "scatter3d",
         "x": [
          5,
          5
         ],
         "y": [
          0,
          0
         ],
         "z": [
          0,
          7
         ]
        },
        {
         "line": {
          "color": "yellow",
          "width": 3
         },
         "mode": "lines",
         "type": "scatter3d",
         "x": [
          0,
          5
         ],
         "y": [
          4,
          4
         ],
         "z": [
          0,
          0
         ]
        },
        {
         "line": {
          "color": "yellow",
          "width": 3
         },
         "mode": "lines",
         "type": "scatter3d",
         "x": [
          0,
          0
         ],
         "y": [
          4,
          4
         ],
         "z": [
          0,
          7
         ]
        },
        {
         "line": {
          "color": "yellow",
          "width": 3
         },
         "mode": "lines",
         "type": "scatter3d",
         "x": [
          5,
          5
         ],
         "y": [
          4,
          4
         ],
         "z": [
          0,
          7
         ]
        },
        {
         "line": {
          "color": "yellow",
          "width": 3
         },
         "mode": "lines",
         "type": "scatter3d",
         "x": [
          0,
          5
         ],
         "y": [
          0,
          0
         ],
         "z": [
          7,
          7
         ]
        },
        {
         "line": {
          "color": "yellow",
          "width": 3
         },
         "mode": "lines",
         "type": "scatter3d",
         "x": [
          0,
          0
         ],
         "y": [
          0,
          4
         ],
         "z": [
          7,
          7
         ]
        },
        {
         "line": {
          "color": "yellow",
          "width": 3
         },
         "mode": "lines",
         "type": "scatter3d",
         "x": [
          5,
          5
         ],
         "y": [
          0,
          4
         ],
         "z": [
          7,
          7
         ]
        },
        {
         "line": {
          "color": "yellow",
          "width": 3
         },
         "mode": "lines",
         "type": "scatter3d",
         "x": [
          0,
          5
         ],
         "y": [
          4,
          4
         ],
         "z": [
          7,
          7
         ]
        },
        {
         "color": "#DA60CA",
         "flatshading": true,
         "i": [
          1,
          2,
          5,
          6,
          1,
          4,
          3,
          6,
          1,
          7,
          0,
          6
         ],
         "j": [
          0,
          3,
          4,
          7,
          0,
          5,
          2,
          7,
          3,
          5,
          2,
          4
         ],
         "k": [
          2,
          1,
          6,
          5,
          4,
          1,
          6,
          3,
          7,
          1,
          6,
          0
         ],
         "opacity": 1,
         "type": "mesh3d",
         "x": [
          0,
          5,
          0,
          5,
          0,
          5,
          0,
          5
         ],
         "y": [
          0,
          0,
          4,
          4,
          0,
          0,
          4,
          4
         ],
         "z": [
          0,
          0,
          0,
          0,
          1,
          1,
          1,
          1
         ]
        },
        {
         "line": {
          "color": "black",
          "width": 0
         },
         "mode": "lines",
         "type": "scatter3d",
         "x": [
          0,
          5
         ],
         "y": [
          4,
          4
         ],
         "z": [
          1,
          1
         ]
        },
        {
         "color": "#222A2A",
         "flatshading": true,
         "i": [
          1,
          2,
          5,
          6,
          1,
          4,
          3,
          6,
          1,
          7,
          0,
          6
         ],
         "j": [
          0,
          3,
          4,
          7,
          0,
          5,
          2,
          7,
          3,
          5,
          2,
          4
         ],
         "k": [
          2,
          1,
          6,
          5,
          4,
          1,
          6,
          3,
          7,
          1,
          6,
          0
         ],
         "opacity": 1,
         "type": "mesh3d",
         "x": [
          0,
          1,
          0,
          1,
          0,
          1,
          0,
          1
         ],
         "y": [
          0,
          0,
          1,
          1,
          0,
          0,
          1,
          1
         ],
         "z": [
          1,
          1,
          1,
          1,
          5,
          5,
          5,
          5
         ]
        },
        {
         "line": {
          "color": "black",
          "width": 0
         },
         "mode": "lines",
         "type": "scatter3d",
         "x": [
          0,
          1
         ],
         "y": [
          1,
          1
         ],
         "z": [
          5,
          5
         ]
        },
        {
         "color": "#1CA71C",
         "flatshading": true,
         "i": [
          1,
          2,
          5,
          6,
          1,
          4,
          3,
          6,
          1,
          7,
          0,
          6
         ],
         "j": [
          0,
          3,
          4,
          7,
          0,
          5,
          2,
          7,
          3,
          5,
          2,
          4
         ],
         "k": [
          2,
          1,
          6,
          5,
          4,
          1,
          6,
          3,
          7,
          1,
          6,
          0
         ],
         "opacity": 1,
         "type": "mesh3d",
         "x": [
          1,
          4,
          1,
          4,
          1,
          4,
          1,
          4
         ],
         "y": [
          0,
          0,
          4,
          4,
          0,
          0,
          4,
          4
         ],
         "z": [
          1,
          1,
          1,
          1,
          3,
          3,
          3,
          3
         ]
        },
        {
         "line": {
          "color": "black",
          "width": 0
         },
         "mode": "lines",
         "type": "scatter3d",
         "x": [
          1,
          4
         ],
         "y": [
          4,
          4
         ],
         "z": [
          3,
          3
         ]
        },
        {
         "color": "#750D86",
         "flatshading": true,
         "i": [
          1,
          2,
          5,
          6,
          1,
          4,
          3,
          6,
          1,
          7,
          0,
          6
         ],
         "j": [
          0,
          3,
          4,
          7,
          0,
          5,
          2,
          7,
          3,
          5,
          2,
          4
         ],
         "k": [
          2,
          1,
          6,
          5,
          4,
          1,
          6,
          3,
          7,
          1,
          6,
          0
         ],
         "opacity": 1,
         "type": "mesh3d",
         "x": [
          4,
          5,
          4,
          5,
          4,
          5,
          4,
          5
         ],
         "y": [
          0,
          0,
          1,
          1,
          0,
          0,
          1,
          1
         ],
         "z": [
          1,
          1,
          1,
          1,
          5,
          5,
          5,
          5
         ]
        },
        {
         "line": {
          "color": "black",
          "width": 0
         },
         "mode": "lines",
         "type": "scatter3d",
         "x": [
          4,
          5
         ],
         "y": [
          1,
          1
         ],
         "z": [
          5,
          5
         ]
        },
        {
         "color": "#B68100",
         "flatshading": true,
         "i": [
          1,
          2,
          5,
          6,
          1,
          4,
          3,
          6,
          1,
          7,
          0,
          6
         ],
         "j": [
          0,
          3,
          4,
          7,
          0,
          5,
          2,
          7,
          3,
          5,
          2,
          4
         ],
         "k": [
          2,
          1,
          6,
          5,
          4,
          1,
          6,
          3,
          7,
          1,
          6,
          0
         ],
         "opacity": 1,
         "type": "mesh3d",
         "x": [
          0,
          1,
          0,
          1,
          0,
          1,
          0,
          1
         ],
         "y": [
          1,
          1,
          3,
          3,
          1,
          1,
          3,
          3
         ],
         "z": [
          1,
          1,
          1,
          1,
          2,
          2,
          2,
          2
         ]
        },
        {
         "line": {
          "color": "black",
          "width": 0
         },
         "mode": "lines",
         "type": "scatter3d",
         "x": [
          0,
          1
         ],
         "y": [
          3,
          3
         ],
         "z": [
          2,
          2
         ]
        },
        {
         "color": "#750D86",
         "flatshading": true,
         "i": [
          1,
          2,
          5,
          6,
          1,
          4,
          3,
          6,
          1,
          7,
          0,
          6
         ],
         "j": [
          0,
          3,
          4,
          7,
          0,
          5,
          2,
          7,
          3,
          5,
          2,
          4
         ],
         "k": [
          2,
          1,
          6,
          5,
          4,
          1,
          6,
          3,
          7,
          1,
          6,
          0
         ],
         "opacity": 1,
         "type": "mesh3d",
         "x": [
          4,
          5,
          4,
          5,
          4,
          5,
          4,
          5
         ],
         "y": [
          1,
          1,
          3,
          3,
          1,
          1,
          3,
          3
         ],
         "z": [
          1,
          1,
          1,
          1,
          2,
          2,
          2,
          2
         ]
        },
        {
         "line": {
          "color": "black",
          "width": 0
         },
         "mode": "lines",
         "type": "scatter3d",
         "x": [
          4,
          5
         ],
         "y": [
          3,
          3
         ],
         "z": [
          2,
          2
         ]
        },
        {
         "color": "#00A08B",
         "flatshading": true,
         "i": [
          1,
          2,
          5,
          6,
          1,
          4,
          3,
          6,
          1,
          7,
          0,
          6
         ],
         "j": [
          0,
          3,
          4,
          7,
          0,
          5,
          2,
          7,
          3,
          5,
          2,
          4
         ],
         "k": [
          2,
          1,
          6,
          5,
          4,
          1,
          6,
          3,
          7,
          1,
          6,
          0
         ],
         "opacity": 1,
         "type": "mesh3d",
         "x": [
          0,
          1,
          0,
          1,
          0,
          1,
          0,
          1
         ],
         "y": [
          3,
          3,
          4,
          4,
          3,
          3,
          4,
          4
         ],
         "z": [
          1,
          1,
          1,
          1,
          5,
          5,
          5,
          5
         ]
        },
        {
         "line": {
          "color": "black",
          "width": 0
         },
         "mode": "lines",
         "type": "scatter3d",
         "x": [
          0,
          1
         ],
         "y": [
          4,
          4
         ],
         "z": [
          5,
          5
         ]
        },
        {
         "color": "#FB00D1",
         "flatshading": true,
         "i": [
          1,
          2,
          5,
          6,
          1,
          4,
          3,
          6,
          1,
          7,
          0,
          6
         ],
         "j": [
          0,
          3,
          4,
          7,
          0,
          5,
          2,
          7,
          3,
          5,
          2,
          4
         ],
         "k": [
          2,
          1,
          6,
          5,
          4,
          1,
          6,
          3,
          7,
          1,
          6,
          0
         ],
         "opacity": 1,
         "type": "mesh3d",
         "x": [
          4,
          5,
          4,
          5,
          4,
          5,
          4,
          5
         ],
         "y": [
          3,
          3,
          4,
          4,
          3,
          3,
          4,
          4
         ],
         "z": [
          1,
          1,
          1,
          1,
          5,
          5,
          5,
          5
         ]
        },
        {
         "line": {
          "color": "black",
          "width": 0
         },
         "mode": "lines",
         "type": "scatter3d",
         "x": [
          4,
          5
         ],
         "y": [
          4,
          4
         ],
         "z": [
          5,
          5
         ]
        },
        {
         "color": "#2E91E5",
         "flatshading": true,
         "i": [
          1,
          2,
          5,
          6,
          1,
          4,
          3,
          6,
          1,
          7,
          0,
          6
         ],
         "j": [
          0,
          3,
          4,
          7,
          0,
          5,
          2,
          7,
          3,
          5,
          2,
          4
         ],
         "k": [
          2,
          1,
          6,
          5,
          4,
          1,
          6,
          3,
          7,
          1,
          6,
          0
         ],
         "opacity": 1,
         "type": "mesh3d",
         "x": [
          0,
          5,
          0,
          5,
          0,
          5,
          0,
          5
         ],
         "y": [
          0,
          0,
          4,
          4,
          0,
          0,
          4,
          4
         ],
         "z": [
          5,
          5,
          5,
          5,
          7,
          7,
          7,
          7
         ]
        },
        {
         "line": {
          "color": "black",
          "width": 0
         },
         "mode": "lines",
         "type": "scatter3d",
         "x": [
          0,
          5
         ],
         "y": [
          4,
          4
         ],
         "z": [
          7,
          7
         ]
        }
       ],
       "layout": {
        "height": 1200,
        "margin": {
         "b": 10,
         "l": 10,
         "r": 20,
         "t": 10
        },
        "scene": {
         "aspectmode": "cube",
         "camera": {
          "center": {
           "x": 0,
           "y": 0,
           "z": 0
          },
          "eye": {
           "x": 1.25,
           "y": 1.25,
           "z": 1.25
          },
          "up": {
           "x": 0,
           "y": 0,
           "z": 1
          }
         },
         "xaxis": {
          "nticks": 7,
          "range": [
           0,
           10
          ],
          "showgrid": false,
          "showticklabels": false
         },
         "yaxis": {
          "nticks": 6,
          "range": [
           0,
           9
          ],
          "showgrid": false,
          "showticklabels": false
         },
         "zaxis": {
          "nticks": 9,
          "range": [
           0,
           12
          ],
          "showgrid": false,
          "showticklabels": false
         }
        },
        "showlegend": false,
        "template": {
         "data": {
          "bar": [
           {
            "error_x": {
             "color": "#f2f5fa"
            },
            "error_y": {
             "color": "#f2f5fa"
            },
            "marker": {
             "line": {
              "color": "rgb(17,17,17)",
              "width": 0.5
             },
             "pattern": {
              "fillmode": "overlay",
              "size": 10,
              "solidity": 0.2
             }
            },
            "type": "bar"
           }
          ],
          "barpolar": [
           {
            "marker": {
             "line": {
              "color": "rgb(17,17,17)",
              "width": 0.5
             },
             "pattern": {
              "fillmode": "overlay",
              "size": 10,
              "solidity": 0.2
             }
            },
            "type": "barpolar"
           }
          ],
          "carpet": [
           {
            "aaxis": {
             "endlinecolor": "#A2B1C6",
             "gridcolor": "#506784",
             "linecolor": "#506784",
             "minorgridcolor": "#506784",
             "startlinecolor": "#A2B1C6"
            },
            "baxis": {
             "endlinecolor": "#A2B1C6",
             "gridcolor": "#506784",
             "linecolor": "#506784",
             "minorgridcolor": "#506784",
             "startlinecolor": "#A2B1C6"
            },
            "type": "carpet"
           }
          ],
          "choropleth": [
           {
            "colorbar": {
             "outlinewidth": 0,
             "ticks": ""
            },
            "type": "choropleth"
           }
          ],
          "contour": [
           {
            "colorbar": {
             "outlinewidth": 0,
             "ticks": ""
            },
            "colorscale": [
             [
              0,
              "#0d0887"
             ],
             [
              0.1111111111111111,
              "#46039f"
             ],
             [
              0.2222222222222222,
              "#7201a8"
             ],
             [
              0.3333333333333333,
              "#9c179e"
             ],
             [
              0.4444444444444444,
              "#bd3786"
             ],
             [
              0.5555555555555556,
              "#d8576b"
             ],
             [
              0.6666666666666666,
              "#ed7953"
             ],
             [
              0.7777777777777778,
              "#fb9f3a"
             ],
             [
              0.8888888888888888,
              "#fdca26"
             ],
             [
              1,
              "#f0f921"
             ]
            ],
            "type": "contour"
           }
          ],
          "contourcarpet": [
           {
            "colorbar": {
             "outlinewidth": 0,
             "ticks": ""
            },
            "type": "contourcarpet"
           }
          ],
          "heatmap": [
           {
            "colorbar": {
             "outlinewidth": 0,
             "ticks": ""
            },
            "colorscale": [
             [
              0,
              "#0d0887"
             ],
             [
              0.1111111111111111,
              "#46039f"
             ],
             [
              0.2222222222222222,
              "#7201a8"
             ],
             [
              0.3333333333333333,
              "#9c179e"
             ],
             [
              0.4444444444444444,
              "#bd3786"
             ],
             [
              0.5555555555555556,
              "#d8576b"
             ],
             [
              0.6666666666666666,
              "#ed7953"
             ],
             [
              0.7777777777777778,
              "#fb9f3a"
             ],
             [
              0.8888888888888888,
              "#fdca26"
             ],
             [
              1,
              "#f0f921"
             ]
            ],
            "type": "heatmap"
           }
          ],
          "heatmapgl": [
           {
            "colorbar": {
             "outlinewidth": 0,
             "ticks": ""
            },
            "colorscale": [
             [
              0,
              "#0d0887"
             ],
             [
              0.1111111111111111,
              "#46039f"
             ],
             [
              0.2222222222222222,
              "#7201a8"
             ],
             [
              0.3333333333333333,
              "#9c179e"
             ],
             [
              0.4444444444444444,
              "#bd3786"
             ],
             [
              0.5555555555555556,
              "#d8576b"
             ],
             [
              0.6666666666666666,
              "#ed7953"
             ],
             [
              0.7777777777777778,
              "#fb9f3a"
             ],
             [
              0.8888888888888888,
              "#fdca26"
             ],
             [
              1,
              "#f0f921"
             ]
            ],
            "type": "heatmapgl"
           }
          ],
          "histogram": [
           {
            "marker": {
             "pattern": {
              "fillmode": "overlay",
              "size": 10,
              "solidity": 0.2
             }
            },
            "type": "histogram"
           }
          ],
          "histogram2d": [
           {
            "colorbar": {
             "outlinewidth": 0,
             "ticks": ""
            },
            "colorscale": [
             [
              0,
              "#0d0887"
             ],
             [
              0.1111111111111111,
              "#46039f"
             ],
             [
              0.2222222222222222,
              "#7201a8"
             ],
             [
              0.3333333333333333,
              "#9c179e"
             ],
             [
              0.4444444444444444,
              "#bd3786"
             ],
             [
              0.5555555555555556,
              "#d8576b"
             ],
             [
              0.6666666666666666,
              "#ed7953"
             ],
             [
              0.7777777777777778,
              "#fb9f3a"
             ],
             [
              0.8888888888888888,
              "#fdca26"
             ],
             [
              1,
              "#f0f921"
             ]
            ],
            "type": "histogram2d"
           }
          ],
          "histogram2dcontour": [
           {
            "colorbar": {
             "outlinewidth": 0,
             "ticks": ""
            },
            "colorscale": [
             [
              0,
              "#0d0887"
             ],
             [
              0.1111111111111111,
              "#46039f"
             ],
             [
              0.2222222222222222,
              "#7201a8"
             ],
             [
              0.3333333333333333,
              "#9c179e"
             ],
             [
              0.4444444444444444,
              "#bd3786"
             ],
             [
              0.5555555555555556,
              "#d8576b"
             ],
             [
              0.6666666666666666,
              "#ed7953"
             ],
             [
              0.7777777777777778,
              "#fb9f3a"
             ],
             [
              0.8888888888888888,
              "#fdca26"
             ],
             [
              1,
              "#f0f921"
             ]
            ],
            "type": "histogram2dcontour"
           }
          ],
          "mesh3d": [
           {
            "colorbar": {
             "outlinewidth": 0,
             "ticks": ""
            },
            "type": "mesh3d"
           }
          ],
          "parcoords": [
           {
            "line": {
             "colorbar": {
              "outlinewidth": 0,
              "ticks": ""
             }
            },
            "type": "parcoords"
           }
          ],
          "pie": [
           {
            "automargin": true,
            "type": "pie"
           }
          ],
          "scatter": [
           {
            "marker": {
             "line": {
              "color": "#283442"
             }
            },
            "type": "scatter"
           }
          ],
          "scatter3d": [
           {
            "line": {
             "colorbar": {
              "outlinewidth": 0,
              "ticks": ""
             }
            },
            "marker": {
             "colorbar": {
              "outlinewidth": 0,
              "ticks": ""
             }
            },
            "type": "scatter3d"
           }
          ],
          "scattercarpet": [
           {
            "marker": {
             "colorbar": {
              "outlinewidth": 0,
              "ticks": ""
             }
            },
            "type": "scattercarpet"
           }
          ],
          "scattergeo": [
           {
            "marker": {
             "colorbar": {
              "outlinewidth": 0,
              "ticks": ""
             }
            },
            "type": "scattergeo"
           }
          ],
          "scattergl": [
           {
            "marker": {
             "line": {
              "color": "#283442"
             }
            },
            "type": "scattergl"
           }
          ],
          "scattermapbox": [
           {
            "marker": {
             "colorbar": {
              "outlinewidth": 0,
              "ticks": ""
             }
            },
            "type": "scattermapbox"
           }
          ],
          "scatterpolar": [
           {
            "marker": {
             "colorbar": {
              "outlinewidth": 0,
              "ticks": ""
             }
            },
            "type": "scatterpolar"
           }
          ],
          "scatterpolargl": [
           {
            "marker": {
             "colorbar": {
              "outlinewidth": 0,
              "ticks": ""
             }
            },
            "type": "scatterpolargl"
           }
          ],
          "scatterternary": [
           {
            "marker": {
             "colorbar": {
              "outlinewidth": 0,
              "ticks": ""
             }
            },
            "type": "scatterternary"
           }
          ],
          "surface": [
           {
            "colorbar": {
             "outlinewidth": 0,
             "ticks": ""
            },
            "colorscale": [
             [
              0,
              "#0d0887"
             ],
             [
              0.1111111111111111,
              "#46039f"
             ],
             [
              0.2222222222222222,
              "#7201a8"
             ],
             [
              0.3333333333333333,
              "#9c179e"
             ],
             [
              0.4444444444444444,
              "#bd3786"
             ],
             [
              0.5555555555555556,
              "#d8576b"
             ],
             [
              0.6666666666666666,
              "#ed7953"
             ],
             [
              0.7777777777777778,
              "#fb9f3a"
             ],
             [
              0.8888888888888888,
              "#fdca26"
             ],
             [
              1,
              "#f0f921"
             ]
            ],
            "type": "surface"
           }
          ],
          "table": [
           {
            "cells": {
             "fill": {
              "color": "#506784"
             },
             "line": {
              "color": "rgb(17,17,17)"
             }
            },
            "header": {
             "fill": {
              "color": "#2a3f5f"
             },
             "line": {
              "color": "rgb(17,17,17)"
             }
            },
            "type": "table"
           }
          ]
         },
         "layout": {
          "annotationdefaults": {
           "arrowcolor": "#f2f5fa",
           "arrowhead": 0,
           "arrowwidth": 1
          },
          "autotypenumbers": "strict",
          "coloraxis": {
           "colorbar": {
            "outlinewidth": 0,
            "ticks": ""
           }
          },
          "colorscale": {
           "diverging": [
            [
             0,
             "#8e0152"
            ],
            [
             0.1,
             "#c51b7d"
            ],
            [
             0.2,
             "#de77ae"
            ],
            [
             0.3,
             "#f1b6da"
            ],
            [
             0.4,
             "#fde0ef"
            ],
            [
             0.5,
             "#f7f7f7"
            ],
            [
             0.6,
             "#e6f5d0"
            ],
            [
             0.7,
             "#b8e186"
            ],
            [
             0.8,
             "#7fbc41"
            ],
            [
             0.9,
             "#4d9221"
            ],
            [
             1,
             "#276419"
            ]
           ],
           "sequential": [
            [
             0,
             "#0d0887"
            ],
            [
             0.1111111111111111,
             "#46039f"
            ],
            [
             0.2222222222222222,
             "#7201a8"
            ],
            [
             0.3333333333333333,
             "#9c179e"
            ],
            [
             0.4444444444444444,
             "#bd3786"
            ],
            [
             0.5555555555555556,
             "#d8576b"
            ],
            [
             0.6666666666666666,
             "#ed7953"
            ],
            [
             0.7777777777777778,
             "#fb9f3a"
            ],
            [
             0.8888888888888888,
             "#fdca26"
            ],
            [
             1,
             "#f0f921"
            ]
           ],
           "sequentialminus": [
            [
             0,
             "#0d0887"
            ],
            [
             0.1111111111111111,
             "#46039f"
            ],
            [
             0.2222222222222222,
             "#7201a8"
            ],
            [
             0.3333333333333333,
             "#9c179e"
            ],
            [
             0.4444444444444444,
             "#bd3786"
            ],
            [
             0.5555555555555556,
             "#d8576b"
            ],
            [
             0.6666666666666666,
             "#ed7953"
            ],
            [
             0.7777777777777778,
             "#fb9f3a"
            ],
            [
             0.8888888888888888,
             "#fdca26"
            ],
            [
             1,
             "#f0f921"
            ]
           ]
          },
          "colorway": [
           "#636efa",
           "#EF553B",
           "#00cc96",
           "#ab63fa",
           "#FFA15A",
           "#19d3f3",
           "#FF6692",
           "#B6E880",
           "#FF97FF",
           "#FECB52"
          ],
          "font": {
           "color": "#f2f5fa"
          },
          "geo": {
           "bgcolor": "rgb(17,17,17)",
           "lakecolor": "rgb(17,17,17)",
           "landcolor": "rgb(17,17,17)",
           "showlakes": true,
           "showland": true,
           "subunitcolor": "#506784"
          },
          "hoverlabel": {
           "align": "left"
          },
          "hovermode": "closest",
          "mapbox": {
           "style": "dark"
          },
          "paper_bgcolor": "rgb(17,17,17)",
          "plot_bgcolor": "rgb(17,17,17)",
          "polar": {
           "angularaxis": {
            "gridcolor": "#506784",
            "linecolor": "#506784",
            "ticks": ""
           },
           "bgcolor": "rgb(17,17,17)",
           "radialaxis": {
            "gridcolor": "#506784",
            "linecolor": "#506784",
            "ticks": ""
           }
          },
          "scene": {
           "xaxis": {
            "backgroundcolor": "rgb(17,17,17)",
            "gridcolor": "#506784",
            "gridwidth": 2,
            "linecolor": "#506784",
            "showbackground": true,
            "ticks": "",
            "zerolinecolor": "#C8D4E3"
           },
           "yaxis": {
            "backgroundcolor": "rgb(17,17,17)",
            "gridcolor": "#506784",
            "gridwidth": 2,
            "linecolor": "#506784",
            "showbackground": true,
            "ticks": "",
            "zerolinecolor": "#C8D4E3"
           },
           "zaxis": {
            "backgroundcolor": "rgb(17,17,17)",
            "gridcolor": "#506784",
            "gridwidth": 2,
            "linecolor": "#506784",
            "showbackground": true,
            "ticks": "",
            "zerolinecolor": "#C8D4E3"
           }
          },
          "shapedefaults": {
           "line": {
            "color": "#f2f5fa"
           }
          },
          "sliderdefaults": {
           "bgcolor": "#C8D4E3",
           "bordercolor": "rgb(17,17,17)",
           "borderwidth": 1,
           "tickwidth": 0
          },
          "ternary": {
           "aaxis": {
            "gridcolor": "#506784",
            "linecolor": "#506784",
            "ticks": ""
           },
           "baxis": {
            "gridcolor": "#506784",
            "linecolor": "#506784",
            "ticks": ""
           },
           "bgcolor": "rgb(17,17,17)",
           "caxis": {
            "gridcolor": "#506784",
            "linecolor": "#506784",
            "ticks": ""
           }
          },
          "title": {
           "x": 0.05
          },
          "updatemenudefaults": {
           "bgcolor": "#506784",
           "borderwidth": 0
          },
          "xaxis": {
           "automargin": true,
           "gridcolor": "#283442",
           "linecolor": "#506784",
           "ticks": "",
           "title": {
            "standoff": 15
           },
           "zerolinecolor": "#283442",
           "zerolinewidth": 2
          },
          "yaxis": {
           "automargin": true,
           "gridcolor": "#283442",
           "linecolor": "#506784",
           "ticks": "",
           "title": {
            "standoff": 15
           },
           "zerolinecolor": "#283442",
           "zerolinewidth": 2
          }
         }
        },
        "width": 1200
       }
      }
     },
     "metadata": {},
     "output_type": "display_data"
    }
   ],
   "source": [
    "box._plot()"
   ]
  },
  {
   "cell_type": "code",
   "execution_count": 7,
   "metadata": {},
   "outputs": [],
   "source": [
    "# init packing function\n",
    "packer = Packer()\n",
    "#  init bin \n",
    "box = Bin('example3', (6, 1, 5), 100,0,put_type=0)\n",
    "#  add item\n",
    "# Item('item partno', (W,H,D), Weight, Packing Priority level, load bear, Upside down or not , 'item color')\n",
    "packer.addBin(box)\n",
    "# If all item WHD=(2, 1, 3) , item can be fully packed into box, but if choose one item and modify WHD=(3, 1, 2) , item can't be fully packed into box.\n",
    "packer.addItem(Item(partno='Box-1',name='test',typeof='cube', WHD=(2, 1, 3), weight=1, level=1,loadbear=100, updown=True, color='yellow'))\n",
    "packer.addItem(Item(partno='Box-2',name='test',typeof='cube', WHD=(3, 1, 2), weight=1, level=1,loadbear=100, updown=True, color='pink')) # Try switching WHD=(3, 1, 2) and (2, 1, 3) to compare the results\n",
    "packer.addItem(Item(partno='Box-3',name='test',typeof='cube', WHD=(2, 1, 3), weight=1,level= 1,loadbear=100, updown=True, color='brown'))\n",
    "packer.addItem(Item(partno='Box-4',name='test',typeof='cube', WHD=(2, 1, 3), weight=1, level=1,loadbear=100, updown=True, color='cyan'))\n",
    "packer.addItem(Item(partno='Box-5',name='test',typeof='cube', WHD=(2, 1, 3), weight=1, level=1,loadbear=100, updown=True, color='olive'))\n",
    "\n",
    "# calculate packing \n",
    "packer.pack(\n",
    "    bigger_first=True,\n",
    "    distribute_items=False,\n",
    "    fix_point=True,\n",
    "    check_stable=True,\n",
    "    support_surface_ratio=0.75,\n",
    "    number_of_decimals=0\n",
    ")"
   ]
  },
  {
   "cell_type": "code",
   "execution_count": 8,
   "metadata": {},
   "outputs": [
    {
     "data": {
      "application/vnd.plotly.v1+json": {
       "config": {
        "plotlyServerURL": "https://plot.ly"
       },
       "data": [
        {
         "line": {
          "color": "yellow",
          "width": 3
         },
         "mode": "lines",
         "type": "scatter3d",
         "x": [
          0,
          6
         ],
         "y": [
          0,
          0
         ],
         "z": [
          0,
          0
         ]
        },
        {
         "line": {
          "color": "yellow",
          "width": 3
         },
         "mode": "lines",
         "type": "scatter3d",
         "x": [
          0,
          0
         ],
         "y": [
          0,
          1
         ],
         "z": [
          0,
          0
         ]
        },
        {
         "line": {
          "color": "yellow",
          "width": 3
         },
         "mode": "lines",
         "type": "scatter3d",
         "x": [
          0,
          0
         ],
         "y": [
          0,
          0
         ],
         "z": [
          0,
          5
         ]
        },
        {
         "line": {
          "color": "yellow",
          "width": 3
         },
         "mode": "lines",
         "type": "scatter3d",
         "x": [
          6,
          6
         ],
         "y": [
          0,
          1
         ],
         "z": [
          0,
          0
         ]
        },
        {
         "line": {
          "color": "yellow",
          "width": 3
         },
         "mode": "lines",
         "type": "scatter3d",
         "x": [
          6,
          6
         ],
         "y": [
          0,
          0
         ],
         "z": [
          0,
          5
         ]
        },
        {
         "line": {
          "color": "yellow",
          "width": 3
         },
         "mode": "lines",
         "type": "scatter3d",
         "x": [
          0,
          6
         ],
         "y": [
          1,
          1
         ],
         "z": [
          0,
          0
         ]
        },
        {
         "line": {
          "color": "yellow",
          "width": 3
         },
         "mode": "lines",
         "type": "scatter3d",
         "x": [
          0,
          0
         ],
         "y": [
          1,
          1
         ],
         "z": [
          0,
          5
         ]
        },
        {
         "line": {
          "color": "yellow",
          "width": 3
         },
         "mode": "lines",
         "type": "scatter3d",
         "x": [
          6,
          6
         ],
         "y": [
          1,
          1
         ],
         "z": [
          0,
          5
         ]
        },
        {
         "line": {
          "color": "yellow",
          "width": 3
         },
         "mode": "lines",
         "type": "scatter3d",
         "x": [
          0,
          6
         ],
         "y": [
          0,
          0
         ],
         "z": [
          5,
          5
         ]
        },
        {
         "line": {
          "color": "yellow",
          "width": 3
         },
         "mode": "lines",
         "type": "scatter3d",
         "x": [
          0,
          0
         ],
         "y": [
          0,
          1
         ],
         "z": [
          5,
          5
         ]
        },
        {
         "line": {
          "color": "yellow",
          "width": 3
         },
         "mode": "lines",
         "type": "scatter3d",
         "x": [
          6,
          6
         ],
         "y": [
          0,
          1
         ],
         "z": [
          5,
          5
         ]
        },
        {
         "line": {
          "color": "yellow",
          "width": 3
         },
         "mode": "lines",
         "type": "scatter3d",
         "x": [
          0,
          6
         ],
         "y": [
          1,
          1
         ],
         "z": [
          5,
          5
         ]
        },
        {
         "color": "#B68100",
         "flatshading": true,
         "i": [
          1,
          2,
          5,
          6,
          1,
          4,
          3,
          6,
          1,
          7,
          0,
          6
         ],
         "j": [
          0,
          3,
          4,
          7,
          0,
          5,
          2,
          7,
          3,
          5,
          2,
          4
         ],
         "k": [
          2,
          1,
          6,
          5,
          4,
          1,
          6,
          3,
          7,
          1,
          6,
          0
         ],
         "opacity": 1,
         "type": "mesh3d",
         "x": [
          0,
          2,
          0,
          2,
          0,
          2,
          0,
          2
         ],
         "y": [
          0,
          0,
          1,
          1,
          0,
          0,
          1,
          1
         ],
         "z": [
          0,
          0,
          0,
          0,
          3,
          3,
          3,
          3
         ]
        },
        {
         "line": {
          "color": "black",
          "width": 0
         },
         "mode": "lines",
         "type": "scatter3d",
         "x": [
          0,
          2
         ],
         "y": [
          1,
          1
         ],
         "z": [
          3,
          3
         ]
        },
        {
         "color": "#750D86",
         "flatshading": true,
         "i": [
          1,
          2,
          5,
          6,
          1,
          4,
          3,
          6,
          1,
          7,
          0,
          6
         ],
         "j": [
          0,
          3,
          4,
          7,
          0,
          5,
          2,
          7,
          3,
          5,
          2,
          4
         ],
         "k": [
          2,
          1,
          6,
          5,
          4,
          1,
          6,
          3,
          7,
          1,
          6,
          0
         ],
         "opacity": 1,
         "type": "mesh3d",
         "x": [
          2,
          5,
          2,
          5,
          2,
          5,
          2,
          5
         ],
         "y": [
          0,
          0,
          1,
          1,
          0,
          0,
          1,
          1
         ],
         "z": [
          0,
          0,
          0,
          0,
          2,
          2,
          2,
          2
         ]
        },
        {
         "line": {
          "color": "black",
          "width": 0
         },
         "mode": "lines",
         "type": "scatter3d",
         "x": [
          2,
          5
         ],
         "y": [
          1,
          1
         ],
         "z": [
          2,
          2
         ]
        },
        {
         "color": "#EB663B",
         "flatshading": true,
         "i": [
          1,
          2,
          5,
          6,
          1,
          4,
          3,
          6,
          1,
          7,
          0,
          6
         ],
         "j": [
          0,
          3,
          4,
          7,
          0,
          5,
          2,
          7,
          3,
          5,
          2,
          4
         ],
         "k": [
          2,
          1,
          6,
          5,
          4,
          1,
          6,
          3,
          7,
          1,
          6,
          0
         ],
         "opacity": 1,
         "type": "mesh3d",
         "x": [
          2,
          4,
          2,
          4,
          2,
          4,
          2,
          4
         ],
         "y": [
          0,
          0,
          1,
          1,
          0,
          0,
          1,
          1
         ],
         "z": [
          2,
          2,
          2,
          2,
          5,
          5,
          5,
          5
         ]
        },
        {
         "line": {
          "color": "black",
          "width": 0
         },
         "mode": "lines",
         "type": "scatter3d",
         "x": [
          2,
          4
         ],
         "y": [
          1,
          1
         ],
         "z": [
          5,
          5
         ]
        }
       ],
       "layout": {
        "height": 1200,
        "margin": {
         "b": 10,
         "l": 10,
         "r": 20,
         "t": 10
        },
        "scene": {
         "aspectmode": "cube",
         "camera": {
          "center": {
           "x": 0,
           "y": 0,
           "z": 0
          },
          "eye": {
           "x": 1.25,
           "y": 1.25,
           "z": 1.25
          },
          "up": {
           "x": 0,
           "y": 0,
           "z": 1
          }
         },
         "xaxis": {
          "nticks": 8,
          "range": [
           0,
           11
          ],
          "showgrid": false,
          "showticklabels": false
         },
         "yaxis": {
          "nticks": 3,
          "range": [
           0,
           6
          ],
          "showgrid": false,
          "showticklabels": false
         },
         "zaxis": {
          "nticks": 7,
          "range": [
           0,
           10
          ],
          "showgrid": false,
          "showticklabels": false
         }
        },
        "showlegend": false,
        "template": {
         "data": {
          "bar": [
           {
            "error_x": {
             "color": "#f2f5fa"
            },
            "error_y": {
             "color": "#f2f5fa"
            },
            "marker": {
             "line": {
              "color": "rgb(17,17,17)",
              "width": 0.5
             },
             "pattern": {
              "fillmode": "overlay",
              "size": 10,
              "solidity": 0.2
             }
            },
            "type": "bar"
           }
          ],
          "barpolar": [
           {
            "marker": {
             "line": {
              "color": "rgb(17,17,17)",
              "width": 0.5
             },
             "pattern": {
              "fillmode": "overlay",
              "size": 10,
              "solidity": 0.2
             }
            },
            "type": "barpolar"
           }
          ],
          "carpet": [
           {
            "aaxis": {
             "endlinecolor": "#A2B1C6",
             "gridcolor": "#506784",
             "linecolor": "#506784",
             "minorgridcolor": "#506784",
             "startlinecolor": "#A2B1C6"
            },
            "baxis": {
             "endlinecolor": "#A2B1C6",
             "gridcolor": "#506784",
             "linecolor": "#506784",
             "minorgridcolor": "#506784",
             "startlinecolor": "#A2B1C6"
            },
            "type": "carpet"
           }
          ],
          "choropleth": [
           {
            "colorbar": {
             "outlinewidth": 0,
             "ticks": ""
            },
            "type": "choropleth"
           }
          ],
          "contour": [
           {
            "colorbar": {
             "outlinewidth": 0,
             "ticks": ""
            },
            "colorscale": [
             [
              0,
              "#0d0887"
             ],
             [
              0.1111111111111111,
              "#46039f"
             ],
             [
              0.2222222222222222,
              "#7201a8"
             ],
             [
              0.3333333333333333,
              "#9c179e"
             ],
             [
              0.4444444444444444,
              "#bd3786"
             ],
             [
              0.5555555555555556,
              "#d8576b"
             ],
             [
              0.6666666666666666,
              "#ed7953"
             ],
             [
              0.7777777777777778,
              "#fb9f3a"
             ],
             [
              0.8888888888888888,
              "#fdca26"
             ],
             [
              1,
              "#f0f921"
             ]
            ],
            "type": "contour"
           }
          ],
          "contourcarpet": [
           {
            "colorbar": {
             "outlinewidth": 0,
             "ticks": ""
            },
            "type": "contourcarpet"
           }
          ],
          "heatmap": [
           {
            "colorbar": {
             "outlinewidth": 0,
             "ticks": ""
            },
            "colorscale": [
             [
              0,
              "#0d0887"
             ],
             [
              0.1111111111111111,
              "#46039f"
             ],
             [
              0.2222222222222222,
              "#7201a8"
             ],
             [
              0.3333333333333333,
              "#9c179e"
             ],
             [
              0.4444444444444444,
              "#bd3786"
             ],
             [
              0.5555555555555556,
              "#d8576b"
             ],
             [
              0.6666666666666666,
              "#ed7953"
             ],
             [
              0.7777777777777778,
              "#fb9f3a"
             ],
             [
              0.8888888888888888,
              "#fdca26"
             ],
             [
              1,
              "#f0f921"
             ]
            ],
            "type": "heatmap"
           }
          ],
          "heatmapgl": [
           {
            "colorbar": {
             "outlinewidth": 0,
             "ticks": ""
            },
            "colorscale": [
             [
              0,
              "#0d0887"
             ],
             [
              0.1111111111111111,
              "#46039f"
             ],
             [
              0.2222222222222222,
              "#7201a8"
             ],
             [
              0.3333333333333333,
              "#9c179e"
             ],
             [
              0.4444444444444444,
              "#bd3786"
             ],
             [
              0.5555555555555556,
              "#d8576b"
             ],
             [
              0.6666666666666666,
              "#ed7953"
             ],
             [
              0.7777777777777778,
              "#fb9f3a"
             ],
             [
              0.8888888888888888,
              "#fdca26"
             ],
             [
              1,
              "#f0f921"
             ]
            ],
            "type": "heatmapgl"
           }
          ],
          "histogram": [
           {
            "marker": {
             "pattern": {
              "fillmode": "overlay",
              "size": 10,
              "solidity": 0.2
             }
            },
            "type": "histogram"
           }
          ],
          "histogram2d": [
           {
            "colorbar": {
             "outlinewidth": 0,
             "ticks": ""
            },
            "colorscale": [
             [
              0,
              "#0d0887"
             ],
             [
              0.1111111111111111,
              "#46039f"
             ],
             [
              0.2222222222222222,
              "#7201a8"
             ],
             [
              0.3333333333333333,
              "#9c179e"
             ],
             [
              0.4444444444444444,
              "#bd3786"
             ],
             [
              0.5555555555555556,
              "#d8576b"
             ],
             [
              0.6666666666666666,
              "#ed7953"
             ],
             [
              0.7777777777777778,
              "#fb9f3a"
             ],
             [
              0.8888888888888888,
              "#fdca26"
             ],
             [
              1,
              "#f0f921"
             ]
            ],
            "type": "histogram2d"
           }
          ],
          "histogram2dcontour": [
           {
            "colorbar": {
             "outlinewidth": 0,
             "ticks": ""
            },
            "colorscale": [
             [
              0,
              "#0d0887"
             ],
             [
              0.1111111111111111,
              "#46039f"
             ],
             [
              0.2222222222222222,
              "#7201a8"
             ],
             [
              0.3333333333333333,
              "#9c179e"
             ],
             [
              0.4444444444444444,
              "#bd3786"
             ],
             [
              0.5555555555555556,
              "#d8576b"
             ],
             [
              0.6666666666666666,
              "#ed7953"
             ],
             [
              0.7777777777777778,
              "#fb9f3a"
             ],
             [
              0.8888888888888888,
              "#fdca26"
             ],
             [
              1,
              "#f0f921"
             ]
            ],
            "type": "histogram2dcontour"
           }
          ],
          "mesh3d": [
           {
            "colorbar": {
             "outlinewidth": 0,
             "ticks": ""
            },
            "type": "mesh3d"
           }
          ],
          "parcoords": [
           {
            "line": {
             "colorbar": {
              "outlinewidth": 0,
              "ticks": ""
             }
            },
            "type": "parcoords"
           }
          ],
          "pie": [
           {
            "automargin": true,
            "type": "pie"
           }
          ],
          "scatter": [
           {
            "marker": {
             "line": {
              "color": "#283442"
             }
            },
            "type": "scatter"
           }
          ],
          "scatter3d": [
           {
            "line": {
             "colorbar": {
              "outlinewidth": 0,
              "ticks": ""
             }
            },
            "marker": {
             "colorbar": {
              "outlinewidth": 0,
              "ticks": ""
             }
            },
            "type": "scatter3d"
           }
          ],
          "scattercarpet": [
           {
            "marker": {
             "colorbar": {
              "outlinewidth": 0,
              "ticks": ""
             }
            },
            "type": "scattercarpet"
           }
          ],
          "scattergeo": [
           {
            "marker": {
             "colorbar": {
              "outlinewidth": 0,
              "ticks": ""
             }
            },
            "type": "scattergeo"
           }
          ],
          "scattergl": [
           {
            "marker": {
             "line": {
              "color": "#283442"
             }
            },
            "type": "scattergl"
           }
          ],
          "scattermapbox": [
           {
            "marker": {
             "colorbar": {
              "outlinewidth": 0,
              "ticks": ""
             }
            },
            "type": "scattermapbox"
           }
          ],
          "scatterpolar": [
           {
            "marker": {
             "colorbar": {
              "outlinewidth": 0,
              "ticks": ""
             }
            },
            "type": "scatterpolar"
           }
          ],
          "scatterpolargl": [
           {
            "marker": {
             "colorbar": {
              "outlinewidth": 0,
              "ticks": ""
             }
            },
            "type": "scatterpolargl"
           }
          ],
          "scatterternary": [
           {
            "marker": {
             "colorbar": {
              "outlinewidth": 0,
              "ticks": ""
             }
            },
            "type": "scatterternary"
           }
          ],
          "surface": [
           {
            "colorbar": {
             "outlinewidth": 0,
             "ticks": ""
            },
            "colorscale": [
             [
              0,
              "#0d0887"
             ],
             [
              0.1111111111111111,
              "#46039f"
             ],
             [
              0.2222222222222222,
              "#7201a8"
             ],
             [
              0.3333333333333333,
              "#9c179e"
             ],
             [
              0.4444444444444444,
              "#bd3786"
             ],
             [
              0.5555555555555556,
              "#d8576b"
             ],
             [
              0.6666666666666666,
              "#ed7953"
             ],
             [
              0.7777777777777778,
              "#fb9f3a"
             ],
             [
              0.8888888888888888,
              "#fdca26"
             ],
             [
              1,
              "#f0f921"
             ]
            ],
            "type": "surface"
           }
          ],
          "table": [
           {
            "cells": {
             "fill": {
              "color": "#506784"
             },
             "line": {
              "color": "rgb(17,17,17)"
             }
            },
            "header": {
             "fill": {
              "color": "#2a3f5f"
             },
             "line": {
              "color": "rgb(17,17,17)"
             }
            },
            "type": "table"
           }
          ]
         },
         "layout": {
          "annotationdefaults": {
           "arrowcolor": "#f2f5fa",
           "arrowhead": 0,
           "arrowwidth": 1
          },
          "autotypenumbers": "strict",
          "coloraxis": {
           "colorbar": {
            "outlinewidth": 0,
            "ticks": ""
           }
          },
          "colorscale": {
           "diverging": [
            [
             0,
             "#8e0152"
            ],
            [
             0.1,
             "#c51b7d"
            ],
            [
             0.2,
             "#de77ae"
            ],
            [
             0.3,
             "#f1b6da"
            ],
            [
             0.4,
             "#fde0ef"
            ],
            [
             0.5,
             "#f7f7f7"
            ],
            [
             0.6,
             "#e6f5d0"
            ],
            [
             0.7,
             "#b8e186"
            ],
            [
             0.8,
             "#7fbc41"
            ],
            [
             0.9,
             "#4d9221"
            ],
            [
             1,
             "#276419"
            ]
           ],
           "sequential": [
            [
             0,
             "#0d0887"
            ],
            [
             0.1111111111111111,
             "#46039f"
            ],
            [
             0.2222222222222222,
             "#7201a8"
            ],
            [
             0.3333333333333333,
             "#9c179e"
            ],
            [
             0.4444444444444444,
             "#bd3786"
            ],
            [
             0.5555555555555556,
             "#d8576b"
            ],
            [
             0.6666666666666666,
             "#ed7953"
            ],
            [
             0.7777777777777778,
             "#fb9f3a"
            ],
            [
             0.8888888888888888,
             "#fdca26"
            ],
            [
             1,
             "#f0f921"
            ]
           ],
           "sequentialminus": [
            [
             0,
             "#0d0887"
            ],
            [
             0.1111111111111111,
             "#46039f"
            ],
            [
             0.2222222222222222,
             "#7201a8"
            ],
            [
             0.3333333333333333,
             "#9c179e"
            ],
            [
             0.4444444444444444,
             "#bd3786"
            ],
            [
             0.5555555555555556,
             "#d8576b"
            ],
            [
             0.6666666666666666,
             "#ed7953"
            ],
            [
             0.7777777777777778,
             "#fb9f3a"
            ],
            [
             0.8888888888888888,
             "#fdca26"
            ],
            [
             1,
             "#f0f921"
            ]
           ]
          },
          "colorway": [
           "#636efa",
           "#EF553B",
           "#00cc96",
           "#ab63fa",
           "#FFA15A",
           "#19d3f3",
           "#FF6692",
           "#B6E880",
           "#FF97FF",
           "#FECB52"
          ],
          "font": {
           "color": "#f2f5fa"
          },
          "geo": {
           "bgcolor": "rgb(17,17,17)",
           "lakecolor": "rgb(17,17,17)",
           "landcolor": "rgb(17,17,17)",
           "showlakes": true,
           "showland": true,
           "subunitcolor": "#506784"
          },
          "hoverlabel": {
           "align": "left"
          },
          "hovermode": "closest",
          "mapbox": {
           "style": "dark"
          },
          "paper_bgcolor": "rgb(17,17,17)",
          "plot_bgcolor": "rgb(17,17,17)",
          "polar": {
           "angularaxis": {
            "gridcolor": "#506784",
            "linecolor": "#506784",
            "ticks": ""
           },
           "bgcolor": "rgb(17,17,17)",
           "radialaxis": {
            "gridcolor": "#506784",
            "linecolor": "#506784",
            "ticks": ""
           }
          },
          "scene": {
           "xaxis": {
            "backgroundcolor": "rgb(17,17,17)",
            "gridcolor": "#506784",
            "gridwidth": 2,
            "linecolor": "#506784",
            "showbackground": true,
            "ticks": "",
            "zerolinecolor": "#C8D4E3"
           },
           "yaxis": {
            "backgroundcolor": "rgb(17,17,17)",
            "gridcolor": "#506784",
            "gridwidth": 2,
            "linecolor": "#506784",
            "showbackground": true,
            "ticks": "",
            "zerolinecolor": "#C8D4E3"
           },
           "zaxis": {
            "backgroundcolor": "rgb(17,17,17)",
            "gridcolor": "#506784",
            "gridwidth": 2,
            "linecolor": "#506784",
            "showbackground": true,
            "ticks": "",
            "zerolinecolor": "#C8D4E3"
           }
          },
          "shapedefaults": {
           "line": {
            "color": "#f2f5fa"
           }
          },
          "sliderdefaults": {
           "bgcolor": "#C8D4E3",
           "bordercolor": "rgb(17,17,17)",
           "borderwidth": 1,
           "tickwidth": 0
          },
          "ternary": {
           "aaxis": {
            "gridcolor": "#506784",
            "linecolor": "#506784",
            "ticks": ""
           },
           "baxis": {
            "gridcolor": "#506784",
            "linecolor": "#506784",
            "ticks": ""
           },
           "bgcolor": "rgb(17,17,17)",
           "caxis": {
            "gridcolor": "#506784",
            "linecolor": "#506784",
            "ticks": ""
           }
          },
          "title": {
           "x": 0.05
          },
          "updatemenudefaults": {
           "bgcolor": "#506784",
           "borderwidth": 0
          },
          "xaxis": {
           "automargin": true,
           "gridcolor": "#283442",
           "linecolor": "#506784",
           "ticks": "",
           "title": {
            "standoff": 15
           },
           "zerolinecolor": "#283442",
           "zerolinewidth": 2
          },
          "yaxis": {
           "automargin": true,
           "gridcolor": "#283442",
           "linecolor": "#506784",
           "ticks": "",
           "title": {
            "standoff": 15
           },
           "zerolinecolor": "#283442",
           "zerolinewidth": 2
          }
         }
        },
        "width": 1200
       }
      }
     },
     "metadata": {},
     "output_type": "display_data"
    }
   ],
   "source": [
    "box._plot()"
   ]
  },
  {
   "cell_type": "code",
   "execution_count": null,
   "metadata": {},
   "outputs": [],
   "source": []
  }
 ],
 "metadata": {
  "kernelspec": {
   "display_name": "Python 3",
   "language": "python",
   "name": "python3"
  },
  "language_info": {
   "codemirror_mode": {
    "name": "ipython",
    "version": 3
   },
   "file_extension": ".py",
   "mimetype": "text/x-python",
   "name": "python",
   "nbconvert_exporter": "python",
   "pygments_lexer": "ipython3",
   "version": "3.12.4"
  }
 },
 "nbformat": 4,
 "nbformat_minor": 2
}
